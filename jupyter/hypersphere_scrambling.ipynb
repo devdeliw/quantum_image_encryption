{
 "cells": [
  {
   "cell_type": "code",
   "execution_count": 1,
   "metadata": {},
   "outputs": [
    {
     "name": "stdout",
     "output_type": "stream",
     "text": [
      "Image Size: 64 x 64\n",
      "Image Size: 64 x 64\n",
      "Image Size: 64 x 64\n",
      "4096\n"
     ]
    }
   ],
   "source": [
    "from qiskit import QuantumCircuit\n",
    "from qiskit.circuit.random import random_circuit\n",
    "from qiskit_aer import Aer\n",
    "from qiskit.compiler import transpile\n",
    "from qiskit.quantum_info import Statevector, DensityMatrix, random_statevector, partial_trace\n",
    "\n",
    "from hypersphere import Hypersphere\n",
    "\n",
    "from PIL import Image\n",
    "\n",
    "from scipy.special import sph_harm\n",
    "from scipy.linalg import sqrtm\n",
    "import pandas as pd\n",
    "import pickle\n",
    "\n",
    "import numpy as np\n",
    "import secrets, time, uuid, hashlib, random"
   ]
  },
  {
   "cell_type": "code",
   "execution_count": 2,
   "metadata": {},
   "outputs": [],
   "source": [
    "image_path = \"/Users/devaldeliwala/quantum_image_encryption/images/el_primo_square.jpg\"\n",
    "save_image_path = \"/Users/devaldeliwala/quantum_image_encryption/images/\"\n",
    "name = \"el_primo_encrypted\"\n",
    "depth = 10\n",
    "n = 8\n",
    "encrypted_name = \"el_primo_square_encrypted\"\n",
    "verbose = False\n",
    "\n",
    "im = Image.open(image_path, 'r')\n",
    "image = im.convert(\"RGB\")\n",
    "\n",
    "width, height = image.size"
   ]
  },
  {
   "cell_type": "code",
   "execution_count": 3,
   "metadata": {},
   "outputs": [
    {
     "data": {
      "text/latex": [
       "$$(0.0508521989 + 0.0324680094 i) |0000000\\rangle+(0.0508521989 + 0.0324680094 i) |0000001\\rangle+(0.0482215563 + 0.0350885358 i) |0000010\\rangle+(0.0455908338 + 0.0403499809 i) |0000011\\rangle+(0.0429601113 + 0.0429807034 i) |0000100\\rangle+(0.0429601113 + 0.045611426 i) |0000101\\rangle + \\ldots +(0.058671874 + 0.1215416763 i) |1111011\\rangle+(0.0534413772 + 0.0509446438 i) |1111100\\rangle+(0.0534722455 + 0.0300327328 i) |1111101\\rangle+(0.0481799321 + 0.0219862237 i) |1111110\\rangle+(0.0613335448 + 0.0482111203 i) |1111111\\rangle$$"
      ],
      "text/plain": [
       "<IPython.core.display.Latex object>"
      ]
     },
     "metadata": {},
     "output_type": "display_data"
    },
    {
     "data": {
      "text/latex": [
       "$$(0.0225920461 + 0.0241792632 i) |0000000\\rangle+(0.0225920461 + 0.0257540335 i) |0000001\\rangle+(0.0241668644 + 0.0273288997 i) |0000010\\rangle+(0.0257416826 + 0.0304784883 i) |0000011\\rangle+(0.0288913191 + 0.0320533065 i) |0000100\\rangle+(0.0304600576 + 0.0336404039 i) |0000101\\rangle + \\ldots +(0.0961635099 + 0.0570157541 i) |1111011\\rangle+(0.035085585 + 0.047708761 i) |1111100\\rangle+(0.0241301466 + 0.0540328794 i) |1111101\\rangle+(0.0806509291 + 0.0460726906 i) |1111110\\rangle+(0.0805584406 + 0.069658007 i) |1111111\\rangle$$"
      ],
      "text/plain": [
       "<IPython.core.display.Latex object>"
      ]
     },
     "metadata": {},
     "output_type": "display_data"
    },
    {
     "data": {
      "text/latex": [
       "$$(0.0135618566 + 0.016055578 i) |0000000\\rangle+(0.0143909422 + 0.0168846637 i) |0000001\\rangle+(0.0152200153 + 0.0177137367 i) |0000010\\rangle+(0.0168781865 + 0.019371908 i) |0000011\\rangle+(0.0185395586 + 0.02103328 i) |0000100\\rangle+(0.0202041944 + 0.021872031 i) |0000101\\rangle + \\ldots +(0.0399655999 + 0.1399858043 i) |1111011\\rangle+(0.0185199508 + 0.0448459558 i) |1111100\\rangle+(0.0152394467 + 0.0341979775 i) |1111101\\rangle+(0.020994518 + 0.0226331445 i) |1111110\\rangle+(0.0226429736 + 0.0176813888 i) |1111111\\rangle$$"
      ],
      "text/plain": [
       "<IPython.core.display.Latex object>"
      ]
     },
     "metadata": {},
     "output_type": "display_data"
    },
    {
     "data": {
      "text/latex": [
       "$$(0.0133252176 + 0.0152869916 i) |0000000\\rangle+(0.0133252176 + 0.0159409129 i) |0000001\\rangle+(0.0139791489 + 0.0159460018 i) |0000010\\rangle+(0.0152869916 + 0.0172538445 i) |0000011\\rangle+(0.0172513 + 0.0192181529 i) |0000100\\rangle+(0.0179103103 + 0.0192257863 i) |0000101\\rangle + \\ldots +(0.1279481302 + 0.0927124428 i) |1111011\\rangle+(0.1319586959 + 0.0992621122 i) |1111100\\rangle+(0.0660371893 + 0.0594544123 i) |1111101\\rangle+(0.0217416222 + 0.033453535 i) |1111110\\rangle+(0.0146304065 + 0.0230700887 i) |1111111\\rangle$$"
      ],
      "text/plain": [
       "<IPython.core.display.Latex object>"
      ]
     },
     "metadata": {},
     "output_type": "display_data"
    },
    {
     "data": {
      "text/latex": [
       "$$(0.0156541889 + 0.0168945307 i) |0000000\\rangle+(0.0156541889 + 0.0168993383 i) |0000001\\rangle+(0.0156613862 + 0.0175159199 i) |0000010\\rangle+(0.0162827567 + 0.0187538626 i) |0000011\\rangle+(0.0169041272 + 0.0187610599 i) |0000100\\rangle+(0.0175279061 + 0.0181564833 i) |0000101\\rangle + \\ldots +(0.0462101353 + 0.032284789 i) |1111011\\rangle+(0.0395437011 + 0.0199606168 i) |1111100\\rangle+(0.0297702835 + 0.0119475582 i) |1111101\\rangle+(0.0088767114 + 0.0162659816 i) |1111110\\rangle+(0.0021304036 + 0.0144162275 i) |1111111\\rangle$$"
      ],
      "text/plain": [
       "<IPython.core.display.Latex object>"
      ]
     },
     "metadata": {},
     "output_type": "display_data"
    },
    {
     "data": {
      "text/latex": [
       "$$(0.0151891683 + 0.0140983831 i) |0000000\\rangle+(0.0146416242 + 0.0141026945 i) |0000001\\rangle+(0.0157496635 + 0.015764762 i) |0000010\\rangle+(0.0163080031 + 0.0168771128 i) |0000011\\rangle+(0.0168684899 + 0.0174375997 i) |0000100\\rangle+(0.0179808408 + 0.0174483783 i) |0000101\\rangle + \\ldots +(0.0124233981 + 0.0173663515 i) |1111011\\rangle+(0.016267036 + 0.0223526045 i) |1111100\\rangle+(0.0217856842 + 0.0234498989 i) |1111101\\rangle+(0.0228807808 + 0.0206647105 i) |1111110\\rangle+(0.0206603232 + 0.0239823615 i) |1111111\\rangle$$"
      ],
      "text/plain": [
       "<IPython.core.display.Latex object>"
      ]
     },
     "metadata": {},
     "output_type": "display_data"
    },
    {
     "data": {
      "text/latex": [
       "$$(0.0149808578 + 0.0137218858 i) |0000000\\rangle+(0.0162621782 + 0.0150032062 i) |0000001\\rangle+(0.0181767239 + 0.0169177519 i) |0000010\\rangle+(0.0188223456 + 0.0175633833 i) |0000011\\rangle+(0.0201036563 + 0.0188446844 i) |0000100\\rangle+(0.0194778999 + 0.0188571002 i) |0000101\\rangle + \\ldots +(0.0175062706 + 0.0213277477 i) |1111011\\rangle+(0.0143228591 + 0.0206821551 i) |1111100\\rangle+(0.0130440315 + 0.0174987533 i) |1111101\\rangle+(0.0136673048 + 0.0086015704 i) |1111110\\rangle+(0.0136598553 + 0.0047874167 i) |1111111\\rangle$$"
      ],
      "text/plain": [
       "<IPython.core.display.Latex object>"
      ]
     },
     "metadata": {},
     "output_type": "display_data"
    },
    {
     "data": {
      "text/latex": [
       "$$(0.0120235851 + 0.0120344629 i) |0000000\\rangle+(0.0131431508 + 0.0131518462 i) |0000001\\rangle+(0.0153800743 + 0.0148322605 i) |0000010\\rangle+(0.0159452876 + 0.0165126662 i) |0000011\\rangle+(0.0165126662 + 0.0170822187 i) |0000100\\rangle+(0.0170822187 + 0.017093088 i) |0000101\\rangle + \\ldots +(0.0247928057 + 0.0186756614 i) |1111011\\rangle+(0.0242276009 + 0.0158931148 i) |1111100\\rangle+(0.0203276965 + 0.0142170653 i) |1111101\\rangle+(0.0119844215 + 0.0147605314 i) |1111110\\rangle+(0.0075301647 + 0.0153105191 i) |1111111\\rangle$$"
      ],
      "text/plain": [
       "<IPython.core.display.Latex object>"
      ]
     },
     "metadata": {},
     "output_type": "display_data"
    },
    {
     "data": {
      "text/latex": [
       "$$(0.0057851349 + 0.0090566066 i) |0000000\\rangle+(0.009052427 + 0.0112390583 i) |0000001\\rangle+(0.0123218337 + 0.0150540904 i) |0000010\\rangle+(0.0155933634 + 0.0172365256 i) |0000011\\rangle+(0.0177779215 + 0.0194211086 i) |0000100\\rangle+(0.0188755081 + 0.0205187034 i) |0000101\\rangle + \\ldots +(0.0166123993 + 0.017162254 i) |1111011\\rangle+(0.0166060303 + 0.0171516391 i) |1111100\\rangle+(0.0155105584 + 0.0155105667 i) |1111101\\rangle+(0.0149585724 + 0.0138673548 i) |1111110\\rangle+(0.014408701 + 0.0122305036 i) |1111111\\rangle$$"
      ],
      "text/plain": [
       "<IPython.core.display.Latex object>"
      ]
     },
     "metadata": {},
     "output_type": "display_data"
    },
    {
     "data": {
      "text/latex": [
       "$$(0.0130454064 + 0.0153280637 i) |0000000\\rangle+(0.014779286 + 0.0153393079 i) |0000001\\rangle+(0.0170911079 + 0.0165042054 i) |0000010\\rangle+(0.0188294765 + 0.0165199473 i) |0000011\\rangle+(0.0194164229 + 0.0176870936 i) |0000100\\rangle+(0.0200101071 + 0.01885424 i) |0000101\\rangle + \\ldots +(0.0164479845 + 0.0135582203 i) |1111011\\rangle+(0.0158610381 + 0.0129757803 i) |1111100\\rangle+(0.0146983894 + 0.0135424784 i) |1111101\\rangle+(0.0129600296 + 0.0129600296 i) |1111110\\rangle+(0.01122615 + 0.0118041099 i) |1111111\\rangle$$"
      ],
      "text/plain": [
       "<IPython.core.display.Latex object>"
      ]
     },
     "metadata": {},
     "output_type": "display_data"
    },
    {
     "data": {
      "text/latex": [
       "$$(0.0123605793 + 0.0107760244 i) |0000000\\rangle+(0.0134142982 + 0.0102654976 i) |0000001\\rangle+(0.0129099135 + 0.0102858864 i) |0000010\\rangle+(0.0139697507 + 0.0097773857 i) |0000011\\rangle+(0.0160710384 + 0.0124055209 i) |0000100\\rangle+(0.0181764262 + 0.015548291 i) |0000101\\rangle + \\ldots +(0.0128364786 + 0.0123034969 i) |1111011\\rangle+(0.0123034969 + 0.0128180999 i) |1111100\\rangle+(0.0128180999 + 0.0128119737 i) |1111101\\rangle+(0.0112436597 + 0.0117582547 i) |1111110\\rangle+(0.0101940169 + 0.010708612 i) |1111111\\rangle$$"
      ],
      "text/plain": [
       "<IPython.core.display.Latex object>"
      ]
     },
     "metadata": {},
     "output_type": "display_data"
    },
    {
     "data": {
      "text/latex": [
       "$$(0.0152184922 + 0.0166142235 i) |0000000\\rangle+(0.0145274929 + 0.0145164487 i) |0000001\\rangle+(0.0117359658 + 0.0103153716 i) |0000010\\rangle+(0.0117579896 + 0.0096326204 i) |0000011\\rangle+(0.0138888003 + 0.0110559139 i) |0000100\\rangle+(0.0174236335 + 0.013888768 i) |0000101\\rangle + \\ldots +(0.0165784562 + 0.0172722085 i) |1111011\\rangle+(0.0172722193 + 0.0165591853 i) |1111100\\rangle+(0.0172612074 + 0.0165564216 i) |1111101\\rangle+(0.0151386449 + 0.0158406239 i) |1111110\\rangle+(0.0137235889 + 0.0151275792 i) |1111111\\rangle$$"
      ],
      "text/plain": [
       "<IPython.core.display.Latex object>"
      ]
     },
     "metadata": {},
     "output_type": "display_data"
    },
    {
     "data": {
      "text/latex": [
       "$$(0.0163937943 + 0.0095004664 i) |0000000\\rangle+(0.0215419174 + 0.0197834452 i) |0000001\\rangle+(0.0369729931 + 0.0386175959 i) |0000010\\rangle+(0.0455509348 + 0.0523303672 i) |0000011\\rangle+(0.0524307603 + 0.0626133199 i) |0000100\\rangle+(0.0473495224 + 0.0626534875 i) |0000101\\rangle + \\ldots +(0.0367857093 + 0.0298991457 i) |1111011\\rangle+(0.0350540069 + 0.031597288 i) |1111100\\rangle+(0.0316173457 + 0.028160679 i) |1111101\\rangle+(0.0298856172 + 0.0264356625 i) |1111110\\rangle+(0.026448956 + 0.0229990013 i) |1111111\\rangle$$"
      ],
      "text/plain": [
       "<IPython.core.display.Latex object>"
      ]
     },
     "metadata": {},
     "output_type": "display_data"
    },
    {
     "data": {
      "text/latex": [
       "$$(0.0276264174 + 0.0299512679 i) |0000000\\rangle+(0.0324730571 + 0.0275982938 i) |0000001\\rangle+(0.0349291878 + 0.0204642285 i) |0000010\\rangle+(0.039766453 + 0.0109396178 i) |0000011\\rangle+(0.0398132891 + 0.0037962146 i) |0000100\\rangle+(0.0422507806 + 0.0086335896 i) |0000101\\rangle + \\ldots +(0.0418756523 + 0.0370101171 i) |1111011\\rangle+(0.0394663577 + 0.0346101604 i) |1111100\\rangle+(0.0394475353 + 0.0322008657 i) |1111101\\rangle+(0.0346288728 + 0.0273822764 i) |1111110\\rangle+(0.0322195782 + 0.0249729818 i) |1111111\\rangle$$"
      ],
      "text/plain": [
       "<IPython.core.display.Latex object>"
      ]
     },
     "metadata": {},
     "output_type": "display_data"
    },
    {
     "data": {
      "text/latex": [
       "$$(0.0271265895 + 0.0374944065 i) |0000000\\rangle+(0.0375554335 + 0.0427189535 i) |0000001\\rangle+(0.0454074711 + 0.0531173236 i) |0000010\\rangle+(0.0454378261 + 0.0583215414 i) |0000011\\rangle+(0.0454681811 + 0.0583214621 i) |0000100\\rangle+(0.0506825833 + 0.0557650244 i) |0000101\\rangle + \\ldots +(0.0348260595 + 0.0373925231 i) |1111011\\rangle+(0.037402866 + 0.0347852824 i) |1111100\\rangle+(0.0296115781 + 0.0321780417 i) |1111101\\rangle+(0.0296116573 + 0.0295708009 i) |1111110\\rangle+(0.0270043374 + 0.0243766486 i) |1111111\\rangle$$"
      ],
      "text/plain": [
       "<IPython.core.display.Latex object>"
      ]
     },
     "metadata": {},
     "output_type": "display_data"
    },
    {
     "data": {
      "text/latex": [
       "$$(0.0536837576 + 0.0478051263 i) |0000000\\rangle+(0.0507846335 + 0.0477938016 i) |0000001\\rangle+(0.0449638248 + 0.0478054815 i) |0000010\\rangle+(0.0449752827 + 0.0507504374 i) |0000011\\rangle+(0.0362780437 + 0.0565945173 i) |0000100\\rangle+(0.0246702226 + 0.0536842017 i) |0000101\\rangle + \\ldots +(0.0360385817 + 0.0360271238 i) |1111011\\rangle+(0.0360386705 + 0.033116675 i) |1111100\\rangle+(0.0360386705 + 0.0301947682 i) |1111101\\rangle+(0.0243852398 + 0.0272728615 i) |1111110\\rangle+(0.021463333 + 0.021429048 i) |1111111\\rangle$$"
      ],
      "text/plain": [
       "<IPython.core.display.Latex object>"
      ]
     },
     "metadata": {},
     "output_type": "display_data"
    }
   ],
   "source": [
    "wave_functions, magnitudes = Hypersphere(n = n, \n",
    "                                        image_path = image_path, \n",
    "                                        verbose = verbose\n",
    ").generate_statevectors()\n",
    "\n",
    "def generate_seed():\n",
    "\n",
    "    entropy = secrets.token_bytes(16) + time.time_ns().to_bytes(8, 'big') + uuid.uuid4().bytes\n",
    "    seed = int(hashlib.sha256(entropy).hexdigest(), 16) % 2**32\n",
    "\n",
    "    return seed\n",
    "\n",
    "seeds = []\n",
    "circuits = []\n",
    "\n",
    "for i in range(len(wave_functions)): \n",
    "\n",
    "    num_wave_functions = n - 1\n",
    "\n",
    "    # generate a randomized circuit of a certain depth using \n",
    "    # our generated seed\n",
    "    seed = generate_seed() \n",
    "    circuit = random_circuit(num_wave_functions, depth = depth, seed = seed)\n",
    "\n",
    "    circuits.append(circuit)\n",
    "    seeds.append(seed)\n",
    "\n",
    "for i in wave_functions: \n",
    "    display(i.draw('latex'))"
   ]
  },
  {
   "cell_type": "code",
   "execution_count": 4,
   "metadata": {},
   "outputs": [],
   "source": [
    "groups = []\n",
    "\n",
    "for i in range(len(wave_functions)):\n",
    "    group = []\n",
    "    for j in range(n):\n",
    "        group.append(wave_functions[(i + j) % len(wave_functions)])\n",
    "    groups.append(group)\n"
   ]
  },
  {
   "cell_type": "code",
   "execution_count": 5,
   "metadata": {},
   "outputs": [],
   "source": [
    "simulator = Aer.get_backend('statevector_simulator')\n",
    "final_wave_functions = []\n",
    "\n",
    "# cyclic permutation of a list\n",
    "def run(wave_func, i):\n",
    "\n",
    "    result_wf = []\n",
    "    main_circuit = circuits[i]\n",
    "\n",
    "    # create a circuit to first prepare the initial_wave_function \n",
    "    # from a circuit starting from |0>|0>|0>...\n",
    "    initialization_circuit = QuantumCircuit(n - 1)\n",
    "    initialization_circuit.initialize(wave_func.data, \n",
    "                                        [j for j in range(n - 1 )])\n",
    "\n",
    "    # append the randomized circuit to the initialization_circuit\n",
    "    full_circuit = initialization_circuit.compose(main_circuit)\n",
    "\n",
    "    # transpile the circuit onto the simulator backend\n",
    "    transpiled_circuit = transpile(full_circuit, simulator)\n",
    "    result = simulator.run(transpiled_circuit).result()\n",
    "\n",
    "    # output the resultant statevector\n",
    "    final_wave_function = result.get_statevector()\n",
    "    result_wf.append(final_wave_function)\n",
    "\n",
    "    return result_wf\n",
    "\n",
    "final_wave_functions = []\n",
    "\n",
    "for i in range(len(groups)): \n",
    "    wave_functions = groups[i]\n",
    "    ancillary_wave_functions = []\n",
    "\n",
    "    for j in wave_functions: \n",
    "        ancillary_wave_functions.append(run(j, i))\n",
    "    \n",
    "    final_wave_functions.append(ancillary_wave_functions)\n",
    "\n"
   ]
  },
  {
   "cell_type": "code",
   "execution_count": 6,
   "metadata": {},
   "outputs": [],
   "source": [
    "density_matrices = []\n",
    "\n",
    "# converts the resultant pure states into their density matrices\n",
    "for i in final_wave_functions: \n",
    "    coupled_density_matrices = [] \n",
    "\n",
    "    for j in range(len(i)): \n",
    "        coupled_density_matrices.append(DensityMatrix(i[j][0]))\n",
    "\n",
    "    density_matrices.append(coupled_density_matrices)"
   ]
  },
  {
   "cell_type": "code",
   "execution_count": 7,
   "metadata": {},
   "outputs": [],
   "source": [
    "# generating a new seed based on the original seeds generated \n",
    "# for the randomized circuits\n",
    "combined_string = ''.join(map(str, seeds))\n",
    "hash_object = hashlib.sha256(combined_string.encode())\n",
    "hex_dig = hash_object.hexdigest()[:5]\n",
    "seed = int(hex_dig, 16)\n",
    "\n",
    "# generate a temporary randomized statevector whhich we will \n",
    "# use to calculate fidelities for each of the pure states\n",
    "randomized_pure_state = random_statevector(dims = 2**(n - 1), seed = seed)\n",
    "randomized_density_matrix = DensityMatrix(randomized_pure_state)\n",
    "\n",
    "fidelities = []\n",
    "\n",
    "def calculate_fidelitiy(rho, sigma): \n",
    "\n",
    "    sqrt_rho = sqrtm(rho)\n",
    "    product = np.dot(sqrt_rho, np.dot(sigma, sqrt_rho))\n",
    "    sqrt_product = sqrtm(product)\n",
    "    trace = np.trace(sqrt_product)\n",
    "    \n",
    "    return np.real(trace)**2\n",
    "\n",
    "# calculate all the fidelities and store them in a list\n",
    "for coupled_states in density_matrices: \n",
    "    coupled_fidelities = []\n",
    "\n",
    "    for matrix in coupled_states: \n",
    "\n",
    "        fidelity = calculate_fidelitiy(matrix, randomized_density_matrix)\n",
    "        coupled_fidelities.append(fidelity)\n",
    "\n",
    "    fidelities.append(coupled_fidelities)\n",
    "\n",
    "weights = [] \n",
    "\n",
    "# using the calculated fidelities, generate self.n density matrix\n",
    "# coefficients that together sum to one\n",
    "for values in fidelities: \n",
    "    coupled_weights = []\n",
    "    total = 0 \n",
    "\n",
    "    for fidelity in values: \n",
    "        total += fidelity \n",
    "\n",
    "    for fidelity in values: \n",
    "        coupled_weights.append(fidelity / total)\n",
    "\n",
    "    weights.append(coupled_weights)\n",
    "\n",
    "mixed_density_matrices = []\n",
    "\n",
    "# generate mixed_states using the weights for each of the pure states\n",
    "# the mixed states are just generated via ∑ weight_n * |Ψ_n><Ψ_n| \n",
    "for coupled_states_idx in range(len(density_matrices)):\n",
    "    mixed_density_matrix = np.zeros((2**(n-1), 2**(n-1)), dtype=np.complex128)\n",
    "\n",
    "    for matrix_idx in range(len(density_matrices[coupled_states_idx])):\n",
    "        current_matrix = density_matrices[coupled_states_idx][matrix_idx].data\n",
    "\n",
    "        mixed_density_matrix += weights[coupled_states_idx][matrix_idx] * current_matrix\n",
    "\n",
    "\n",
    "    mixed_density_matrices.append(DensityMatrix(mixed_density_matrix))\n"
   ]
  },
  {
   "cell_type": "code",
   "execution_count": 8,
   "metadata": {},
   "outputs": [],
   "source": [
    "full_eigenvalues, full_eigenvectors = [], []\n",
    "\n",
    "# perform spectral/eigendecomposition on the resultant mixed states\n",
    "# to retrieve the eigenvalues and eigenvectors \n",
    "for matrix in mixed_density_matrices: \n",
    "\n",
    "    is_unit_trace = np.isclose(np.trace(matrix), 1.0)\n",
    "    is_hermitian = np.allclose(matrix, np.matrix(matrix.data).getH())\n",
    "\n",
    "    # implement checks to ensure the provided density matrix is valid\n",
    "    if not is_unit_trace: \n",
    "        raise Exception(\"Tr(ρ) ≠ 1\")\n",
    "    if not is_hermitian: \n",
    "        raise Exception(\"ρ not Hermitian\")\n",
    "\n",
    "    eigenvalues, eigenvectors = np.linalg.eigh(matrix.data)\n",
    "    full_eigenvalues.append([eigenvalues])\n",
    "    full_eigenvectors.append([eigenvectors])\n",
    "\n",
    "    reconstructed_matrix = sum(eigenvalues[i] * np.outer(eigenvectors[:, i], \n",
    "                                np.conj(eigenvectors[:, i])) for i in range(len(eigenvalues)))\n",
    "\n",
    "    spectral_decomp_worked = np.allclose(matrix, reconstructed_matrix)\n",
    "\n",
    "    if not spectral_decomp_worked: \n",
    "        raise Exception(\"spectral decomposition failed\")"
   ]
  },
  {
   "cell_type": "code",
   "execution_count": 9,
   "metadata": {},
   "outputs": [],
   "source": [
    "eigenvalues, eigenvectors = full_eigenvalues, full_eigenvectors\n",
    "entropies = []\n",
    "\n",
    "# calculating the von-neumann entropy of the mixed_states \n",
    "# using their eigenvalues\n",
    "def calculate_entropy(eigenvalues):  \n",
    "\n",
    "    eigenvalues = np.array(eigenvalues)\n",
    "    non_zero_eigenvalues = eigenvalues[eigenvalues > 0]\n",
    "\n",
    "    entropy = -np.sum(non_zero_eigenvalues * np.log(non_zero_eigenvalues))\n",
    "\n",
    "    return entropy\n",
    "\n",
    "for eigenlist in eigenvalues: \n",
    "    entropies.append(calculate_entropy(eigenlist))"
   ]
  },
  {
   "cell_type": "code",
   "execution_count": 10,
   "metadata": {},
   "outputs": [],
   "source": [
    "sorted_indices = np.argsort(entropies)[::-1]\n",
    "\n",
    "entropies = np.array(entropies)\n",
    "eigenvalues = np.array(eigenvalues)\n",
    "eigenvectors = np.array(eigenvectors)\n",
    "\n",
    "eigenvalues = eigenvalues[sorted_indices]\n",
    "eigenvectors = eigenvectors[sorted_indices]\n",
    "\n",
    "# extracting all the zero eigenvalues that represent impossible states\n",
    "# to retrieve upon measurement\n",
    "non_zero_eigenvalue_idxs = []\n",
    "for eigenlist in eigenvalues: \n",
    "    non_zero_eigenvalue_idxs.append(np.where(eigenlist[0] > 1e-10)[0])\n",
    "\n",
    "organized_eigenvectors = []\n",
    "statevectors = []\n",
    "\n",
    "# organize all the statevectors based on decreasing entropy\n",
    "# the eigenvectors from the mixed states with maximum entropy \n",
    "# are placed in the lowest index\n",
    "for idx in range(len(eigenvectors)):\n",
    "    allowed_idxs = non_zero_eigenvalue_idxs[idx]\n",
    "\n",
    "    organized_eigenvectors.append(eigenvectors[idx][0][allowed_idxs])\n",
    "\n",
    "for coupled_statevectors in organized_eigenvectors: \n",
    "    for statevector in coupled_statevectors: \n",
    "        statevectors.append(Statevector(statevector))\n",
    "\n",
    "#for i in statevectors: \n",
    "#    display(i.draw('latex'))"
   ]
  },
  {
   "cell_type": "code",
   "execution_count": 11,
   "metadata": {},
   "outputs": [
    {
     "name": "stderr",
     "output_type": "stream",
     "text": [
      "/var/folders/38/q4k6mt054znfh_g97c8zyx1w0000gn/T/ipykernel_81610/3670572819.py:8: DeprecationWarning: Calling nonzero on 0d arrays is deprecated, as it behaves surprisingly. Use `atleast_1d(arr).nonzero()` if the old behavior was intended.\n",
      "  minimum = np.where(min(eigenvalues[i][0][group_no0]))\n"
     ]
    }
   ],
   "source": [
    "organized_eigenvecs = []\n",
    "\n",
    "for i in range(len(eigenvalues)):\n",
    "    group = [] \n",
    "    for j in range(len(eigenvalues[i][0])):\n",
    "        group.append(eigenvalues[i][0][j])\n",
    "    group_no0 = np.where(np.array(group) > 1e-10)\n",
    "    minimum = np.where(min(eigenvalues[i][0][group_no0]))\n",
    "    organized_eigenvecs.append(eigenvectors[i][0][group_no0[0][minimum]])\n",
    "\n",
    "statevectors = []\n",
    "for i in organized_eigenvecs: \n",
    "    statevectors.append(Statevector(i[0]))"
   ]
  },
  {
   "cell_type": "code",
   "execution_count": 19,
   "metadata": {},
   "outputs": [
    {
     "name": "stdout",
     "output_type": "stream",
     "text": [
      "(256,)\n"
     ]
    }
   ],
   "source": [
    "n2_dimensional_unit_vectors = []\n",
    "\n",
    "def statevector_to_unit_vector(statevector):\n",
    "    real_parts = np.real(statevector)\n",
    "    imag_parts = np.imag(statevector)\n",
    "    combined = np.concatenate([real_parts, imag_parts])\n",
    "    unit_vector = combined / np.linalg.norm(combined)\n",
    "    return unit_vector\n",
    "\n",
    "for i in statevectors: \n",
    "    n2_dimensional_unit_vectors.append(statevector_to_unit_vector(i))\n",
    "\n",
    "print(n2_dimensional_unit_vectors[0].shape)"
   ]
  },
  {
   "cell_type": "code",
   "execution_count": 11,
   "metadata": {},
   "outputs": [
    {
     "ename": "NameError",
     "evalue": "name 'num_qubits' is not defined",
     "output_type": "error",
     "traceback": [
      "\u001b[0;31m---------------------------------------------------------------------------\u001b[0m",
      "\u001b[0;31mNameError\u001b[0m                                 Traceback (most recent call last)",
      "Cell \u001b[0;32mIn[11], line 13\u001b[0m\n\u001b[1;32m      9\u001b[0m circuits \u001b[38;5;241m=\u001b[39m []\n\u001b[1;32m     11\u001b[0m \u001b[38;5;28;01mfor\u001b[39;00m i \u001b[38;5;129;01min\u001b[39;00m \u001b[38;5;28mrange\u001b[39m(\u001b[38;5;28mlen\u001b[39m(wave_functions)): \n\u001b[0;32m---> 13\u001b[0m     num_wave_functions \u001b[38;5;241m=\u001b[39m \u001b[43mnum_qubits\u001b[49m\n\u001b[1;32m     15\u001b[0m     \u001b[38;5;66;03m# generate a randomized circuit of a certain depth using \u001b[39;00m\n\u001b[1;32m     16\u001b[0m     \u001b[38;5;66;03m# our generated seed\u001b[39;00m\n\u001b[1;32m     17\u001b[0m     seed \u001b[38;5;241m=\u001b[39m generate_seed() \n",
      "\u001b[0;31mNameError\u001b[0m: name 'num_qubits' is not defined"
     ]
    }
   ],
   "source": [
    "def generate_seed():\n",
    "\n",
    "    entropy = secrets.token_bytes(16) + time.time_ns().to_bytes(8, 'big') + uuid.uuid4().bytes\n",
    "    seed = int(hashlib.sha256(entropy).hexdigest(), 16) % 2**32\n",
    "\n",
    "    return seed\n",
    "\n",
    "seeds = []\n",
    "circuits = []\n",
    "\n",
    "for i in range(len(wave_functions)): \n",
    "\n",
    "    num_wave_functions = num_qubits\n",
    "\n",
    "    # generate a randomized circuit of a certain depth using \n",
    "    # our generated seed\n",
    "    seed = generate_seed() \n",
    "    circuit = random_circuit(num_wave_functions, depth = 10, seed = seed)\n",
    "\n",
    "    circuits.append(circuit)\n",
    "    seeds.append(seed)\n",
    "\n",
    "print(len(circuits))\n"
   ]
  },
  {
   "cell_type": "code",
   "execution_count": null,
   "metadata": {},
   "outputs": [],
   "source": [
    "full_eigenvalues, full_eigenvectors = [], []\n",
    "\n",
    "# perform spectral/eigendecomposition on the resultant mixed states\n",
    "# to retrieve the eigenvalues and eigenvectors \n",
    "for matrix in density_matrices: \n",
    "\n",
    "    is_unit_trace = np.isclose(np.trace(matrix), 1.0)\n",
    "    is_hermitian = np.allclose(matrix, np.matrix(matrix.data).getH())\n",
    "\n",
    "    # implement checks to ensure the provided density matrix is valid\n",
    "    if not is_unit_trace: \n",
    "        raise Exception(\"Tr(ρ) ≠ 1\")\n",
    "    if not is_hermitian: \n",
    "        raise Exception(\"ρ not Hermitian\")\n",
    "\n",
    "    eigenvalues, eigenvectors = np.linalg.eigh(matrix.data)\n",
    "    full_eigenvalues.append([eigenvalues])\n",
    "    full_eigenvectors.append([eigenvectors])\n",
    "\n",
    "    reconstructed_matrix = sum(eigenvalues[i] * np.outer(eigenvectors[:, i], \n",
    "                                np.conj(eigenvectors[:, i])) for i in range(len(eigenvalues)))\n",
    "\n",
    "    spectral_decomp_worked = np.allclose(matrix, reconstructed_matrix)\n",
    "\n",
    "    if not spectral_decomp_worked: \n",
    "        raise Exception(\"spectral decomposition failed\")"
   ]
  },
  {
   "cell_type": "code",
   "execution_count": 14,
   "metadata": {},
   "outputs": [
    {
     "data": {
      "text/plain": [
       "[[[Statevector([-0.2031913 -0.509245j  ,  0.15479192-0.23623407j,\n",
       "                -0.1718296 -0.47896884j,  0.01617492-0.1739043j ,\n",
       "                 0.00524971+0.07578171j, -0.17499784+0.26604457j,\n",
       "                 0.03149869+0.26574283j,  0.19963066+0.33397104j],\n",
       "               dims=(2, 2, 2))],\n",
       "  [Statevector([ 0.12179267+0.36800835j, -0.15901442+0.13347707j,\n",
       "                -0.19707108-0.59463402j,  0.41359044-0.26810301j,\n",
       "                 0.00990733+0.10836269j, -0.00104896-0.22608329j,\n",
       "                -0.32614895+0.01384454j,  0.02443559+0.03397776j],\n",
       "               dims=(2, 2, 2))],\n",
       "  [Statevector([-0.04119479-0.0966321j , -0.09469587+0.39316364j,\n",
       "                 0.06602715-0.38630188j, -0.09271752+0.48348393j,\n",
       "                 0.20007403+0.16391145j, -0.11518172+0.2801025j ,\n",
       "                -0.0784278 +0.0791038j , -0.12982487-0.49152278j],\n",
       "               dims=(2, 2, 2))]],\n",
       " [[Statevector([ 0.15790457-0.05918039j, -0.06562085-0.48008275j,\n",
       "                -0.05866963-0.10941381j, -0.38707909-0.28941907j,\n",
       "                 0.47159695-0.0163391j ,  0.1554771 -0.30274703j,\n",
       "                 0.13630042-0.32881636j, -0.10745521+0.10500948j],\n",
       "               dims=(2, 2, 2))],\n",
       "  [Statevector([ 0.1565251 +0.36957621j, -0.25536347+0.15987612j,\n",
       "                -0.06344   +0.1162404j ,  0.13288158-0.61246538j,\n",
       "                 0.1039606 -0.28523971j,  0.15085123+0.34211496j,\n",
       "                 0.06050137+0.10656653j, -0.00871742+0.3012865j ],\n",
       "               dims=(2, 2, 2))],\n",
       "  [Statevector([-0.24217164+0.12485352j, -0.26458276+0.03909695j,\n",
       "                 0.09750457+0.00065733j,  0.25894345+0.06541755j,\n",
       "                 0.47430032+0.22143067j,  0.25007447+0.48119992j,\n",
       "                -0.20487771+0.06431604j,  0.02636085-0.39812547j],\n",
       "               dims=(2, 2, 2))]],\n",
       " [[Statevector([ 0.29398416+0.01740894j, -0.1303355 -0.09186077j,\n",
       "                 0.12589934+0.19610518j,  0.04264409-0.32495557j,\n",
       "                 0.17956394+0.40110827j,  0.28778516+0.10686579j,\n",
       "                 0.37290251-0.31977617j, -0.43730393-0.07875605j],\n",
       "               dims=(2, 2, 2))],\n",
       "  [Statevector([ 0.05126199+0.03171635j, -0.36674037+0.03234892j,\n",
       "                -0.09315302+0.41912139j,  0.20786456+0.38434512j,\n",
       "                 0.02472631+0.30582243j,  0.2498697 +0.11376937j,\n",
       "                 0.35081881+0.30335463j,  0.30561736-0.08680634j],\n",
       "               dims=(2, 2, 2))],\n",
       "  [Statevector([-0.26748899+0.17066425j,  0.32640723-0.29893952j,\n",
       "                 0.64600584+0.23488608j,  0.00199413+0.15019693j,\n",
       "                 0.00305908-0.12850446j, -0.04339094+0.13166917j,\n",
       "                 0.09220122+0.13639569j, -0.02934611-0.3803293j ],\n",
       "               dims=(2, 2, 2))]],\n",
       " [[Statevector([-0.03414102-0.12080783j, -0.1232698 +0.18040991j,\n",
       "                -0.10080953-0.06858399j,  0.21145421-0.0186344j ,\n",
       "                 0.32234075+0.19916637j, -0.19833682+0.39593419j,\n",
       "                -0.58225435-0.16065929j,  0.27596922-0.30968937j],\n",
       "               dims=(2, 2, 2))],\n",
       "  [Statevector([-0.54121031-0.33501971j, -0.21496642-0.23535139j,\n",
       "                -0.07645527+0.15224838j,  0.34162392+0.0999309j ,\n",
       "                -0.38073374-0.0659898j ,  0.14469353+0.1424276j ,\n",
       "                -0.08706589+0.36305171j,  0.08683606-0.0084915j ],\n",
       "               dims=(2, 2, 2))],\n",
       "  [Statevector([-0.06742082-0.17295726j,  0.59924347+0.20535158j,\n",
       "                 0.24135733-0.14146501j, -0.34631748+0.00528368j,\n",
       "                 0.4690198 -0.16767096j, -0.05937439+0.05685965j,\n",
       "                 0.23666597-0.09129021j,  0.05412609+0.20957814j],\n",
       "               dims=(2, 2, 2))]],\n",
       " [[Statevector([ 0.13911289-0.15245226j, -0.23207969-0.38360532j,\n",
       "                 0.23178885-0.10346772j,  0.16875416-0.32401507j,\n",
       "                -0.05273352-0.19675332j, -0.30993483-0.08920337j,\n",
       "                 0.30246816+0.12508165j,  0.49045678-0.25555182j],\n",
       "               dims=(2, 2, 2))],\n",
       "  [Statevector([ 0.02888735-0.24176908j,  0.18809298+0.01919286j,\n",
       "                 0.2357961 +0.3219939j ,  0.24944673-0.06936158j,\n",
       "                -0.091827  +0.15845356j,  0.41242816+0.08963402j,\n",
       "                -0.44928262+0.17540047j, -0.47202453+0.1074849j ],\n",
       "               dims=(2, 2, 2))],\n",
       "  [Statevector([ 0.13287232+0.23592183j,  0.15219608-0.06970157j,\n",
       "                 0.39403973+0.19428261j,  0.21566318+0.47479964j,\n",
       "                -0.22380103-0.01787817j,  0.0901774 -0.24535539j,\n",
       "                 0.48432443+0.25713465j,  0.1110451 -0.04414036j],\n",
       "               dims=(2, 2, 2))]],\n",
       " [[Statevector([ 0.06826085-0.08657415j,  0.25087973-0.17914698j,\n",
       "                 0.36186044-0.11751702j,  0.31201294+0.39483827j,\n",
       "                -0.21766591-0.21537028j,  0.21031595-0.08245108j,\n",
       "                 0.0842785 +0.12713943j, -0.19355182-0.53785234j],\n",
       "               dims=(2, 2, 2))],\n",
       "  [Statevector([ 0.19810144+0.36896409j, -0.1726579 +0.12212181j,\n",
       "                -0.19533863+0.01170108j,  0.37116508-0.55015525j,\n",
       "                 0.2329386 -0.24658341j,  0.1632216 -0.2954368j ,\n",
       "                 0.03879358+0.08000627j,  0.00061162-0.25352346j],\n",
       "               dims=(2, 2, 2))],\n",
       "  [Statevector([ 0.24092828+0.20464888j, -0.37534909+0.29494806j,\n",
       "                 0.36373239-0.10763056j,  0.11632307-0.05322807j,\n",
       "                -0.0736768 -0.21289062j, -0.23311734+0.25583002j,\n",
       "                 0.05701754-0.39245284j, -0.05098446+0.42606127j],\n",
       "               dims=(2, 2, 2))]],\n",
       " [[Statevector([-0.10425801-0.15522564j, -0.24959005-0.3763367j ,\n",
       "                -0.06064448-0.47098502j, -0.31855752-0.11060301j,\n",
       "                 0.09436719+0.13709378j, -0.06696946+0.13853355j,\n",
       "                 0.46784586+0.12875135j,  0.36548402-0.03850534j],\n",
       "               dims=(2, 2, 2))],\n",
       "  [Statevector([-0.40425087-0.14511569j,  0.05535276+0.01810886j,\n",
       "                 0.24452381-0.27112818j,  0.14658049+0.42273573j,\n",
       "                -0.00163093+0.48312482j, -0.00820074+0.05750039j,\n",
       "                -0.06310117-0.00722721j, -0.31029923-0.37620697j],\n",
       "               dims=(2, 2, 2))],\n",
       "  [Statevector([ 0.14426248-0.05859552j, -0.404651  -0.05716159j,\n",
       "                -0.53581761-0.57022103j,  0.12697831-0.26462752j,\n",
       "                -0.1136859 -0.12968606j,  0.13743958-0.10284994j,\n",
       "                -0.0016071 -0.21074129j, -0.05585252-0.05997163j],\n",
       "               dims=(2, 2, 2))]],\n",
       " [[Statevector([ 0.01068816-0.49805127j, -0.2083341 +0.21048699j,\n",
       "                -0.12312042+0.32462428j,  0.1489747 -0.30932233j,\n",
       "                 0.14074878-0.13776954j, -0.0172534 -0.01058563j,\n",
       "                 0.10426561+0.55333925j, -0.26075406+0.03822005j],\n",
       "               dims=(2, 2, 2))],\n",
       "  [Statevector([ 0.07124936+0.25917191j, -0.13237909-0.24912188j,\n",
       "                 0.26834434+0.01195254j, -0.42535722-0.27666242j,\n",
       "                 0.24102216-0.11285531j, -0.28481618-0.34881344j,\n",
       "                 0.36232043-0.18806216j, -0.03085837-0.27808331j],\n",
       "               dims=(2, 2, 2))],\n",
       "  [Statevector([ 0.38809726+0.11374373j,  0.11909013-0.02077552j,\n",
       "                -0.64132762+0.17488873j,  0.3059257 -0.26781213j,\n",
       "                 0.06328705-0.10616399j, -0.19370171-0.2148954j ,\n",
       "                 0.1860606 +0.03065936j, -0.02739284-0.28167783j],\n",
       "               dims=(2, 2, 2))]],\n",
       " [[Statevector([ 0.13571887+0.01339921j,  0.15141439+0.39119173j,\n",
       "                -0.10374043-0.16491002j,  0.24158551+0.07438071j,\n",
       "                -0.55740219+0.41069598j, -0.11332479-0.12844911j,\n",
       "                 0.36110271-0.21005309j, -0.13778059+0.03713602j],\n",
       "               dims=(2, 2, 2))],\n",
       "  [Statevector([ 0.20247953+0.30003596j,  0.25706116+0.09188197j,\n",
       "                 0.68462387-0.00945149j,  0.11347273+0.10681446j,\n",
       "                -0.13517478-0.03416953j, -0.18577351-0.42308324j,\n",
       "                -0.11601858+0.20478555j,  0.06440207+0.09421835j],\n",
       "               dims=(2, 2, 2))],\n",
       "  [Statevector([ 0.06257352+0.22761506j,  0.22275718+0.30993768j,\n",
       "                -0.07879449+0.03359084j,  0.41593548-0.32501434j,\n",
       "                -0.00823107-0.29762696j, -0.01574475+0.38660386j,\n",
       "                 0.40193359+0.13507993j,  0.2730932 -0.14100767j],\n",
       "               dims=(2, 2, 2))]],\n",
       " [[Statevector([ 0.06793711+0.01581847j, -0.20157294+0.20228478j,\n",
       "                 0.06464656-0.1819696j ,  0.03945726+0.09240238j,\n",
       "                 0.09522162-0.32501369j,  0.42784774+0.10730644j,\n",
       "                 0.68272084-0.17017966j,  0.23337356+0.0859934j ],\n",
       "               dims=(2, 2, 2))],\n",
       "  [Statevector([ 0.37113284-0.32461557j,  0.32287232+0.19965177j,\n",
       "                -0.05317971-0.35599009j,  0.03865733-0.12285682j,\n",
       "                 0.0465713 -0.062624j  ,  0.44540575+0.04060135j,\n",
       "                -0.32735756+0.25074661j, -0.06092021-0.2945489j ],\n",
       "               dims=(2, 2, 2))],\n",
       "  [Statevector([ 0.09633679+0.23365029j, -0.03643751+0.21894698j,\n",
       "                -0.42201773-0.11937486j,  0.13732291-0.21883993j,\n",
       "                -0.06587306+0.20775433j,  0.59458929+0.16898189j,\n",
       "                 0.13497307-0.24620746j, -0.33989145-0.06171714j],\n",
       "               dims=(2, 2, 2))]],\n",
       " [[Statevector([ 0.20934417+0.16121494j, -0.28750194-0.22082367j,\n",
       "                -0.17542569-0.39244366j,  0.09563117+0.18727904j,\n",
       "                 0.34315994-0.00342437j,  0.32544307+0.38202503j,\n",
       "                -0.19572933-0.14692405j, -0.11165327-0.35744854j],\n",
       "               dims=(2, 2, 2))],\n",
       "  [Statevector([-0.12034771+0.10073831j, -0.03775047+0.31186387j,\n",
       "                 0.25946956+0.01384908j,  0.20371992+0.18895615j,\n",
       "                -0.19085977+0.40680113j,  0.32069544+0.03080027j,\n",
       "                -0.27117965-0.22157667j, -0.12362574-0.53696813j],\n",
       "               dims=(2, 2, 2))],\n",
       "  [Statevector([-0.23916888+0.03468999j,  0.16689262-0.20324523j,\n",
       "                 0.13514078+0.26752951j,  0.00633822+0.05276158j,\n",
       "                 0.01123642+0.59432537j,  0.05363758-0.29023693j,\n",
       "                 0.13471207-0.35403425j,  0.20262546+0.39340312j],\n",
       "               dims=(2, 2, 2))]],\n",
       " [[Statevector([-0.01340407-0.56257789j,  0.34032281-0.14904046j,\n",
       "                -0.00369958-0.29291428j,  0.24982901+0.29203879j,\n",
       "                 0.20321367-0.15865899j, -0.17902636-0.37345279j,\n",
       "                -0.13472439+0.22769393j, -0.0183951 -0.05882738j],\n",
       "               dims=(2, 2, 2))],\n",
       "  [Statevector([ 0.01978742-0.01223679j,  0.38666251+0.38334813j,\n",
       "                -0.50202404-0.00290843j,  0.25211012+0.0880957j ,\n",
       "                -0.29214161+0.01618836j,  0.25636329+0.06777839j,\n",
       "                -0.10230513+0.08418582j, -0.39281255+0.22772342j],\n",
       "               dims=(2, 2, 2))],\n",
       "  [Statevector([ 0.14649637+0.08930315j, -0.04664443-0.04127241j,\n",
       "                -0.27360062+0.16530193j, -0.3763347 -0.10357648j,\n",
       "                -0.33424372-0.28907562j,  0.42734821+0.41634997j,\n",
       "                -0.13194207-0.31381912j,  0.11681076+0.17706907j],\n",
       "               dims=(2, 2, 2))]],\n",
       " [[Statevector([-0.43024546-0.14344224j, -0.27875999+0.18770195j,\n",
       "                -0.18262344-0.25565723j,  0.18264914-0.14076898j,\n",
       "                -0.09451891-0.13259107j,  0.31562971+0.0098161j ,\n",
       "                -0.48566433-0.19256536j, -0.12393503-0.33903042j],\n",
       "               dims=(2, 2, 2))],\n",
       "  [Statevector([-0.04204425-0.19763941j, -0.32379015+0.08409687j,\n",
       "                 0.05054075+0.25564353j,  0.23052784-0.15210101j,\n",
       "                 0.30641482+0.08361634j, -0.01492587-0.11736953j,\n",
       "                -0.00212595+0.38226682j,  0.20012841-0.63404169j],\n",
       "               dims=(2, 2, 2))],\n",
       "  [Statevector([-0.26134063-0.47030059j,  0.0114713 -0.07597011j,\n",
       "                -0.38834267-0.57981726j, -0.10256114+0.28205445j,\n",
       "                 0.03790428-0.03494871j, -0.00938865+0.11097739j,\n",
       "                 0.15145205-0.19880319j, -0.04881325-0.21826213j],\n",
       "               dims=(2, 2, 2))]],\n",
       " [[Statevector([-0.15937101-0.18709122j,  0.20726166-0.3678456j ,\n",
       "                -0.23749862+0.03428825j, -0.18351823-0.08821954j,\n",
       "                 0.05142346+0.04547646j, -0.28413161-0.63215072j,\n",
       "                -0.01012465-0.27941677j, -0.12499126+0.28884292j],\n",
       "               dims=(2, 2, 2))],\n",
       "  [Statevector([ 0.311754  -0.31666519j,  0.00281377+0.13295823j,\n",
       "                 0.28630659+0.00496269j,  0.31918843+0.41317451j,\n",
       "                 0.07146831-0.19604142j, -0.04571727+0.01016881j,\n",
       "                -0.39071751-0.46276139j, -0.06501895-0.11613395j],\n",
       "               dims=(2, 2, 2))],\n",
       "  [Statevector([-0.02194335-0.44996711j,  0.07164734-0.04833026j,\n",
       "                -0.49344225+0.11961231j,  0.08521278-0.10628387j,\n",
       "                 0.15009847-0.35134608j,  0.16944653-0.14733438j,\n",
       "                 0.15615825+0.28510499j, -0.26471507-0.37562162j],\n",
       "               dims=(2, 2, 2))]],\n",
       " [[Statevector([-0.4494427 -0.15042702j, -0.02133066-0.31025499j,\n",
       "                 0.06255488-0.4446056j , -0.06753117+0.41733094j,\n",
       "                 0.33795456-0.03039972j, -0.17539916+0.29969356j,\n",
       "                 0.1102598 -0.11616974j,  0.16736387-0.09468459j],\n",
       "               dims=(2, 2, 2))],\n",
       "  [Statevector([ 0.02935911+1.64830053e-03j, -0.4047098 -2.31986032e-02j,\n",
       "                 0.0724178 +4.46815364e-01j, -0.1876588 -1.79570617e-01j,\n",
       "                 0.2169426 -2.95593111e-01j,  0.37698491+3.24134933e-01j,\n",
       "                -0.17959136-6.07142224e-02j,  0.38065425+1.15725067e-05j],\n",
       "               dims=(2, 2, 2))],\n",
       "  [Statevector([ 0.27493052+0.32433969j, -0.01987724-0.24438563j,\n",
       "                 0.29200562+0.15723136j,  0.11374037-0.40951034j,\n",
       "                -0.30484483-0.41154942j, -0.01124646+0.33257263j,\n",
       "                 0.17385172-0.05214466j,  0.01633684+0.24945591j],\n",
       "               dims=(2, 2, 2))]],\n",
       " [[Statevector([ 0.14611953+0.02728721j,  0.35526515+0.2031354j ,\n",
       "                 0.14247557+0.19007195j,  0.25502726+0.02753915j,\n",
       "                -0.24674306-0.00529115j, -0.0503821 +0.42004894j,\n",
       "                -0.36620594+0.46406302j, -0.18598126-0.25350211j],\n",
       "               dims=(2, 2, 2))],\n",
       "  [Statevector([ 0.30047562-0.40031399j,  0.03909295+0.43855672j,\n",
       "                 0.08865739+0.55467779j, -0.15178767+0.22985872j,\n",
       "                 0.04501252+0.28127001j, -0.14058036+0.10760632j,\n",
       "                 0.10614587+0.08273603j,  0.02079962-0.18214011j],\n",
       "               dims=(2, 2, 2))],\n",
       "  [Statevector([ 0.00383192-0.10326079j, -0.35812194-0.41457462j,\n",
       "                -0.30538363+0.00927857j, -0.2486075 +0.23749181j,\n",
       "                 0.06030107+0.03190679j,  0.05936382+0.02472872j,\n",
       "                -0.4435053 +0.19450225j, -0.41839962-0.24345355j],\n",
       "               dims=(2, 2, 2))]],\n",
       " [[Statevector([-0.0916605 +0.48341106j, -0.49297797-0.07015684j,\n",
       "                 0.05749829-0.0341222j ,  0.06296471-0.32138437j,\n",
       "                -0.45726863-0.16756955j,  0.16637645+0.00164311j,\n",
       "                 0.19419549+0.27306455j,  0.08262618+0.11949387j],\n",
       "               dims=(2, 2, 2))],\n",
       "  [Statevector([ 0.0857675 -0.15079711j,  0.02831456+0.3088316j ,\n",
       "                 0.10774154+0.11559916j,  0.46001858+0.11095495j,\n",
       "                -0.08410908-0.26734004j, -0.37581878+0.59379575j,\n",
       "                -0.09816313+0.19564617j,  0.00610119-0.06706101j],\n",
       "               dims=(2, 2, 2))],\n",
       "  [Statevector([-0.33152143-0.18554295j, -0.20564503-0.26544635j,\n",
       "                -0.26475652-0.40205602j,  0.01315119-0.03911915j,\n",
       "                 0.1688629 +0.34755671j, -0.38579288-0.22678707j,\n",
       "                -0.28760896-0.1131827j ,  0.21439705-0.13562148j],\n",
       "               dims=(2, 2, 2))]],\n",
       " [[Statevector([-0.06780974+0.22660119j, -0.24190752+0.23476789j,\n",
       "                 0.49817865+0.40753996j, -0.15112782-0.07768423j,\n",
       "                 0.31272783+0.10027222j,  0.29320597+0.22040248j,\n",
       "                 0.01710691-0.03633025j, -0.2591731 +0.27584389j],\n",
       "               dims=(2, 2, 2))],\n",
       "  [Statevector([-0.56260887+0.07028922j,  0.08481533-0.1989731j ,\n",
       "                -0.23996196+0.08878289j, -0.31002984+0.24741559j,\n",
       "                -0.0255164 +0.2922335j , -0.40380317+0.06166272j,\n",
       "                -0.07286828-0.2496492j ,  0.28488618-0.08511283j],\n",
       "               dims=(2, 2, 2))],\n",
       "  [Statevector([ 0.27414552+0.06705878j, -0.07203436-0.07470236j,\n",
       "                -0.17767979-0.3367586j ,  0.42860416+0.17542244j,\n",
       "                -0.01895917-0.16830112j, -0.08125684-0.13078909j,\n",
       "                -0.28155759+0.2935014j , -0.07864501+0.57107878j],\n",
       "               dims=(2, 2, 2))]],\n",
       " [[Statevector([-0.1929286 +0.45701298j, -0.16258389-0.12091023j,\n",
       "                 0.08618805+0.20883094j, -0.11393742+0.43139228j,\n",
       "                 0.41185104-0.00757754j,  0.2032298 +0.14763464j,\n",
       "                -0.30543487-0.10467984j,  0.33014248-0.12932781j],\n",
       "               dims=(2, 2, 2))],\n",
       "  [Statevector([ 0.22173734-0.20408406j, -0.244166  +0.02066297j,\n",
       "                -0.16156806-0.05250214j,  0.01681501-0.49011528j,\n",
       "                -0.08493331-0.34505928j, -0.25599207+0.41362503j,\n",
       "                -0.31546542+0.03157883j, -0.1838761 +0.28733005j],\n",
       "               dims=(2, 2, 2))],\n",
       "  [Statevector([ 0.08823137+0.10473142j, -0.34610315+0.13095729j,\n",
       "                -0.3384891 -0.28300822j,  0.21478582-0.12540167j,\n",
       "                 0.39599657+0.05318658j, -0.38619117-0.26356498j,\n",
       "                -0.05463531+0.09716839j,  0.40406277-0.18394742j],\n",
       "               dims=(2, 2, 2))]],\n",
       " [[Statevector([ 0.02712018+0.3996746j , -0.11021089+0.37727981j,\n",
       "                -0.02375885+0.12645432j,  0.24720153+0.49380577j,\n",
       "                -0.448787  +0.24298026j,  0.03138311-0.10611906j,\n",
       "                -0.11562508-0.16414717j,  0.19145936-0.11774901j],\n",
       "               dims=(2, 2, 2))],\n",
       "  [Statevector([-0.09465446+0.23768074j, -0.15227126-0.45579464j,\n",
       "                -0.14000548-0.10073543j,  0.26189881+0.12659312j,\n",
       "                -0.1158326 -0.36439919j,  0.00821817-0.159887j  ,\n",
       "                 0.0401505 -0.49367956j, -0.06748824+0.40929886j],\n",
       "               dims=(2, 2, 2))],\n",
       "  [Statevector([-0.15423677-0.0400602j , -0.23447963-0.47745702j,\n",
       "                -0.30106523+0.35569301j, -0.12489471-0.00919277j,\n",
       "                 0.27885099+0.28338692j,  0.16288001+0.28566072j,\n",
       "                 0.12658844+0.05054088j,  0.34876865+0.22891651j],\n",
       "               dims=(2, 2, 2))]],\n",
       " [[Statevector([-0.70275758-0.02048938j,  0.32373848+0.02713352j,\n",
       "                -0.02359752+0.1630591j ,  0.01527611+0.09556168j,\n",
       "                -0.3997806 -0.35623644j, -0.06417994-0.06102809j,\n",
       "                 0.0458008 +0.21260035j, -0.10232413-0.1063925j ],\n",
       "               dims=(2, 2, 2))],\n",
       "  [Statevector([-0.15518779+0.48399697j, -0.05123698+0.18824274j,\n",
       "                -0.19751679-0.12253981j, -0.32176775-0.22901484j,\n",
       "                 0.14009699-0.1657412j , -0.04743096+0.29619855j,\n",
       "                -0.13420542-0.01148397j, -0.1657488 -0.55758025j],\n",
       "               dims=(2, 2, 2))],\n",
       "  [Statevector([-0.23829916-0.05250026j,  0.09389696-0.18409649j,\n",
       "                 0.37904828+0.13470539j,  0.54844715+0.38924728j,\n",
       "                 0.02198347+0.0251583j , -0.15062363-0.08489703j,\n",
       "                -0.18963597-0.34433662j,  0.26337267-0.16944716j],\n",
       "               dims=(2, 2, 2))]],\n",
       " [[Statevector([ 0.31192881+0.09317491j,  0.20291806+0.12361107j,\n",
       "                 0.01077127-0.03444643j,  0.0518778 -0.02674435j,\n",
       "                -0.35029007-0.19260659j,  0.00393539-0.13668784j,\n",
       "                -0.56043651-0.12971954j, -0.20680526-0.5297831j ],\n",
       "               dims=(2, 2, 2))],\n",
       "  [Statevector([-0.41584406+0.27333976j,  0.03590944-0.14856394j,\n",
       "                -0.00767958-0.04878641j, -0.22474664-0.21420135j,\n",
       "                -0.28479431-0.01401703j,  0.26986135+0.26110775j,\n",
       "                 0.29774239-0.0167097j ,  0.56445333-0.0179448j ],\n",
       "               dims=(2, 2, 2))],\n",
       "  [Statevector([ 0.33059253+0.20329052j, -0.00617201+0.06530113j,\n",
       "                 0.08235047+0.0466726j , -0.26967325+0.55266767j,\n",
       "                 0.22921403-0.11640539j, -0.47314755+0.09766864j,\n",
       "                 0.13942777+0.24911156j, -0.07480122-0.26714249j],\n",
       "               dims=(2, 2, 2))]],\n",
       " [[Statevector([ 0.17260707+3.52431618e-01j, -0.35583197+5.40538700e-02j,\n",
       "                 0.61899175-2.67433888e-01j, -0.20834233-1.43928476e-04j,\n",
       "                 0.09242345+1.55746985e-01j, -0.23900377-9.35685996e-02j,\n",
       "                -0.18710655+3.01767334e-02j, -0.04624984-2.85738825e-01j],\n",
       "               dims=(2, 2, 2))],\n",
       "  [Statevector([ 2.40028106e-04-0.53271578j,  2.01725473e-01+0.08534592j,\n",
       "                -9.70915771e-02-0.13190018j, -4.87488064e-01+0.08352843j,\n",
       "                 4.70268221e-02-0.1216759j ,  4.27405970e-01-0.26147404j,\n",
       "                 4.43992271e-03-0.11525241j, -2.76375193e-01+0.1975944j ],\n",
       "               dims=(2, 2, 2))],\n",
       "  [Statevector([ 0.43603406-1.27780699e-04j, -0.13205933+7.03067963e-02j,\n",
       "                -0.0085177 -1.68972288e-01j, -0.21402863-4.60789463e-01j,\n",
       "                 0.25981554+1.42898448e-01j,  0.21898686+1.65494577e-01j,\n",
       "                 0.23360323-3.83647679e-01j, -0.36596027+4.22077616e-02j],\n",
       "               dims=(2, 2, 2))]],\n",
       " [[Statevector([-0.02262705+0.34857517j, -0.24796064+0.07701756j,\n",
       "                -0.14453999-0.14822009j,  0.05139091-0.22133961j,\n",
       "                -0.19210161+0.33424047j,  0.52906262-0.16822165j,\n",
       "                -0.04671503+0.49365585j,  0.09522783-0.06558732j],\n",
       "               dims=(2, 2, 2))],\n",
       "  [Statevector([-0.37963328+0.28190627j, -0.49569122-0.09105867j,\n",
       "                 0.1196734 -0.16905679j,  0.18564432-0.1486638j ,\n",
       "                -0.29567182-0.27799791j,  0.11119503+0.43229574j,\n",
       "                -0.22913635+0.07227805j, -0.02636275-0.02383527j],\n",
       "               dims=(2, 2, 2))],\n",
       "  [Statevector([-0.37009637-0.46558057j, -0.24164226+0.30131089j,\n",
       "                -0.19306852-0.09282565j,  0.02511894-0.08539691j,\n",
       "                 0.00462794-0.14488521j, -0.47182384-0.22807012j,\n",
       "                -0.03347797+0.19928564j,  0.12010984-0.30390747j],\n",
       "               dims=(2, 2, 2))]],\n",
       " [[Statevector([-0.3059686 -0.18350288j, -0.10197774-0.06895003j,\n",
       "                 0.13945663-0.21459592j, -0.14186296+0.34016103j,\n",
       "                 0.06418605+0.52573719j,  0.11615145+0.37551413j,\n",
       "                 0.03776944-0.37734817j, -0.25491157+0.11136705j],\n",
       "               dims=(2, 2, 2))],\n",
       "  [Statevector([ 0.30809266+0.50298309j,  0.21425933+0.08531349j,\n",
       "                 0.1490712 +0.37922435j, -0.19663893-0.0928587j ,\n",
       "                -0.14283738+0.08668797j, -0.10782337+0.14855643j,\n",
       "                 0.14511445-0.20616303j, -0.44375756+0.25196063j],\n",
       "               dims=(2, 2, 2))],\n",
       "  [Statevector([-0.20976196-0.24641792j,  0.10359305+0.27499567j,\n",
       "                 0.17810186+0.0156941j ,  0.1352069 +0.05171363j,\n",
       "                -0.16070536+0.21952024j,  0.07597854+0.34218628j,\n",
       "                 0.47971751+0.15810275j, -0.52952361-0.15362959j],\n",
       "               dims=(2, 2, 2))]],\n",
       " [[Statevector([-0.33729621+0.32988626j, -0.17186568-0.26054036j,\n",
       "                 0.0275988 -0.17244328j, -0.00385154+0.19466514j,\n",
       "                -0.64235495+0.21023988j,  0.00788165+0.07078671j,\n",
       "                 0.0251441 +0.16318745j, -0.31487251-0.15257413j],\n",
       "               dims=(2, 2, 2))],\n",
       "  [Statevector([-0.11901102-0.01299936j, -0.24493918-0.58844188j,\n",
       "                 0.302759  +0.18608726j,  0.01328934+0.15910006j,\n",
       "                 0.18925806-0.07519375j,  0.12614939-0.18288678j,\n",
       "                -0.2619851 -0.21277788j, -0.20034875-0.42748477j],\n",
       "               dims=(2, 2, 2))],\n",
       "  [Statevector([ 0.02528188-0.11053804j, -0.17097197-0.07905305j,\n",
       "                 0.11981486-0.26822517j, -0.24314505+0.3622227j ,\n",
       "                -0.06860096-0.394041j  ,  0.26289739-0.6404401j ,\n",
       "                -0.12205067+0.05000347j,  0.13205389-0.0307948j ],\n",
       "               dims=(2, 2, 2))]],\n",
       " [[Statevector([-0.40470631+0.15041629j, -0.14578258+0.12740645j,\n",
       "                -0.65355642-0.0233313j ,  0.00745915+0.03967867j,\n",
       "                 0.34724462+0.15086065j,  0.05666317+0.11094572j,\n",
       "                 0.30195942-0.07158005j,  0.1937189 -0.23260431j],\n",
       "               dims=(2, 2, 2))],\n",
       "  [Statevector([-0.33447879+0.09692448j, -0.18263398+0.36924218j,\n",
       "                -0.24259337-0.13936866j, -0.16715996-0.27356207j,\n",
       "                -0.0264136 -0.5976528j ,  0.15922902+0.06906063j,\n",
       "                 0.09906943+0.09254527j, -0.29045473-0.19294473j],\n",
       "               dims=(2, 2, 2))],\n",
       "  [Statevector([ 0.27889102-0.44967977j, -0.30782997+0.29166838j,\n",
       "                -0.27849711-0.15360152j,  0.35728393-0.06716135j,\n",
       "                -0.07044257+0.12416057j, -0.03557545-0.23057854j,\n",
       "                 0.38054816+0.15715096j, -0.23779025+0.07742119j],\n",
       "               dims=(2, 2, 2))]],\n",
       " [[Statevector([-0.28090525+0.13494246j,  0.13708959-0.25934613j,\n",
       "                 0.36402479+0.47153392j, -0.08707736+0.37070057j,\n",
       "                -0.23260407+0.06436144j,  0.41925991+0.08535778j,\n",
       "                -0.03538242-0.2316579j , -0.14373549-0.0089487j ],\n",
       "               dims=(2, 2, 2))],\n",
       "  [Statevector([-0.24901544-0.15340053j, -0.13661336+0.07773034j,\n",
       "                 0.10086026+0.03306077j, -0.08124477+0.17389622j,\n",
       "                -0.57976549-0.34130367j, -0.27248513-0.01600657j,\n",
       "                -0.22893801-0.08494518j,  0.50393314-0.03082976j],\n",
       "               dims=(2, 2, 2))],\n",
       "  [Statevector([ 0.19843378+0.49351758j, -0.13687112+0.10069436j,\n",
       "                -0.02038689-0.30574104j, -0.30847212-0.24596024j,\n",
       "                 0.04986564+0.3672835j ,  0.01641774-0.03963849j,\n",
       "                 0.25935257+0.41548966j,  0.21979112-0.10591801j],\n",
       "               dims=(2, 2, 2))]],\n",
       " [[Statevector([ 0.07975472-0.47114831j,  0.18957458-0.24463577j,\n",
       "                 0.31927667-0.03693244j, -0.42320218+0.12133884j,\n",
       "                -0.1229089 +0.08140769j,  0.26106863-0.25131288j,\n",
       "                 0.15703412-0.02634693j,  0.3886531 -0.2220238j ],\n",
       "               dims=(2, 2, 2))],\n",
       "  [Statevector([-0.01192966+0.15087908j, -0.27482007+0.02792032j,\n",
       "                 0.25147351+0.02622638j,  0.48141382+0.55184609j,\n",
       "                -0.17625643-0.02763018j,  0.15946095-0.23000893j,\n",
       "                -0.25359936+0.01956277j, -0.32842384+0.13359723j],\n",
       "               dims=(2, 2, 2))],\n",
       "  [Statevector([ 0.2345607 +0.53802956j,  0.52378582-0.20567806j,\n",
       "                 0.26392038-0.04392566j,  0.25172556+0.13653706j,\n",
       "                 0.12573399-0.12363886j, -0.18350206-0.03588249j,\n",
       "                 0.08624177+0.14514426j,  0.23426605+0.1892554j ],\n",
       "               dims=(2, 2, 2))]],\n",
       " [[Statevector([ 0.21841044-0.19853396j,  0.02993302-0.2229498j ,\n",
       "                 0.54602729-0.31190533j,  0.30039025-0.01331919j,\n",
       "                -0.03629809+0.11339085j,  0.24629167+0.31794648j,\n",
       "                -0.0194714 +0.1359669j , -0.04947354-0.42331755j],\n",
       "               dims=(2, 2, 2))],\n",
       "  [Statevector([-0.28104078-0.13450873j,  0.2911912 -0.02698027j,\n",
       "                -0.0290503 -0.04203286j,  0.0427729 +0.10414818j,\n",
       "                -0.02830633-0.07549458j,  0.21475055-0.32748831j,\n",
       "                 0.5635668 -0.31080591j, -0.08073579-0.47066229j],\n",
       "               dims=(2, 2, 2))],\n",
       "  [Statevector([ 0.09865241+0.03962074j,  0.21264415-0.02105914j,\n",
       "                 0.12720365-0.69783987j, -0.05324148-0.09994099j,\n",
       "                -0.17408846-0.35182982j, -0.03591672-0.20084074j,\n",
       "                -0.28334239+0.01132023j,  0.31567494+0.22643544j],\n",
       "               dims=(2, 2, 2))]],\n",
       " [[Statevector([ 0.04754744+0.01016548j, -0.33684598+0.20980897j,\n",
       "                -0.18805012-0.17963216j, -0.22117175-0.00608375j,\n",
       "                 0.3193043 -0.01734498j, -0.54028513+0.40339401j,\n",
       "                -0.05742345-0.13154087j,  0.08901335+0.37168765j],\n",
       "               dims=(2, 2, 2))],\n",
       "  [Statevector([ 0.32766463+0.06737382j, -0.0295838 +0.50969762j,\n",
       "                 0.4779413 +0.0682395j ,  0.01179521-0.19631502j,\n",
       "                -0.0006017 -0.20411088j, -0.0276347 -0.37236441j,\n",
       "                -0.35824069+0.09008129j,  0.02516292-0.19365389j],\n",
       "               dims=(2, 2, 2))],\n",
       "  [Statevector([ 0.09544733-0.07339779j, -0.16392602+0.36788413j,\n",
       "                 0.3331897 -0.03802915j,  0.17576117+0.40789949j,\n",
       "                -0.31413184-0.0534246j , -0.13054423-0.46880554j,\n",
       "                -0.10014478+0.26121512j, -0.12883935-0.28344524j],\n",
       "               dims=(2, 2, 2))]],\n",
       " [[Statevector([ 0.2667181 +0.02793996j, -0.12747064-0.32007122j,\n",
       "                -0.43212734+0.07579054j, -0.02558335-0.29007343j,\n",
       "                 0.09945185+0.42824192j,  0.39017973-0.08564153j,\n",
       "                 0.33961395+0.16061483j,  0.1008727 -0.16716621j],\n",
       "               dims=(2, 2, 2))],\n",
       "  [Statevector([ 0.21428282-0.01922146j,  0.07963322+0.0731484j ,\n",
       "                -0.32333644+0.16904289j, -0.11153893+0.06170959j,\n",
       "                 0.36269392+0.32869404j,  0.30916437+0.04724416j,\n",
       "                 0.02321072+0.10478824j,  0.08463731-0.6607316j ],\n",
       "               dims=(2, 2, 2))],\n",
       "  [Statevector([ 0.17927558+0.12494605j, -0.29192396+0.21836027j,\n",
       "                -0.02199556-0.22959836j, -0.30192832-0.30569j   ,\n",
       "                -0.14846414+0.25530246j,  0.38214836-0.57572368j,\n",
       "                 0.03063499-0.06455154j,  0.03345863+0.10295968j],\n",
       "               dims=(2, 2, 2))]]]"
      ]
     },
     "execution_count": 14,
     "metadata": {},
     "output_type": "execute_result"
    }
   ],
   "source": [
    "simulator = Aer.get_backend('statevector_simulator')\n",
    "final_wave_functions = []\n",
    "\n",
    "# cyclic permutation of a list\n",
    "def run(wave_func, i):\n",
    "\n",
    "    result_wf = []\n",
    "    main_circuit = circuits[i]\n",
    "\n",
    "    # create a circuit to first prepare the initial_wave_function \n",
    "    # from a circuit starting from |0>|0>|0>...\n",
    "    initialization_circuit = QuantumCircuit(num_qubits)\n",
    "    initialization_circuit.initialize(wave_func.data, \n",
    "                                        [j for j in range(num_qubits)])\n",
    "\n",
    "    # append the randomized circuit to the initialization_circuit\n",
    "    full_circuit = initialization_circuit.compose(main_circuit)\n",
    "\n",
    "    # transpile the circuit onto the simulator backend\n",
    "    transpiled_circuit = transpile(full_circuit, simulator)\n",
    "    result = simulator.run(transpiled_circuit).result()\n",
    "\n",
    "    # output the resultant statevector\n",
    "    final_wave_function = result.get_statevector()\n",
    "    result_wf.append(final_wave_function)\n",
    "\n",
    "    return result_wf\n",
    "\n",
    "final_wave_functions = []\n",
    "\n",
    "for i in range(len(groups)): \n",
    "    wave_functions = groups[i]\n",
    "    ancillary_wave_functions = []\n",
    "\n",
    "    for j in wave_functions: \n",
    "        ancillary_wave_functions.append(run(j, i))\n",
    "    \n",
    "    final_wave_functions.append(ancillary_wave_functions)\n",
    "\n",
    "final_wave_functions\n"
   ]
  },
  {
   "cell_type": "code",
   "execution_count": 19,
   "metadata": {},
   "outputs": [
    {
     "data": {
      "text/latex": [
       "$$\n",
       "\n",
       "\\begin{bmatrix}\n",
       "0.3006171713 & 0.0888486461 - 0.1268277184 i & 0.278826765 - 0.0098189365 i & 0.0852732916 - 0.0435728405 i & -0.0396581533 + 0.012724795 i & -0.0999238258 + 0.1431747179 i & -0.141728466 + 0.0379560806 i & -0.2106362949 - 0.0338009057 i  \\\\\n",
       " 0.0888486461 + 0.1268277184 i & 0.0797670737 & 0.0865509238 + 0.114732512 i & 0.0435858684 + 0.0230979125 i & -0.0170896091 - 0.0129705574 i & -0.0899370429 + 0.0001589031 i & -0.057901767 - 0.0485759065 i & -0.0479941243 - 0.0988555819 i  \\\\\n",
       " 0.278826765 + 0.0098189365 i & 0.0865509238 - 0.114732512 i & 0.2589365606 & 0.0805154107 - 0.0376291916 i & -0.0371991344 + 0.0105070929 i & -0.0973572483 + 0.1295328459 i & -0.1326949418 + 0.0305755932 i & -0.1942641783 - 0.0382307556 i  \\\\\n",
       " 0.0852732916 + 0.0435728405 i & 0.0435858684 - 0.0230979125 i & 0.0805154107 + 0.0376291916 i & 0.0305043343 & -0.013093852 - 0.0021387109 i & -0.0490968717 + 0.026129627 i & -0.0457043322 - 0.0097761279 i & -0.0548499896 - 0.0401185871 i  \\\\\n",
       " -0.0396581533 - 0.012724795 i & -0.0170896091 + 0.0129705574 i & -0.0371991344 - 0.0105070929 i & -0.013093852 + 0.0021387109 i & 0.0057704273 & 0.0192426245 - 0.0146582934 i & 0.0203038055 + 0.0009919514 i & 0.0263569005 + 0.0133751015 i  \\\\\n",
       " -0.0999238258 - 0.1431747179 i & -0.0899370429 - 0.0001589031 i & -0.0973572483 - 0.1295328459 i & -0.0490968717 - 0.026129627 i & 0.0192426245 + 0.0146582934 i & 0.1014039574 & 0.0651872333 + 0.0548844775 i & 0.0539162458 + 0.1115548649 i  \\\\\n",
       " -0.141728466 - 0.0379560806 i & -0.057901767 + 0.0485759065 i & -0.1326949418 - 0.0305755932 i & -0.0457043322 + 0.0097761279 i & 0.0203038055 - 0.0009919514 i & 0.0651872333 - 0.0548844775 i & 0.0716114187 & 0.0950385134 + 0.0425307664 i  \\\\\n",
       " -0.2106362949 + 0.0338009057 i & -0.0479941243 + 0.0988555819 i & -0.1942641783 + 0.0382307556 i & -0.0548499896 + 0.0401185871 i & 0.0263569005 - 0.0133751015 i & 0.0539162458 - 0.1115548649 i & 0.0950385134 - 0.0425307664 i & 0.1513890566  \\\\\n",
       " \\end{bmatrix}\n",
       "$$"
      ],
      "text/plain": [
       "<IPython.core.display.Latex object>"
      ]
     },
     "metadata": {},
     "output_type": "display_data"
    },
    {
     "data": {
      "text/latex": [
       "$$\n",
       "\n",
       "\\begin{bmatrix}\n",
       "0.0284361712 & 0.0180496518 + 0.0796907277 i & -0.0027890503 + 0.0207490327 i & -0.0439936245 + 0.0686080843 i & 0.0754342666 - 0.0253292718 i & 0.042467231 + 0.0386039437 i & 0.0409819394 + 0.0438552927 i & -0.0231821704 - 0.0102222361 i  \\\\\n",
       " 0.0180496518 - 0.0796907277 i & 0.2347855472 & 0.0563776366 + 0.0209864493 i & 0.164345563 + 0.1668380723 i & -0.0231024725 - 0.2274777463 i & 0.1351410874 - 0.0945083915 i & 0.1489149118 - 0.0870126924 i & -0.0433619394 + 0.0584782042 i  \\\\\n",
       " -0.0027890503 - 0.0207490327 i & 0.0563776366 - 0.0209864493 i & 0.0154135082 & 0.0543762311 + 0.0253716911 i & -0.0258806944 - 0.0525578299 i & 0.0240029236 - 0.0347733983 i & 0.0279803565 - 0.034204683 i & -0.0051851309 + 0.0179179517 i  \\\\\n",
       " -0.0439936245 - 0.0686080843 i & 0.164345563 - 0.1668380723 i & 0.0543762311 - 0.0253716911 i & 0.2335936224 & -0.1778164714 - 0.1428136727 i & 0.0274388279 - 0.1621850824 i & 0.0424066782 - 0.166725879 i & 0.0112019183 + 0.0717465619 i  \\\\\n",
       " 0.0754342666 + 0.0253292718 i & -0.0231024725 + 0.2274777463 i & -0.0258806944 + 0.0525578299 i & -0.1778164714 + 0.1428136727 i & 0.2226706452 & 0.0782691391 + 0.1402342176 i & 0.0696514275 + 0.1528417625 i & -0.0523913087 - 0.0477664298 i  \\\\\n",
       " 0.042467231 - 0.0386039437 i & 0.1351410874 + 0.0945083915 i & 0.0240029236 + 0.0347733983 i & 0.0274388279 + 0.1621850824 i & 0.0782691391 - 0.1402342176 i & 0.1158288911 & 0.1207397689 + 0.0098588646 i & -0.0484981329 + 0.0162051753 i  \\\\\n",
       " 0.0409819394 - 0.0438552927 i & 0.1489149118 + 0.0870126924 i & 0.0279803565 + 0.034204683 i & 0.0424066782 + 0.166725879 i & 0.0696514275 - 0.1528417625 i & 0.1207397689 - 0.0098588646 i & 0.1266980014 & -0.049175026 + 0.021020193 i  \\\\\n",
       " -0.0231821704 + 0.0102222361 i & -0.0433619394 - 0.0584782042 i & -0.0051851309 - 0.0179179517 i & 0.0112019183 - 0.0717465619 i & -0.0523913087 + 0.0477664298 i & -0.0484981329 - 0.0162051753 i & -0.049175026 - 0.021020193 i & 0.0225736133  \\\\\n",
       " \\end{bmatrix}\n",
       "$$"
      ],
      "text/plain": [
       "<IPython.core.display.Latex object>"
      ]
     },
     "metadata": {},
     "output_type": "display_data"
    },
    {
     "data": {
      "text/latex": [
       "$$\n",
       "\n",
       "\\begin{bmatrix}\n",
       "0.0867297553 & -0.0399157708 + 0.0247366092 i & 0.0404263954 - 0.055460041 i & 0.0068795561 + 0.0962741788 i & 0.0597718222 - 0.114793459 i & 0.0864646972 - 0.0264068149 i & 0.1040604665 + 0.1005009629 i & -0.129931487 + 0.0155400334 i  \\\\\n",
       " -0.0399157708 - 0.0247366092 i & 0.0254257444 & -0.0344235272 + 0.0139942553 i & 0.0242926311 - 0.0462705669 i & -0.0602496718 + 0.0357837651 i & -0.0473253969 - 0.012507761 i & -0.0192275497 - 0.0759332996 i & 0.0642308187 + 0.0299063683 i  \\\\\n",
       " 0.0404263954 + 0.055460041 i & -0.0344235272 - 0.0139942553 i & 0.0543078851 & -0.058356607 + 0.049274421 i & 0.1012663904 - 0.0152858503 i & 0.0571888973 + 0.0429818267 i & -0.0157615798 + 0.1133877222 i & -0.0705007472 - 0.0758422301 i  \\\\\n",
       " 0.0068795561 - 0.0962741788 i & 0.0242926311 + 0.0462705669 i & -0.058356607 - 0.049274421 i & 0.107414644 & -0.1226850273 - 0.0754552012 i & -0.022454297 - 0.0980745864 i & 0.1198151367 - 0.1075401851 i & 0.0069437876 + 0.145462831 i  \\\\\n",
       " 0.0597718222 + 0.114793459 i & -0.0602496718 - 0.0357837651 i & 0.1012663904 + 0.0152858503 i & -0.1226850273 + 0.0754552012 i & 0.1931310529 & 0.0945405888 + 0.0962437655 i & -0.061305021 + 0.2069945489 i & -0.1101137192 - 0.161264478 i  \\\\\n",
       " 0.0864646972 + 0.0264068149 i & -0.0473253969 + 0.012507761 i & 0.0571888973 - 0.0429818267 i & -0.022454297 + 0.0980745864 i & 0.0945405888 - 0.0962437655 i & 0.0942405949 & 0.073142676 + 0.1318773558 i & -0.1342659093 - 0.024068008 i  \\\\\n",
       " 0.1040604665 - 0.1005009629 i & -0.0192275497 + 0.0759332996 i & -0.0157615798 - 0.1133877222 i & 0.1198151367 + 0.1075401851 i & -0.061305021 - 0.2069945489 i & 0.073142676 - 0.1318773558 i & 0.2413130782 & -0.1378874273 + 0.169207703 i  \\\\\n",
       " -0.129931487 - 0.0155400334 i & 0.0642308187 - 0.0299063683 i & -0.0705007472 + 0.0758422301 i & 0.0069437876 - 0.145462831 i & -0.1101137192 + 0.161264478 i & -0.1342659093 + 0.024068008 i & -0.1378874273 - 0.169207703 i & 0.1974372451  \\\\\n",
       " \\end{bmatrix}\n",
       "$$"
      ],
      "text/plain": [
       "<IPython.core.display.Latex object>"
      ]
     },
     "metadata": {},
     "output_type": "display_data"
    },
    {
     "data": {
      "text/latex": [
       "$$\n",
       "\n",
       "\\begin{bmatrix}\n",
       "0.0157601423 & -0.0175863739 + 0.021051336 i & 0.0117272237 + 0.0098370538 i & -0.0049680816 - 0.026181523 i & -0.0350659009 - 0.0321415443 i & -0.0410605296 + 0.0374782402 i & 0.0392876605 + 0.0648558144 i & 0.02799103 - 0.0439123553 i  \\\\\n",
       " -0.0175863739 - 0.021051336 i & 0.0477431792 & 5.35391 \\cdot 10^{-5} - 0.0266413733 i & -0.0294277481 + 0.0358513775 i & -0.0038032907 + 0.0827046646 i & 0.0958793917 + 0.0130247973 i & 0.0427898455 - 0.124848895 i & -0.0898897005 + 0.011612238 i  \\\\\n",
       " 0.0117272237 - 0.0098370538 i & 5.35391 \\cdot 10^{-5} + 0.0266413733 i & 0.0148663254 & -0.020038579 - 0.0163808985 i & -0.0461546447 - 0.0020295455 i & -0.0071605033 + 0.0535166709 i & 0.0697154444 + 0.0237373373 i & -0.0065805961 - 0.05014671 i  \\\\\n",
       " -0.0049680816 + 0.026181523 i & -0.0294277481 - 0.0358513775 i & -0.020038579 + 0.0163808985 i & 0.0450601252 & 0.0644489639 - 0.0481211949 i & -0.0493171528 - 0.0800260642 i & -0.120126346 + 0.0448220452 i & 0.0641257295 + 0.0603426002 i  \\\\\n",
       " -0.0350659009 + 0.0321415443 i & -0.0038032907 - 0.0827046646 i & -0.0461546447 + 0.0020295455 i & 0.0644489639 + 0.0481211949 i & 0.1435708029 & 0.014924735 - 0.1671277482 i & -0.2196822329 - 0.0641784487 i & 0.0272764179 + 0.1547892902 i  \\\\\n",
       " -0.0410605296 - 0.0374782402 i & 0.0958793917 - 0.0130247973 i & -0.0071605033 - 0.0535166709 i & -0.0493171528 + 0.0800260642 i & 0.014924735 + 0.1671277482 i & 0.1961013754 & 0.0518719709 - 0.2623990566 i & -0.1773514648 + 0.0478428434 i  \\\\\n",
       " 0.0392876605 - 0.0648558144 i & 0.0427898455 + 0.124848895 i & 0.0697154444 - 0.0237373373 i & -0.120126346 - 0.0448220452 i & -0.2196822329 + 0.0641784487 i & 0.0518719709 + 0.2623990566 i & 0.3648315373 & -0.1109298032 - 0.2246549999 i  \\\\\n",
       " 0.02799103 + 0.0439123553 i & -0.0898897005 - 0.011612238 i & -0.0065805961 + 0.05014671 i & 0.0641257295 - 0.0603426002 i & 0.0272764179 - 0.1547892902 i & -0.1773514648 - 0.0478428434 i & -0.1109298032 + 0.2246549999 i & 0.1720665124  \\\\\n",
       " \\end{bmatrix}\n",
       "$$"
      ],
      "text/plain": [
       "<IPython.core.display.Latex object>"
      ]
     },
     "metadata": {},
     "output_type": "display_data"
    },
    {
     "data": {
      "text/latex": [
       "$$\n",
       "\n",
       "\\begin{bmatrix}\n",
       "0.0425940899 & 0.0261962223 + 0.0887455195 i & 0.0480187052 - 0.0209430417 i & 0.0728727098 + 0.0193477197 i & 0.0226595756 + 0.0354102681 i & -0.0295166757 + 0.0596596043 i & 0.0230082401 - 0.0635124254 i & 0.1071883155 - 0.0392206922 i  \\\\\n",
       " 0.0261962223 - 0.0887455195 i & 0.2010140215 & -0.014102718 - 0.112928191 i & 0.0851294898 - 0.1399323085 i & 0.0877139982 - 0.0254335884 i & 0.1061484632 + 0.0981903589 i & -0.118178701 - 0.0869994839 i & -0.0157940167 - 0.2474502155 i  \\\\\n",
       " 0.0480187052 + 0.0209430417 i & -0.014102718 + 0.112928191 i & 0.0644316395 & 0.0726404316 + 0.0576424723 i & 0.0081345736 + 0.0510614423 i & -0.062609769 + 0.0527445942 i & 0.0571668341 - 0.0602882209 i & 0.1401237762 + 0.0084876212 i  \\\\\n",
       " 0.0728727098 - 0.0193477197 i & 0.0851294898 + 0.1399323085 i & 0.0726404316 - 0.0576424723 i & 0.1334637296 & 0.0548520375 + 0.0502893966 i & -0.0233995572 + 0.1154769925 i & 0.0105144213 - 0.1191122885 i & 0.1655692626 - 0.1157899515 i  \\\\\n",
       " 0.0226595756 - 0.0354102681 i & 0.0877139982 + 0.0254335884 i & 0.0081345736 - 0.0510614423 i & 0.0548520375 - 0.0502893966 i & 0.0414926921 & 0.0338950133 + 0.0562766975 i & -0.0405604407 - 0.0529156172 i & 0.0244171553 - 0.1099751455 i  \\\\\n",
       " -0.0295166757 - 0.0596596043 i & 0.1061484632 - 0.0981903589 i & -0.062609769 - 0.0527445942 i & -0.0233995572 - 0.1154769925 i & 0.0338950133 - 0.0562766975 i & 0.1040168376 & -0.1049031201 + 0.0117859816 i & -0.1292135537 - 0.1229548055 i  \\\\\n",
       " 0.0230082401 + 0.0635124254 i & -0.118178701 + 0.0869994839 i & 0.0571668341 + 0.0602882209 i & 0.0105144213 + 0.1191122885 i & -0.0405604407 + 0.0529156172 i & -0.1049031201 - 0.0117859816 i & 0.1071324051 & 0.1163827142 + 0.1386434315 i  \\\\\n",
       " 0.1071883155 + 0.0392206922 i & -0.0157940167 + 0.2474502155 i & 0.1401237762 - 0.0084876212 i & 0.1655692626 + 0.1157899515 i & 0.0244171553 + 0.1099751455 i & -0.1292135537 + 0.1229548055 i & 0.1163827142 - 0.1386434315 i & 0.3058545848  \\\\\n",
       " \\end{bmatrix}\n",
       "$$"
      ],
      "text/plain": [
       "<IPython.core.display.Latex object>"
      ]
     },
     "metadata": {},
     "output_type": "display_data"
    },
    {
     "data": {
      "text/latex": [
       "$$\n",
       "\n",
       "\\begin{bmatrix}\n",
       "0.0121546262 & 0.0326347599 - 0.0094909744 i & 0.0348748354 - 0.0233059482 i & -0.012884519 - 0.0539642492 i & 0.0037874394 + 0.0335455988 i & 0.0214944769 - 0.0125797439 i & -0.0052540658 - 0.0159749839 i & 0.0333520968 + 0.0534708396 i  \\\\\n",
       " 0.0326347599 + 0.0094909744 i & 0.0950342795 & 0.1118362681 - 0.0353435673 i & 0.0075436401 - 0.154953095 i & -0.0160250297 + 0.0930262297 i & 0.0675348715 - 0.0169921631 i & -0.0016328773 - 0.046994943 i & 0.0477963935 + 0.1696104734 i  \\\\\n",
       " 0.0348748354 + 0.0233059482 i & 0.1118362681 + 0.0353435673 i & 0.1447532267 & 0.0665049257 - 0.1795431796 i & -0.0534550097 + 0.1035134342 i & 0.085794428 + 0.0051200806 i & 0.0155560082 - 0.0559108858 i & -0.0068319444 + 0.2173731155 i  \\\\\n",
       " -0.012884519 + 0.0539642492 i & 0.0075436401 + 0.154953095 i & 0.0665049257 + 0.1795431796 i & 0.2532493357 & -0.1529510123 - 0.0187445159 i & 0.0330664582 + 0.1087665908 i & 0.0764954926 - 0.0063927704 i & -0.2727553588 + 0.0913952261 i  \\\\\n",
       " 0.0037874394 - 0.0335455988 i & -0.0160250297 - 0.0930262297 i & -0.0534550097 - 0.1035134342 i & -0.1529510123 + 0.0187445159 i & 0.0937628088 & -0.0280211015 - 0.063242596 i & -0.0457266102 + 0.0095228351 i & 0.1579670441 - 0.0753868098 i  \\\\\n",
       " 0.0214944769 + 0.0125797439 i & 0.0675348715 + 0.0169921631 i & 0.085794428 - 0.0051200806 i & 0.0330664582 - 0.1087665908 i & -0.0280211015 + 0.063242596 i & 0.0510309806 & 0.0072423296 - 0.0336883024 i & 0.0036394705 + 0.1290774834 i  \\\\\n",
       " -0.0052540658 + 0.0159749839 i & -0.0016328773 + 0.046994943 i & 0.0155560082 + 0.0559108858 i & 0.0764954926 + 0.0063927704 i & -0.0457266102 - 0.0095228351 i & 0.0072423296 + 0.0336883024 i & 0.0232672985 & -0.0846944935 + 0.0207213198 i  \\\\\n",
       " 0.0333520968 - 0.0534708396 i & 0.0477963935 - 0.1696104734 i & -0.0068319444 - 0.2173731155 i & -0.2727553588 - 0.0913952261 i & 0.1579670441 + 0.0753868098 i & 0.0036394705 - 0.1290774834 i & -0.0846944935 - 0.0207213198 i & 0.3267474439  \\\\\n",
       " \\end{bmatrix}\n",
       "$$"
      ],
      "text/plain": [
       "<IPython.core.display.Latex object>"
      ]
     },
     "metadata": {},
     "output_type": "display_data"
    },
    {
     "data": {
      "text/latex": [
       "$$\n",
       "\n",
       "\\begin{bmatrix}\n",
       "0.0349647318 & 0.084438866 - 0.0004933423 i & 0.0794316231 - 0.0396903837 i & 0.0503805975 + 0.0379170442 i & -0.0311190048 - 0.000355083 i & -0.0145218548 + 0.0248386096 i & -0.0687621902 - 0.0591983107 i & -0.0321276208 - 0.0607469798 i  \\\\\n",
       " 0.084438866 + 0.0004933423 i & 0.2039245009 & 0.1923852058 - 0.094730428 i & 0.1211327592 + 0.0922794751 i & -0.0751465308 - 0.0012965959 i & -0.0354203457 + 0.0597796602 i & -0.1652235277 - 0.1439325075 i & -0.0767301986 - 0.1471555977 i  \\\\\n",
       " 0.0794316231 + 0.0396903837 i & 0.1923852058 + 0.094730428 i & 0.2255046412 & 0.0714111182 + 0.1433283584 i & -0.0702919642 - 0.036131553 i & -0.0611858959 + 0.0399429087 i & -0.0890122288 - 0.2125403294 i & -0.0040291494 - 0.1744726325 i  \\\\\n",
       " 0.0503805975 - 0.0379170442 i & 0.1211327592 - 0.0922794751 i & 0.0714111182 - 0.1433283584 i & 0.1137119217 & -0.0452243638 + 0.0332349578 i & 0.0060113986 + 0.0515379272 i & -0.1632761042 - 0.0107304485 i & -0.1121688756 - 0.0526897998 i  \\\\\n",
       " -0.0311190048 + 0.000355083 i & -0.0751465308 + 0.0012965959 i & -0.0702919642 + 0.036131553 i & -0.0452243638 - 0.0332349578 i & 0.0276998705 & 0.0126723666 - 0.0222541182 i & 0.0618003093 + 0.0519888509 i & 0.0292108577 + 0.0537392248 i  \\\\\n",
       " -0.0145218548 - 0.0248386096 i & -0.0354203457 - 0.0597796602 i & -0.0611858959 - 0.0399429087 i & 0.0060113986 - 0.0515379272 i & 0.0126723666 + 0.0222541182 i & \\frac{2 \\cdot 2^{\\frac{304}{645}} \\cdot 3^{\\frac{619}{645}} \\cdot 5^{\\frac{107}{645}} \\cdot 7^{\\frac{107}{129}}}{2205} & -0.0134950039 + 0.0734347538 i & -0.0298105497 + 0.0480531142 i  \\\\\n",
       " -0.0687621902 + 0.0591983107 i & -0.1652235277 + 0.1439325075 i & -0.0890122288 + 0.2125403294 i & -0.1632761042 + 0.0107304485 i & 0.0618003093 - 0.0519888509 i & -0.0134950039 - 0.0734347538 i & 0.2354566549 & 0.1660325665 + 0.065071127 i  \\\\\n",
       " -0.0321276208 + 0.0607469798 i & -0.0767301986 + 0.1471555977 i & -0.0040291494 + 0.1744726325 i & -0.1121688756 + 0.0526897998 i & 0.0292108577 - 0.0537392248 i & -0.0298105497 - 0.0480531142 i & 0.1660325665 - 0.065071127 i & 0.135061227  \\\\\n",
       " \\end{bmatrix}\n",
       "$$"
      ],
      "text/plain": [
       "<IPython.core.display.Latex object>"
      ]
     },
     "metadata": {},
     "output_type": "display_data"
    },
    {
     "data": {
      "text/latex": [
       "$$\n",
       "\n",
       "\\begin{bmatrix}\n",
       "\\frac{7 \\cdot 2^{\\frac{129}{503}} \\cdot 3^{\\frac{308}{503}} \\cdot 5^{\\frac{144}{503}} \\cdot 7^{\\frac{377}{503}}}{450} & -0.107060023 + 0.1015113429 i & -0.1629954655 + 0.0578506454 i & 0.1556506463 - 0.0708909524 i & 0.0701206408 - 0.0686276054 i & 0.0050877769 + 0.0087062187 i & -0.27447691 - 0.0578437998 i & -0.021822526 + 0.1294603893 i  \\\\\n",
       " -0.107060023 - 0.1015113429 i & 0.0877078701 & 0.0939793698 + 0.0417150586 i & -0.0961448373 - 0.0330851517 i & -0.0583214662 + 0.0009236944 i & 0.0013663351 - 0.0058369629 i & 0.0947486331 + 0.1372259882 i & 0.0623687851 - 0.0469227985 i  \\\\\n",
       " -0.1629954655 - 0.0578506454 i & 0.0939793698 - 0.0417150586 i & 0.12053956 & -0.1187553665 + 0.0102769092 i & -0.0620523867 + 0.028728227 i & -0.001312105 - 0.0069041792 i & 0.166790129 + 0.1019745103 i & 0.0445113058 - 0.07994143 i  \\\\\n",
       " 0.1556506463 + 0.0708909524 i & -0.0961448373 + 0.0330851517 i & -0.1187553665 - 0.0102769092 i & 0.1178737665 & 0.063583203 - 0.0230125644 i & 0.0007040501 + 0.0069138523 i & -0.155627249 - 0.1146852317 i & -0.0506680732 + 0.0749632334 i  \\\\\n",
       " 0.0701206408 + 0.0686276054 i & -0.0583214662 - 0.0009236944 i & -0.0620523867 - 0.028728227 i & 0.063583203 + 0.0230125644 i & 0.0387906653 & -0.0009700183 + 0.0038669068 i & -0.0615580371 - 0.0922464496 i & -0.0419663744 + 0.0305445418 i  \\\\\n",
       " 0.0050877769 - 0.0087062187 i & 0.0013663351 + 0.0058369629 i & -0.001312105 + 0.0069041792 i & 0.0007040501 - 0.0069138523 i & -0.0009700183 - 0.0038669068 i & 0.0004097353 & -0.0076563782 + 0.0084432668 i & 0.004094311 + 0.0034196705 i  \\\\\n",
       " -0.27447691 + 0.0578437998 i & 0.0947486331 - 0.1372259882 i & 0.166790129 - 0.1019745103 i & -0.155627249 + 0.1146852317 i & -0.0615580371 + 0.0922464496 i & -0.0076563782 - 0.0084432668 i & 0.3170556447 & -0.0060390277 - 0.1482704934 i  \\\\\n",
       " -0.021822526 - 0.1294603893 i & 0.0623687851 + 0.0469227985 i & 0.0445113058 + 0.07994143 i & -0.0506680732 - 0.0749632334 i & -0.0419663744 - 0.0305445418 i & 0.004094311 - 0.0034196705 i & -0.0060390277 + 0.1482704934 i & 0.0694534522  \\\\\n",
       " \\end{bmatrix}\n",
       "$$"
      ],
      "text/plain": [
       "<IPython.core.display.Latex object>"
      ]
     },
     "metadata": {},
     "output_type": "display_data"
    },
    {
     "data": {
      "text/latex": [
       "$$\n",
       "\n",
       "\\begin{bmatrix}\n",
       "0.0185991509 & 0.0257914492 - 0.051063268 i & -0.0162891977 + 0.0209913623 i & 0.0337843552 - 0.0068578121 i & -0.0701469971 - 0.0632079415 i & -0.017101429 + 0.0159145065 i & 0.046193908 + 0.0333466584 i & -0.0182018326 - 0.006886209 i  \\\\\n",
       " 0.0257914492 + 0.051063268 i & 0.1759572901 & -0.0802192305 - 0.015612649 i & 0.0656766421 + 0.0832439439 i & 0.076262156 - 0.2802364124 i & -0.0674072357 - 0.0248826771 i & -0.0274948855 + 0.1730654568 i & -0.0063346604 - 0.0595215541 i  \\\\\n",
       " -0.0162891977 - 0.0209913623 i & -0.0802192305 + 0.015612649 i & 0.0379573915 & -0.0373283094 - 0.0321235838 i & -0.0099027367 + 0.1345269844 i & 0.0329389085 + 0.005363027 i & -0.0028210919 - 0.0813404534 i & 0.0081693161 + 0.0265739057 i  \\\\\n",
       " 0.0337843552 + 0.0068578121 i & 0.0656766421 - 0.0832439439 i & -0.0373283094 + 0.0321235838 i & 0.0638960483 & -0.1041124347 - 0.1406781678 i & -0.0369317638 + 0.022602266 i & 0.0716132842 + 0.0776048594 i & -0.0305235897 - 0.0192197418 i  \\\\\n",
       " -0.0701469971 + 0.0632079415 i & 0.076262156 + 0.2802364124 i & -0.0099027367 - 0.1345269844 i & -0.1041124347 + 0.1406781678 i & 0.4793683924 & 0.0104139536 - 0.1181398538 i & -0.2875474039 + 0.0312193759 i & 0.0920508148 - 0.0358862344 i  \\\\\n",
       " -0.017101429 - 0.0159145065 i & -0.0674072357 + 0.0248826771 i & 0.0329389085 - 0.005363027 i & -0.0369317638 - 0.022602266 i & 0.0104139536 + 0.1181398538 i & 0.0293416831 & -0.0139407561 - 0.0701875461 i & 0.0108438676 + 0.0219062257 i  \\\\\n",
       " 0.046193908 - 0.0333466584 i & -0.0274948855 - 0.1730654568 i & -0.0028210919 + 0.0813404534 i & 0.0716132842 - 0.0776048594 i & -0.2875474039 - 0.0312193759 i & -0.0139407561 + 0.0701875461 i & 0.1745174697 & -0.0575534789 + 0.0155313213 i  \\\\\n",
       " -0.0182018326 + 0.006886209 i & -0.0063346604 + 0.0595215541 i & 0.0081693161 - 0.0265739057 i & -0.0305235897 + 0.0192197418 i & 0.0920508148 + 0.0358862344 i & 0.0108438676 - 0.0219062257 i & -0.0575534789 - 0.0155313213 i & 0.0203625739  \\\\\n",
       " \\end{bmatrix}\n",
       "$$"
      ],
      "text/plain": [
       "<IPython.core.display.Latex object>"
      ]
     },
     "metadata": {},
     "output_type": "display_data"
    },
    {
     "data": {
      "text/latex": [
       "$$\n",
       "\n",
       "\\begin{bmatrix}\n",
       "\\frac{2^{\\frac{125}{188}} \\cdot 21^{\\frac{3}{94}} \\cdot 5^{\\frac{6}{47}}}{441} & -0.0104944468 - 0.0169312179 i & 0.0015134199 + 0.0133850972 i & 0.0041422762 - 0.0056533965 i & 0.0013278625 + 0.0235867499 i & 0.0307641605 - 0.0005221929 i & 0.0436900961 + 0.0223611119 i & 0.0172150078 - 0.0021505303 i  \\\\\n",
       " -0.0104944468 + 0.0169312179 i & 0.0815507837 & -0.0498406773 - 0.0236031312 i & 0.0107380781 + 0.0266074221 i & -0.0849394263 - 0.0462520811 i & -0.0645360672 + 0.1081771609 i & -0.1720428033 + 0.1038004206 i & -0.0296466383 + 0.064541861 i  \\\\\n",
       " 0.0015134199 - 0.0133850972 i & -0.0498406773 + 0.0236031312 i & 0.0372921114 & -0.0142636466 - 0.0131535176 i & 0.0652983604 + 0.0036835774 i & 0.0081323752 - 0.0847922719 i & 0.0751030781 - 0.1132329047 i & -0.0005613862 - 0.0480260689 i  \\\\\n",
       " 0.0041422762 + 0.0056533965 i & 0.0107380781 - 0.0266074221 i & -0.0142636466 + 0.0131535176 i & 0.0100950744 & -0.0262748528 + 0.0216228542 i & 0.0267970698 + 0.035300129 i & 0.0112132894 + 0.0697998504 i & 0.0171542756 + 0.0181712069 i  \\\\\n",
       " 0.0013278625 - 0.0235867499 i & -0.0849394263 + 0.0462520811 i & 0.0652983604 - 0.0036835774 i & -0.0262748528 - 0.0216228542 i & 0.1147010576 & 0.0058642932 - 0.1492742662 i & 0.1203205057 - 0.205688837 i & -0.0057268234 - 0.0840380319 i  \\\\\n",
       " 0.0307641605 + 0.0005221929 i & -0.0645360672 - 0.1081771609 i & 0.0081323752 + 0.0847922719 i & 0.0267970698 - 0.035300129 i & 0.0058642932 + 0.1492742662 i & 0.1945683584 & 0.2738391918 + 0.1460713257 i & 0.1090759932 - 0.0117495954 i  \\\\\n",
       " 0.0436900961 - 0.0223611119 i & -0.1720428033 - 0.1038004206 i & 0.0751030781 + 0.1132329047 i & 0.0112132894 - 0.0697998504 i & 0.1203205057 + 0.205688837 i & 0.2738391918 - 0.1460713257 i & 0.4950688591 & 0.1446946619 - 0.0984249177 i  \\\\\n",
       " 0.0172150078 + 0.0021505303 i & -0.0296466383 - 0.064541861 i & -0.0005613862 + 0.0480260689 i & 0.0171542756 - 0.0181712069 i & -0.0057268234 + 0.0840380319 i & 0.1090759932 + 0.0117495954 i & 0.1446946619 + 0.0984249177 i & 0.061858081  \\\\\n",
       " \\end{bmatrix}\n",
       "$$"
      ],
      "text/plain": [
       "<IPython.core.display.Latex object>"
      ]
     },
     "metadata": {},
     "output_type": "display_data"
    },
    {
     "data": {
      "text/latex": [
       "$$\n",
       "\n",
       "\\begin{bmatrix}\n",
       "0.069815237 & -0.0957869291 - 0.0001214603 i & -0.0999921256 + 0.0538745507 i & 0.0502120051 - 0.0237886018 i & 0.0712864732 + 0.0560393797 i & 0.1297177502 - 0.0275084298 i & -0.0646611459 - 0.0007967974 i & -0.0810000043 + 0.0568295925 i  \\\\\n",
       " -0.0957869291 + 0.0001214603 i & 0.1314204598 & 0.1370960758 - 0.074090171 i & -0.0688497899 + 0.0327254619 i & -0.097902968 - 0.0767623494 i & -0.1779256836 + 0.0379674079 i & 0.088716871 + 0.0009807173 i & 0.111033629 - 0.078111465 i  \\\\\n",
       " -0.0999921256 - 0.0538745507 i & 0.1370960758 + 0.074090171 i & 0.1847862006 & -0.0902726341 - 0.0046762909 i & -0.0588551976 - 0.1352716658 i & -0.207014378 - 0.0607010637 i & 0.0919953665 + 0.0510384811 i & 0.159865265 - 0.0188880389 i  \\\\\n",
       " 0.0502120051 + 0.0237886018 i & -0.0688497899 - 0.0327254619 i & -0.0902726341 + 0.0046762909 i & 0.0442187574 & 0.0321754729 + 0.0645941392 i & 0.1026677803 + 0.0244151643 i & -0.0462336193 - 0.0226054814 i & -0.07762015 + 0.0132729041 i  \\\\\n",
       " 0.0712864732 - 0.0560393797 i & -0.097902968 + 0.0767623494 i & -0.0588551976 + 0.1352716658 i & 0.0321754729 - 0.0645941392 i & 0.1177704709 & 0.1103708289 - 0.1322101249 i & -0.0666633428 + 0.051088699 i & -0.0370908934 + 0.1230443609 i  \\\\\n",
       " 0.1297177502 + 0.0275084298 i & -0.1779256836 - 0.0379674079 i & -0.207014378 + 0.0607010637 i & 0.1026677803 - 0.0244151643 i & 0.1103708289 + 0.1322101249 i & 0.2518563166 & -0.11982742 - 0.0269580888 i & -0.1728910722 + 0.0736748048 i  \\\\\n",
       " -0.0646611459 + 0.0007967974 i & 0.088716871 - 0.0009807173 i & 0.0919953665 - 0.0510384811 i & -0.0462336193 + 0.0226054814 i & -0.0666633428 - 0.051088699 i & -0.11982742 + 0.0269580888 i & 0.059896648 & 0.0743716077 - 0.0535586117 i  \\\\\n",
       " -0.0810000043 - 0.0568295925 i & 0.111033629 + 0.078111465 i & 0.159865265 + 0.0188880389 i & -0.07762015 - 0.0132729041 i & -0.0370908934 - 0.1230443609 i & -0.1728910722 - 0.0736748048 i & 0.0743716077 + 0.0535586117 i & 0.1402359098  \\\\\n",
       " \\end{bmatrix}\n",
       "$$"
      ],
      "text/plain": [
       "<IPython.core.display.Latex object>"
      ]
     },
     "metadata": {},
     "output_type": "display_data"
    },
    {
     "data": {
      "text/latex": [
       "$$\n",
       "\n",
       "\\begin{bmatrix}\n",
       "0.316673549 & 0.0792851572 - 0.1934558373 i & 0.1648366838 - 0.0018449418 i & -0.1676432923 - 0.1366337701 i & 0.0865341521 - 0.1164501928 i & 0.2124959657 + 0.0957104836 i & -0.1262897141 + 0.078844987 i & 0.0333415529 + 0.0095601517 i  \\\\\n",
       " 0.0792851572 + 0.1934558373 i & 0.1380326752 & 0.0423970275 + 0.1002367968 i & 0.0414969158 - 0.1366220941 i & 0.0928048569 + 0.0237082164 i & -0.0052671772 + 0.1537766759 i & -0.0797853906 - 0.0574100529 i & 0.0025073869 + 0.0227619142 i  \\\\\n",
       " 0.1648366838 + 0.0018449418 i & 0.0423970275 - 0.1002367968 i & 0.0858124597 & -0.0864665934 - 0.0720980636 i & 0.0457216795 - 0.0601111561 i & 0.1100519767 + 0.051057758 i & -0.0661963784 + 0.0403050683 i & 0.0172994338 + 0.0051705516 i  \\\\\n",
       " -0.1676432923 + 0.1366337701 i & 0.0414969158 + 0.1366220941 i & -0.0864665934 + 0.0720980636 i & 0.1477011918 & 0.004434089 + 0.0989838945 i & -0.1537886813 + 0.0410167012 i & 0.0328373988 - 0.0962292969 i & -0.0217755076 + 0.0093247029 i  \\\\\n",
       " 0.0865341521 + 0.1164501928 i & 0.0928048569 - 0.0237082164 i & 0.0457216795 + 0.0601111561 i & 0.004434089 - 0.0989838945 i & 0.0664684719 & 0.0228710417 + 0.1042948545 i & -0.063503527 - 0.0248952824 i & 0.0055953568 + 0.0148730764 i  \\\\\n",
       " 0.2124959657 - 0.0957104836 i & -0.0052671772 - 0.1537766759 i & 0.1100519767 - 0.051057758 i & -0.1537886813 - 0.0410167012 i & 0.0228710417 - 0.1042948545 i & 0.1715174263 & -0.0609137169 + 0.091076414 i & 0.025262458 - 0.0036619493 i  \\\\\n",
       " -0.1262897141 - 0.078844987 i & -0.0797853906 + 0.0574100529 i & -0.0661963784 - 0.0403050683 i & 0.0328373988 + 0.0962292969 i & -0.063503527 + 0.0248952824 i & -0.0609137169 - 0.091076414 i & 0.0699951857 & -0.0109163685 - 0.0121139361 i  \\\\\n",
       " 0.0333415529 - 0.0095601517 i & 0.0025073869 - 0.0227619142 i & 0.0172994338 - 0.0051705516 i & -0.0217755076 - 0.0093247029 i & 0.0055953568 - 0.0148730764 i & 0.025262458 + 0.0036619493 i & -0.0109163685 + 0.0121139361 i & 0.0037990405  \\\\\n",
       " \\end{bmatrix}\n",
       "$$"
      ],
      "text/plain": [
       "<IPython.core.display.Latex object>"
      ]
     },
     "metadata": {},
     "output_type": "display_data"
    },
    {
     "data": {
      "text/latex": [
       "$$\n",
       "\n",
       "\\begin{bmatrix}\n",
       "0.2056868289 & 0.093010831 + 0.1207438705 i & 0.1152449501 - 0.0837994444 i & -0.0583917452 - 0.0867648145 i & 0.0596854919 - 0.0434887006 i & -0.1372062895 - 0.0410513028 i & 0.2365768798 - 0.0131855895 i & 0.1019537676 - 0.1280887781 i  \\\\\n",
       " 0.093010831 - 0.1207438705 i & 0.1129391565 & 0.0029207476 - 0.1055457825 i & -0.0773378848 - 0.0049571583 i & 0.0014604881 - 0.0547024696 i & -0.0861424346 + 0.0619806466 i & 0.0992388924 - 0.144839662 i & -0.0290885431 - 0.1177709644 i  \\\\\n",
       " 0.1152449501 + 0.0837994444 i & 0.0029207476 + 0.1055457825 i & 0.0987119376 & 0.0026325919 - 0.0724032871 i & 0.0511592334 - 4.97945 \\cdot 10^{-5} i & -0.0601509377 - 0.0789003664 i & 0.1379244162 + 0.0889966488 i & 0.1093090181 - 0.0302300143 i  \\\\\n",
       " -0.0583917452 + 0.0867648145 i & -0.0773378848 + 0.0049571583 i & 0.0026325919 + 0.0724032871 i & 0.0531766132 & 0.0014009113 + 0.0375229751 i & 0.0562676931 - 0.0462237718 i & -0.061598945 + 0.1035383684 i & 0.0250883379 + 0.0793698221 i  \\\\\n",
       " 0.0596854919 + 0.0434887006 i & 0.0014604881 + 0.0547024696 i & 0.0511592334 + 4.97945 \\cdot 10^{-5} i & 0.0014009113 - 0.0375229751 i & 0.0265142161 & -0.0311345024 - 0.0409218738 i & 0.0714369106 + 0.0461936856 i & 0.0566666099 - 0.0156121074 i  \\\\\n",
       " -0.1372062895 + 0.0410513028 i & -0.0861424346 - 0.0619806466 i & -0.0601509377 + 0.0789003664 i & 0.0562676931 + 0.0462237718 i & -0.0311345024 + 0.0409218738 i & 0.0997184674 & -0.1551803312 + 0.0560120209 i & -0.0424455322 + 0.1057915136 i  \\\\\n",
       " 0.2365768798 + 0.0131855895 i & 0.0992388924 + 0.144839662 i & 0.1379244162 - 0.0889966488 i & -0.061598945 - 0.1035383684 i & 0.0714369106 - 0.0461936856 i & -0.1551803312 - 0.0560120209 i & 0.2729512635 & 0.125476339 - 0.1407893889 i  \\\\\n",
       " 0.1019537676 + 0.1280887781 i & -0.0290885431 + 0.1177709644 i & 0.1093090181 + 0.0302300143 i & 0.0250883379 - 0.0793698221 i & 0.0566666099 + 0.0156121074 i & -0.0424455322 - 0.1057915136 i & 0.125476339 + 0.1407893889 i & 0.1303015169  \\\\\n",
       " \\end{bmatrix}\n",
       "$$"
      ],
      "text/plain": [
       "<IPython.core.display.Latex object>"
      ]
     },
     "metadata": {},
     "output_type": "display_data"
    },
    {
     "data": {
      "text/latex": [
       "$$\n",
       "\n",
       "\\begin{bmatrix}\n",
       "0.0604022455 & 0.0357891827 - 0.0974007628 i & 0.0314353647 + 0.0498984605 i & 0.0457525872 + 0.0202750118 i & -0.0167036553 - 0.002373248 i & 0.1635521933 - 0.04758797 i & 0.0538900017 - 0.0426366998 i & -0.0341199914 + 0.0694179565 i  \\\\\n",
       " 0.0357891827 + 0.0974007628 i & 0.1782677796 & -0.0618371398 + 0.0802561822 i & -0.005585122 + 0.0857908999 i & -0.0060702048 - 0.0283414195 i & 0.1736442714 + 0.2355371677 i & 0.1006837768 + 0.0616366925 i & -0.1321554928 - 0.0138885774 i  \\\\\n",
       " 0.0314353647 - 0.0498984605 i & -0.0618371398 - 0.0802561822 i & 0.0575812784 & 0.0405604315 - 0.027244538 i & -0.010653692 + 0.0125638171 i & 0.0458055224 - 0.1598772988 i & -0.007176121 - 0.0667082539 i & 0.0395891703 + 0.064314063 i  \\\\\n",
       " 0.0457525872 - 0.0202750118 i & -0.005585122 - 0.0857908999 i & 0.0405604315 + 0.027244538 i & 0.0414616265 & -0.0134490543 + 0.0038092056 i & 0.1079113745 - 0.0909452182 i & 0.0265080776 - 0.0503848776 i & -0.0025434153 + 0.0640346117 i  \\\\\n",
       " -0.0167036553 + 0.002373248 i & -0.0060702048 + 0.0283414195 i & -0.010653692 - 0.0125638171 i & -0.0134490543 - 0.0038092056 i & 0.0047124806 & -0.0433590074 + 0.019586076 i & -0.0132275306 + 0.0139081432 i & 0.0067080709 - 0.020537462 i  \\\\\n",
       " 0.1635521933 + 0.04758797 i & 0.1736442714 - 0.2355371677 i & 0.0458055224 + 0.1598772988 i & 0.1079113745 + 0.0909452182 i & -0.0433590074 - 0.019586076 i & 0.4803453017 & 0.1795102464 - 0.0729908292 i & -0.1470782914 + 0.1610827186 i  \\\\\n",
       " 0.0538900017 + 0.0426366998 i & 0.1006837768 - 0.0616366925 i & -0.007176121 + 0.0667082539 i & 0.0265080776 + 0.0503848776 i & -0.0132275306 - 0.0139081432 i & 0.1795102464 + 0.0729908292 i & 0.0781762402 & -0.0794420626 + 0.0378490889 i  \\\\\n",
       " -0.0341199914 - 0.0694179565 i & -0.1321554928 + 0.0138885774 i & 0.0395891703 - 0.064314063 i & -0.0025434153 - 0.0640346117 i & 0.0067080709 + 0.020537462 i & -0.1470782914 - 0.1610827186 i & -0.0794420626 - 0.0378490889 i & 0.0990530476  \\\\\n",
       " \\end{bmatrix}\n",
       "$$"
      ],
      "text/plain": [
       "<IPython.core.display.Latex object>"
      ]
     },
     "metadata": {},
     "output_type": "display_data"
    },
    {
     "data": {
      "text/latex": [
       "$$\n",
       "\n",
       "\\begin{bmatrix}\n",
       "0.2246270287 & 0.0562576449 - 0.1362331313 i & 0.0387658633 - 0.2092346872 i & -0.0324264605 + 0.1977248571 i & -0.1473182684 - 0.06450043 i & 0.0337498614 + 0.1610798561 i & -0.0320803925 - 0.0687976929 i & -0.060977346 - 0.067731347 i  \\\\\n",
       " 0.0562576449 + 0.1362331313 i & 0.0967131551 & 0.1366067697 - 0.0288916958 i & -0.1280385218 + 0.0298538274 i & 0.0022228702 - 0.1055005331 i & -0.089240042 + 0.0608111264 i & 0.0336903259 - 0.0366866291 i & 0.0258063851 - 0.0539451593 i  \\\\\n",
       " 0.0387658633 + 0.2092346872 i & 0.1366067697 + 0.0288916958 i & 0.2015872566 & -0.1897720795 + 0.0039186489 i & 0.0346565927 - 0.1483548389 i & -0.1442175102 + 0.0592361545 i & 0.0585470045 - 0.0417551391 i & 0.0525667272 - 0.0684879292 i  \\\\\n",
       " -0.0324264605 - 0.1977248571 i & -0.1280385218 - 0.0298538274 i & -0.1897720795 - 0.0039186489 i & 0.1787255732 & -0.0355092098 + 0.1389859644 i & 0.136916306 - 0.0529608399 i & -0.0559271985 + 0.0381697462 i & -0.0508170876 + 0.0634519583 i  \\\\\n",
       " -0.1473182684 + 0.06450043 i & 0.0022228702 + 0.1055005331 i & 0.0346565927 + 0.1483548389 i & -0.0355092098 - 0.1389859644 i & 0.115137425 & -0.0683875454 - 0.095950719 i & 0.0407943278 + 0.035908225 i & 0.059439766 + 0.0269112749 i  \\\\\n",
       " 0.0337498614 - 0.1610798561 i & -0.089240042 - 0.0608111264 i & -0.1442175102 - 0.0592361545 i & 0.136916306 + 0.0529608399 i & -0.0683875454 + 0.095950719 i & 0.1205810955 & -0.0541547976 + 0.0126680766 i & -0.0577318441 + 0.0335502748 i  \\\\\n",
       " -0.0320803925 + 0.0687976929 i & 0.0336903259 + 0.0366866291 i & 0.0585470045 + 0.0417551391 i & -0.0559271985 - 0.0381697462 i & 0.0407943278 - 0.035908225 i & -0.0541547976 - 0.0126680766 i & 0.0256526304 & 0.0294529899 - 0.0090027124 i  \\\\\n",
       " -0.060977346 + 0.067731347 i & 0.0258063851 + 0.0539451593 i & 0.0525667272 + 0.0684879292 i & -0.0508170876 - 0.0634519583 i & 0.059439766 - 0.0269112749 i & -0.0577318441 - 0.0335502748 i & 0.0294529899 + 0.0090027124 i & 0.0369758356  \\\\\n",
       " \\end{bmatrix}\n",
       "$$"
      ],
      "text/plain": [
       "<IPython.core.display.Latex object>"
      ]
     },
     "metadata": {},
     "output_type": "display_data"
    },
    {
     "data": {
      "text/latex": [
       "$$\n",
       "\n",
       "\\begin{bmatrix}\n",
       "0.0220955086 & 0.0574541748 - 0.0199878548 i & 0.0260049964 - 0.0238854635 i & 0.0380159302 + 0.0029349744 i & -0.0361983611 - 0.0059597886 i & 0.0041001545 - 0.0627521402 i & -0.0408468564 - 0.0778014074 i & -0.0340928588 + 0.0319666993 i  \\\\\n",
       " 0.0574541748 + 0.0199878548 i & 0.1674773187 & 0.0892269473 - 0.0385841087 i & 0.0961964756 + 0.0420213646 i & -0.0887340324 - 0.0482424886 i & 0.0674278057 - 0.159463138 i & -0.035832585 - 0.2392548089 i & -0.117567912 + 0.0522810874 i  \\\\\n",
       " 0.0260049964 + 0.0238854635 i & 0.0892269473 + 0.0385841087 i & 0.0564266352 & 0.041569575 + 0.0445498734 i & -0.0361605587 - 0.0461450756 i & 0.0726613036 - 0.0694229363 i & 0.0360299616 - 0.1357231222 i & -0.0746814263 + 0.0007680368 i  \\\\\n",
       " 0.0380159302 - 0.0029349744 i & 0.0961964756 - 0.0420213646 i & 0.041569575 - 0.0445498734 i & 0.0657973096 & -0.063071922 - 0.0054457061 i & -0.0012810176 - 0.1085114116 i & -0.080612599 - 0.1284337213 i & -0.054411524 + 0.0595281827 i  \\\\\n",
       " -0.0361983611 + 0.0059597886 i & -0.0887340324 + 0.0482424886 i & -0.0361605587 + 0.0461450756 i & -0.063071922 + 0.0054457061 i & 0.0609101357 & 0.0102088901 + 0.1039107416 i & 0.0879033488 + 0.1164419817 i & 0.0472309039 - 0.0615658313 i  \\\\\n",
       " 0.0041001545 + 0.0627521402 i & 0.0674278057 + 0.159463138 i & 0.0726613036 + 0.0694229363 i & -0.0012810176 + 0.1085114116 i & 0.0102088901 - 0.1039107416 i & 0.1789794677 & 0.2133794015 - 0.1304439513 i & -0.0971131655 - 0.0908931985 i  \\\\\n",
       " -0.0408468564 + 0.0778014074 i & -0.035832585 + 0.2392548089 i & 0.0360299616 + 0.1357231222 i & -0.080612599 + 0.1284337213 i & 0.0879033488 - 0.1164419817 i & 0.2133794015 + 0.1304439513 i & 0.3494612775 & -0.0495335095 - 0.1791410028 i  \\\\\n",
       " -0.0340928588 - 0.0319666993 i & -0.117567912 - 0.0522810874 i & -0.0746814263 - 0.0007680368 i & -0.054411524 - 0.0595281827 i & 0.0472309039 + 0.0615658313 i & -0.0971131655 + 0.0908931985 i & -0.0495335095 + 0.1791410028 i & 0.0988523469  \\\\\n",
       " \\end{bmatrix}\n",
       "$$"
      ],
      "text/plain": [
       "<IPython.core.display.Latex object>"
      ]
     },
     "metadata": {},
     "output_type": "display_data"
    },
    {
     "data": {
      "text/latex": [
       "$$\n",
       "\n",
       "\\begin{bmatrix}\n",
       "0.2420879029 & 0.0112720146 - 0.2447416173 i & -0.0217653723 + 0.0246676519 i & -0.1611321368 + 0.0009795853 i & -0.0390915045 - 0.2364082221 i & -0.014455853 + 0.0805788226 i & 0.11420237 + 0.1189054841 i & 0.0501911037 + 0.0508952763 i  \\\\\n",
       " 0.0112720146 + 0.2447416173 i & 0.2479492649 & -0.0259514851 - 0.0208553927 i & -0.008492903 - 0.1628528208 i & 0.2371795118 - 0.0505275762 i & -0.0821351984 - 0.0108624311 i & -0.114891448 + 0.120990668 i & -0.049116198 + 0.0531110561 i  \\\\\n",
       " -0.0217653723 - 0.0246676519 i & -0.0259514851 + 0.0208553927 i & 0.0044703782 & 0.0145867058 + 0.0163305575 i & -0.0205743225 + 0.0252379756 i & 0.009510295 - 0.0057716065 i & 0.0018483451 - 0.0223271232 i & 0.0006734698 - 0.0096900807 i  \\\\\n",
       " -0.1611321368 - 0.0009795853 i & -0.008492903 + 0.1628528208 i & 0.0145867058 - 0.0163305575 i & 0.1072524682 & 0.0250624486 + 0.1575099582 i & 0.0099477763 - 0.0535742471 i & -0.0755312167 - 0.0796048273 i & -0.0332009301 - 0.034078659 i  \\\\\n",
       " -0.0390915045 + 0.2364082221 i & 0.2371795118 + 0.0505275762 i & -0.0205743225 - 0.0252379756 i & 0.0250624486 - 0.1575099582 i & 0.2371741525 & -0.0763540636 - 0.0271282862 i & -0.1345568125 + 0.0923226015 i & -0.0578058935 + 0.040795168 i  \\\\\n",
       " -0.014455853 - 0.0805788226 i & -0.0821351984 + 0.0108624311 i & 0.009510295 + 0.0057716065 i & 0.0099477763 + 0.0535742471 i & -0.0763540636 + 0.0271282862 i & 0.0276838217 & 0.0327582301 - 0.0451124264 i & 0.0139433907 - 0.0197452025 i  \\\\\n",
       " 0.11420237 - 0.1189054841 i & -0.114891448 - 0.120990668 i & 0.0018483451 + 0.0223271232 i & -0.0755312167 + 0.0796048273 i & -0.1345568125 - 0.0923226015 i & 0.0327582301 + 0.0451124264 i & 0.1122761408 & 0.0486751726 - 0.0006428918 i  \\\\\n",
       " 0.0501911037 - 0.0508952763 i & -0.049116198 - 0.0531110561 i & 0.0006734698 + 0.0096900807 i & -0.0332009301 + 0.034078659 i & -0.0578058935 - 0.040795168 i & 0.0139433907 + 0.0197452025 i & 0.0486751726 + 0.0006428918 i & 0.021105871  \\\\\n",
       " \\end{bmatrix}\n",
       "$$"
      ],
      "text/plain": [
       "<IPython.core.display.Latex object>"
      ]
     },
     "metadata": {},
     "output_type": "display_data"
    },
    {
     "data": {
      "text/latex": [
       "$$\n",
       "\n",
       "\\begin{bmatrix}\n",
       "0.0559462627 & 0.069602372 - 0.0388969834 i & 0.058567676 + 0.1405230571 i & -0.0073554015 - 0.0395134921 i & 0.0015158102 + 0.0776639327 i & 0.0300612444 + 0.0813862579 i & -0.0093924922 + 0.0014129012 i & 0.080081015 - 0.04002403 i  \\\\\n",
       " 0.069602372 + 0.0388969834 i & 0.1136352134 & -0.0248358654 + 0.2155433344 i & 0.0183211926 - 0.0542723599 i & -0.0521105178 + 0.0976750566 i & -0.0191853031 + 0.1221523654 i & -0.0126674651 - 0.004772407 i & 0.1274552093 + 0.0058831899 i  \\\\\n",
       " 0.058567676 - 0.1405230571 i & -0.0248358654 - 0.2155433344 i & 0.4142707863 & -0.1069480816 - 0.0228899989 i & \\frac{7 \\cdot 2^{\\frac{539}{548}} \\cdot 3^{\\frac{121}{548}} \\cdot 5^{\\frac{139}{548}} \\cdot 7^{\\frac{36}{137}}}{225} + \\frac{2^{\\frac{7}{216}} \\cdot 3^{\\frac{281}{324}} \\cdot 5^{\\frac{25}{54}} \\cdot 7^{\\frac{61}{162}} i}{150} & 0.235891771 + 0.0096933377 i & -0.0062837306 + 0.0250707015 i & -0.0166970958 - 0.2430429274 i  \\\\\n",
       " -0.0073554015 + 0.0395134921 i & 0.0183211926 + 0.0542723599 i & -0.1069480816 + 0.0228899989 i & 0.0288744575 & -0.0550514446 - 0.0091401003 i & -0.0614333757 + 0.0105314656 i & 0.0002369576 - 0.0068194478 i & 0.0177395437 + 0.0618213477 i  \\\\\n",
       " 0.0015158102 - 0.0776639327 i & -0.0521105178 - 0.0976750566 i & \\frac{7 \\cdot 2^{\\frac{539}{548}} \\cdot 3^{\\frac{121}{548}} \\cdot 5^{\\frac{139}{548}} \\cdot 7^{\\frac{36}{137}}}{225} - \\frac{2^{\\frac{7}{216}} \\cdot 3^{\\frac{281}{324}} \\cdot 5^{\\frac{25}{54}} \\cdot 7^{\\frac{61}{162}} i}{150} & -0.0550514446 + 0.0091401003 i & 0.1078532119 & 0.1137939103 - 0.0395255776 i & 0.001706892 + 0.0130768265 i & -0.0533911616 - 0.1122519198 i  \\\\\n",
       " 0.0300612444 - 0.0813862579 i & -0.0191853031 - 0.1221523654 i & 0.235891771 - 0.0096933377 i & -0.0614333757 - 0.0105314656 i & 0.1137939103 + 0.0395255776 i & 0.1345469926 & -0.0029914288 + 0.0144226499 i & -0.0151944208 - 0.1380014664 i  \\\\\n",
       " -0.0093924922 - 0.0014129012 i & -0.0126674651 + 0.004772407 i & -0.0062837306 - 0.0250707015 i & 0.0002369576 + 0.0068194478 i & 0.001706892 - 0.0130768265 i & -0.0029914288 - 0.0144226499 i & 0.0016125331 & -0.0144551265 + 0.0046969862 i  \\\\\n",
       " 0.080081015 + 0.04002403 i & 0.1274552093 - 0.0058831899 i & -0.0166970958 + 0.2430429274 i & 0.0177395437 - 0.0618213477 i & -0.0533911616 + 0.1122519198 i & -0.0151944208 + 0.1380014664 i & -0.0144551265 - 0.0046969862 i & 0.1432605424  \\\\\n",
       " \\end{bmatrix}\n",
       "$$"
      ],
      "text/plain": [
       "<IPython.core.display.Latex object>"
      ]
     },
     "metadata": {},
     "output_type": "display_data"
    },
    {
     "data": {
      "text/latex": [
       "$$\n",
       "\n",
       "\\begin{bmatrix}\n",
       "0.2460823108 & -0.023890463 - 0.0976299887 i & 0.0788103114 + 0.0796785215 i & 0.2191336576 + 0.0311570278 i & -0.0829208814 + 0.1867593477 i & 0.0282621058 + 0.1213616038 i & 0.0110870762 - 0.1597834366 i & -0.1227984146 + 0.1259283661 i  \\\\\n",
       " -0.023890463 + 0.0976299887 i & 0.0410528042 & -0.0392625864 + 0.0235315291 i & -0.0336353506 + 0.0839136329 i & -0.0660441407 - 0.0510289909 i & -0.0508924301 - 0.0005695486 i & 0.0623156524 + 0.0199109452 i & -0.0380387926 - 0.0609442213 i  \\\\\n",
       " 0.0788103114 - 0.0796785215 i & -0.0392625864 - 0.0235315291 i & 0.0510387437 & 0.0802680113 - 0.06097452 i & 0.0339142143 + 0.0866603354 i & 0.0483466629 + 0.0297163293 i & -0.0481852272 - 0.0547621005 i & 0.0014466896 + 0.0800904779 i  \\\\\n",
       " 0.2191336576 - 0.0311570278 i & -0.0336353506 - 0.0839136329 i & 0.0802680113 + 0.06097452 i & 0.1990810315 & -0.0501941395 + 0.1768059924 i & 0.0405329641 + 0.1044928782 i & -0.0103576133 - 0.1436891954 i & -0.0934066006 + 0.1276856389 i  \\\\\n",
       " -0.0829208814 - 0.1867593477 i & -0.0660441407 + 0.0510289909 i & 0.0339142143 - 0.0866603354 i & -0.0501941395 - 0.1768059924 i & 0.1696786998 & 0.0825816987 - 0.0623434637 i & -0.1250004539 + 0.0454269478 i & 0.1369495116 + 0.0507621237 i  \\\\\n",
       " 0.0282621058 - 0.1213616038 i & -0.0508924301 + 0.0005695486 i & 0.0483466629 - 0.0297163293 i & 0.0405329641 - 0.1044928782 i & 0.0825816987 + 0.0623434637 i & 0.0630983408 & -0.07752784 - 0.0238187041 i & 0.048001527 + 0.0750237321 i  \\\\\n",
       " 0.0110870762 + 0.1597834366 i & 0.0623156524 - 0.0199109452 i & -0.0481852272 + 0.0547621005 i & -0.0103576133 + 0.1436891954 i & -0.1250004539 - 0.0454269478 i & -0.07752784 + 0.0238187041 i & 0.1042483298 & -0.0872990115 - 0.0740604851 i  \\\\\n",
       " -0.1227984146 - 0.1259283661 i & -0.0380387926 + 0.0609442213 i & 0.0014466896 - 0.0800904779 i & -0.0934066006 - 0.1276856389 i & 0.1369495116 - 0.0507621237 i & 0.048001527 - 0.0750237321 i & -0.0872990115 + 0.0740604851 i & \\frac{312500000000000000 \\cdot 2^{\\frac{7}{43}} \\cdot 3^{\\frac{42}{43}} \\cdot 5^{\\frac{33}{43}} \\cdot 7^{\\frac{3}{43}}}{32052064847671367667}  \\\\\n",
       " \\end{bmatrix}\n",
       "$$"
      ],
      "text/plain": [
       "<IPython.core.display.Latex object>"
      ]
     },
     "metadata": {},
     "output_type": "display_data"
    },
    {
     "data": {
      "text/latex": [
       "$$\n",
       "\n",
       "\\begin{bmatrix}\n",
       "0.1604752893 & 0.147800216 - 0.0542803911 i & 0.0498962364 - 0.0129252743 i & 0.2040657725 + 0.0854080701 i & 0.0849418517 - 0.185958434 i & -0.0415619783 + 0.0154209984 i & -0.068741229 - 0.0417607082 i & -0.0418688777 + 0.0797148182 i  \\\\\n",
       " 0.147800216 + 0.0542803911 i & 0.1544864932 & 0.0503271469 + 0.0049729083 i & 0.1590586433 + 0.1476869195 i & 0.1411327604 - 0.1425392026 i & -0.0434953396 + 0.0001447354 i & -0.0491862701 - 0.0617138161 i & -0.0655252327 + 0.0592565268 i  \\\\\n",
       " 0.0498962364 + 0.0129252743 i & 0.0503271469 - 0.0049729083 i & 0.0165551789 & 0.0565706492 + 0.0429919607 i & 0.0413885684 - 0.0509781244 i & -0.0141648408 + 0.0014472622 i & -0.0180100003 - 0.0185212404 i & -0.0194387268 + 0.0214132824 i  \\\\\n",
       " 0.2040657725 - 0.0854080701 i & 0.1590586433 - 0.1476869195 i & 0.0565706492 - 0.0429919607 i & 0.3049527322 & 0.0090442188 - 0.2816787015 i & -0.0446442535 + 0.0417299532 i & -0.1096395188 - 0.0165189014 i & -0.0108160958 + 0.1236514736 i  \\\\\n",
       " 0.0849418517 + 0.185958434 i & 0.1411327604 + 0.1425392026 i & 0.0413885684 + 0.0509781244 i & 0.0090442188 + 0.2816787015 i & 0.2604491791 & -0.0398691671 - 0.039999381 i & 0.0120065128 - 0.1017617308 i & -0.1145351589 - 0.0063233827 i  \\\\\n",
       " -0.0415619783 - 0.0154209984 i & -0.0434953396 - 0.0001447354 i & -0.0141648408 - 0.0014472622 i & -0.0446442535 - 0.0417299532 i & -0.0398691671 + 0.039999381 i & 0.0122461548 & 0.01379047 + 0.0174214737 i & 0.0185040045 - 0.0166221582 i  \\\\\n",
       " -0.068741229 + 0.0417607082 i & -0.0491862701 + 0.0617138161 i & -0.0180100003 + 0.0185212404 i & -0.1096395188 + 0.0165189014 i & 0.0120065128 + 0.1017617308 i & 0.01379047 - 0.0174214737 i & 0.0403134548 & -0.0028093369 - 0.0450422529 i  \\\\\n",
       " -0.0418688777 - 0.0797148182 i & -0.0655252327 - 0.0592565268 i & -0.0194387268 - 0.0214132824 i & -0.0108160958 - 0.1236514736 i & -0.1145351589 + 0.0063233827 i & 0.0185040045 + 0.0166221582 i & -0.0028093369 + 0.0450422529 i & 0.0505215177  \\\\\n",
       " \\end{bmatrix}\n",
       "$$"
      ],
      "text/plain": [
       "<IPython.core.display.Latex object>"
      ]
     },
     "metadata": {},
     "output_type": "display_data"
    },
    {
     "data": {
      "text/latex": [
       "$$\n",
       "\n",
       "\\begin{bmatrix}\n",
       "0.4942880249 & -0.2280656157 + 0.0124350872 i & 0.013242359 + 0.1150745193 i & -0.0126934005 + 0.0668436999 i & 0.2882479114 - 0.2421565975 i & 0.0463533665 - 0.0415729484 i & -0.0365429076 + 0.1484680756 i & 0.074088977 - 0.0726715783 i  \\\\\n",
       " -0.2280656157 - 0.0124350872 i & 0.105542829 & -0.0032150588 - 0.0534287898 i & 0.007538389 - 0.0305224996 i & -0.1390903124 + 0.1044799854 i & -0.0224334229 + 0.0180157144 i & 0.0205960769 - 0.0675841759 i & -0.0360130626 + 0.0316669322 i  \\\\\n",
       " 0.013242359 - 0.1150745193 i & -0.0032150588 + 0.0534287898 i & 0.0271451146 & 0.0152217244 + 0.0047459277 i & -0.0486537616 - 0.073594165 i & -0.0084366987 - 0.0119052354 i & 0.0335856369 + 0.0124850791 i & -0.0149336697 - 0.0191954813 i  \\\\\n",
       " -0.0126934005 - 0.0668436999 i & 0.007538389 + 0.0305224996 i & 0.0152217244 - 0.0047459277 i & 0.0093653951 & -0.0401496458 - 0.0327618017 i & -0.0068123672 - 0.0052008714 i & 0.0210161055 + 0.0011290955 i & -0.0117301612 - 0.0081530033 i  \\\\\n",
       " 0.2882479114 + 0.2421565975 i & -0.1390903124 - 0.1044799854 i & -0.0486537616 + 0.073594165 i & -0.0401496458 + 0.0327618017 i & 0.2867289294 & 0.0473983257 - 0.0015346154 i & -0.0940462614 + 0.0686775824 i & 0.0788080897 - 0.0060820734 i  \\\\\n",
       " 0.0463533665 + 0.0415729484 i & -0.0224334229 - 0.0180157144 i & -0.0084366987 + 0.0119052354 i & -0.0068123672 + 0.0052008714 i & 0.0473983257 + 0.0015346154 i & 0.0078434929 & -0.0159140866 + 0.0108495421 i & 0.0130600883 - 0.0005836174 i  \\\\\n",
       " -0.0365429076 - 0.1484680756 i & 0.0205960769 + 0.0675841759 i & 0.0335856369 - 0.0124850791 i & 0.0210161055 - 0.0011290955 i & -0.0940462614 - 0.0686775824 i & -0.0159140866 - 0.0108495421 i & 0.0472966214 & -0.02730561 - 0.0168812851 i  \\\\\n",
       " 0.074088977 + 0.0726715783 i & -0.0360130626 - 0.0316669322 i & -0.0149336697 + 0.0191954813 i & -0.0117301612 + 0.0081530033 i & 0.0788080897 + 0.0060820734 i & 0.0130600883 + 0.0005836174 i & -0.02730561 + 0.0168812851 i & 0.0217895928  \\\\\n",
       " \\end{bmatrix}\n",
       "$$"
      ],
      "text/plain": [
       "<IPython.core.display.Latex object>"
      ]
     },
     "metadata": {},
     "output_type": "display_data"
    },
    {
     "data": {
      "text/latex": [
       "$$\n",
       "\n",
       "\\begin{bmatrix}\n",
       "0.1059811456 & 0.0748134384 - 0.0196509819 i & 0.0001503255 + 0.0117484454 i & 0.0136902782 + 0.0131760426 i & -0.1272116646 + 0.0274413009 i & -0.0115083144 + 0.043003554 i & -0.1869029006 - 0.0117553577 i & -0.1138710086 + 0.1459855523 i  \\\\\n",
       " 0.0748134384 + 0.0196509819 i & 0.0564554348 & -0.0020722754 + 0.0083212503 i & 0.0072210449 + 0.011839582 i & -0.0948884869 - 0.004216373 i & -0.0160975674 + 0.0282228886 i & -0.1297574605 - 0.0429537181 i & -0.1074515761 + 0.0819391406 i  \\\\\n",
       " 0.0001503255 - 0.0117484454 i & -0.0020722754 - 0.0083212503 i & 0.0013025767 & 0.001480037 - 0.0014989345 i & 0.0028615417 + 0.0141408588 i & 0.004750797 + 0.0013367409 i & -0.001568236 + 0.0207022803 i & 0.0160215816 + 0.0128301375 i  \\\\\n",
       " 0.0136902782 - 0.0131760426 i & 0.0072210449 - 0.011839582 i & 0.001480037 + 0.0014989345 i & 0.0034065665 & -0.0130211399 + 0.0193602867 i & 0.0038597869 + 0.0069858148 i & -0.0256049487 + 0.021718075 i & 0.0034401032 + 0.0330148544 i  \\\\\n",
       " -0.1272116646 - 0.0274413009 i & -0.0948884869 + 0.004216373 i & 0.0028615417 - 0.0141408588 i & -0.0130211399 - 0.0193602867 i & 0.1598004298 & 0.0249484499 - 0.0486383738 i & 0.2213001819 + 0.0625043004 i & 0.174481545 - 0.1457457024 i  \\\\\n",
       " -0.0115083144 - 0.043003554 i & -0.0160975674 - 0.0282228886 i & 0.004750797 - 0.0013367409 i & 0.0038597869 - 0.0069858148 i & 0.0249484499 + 0.0486383738 i & 0.0186990521 & 0.0155255463 + 0.0771153519 i & 0.0716010467 + 0.0303526671 i  \\\\\n",
       " -0.1869029006 + 0.0117553577 i & -0.1297574605 + 0.0429537181 i & -0.001568236 - 0.0207022803 i & -0.0256049487 - 0.021718075 i & 0.2213001819 - 0.0625043004 i & 0.0155255463 - 0.0771153519 i & 0.3309162445 & 0.1846244377 - 0.270083112 i  \\\\\n",
       " -0.1138710086 - 0.1459855523 i & -0.1074515761 - 0.0819391406 i & 0.0160215816 - 0.0128301375 i & 0.0034401032 - 0.0330148544 i & 0.174481545 + 0.1457457024 i & 0.0716010467 - 0.0303526671 i & 0.1846244377 + 0.270083112 i & 0.3234385502  \\\\\n",
       " \\end{bmatrix}\n",
       "$$"
      ],
      "text/plain": [
       "<IPython.core.display.Latex object>"
      ]
     },
     "metadata": {},
     "output_type": "display_data"
    },
    {
     "data": {
      "text/latex": [
       "$$\n",
       "\n",
       "\\begin{bmatrix}\n",
       "0.1540012452 & -0.0423688206 - 0.1347365171 i & 0.0125901944 + 0.2643132441 i & -0.0360120844 - 0.0734015825 i & 0.070843102 + 0.0056899142 i & -0.0742302724 - 0.0680818821 i & -0.021660678 - 0.0711509813 i & -0.1086864457 + 0.033020635 i  \\\\\n",
       " -0.0423688206 + 0.1347365171 i & 0.1295382123 & -0.2347128919 - 0.0617026275 i & 0.0741270832 - 0.0113129238 i & -0.0244684898 + 0.0604156015 i & 0.0799874361 - 0.0462137777 i & 0.0682096614 + 0.0006240134 i & 0.0010118825 - 0.1041749921 i  \\\\\n",
       " 0.0125901944 - 0.2643132441 i & -0.2347128919 + 0.0617026275 i & 0.4546716743 & -0.1289236948 + 0.0558068907 i & 0.0155573295 - 0.1211232607 i & -0.1229179456 + 0.1218358977 i & -0.1238876921 + 0.0313594828 i & 0.0477879751 + 0.1892387507 i  \\\\\n",
       " -0.0360120844 + 0.0734015825 i & 0.0741270832 + 0.0113129238 i & -0.1289236948 - 0.0558068907 i & 0.0434065486 & -0.0192781329 + 0.0324353879 i & 0.0498080695 - 0.0194599009 i & 0.0389778718 + 0.006314021 i & 0.0096769256 - 0.0595248369 i  \\\\\n",
       " 0.070843102 - 0.0056899142 i & -0.0244684898 - 0.0604156015 i & 0.0155573295 + 0.1211232607 i & -0.0192781329 - 0.0324353879 i & 0.0327992167 & -0.036662579 - 0.0285761834 i & -0.0125930969 - 0.0319303186 i & -0.0487775301 + 0.0192056938 i  \\\\\n",
       " -0.0742302724 + 0.0680818821 i & 0.0799874361 + 0.0462137777 i & -0.1229179456 - 0.1218358977 i & 0.0498080695 + 0.0194599009 i & -0.036662579 + 0.0285761834 i & 0.0658778829 & 0.0418955752 + 0.0247196507 i & 0.0377900677 - 0.0639651224 i  \\\\\n",
       " -0.021660678 + 0.0711509813 i & 0.0682096614 - 0.0006240134 i & -0.1238876921 - 0.0313594828 i & 0.0389778718 - 0.006314021 i & -0.0125930969 + 0.0319303186 i & 0.0418955752 - 0.0247196507 i & 0.035919496 & 3.09837 \\cdot 10^{-5} - 0.0548592746 i  \\\\\n",
       " -0.1086864457 - 0.033020635 i & 0.0010118825 + 0.1041749921 i & 0.0477879751 - 0.1892387507 i & 0.0096769256 + 0.0595248369 i & -0.0487775301 - 0.0192056938 i & 0.0377900677 + 0.0639651224 i & 3.09837 \\cdot 10^{-5} + 0.0548592746 i & 0.0837857238  \\\\\n",
       " \\end{bmatrix}\n",
       "$$"
      ],
      "text/plain": [
       "<IPython.core.display.Latex object>"
      ]
     },
     "metadata": {},
     "output_type": "display_data"
    },
    {
     "data": {
      "text/latex": [
       "$$\n",
       "\n",
       "\\begin{bmatrix}\n",
       "0.1220166337 & 0.0324570248 - 0.0846902434 i & -0.0483953284 - 0.0537368357 i & -0.0783163163 + 0.012905334 i & 0.1208546227 - 0.059398978 i & -0.070609015 + 0.1806117348 i & 0.1731331954 - 0.0051137247 i & -0.0250168377 + 0.0317100107 i  \\\\\n",
       " 0.0324570248 + 0.0846902434 i & 0.0674161837 & 0.0244246807 - 0.0478848644 i & -0.0297899589 - 0.0509255087 i & 0.0733760236 + 0.0680832855 i & -0.1441427271 - 0.0009652381 i & 0.0496036551 + 0.1188093437 i & -0.0286641299 - 0.0089288602 i  \\\\\n",
       " -0.0483953284 + 0.0537368357 i & 0.0244246807 + 0.0478848644 i & 0.0428610032 & 0.0253789335 - 0.0396095906 i & -0.0217747855 + 0.0767844331 i & -0.0515368804 - 0.1027324626 i & -0.0664175221 + 0.0782771183 i & -0.0040428714 - 0.0235946689 i  \\\\\n",
       " -0.0783163163 - 0.012905334 i & -0.0297899589 + 0.0509255087 i & 0.0253789335 + 0.0396095906 i & 0.0516322476 & -0.0838529322 + 0.0253427732 i & 0.064423124 - 0.108457449 i & -0.1116663196 - 0.015029538 i & 0.0194109178 - 0.0177070987 i  \\\\\n",
       " 0.1208546227 + 0.059398978 i & 0.0733760236 - 0.0680832855 i & -0.0217747855 - 0.0767844331 i & -0.0838529322 - 0.0253427732 i & 0.1486197239 & -0.1578602666 + 0.1445184906 i & 0.1739737967 + 0.079218032 i & -0.0402153588 + 0.0192295649 i  \\\\\n",
       " -0.070609015 - 0.1806117348 i & -0.1441427271 + 0.0009652381 i & -0.0515368804 + 0.1027324626 i & 0.064423124 + 0.108457449 i & -0.1578602666 - 0.1445184906 i & 0.3082057799 & -0.1077587759 - 0.2533163781 i & 0.0614146947 + 0.0186804189 i  \\\\\n",
       " 0.1731331954 + 0.0051137247 i & 0.0496036551 - 0.1188093437 i & -0.0664175221 - 0.0782771183 i & -0.1116663196 + 0.015029538 i & 0.1739737967 - 0.079218032 i & -0.1077587759 + 0.2533163781 i & 0.2458783908 & -0.0368261374 + 0.0439458629 i  \\\\\n",
       " -0.0250168377 - 0.0317100107 i & -0.0286641299 + 0.0089288602 i & -0.0040428714 + 0.0235946689 i & 0.0194109178 + 0.0177070987 i & -0.0402153588 - 0.0192295649 i & 0.0614146947 - 0.0186804189 i & -0.0368261374 - 0.0439458629 i & 0.0133700373  \\\\\n",
       " \\end{bmatrix}\n",
       "$$"
      ],
      "text/plain": [
       "<IPython.core.display.Latex object>"
      ]
     },
     "metadata": {},
     "output_type": "display_data"
    },
    {
     "data": {
      "text/latex": [
       "$$\n",
       "\n",
       "\\begin{bmatrix}\n",
       "0.1272900897 & 0.0438545137 - 0.0023833345 i & -0.003290381 - 0.091250307 i & -0.0190149167 + 0.1301108558 i & -0.1161132052 + 0.1490807433 i & -0.1044466187 + 0.0935814052 i & 0.0576882127 - 0.1223874923 i & 0.0575587601 + 0.0808518283 i  \\\\\n",
       " 0.0438545137 + 0.0023833345 i & 0.015153565 & 0.0005749226 - 0.031499545 i & -0.0089872481 + 0.0444703072 i & -0.0427951416 + 0.0491878582 i & -0.0377365706 + 0.0302854354 i & 0.0221665241 - 0.0410853167 i & 0.0183165436 + 0.0289331196 i  \\\\\n",
       " -0.003290381 + 0.091250307 i & 0.0005749226 + 0.031499545 i & 0.065499562 & -0.092780901 - 0.0169944988 i & -0.1038698844 - 0.0870916037 i & -0.0643857099 - 0.0772935624 i & 0.0862445778 + 0.0445185372 i & -0.0594480247 + 0.0391721085 i  \\\\\n",
       " -0.0190149167 - 0.1301108558 i & -0.0089872481 - 0.0444703072 i & -0.092780901 + 0.0169944988 i & 0.135834627 & 0.1697296786 + 0.0964162301 i & 0.1112576832 + 0.0927817424 i & -0.1337172278 - 0.0406840372 i & 0.0740452424 - 0.0709121216 i  \\\\\n",
       " -0.1161132052 - 0.1490807433 i & -0.0427951416 - 0.0491878582 i & -0.1038698844 + 0.0870916037 i & 0.1697296786 - 0.0964162301 i & 0.280519438 & 0.2048770424 + 0.0369623641 i & -0.1959616939 + 0.0440772914 i & 0.0421880333 - 0.1411647026 i  \\\\\n",
       " -0.1044466187 - 0.0935814052 i & -0.0377365706 - 0.0302854354 i & -0.0643857099 + 0.0772935624 i & 0.1112576832 - 0.0927817424 i & 0.2048770424 - 0.0369623641 i & 0.1545020166 & -0.1373125929 + 0.0580124953 i & 0.0122115543 - 0.1086583391 i  \\\\\n",
       " 0.0576882127 + 0.1223874923 i & 0.0221665241 + 0.0410853167 i & 0.0862445778 - 0.0445185372 i & -0.1337172278 + 0.0406840372 i & -0.1959616939 - 0.0440772914 i & -0.1373125929 - 0.0580124953 i & 0.1438181731 & -0.0516520221 + 0.0919841427 i  \\\\\n",
       " 0.0575587601 - 0.0808518283 i & 0.0183165436 - 0.0289331196 i & -0.0594480247 - 0.0391721085 i & 0.0740452424 + 0.0709121216 i & 0.0421880333 + 0.1411647026 i & 0.0122115543 + 0.1086583391 i & -0.0516520221 - 0.0919841427 i & 0.0773825285  \\\\\n",
       " \\end{bmatrix}\n",
       "$$"
      ],
      "text/plain": [
       "<IPython.core.display.Latex object>"
      ]
     },
     "metadata": {},
     "output_type": "display_data"
    },
    {
     "data": {
      "text/latex": [
       "$$\n",
       "\n",
       "\\begin{bmatrix}\n",
       "0.2225936758 & -0.0279790443 - 0.1445754027 i & -0.0661956401 - 0.0490599992 i & 0.0655164625 + 0.0643892427 i & 0.2860191365 - 0.1409909609 i & 0.0206931138 + 0.0264761387 i & 0.0453522891 + 0.0633372004 i & 0.0558731919 - 0.1553347887 i  \\\\\n",
       " -0.0279790443 + 0.1445754027 i & 0.0974190929 & 0.0401851484 - 0.0368276835 i & -0.0500561782 + 0.0344597368 i & 0.055622797 + 0.2034924128 i & -0.0197973817 + 0.0101123188 i & -0.0468383251 + 0.0214952698 i & 0.0938674966 + 0.05581474 i  \\\\\n",
       " -0.0661956401 + 0.0490599992 i & 0.0401851484 + 0.0368276835 i & 0.030498379 & -0.0336749925 - 0.0047083527 i & -0.0539826811 + 0.1049674274 i & -0.0119891693 - 0.0033127662 i & -0.0274466325 - 0.0088397087 i & 0.01762028 + 0.058508511 i  \\\\\n",
       " 0.0655164625 - 0.0643892427 i & -0.0500561782 - 0.0344597368 i & -0.0336749925 + 0.0047083527 i & 0.0379093494 & 0.0434004281 - 0.1242343679 i & 0.013749349 + 0.0018069202 i & 0.0316700638 + 0.0055232017 i & -0.0284881208 - 0.0618823438 i  \\\\\n",
       " 0.2860191365 + 0.1409909609 i & 0.055622797 - 0.2034924128 i & -0.0539826811 - 0.1049674274 i & 0.0434004281 + 0.1242343679 i & 0.4568206941 & 0.0098193729 + 0.0471272343 i & 0.0181570738 + 0.1101105595 i & 0.170182747 - 0.1642055058 i  \\\\\n",
       " 0.0206931138 - 0.0264761387 i & -0.0197973817 - 0.0101123188 i & -0.0119891693 + 0.0033127662 i & 0.013749349 - 0.0018069202 i & 0.0098193729 - 0.0471272343 i & 0.0050728794 & 0.0117496805 + 0.0004936816 i & -0.0132819366 - 0.0210862542 i  \\\\\n",
       " 0.0453522891 - 0.0633372004 i & -0.0468383251 - 0.0214952698 i & -0.0274466325 + 0.0088397087 i & 0.0316700638 - 0.0055232017 i & 0.0181570738 - 0.1101105595 i & 0.0117496805 - 0.0004936816 i & 0.0272623697 & -0.0328153685 - 0.0475469025 i  \\\\\n",
       " 0.0558731919 + 0.1553347887 i & 0.0938674966 - 0.05581474 i & 0.01762028 - 0.058508511 i & -0.0284881208 + 0.0618823438 i & 0.170182747 + 0.1642055058 i & -0.0132819366 + 0.0210862542 i & -0.0328153685 + 0.0475469025 i & 0.1224235597  \\\\\n",
       " \\end{bmatrix}\n",
       "$$"
      ],
      "text/plain": [
       "<IPython.core.display.Latex object>"
      ]
     },
     "metadata": {},
     "output_type": "display_data"
    },
    {
     "data": {
      "text/latex": [
       "$$\n",
       "\n",
       "\\begin{bmatrix}\n",
       "0.1864122599 & 0.0781631346 + 0.0296341187 i & 0.2609889997 - 0.1077478588 i & 0.0029495534 + 0.0171801864 i & -0.11784019 + 0.113285505 i & -0.0062438989 + 0.0534234963 i & -0.13297169 + 0.0164507172 i & -0.1133867385 - 0.064997952 i  \\\\\n",
       " 0.0781631346 - 0.0296341187 i & 0.0374849627 & 0.0923045807 - 0.086668599 i & 0.0039679044 + 0.0067348028 i & -0.0314015963 + 0.0662340576 i & 0.0058746969 + 0.0233932059 i & -0.053140183 + 0.0280364525 i & -0.0578761287 - 0.0092286183 i  \\\\\n",
       " 0.2609889997 + 0.1077478588 i & 0.0923045807 + 0.086668599 i & 0.4276803418 & -0.0058007306 + 0.0257582185 i & -0.2304637256 + 0.090494276 i & -0.0396210864 + 0.0711872606 i & -0.1956774621 - 0.05382671 i & -0.1211792686 - 0.1565397511 i  \\\\\n",
       " 0.0029495534 - 0.0171801864 i & 0.0039679044 - 0.0067348028 i & -0.0058007306 - 0.0257582185 i & 0.0016300359 & 0.0085760999 + 0.0126529128 i & 0.0048248378 + 0.0014207585 i & -0.0005878407 + 0.0125152749 i & -0.0077844513 + 0.009421539 i  \\\\\n",
       " -0.11784019 - 0.113285505 i & -0.0314015963 - 0.0662340576 i & -0.2304637256 - 0.090494276 i & 0.0085760999 - 0.0126529128 i & 0.1433377614 & 0.0364133238 - 0.0299770612 i & 0.0940551712 + 0.0704095827 i & 0.0321770092 + 0.1099951525 i  \\\\\n",
       " -0.0062438989 - 0.0534234963 i & 0.0058746969 - 0.0233932059 i & -0.0396210864 - 0.0711872606 i & 0.0048248378 - 0.0014207585 i & 0.0364133238 + 0.0299770612 i & 0.0155196672 & 0.0091684775 + 0.0375570576 i & -0.0148297248 + 0.0346723796 i  \\\\\n",
       " -0.13297169 - 0.0164507172 i & -0.053140183 - 0.0280364525 i & -0.1956774621 + 0.05382671 i & -0.0005878407 - 0.0125152749 i & 0.0940551712 - 0.0704095827 i & 0.0091684775 - 0.0375570576 i & 0.0963031962 & 0.0751450754 + 0.0563706523 i  \\\\\n",
       " -0.1133867385 + 0.064997952 i & -0.0578761287 + 0.0092286183 i & -0.1211792686 + 0.1565397511 i & -0.0077844513 - 0.009421539 i & 0.0321770092 - 0.1099951525 i & -0.0148297248 - 0.0346723796 i & 0.0751450754 - 0.0563706523 i & 0.0916317749  \\\\\n",
       " \\end{bmatrix}\n",
       "$$"
      ],
      "text/plain": [
       "<IPython.core.display.Latex object>"
      ]
     },
     "metadata": {},
     "output_type": "display_data"
    },
    {
     "data": {
      "text/latex": [
       "$$\n",
       "\n",
       "\\begin{bmatrix}\n",
       "0.0971172295 & -0.0735059911 - 0.0543524851 i & -0.0386265274 + 0.1815787558 i & 0.0744837367 + 0.0923813049 i & 0.0740247945 - 0.0133086998 i & -0.106253922 + 0.0805534118 i & -0.0213213798 - 0.0698485128 i & 0.0391684937 - 0.0219097586 i  \\\\\n",
       " -0.0735059911 + 0.0543524851 i & 0.0860539721 & -0.0723864909 - 0.1590508114 i & -0.1080771604 - 0.0282360112 i & -0.0485794848 + 0.0515016824 i & 0.0353389583 - 0.1204350983 i & 0.05522902 + 0.0409341803 i & -0.017383827 + 0.0385040173 i  \\\\\n",
       " -0.0386265274 - 0.1815787558 i & -0.0723864909 + 0.1590508114 i & 0.3548582813 & 0.1430995754 - 0.1760041274 i & -0.0543250454 - 0.1331098641 i & 0.192870085 + 0.1666229203 i & -0.1221146366 + 0.0676452072 i & -0.056542898 - 0.0645186079 i  \\\\\n",
       " 0.0744837367 - 0.0923813049 i & -0.1080771604 + 0.0282360112 i & 0.1430995754 + 0.1760041274 i & 0.1450013824 & 0.0441133697 - 0.0806220364 i & -0.0048658705 + 0.1628526181 i & -0.0827947095 - 0.0332884429 i & 0.0091988176 - 0.0540620575 i  \\\\\n",
       " 0.0740247945 + 0.0133086998 i & -0.0485794848 - 0.0515016824 i & -0.0543250454 + 0.1331098641 i & 0.0441133697 + 0.0806220364 i & 0.0582470456 & -0.0920278098 + 0.0468387353 i & -0.0066797403 - 0.0561618333 i & 0.0328575075 - 0.0113325273 i  \\\\\n",
       " -0.106253922 - 0.0805534118 i & 0.0353389583 + 0.1204350983 i & 0.192870085 - 0.1666229203 i & -0.0048658705 - 0.1628526181 i & -0.0920278098 - 0.0468387353 i & 0.1830648195 & -0.0346082338 + 0.0941047059 i & -0.0610263689 - 0.0085171089 i  \\\\\n",
       " -0.0213213798 + 0.0698485128 i & 0.05522902 - 0.0409341803 i & -0.1221146366 - 0.0676452072 i & -0.0827947095 + 0.0332884429 i & -0.0066797403 + 0.0561618333 i & -0.0346082338 - 0.0941047059 i & 0.0549172995 & 0.0071587475 + 0.032980835 i  \\\\\n",
       " 0.0391684937 + 0.0219097586 i & -0.017383827 - 0.0385040173 i & -0.056542898 + 0.0645186079 i & 0.0091988176 + 0.0540620575 i & 0.0328575075 + 0.0113325273 i & -0.0610263689 + 0.0085171089 i & 0.0071587475 - 0.032980835 i & 0.0207399699  \\\\\n",
       " \\end{bmatrix}\n",
       "$$"
      ],
      "text/plain": [
       "<IPython.core.display.Latex object>"
      ]
     },
     "metadata": {},
     "output_type": "display_data"
    },
    {
     "data": {
      "text/latex": [
       "$$\n",
       "\n",
       "\\begin{bmatrix}\n",
       "0.2283415415 & 0.1303791968 - 0.0698068865 i & 0.0428644767 - 0.1474811252 i & -0.0909209606 + 0.1897136476 i & -0.0481576599 + 0.0514156706 i & 0.1392270918 - 0.1029586547 i & 0.0249375226 - 0.0718850671 i & 0.1356030543 - 0.1654058054 i  \\\\\n",
       " 0.1303791968 + 0.0698068865 i & 0.0957851832 & 0.0695617368 - 0.0711050424 i & -0.1099121987 + 0.0805276329 i & -0.0432156358 + 0.0146350835 i & 0.1109720963 - 0.0162241915 i & 0.0362150787 - 0.0334214548 i & 0.1279937124 - 0.0529883829 i  \\\\\n",
       " 0.0428644767 + 0.1474811252 i & 0.0695617368 + 0.0711050424 i & 0.1033015959 & -0.139599923 - 0.0231107722 i & -0.0422485272 - 0.021452251 i & 0.0926347196 + 0.0705964372 i & 0.0511103865 + 0.0026123066 i & 0.1322877478 + 0.0565331111 i  \\\\\n",
       " -0.0909209606 - 0.1897136476 i & -0.1099121987 - 0.0805276329 i & -0.139599923 + 0.0231107722 i & 0.1938232039 & 0.061893228 + 0.0195382896 i & -0.1409788278 - 0.0746783942 i & -0.0696540879 + 0.0079042602 i & -0.1914189522 - 0.0468022387 i  \\\\\n",
       " -0.0481576599 - 0.0514156706 i & -0.0432156358 - 0.0146350835 i & -0.0422485272 + 0.021452251 i & 0.061893228 - 0.0195382896 i & 0.0217338087 & -0.0525464579 - 0.0096355941 i & -0.0214457327 + 0.009545513 i & -0.0658433681 + 0.0043506519 i  \\\\\n",
       " 0.1392270918 + 0.1029586547 i & 0.1109720963 + 0.0162241915 i & 0.0926347196 - 0.0705964372 i & -0.1409788278 + 0.0746783942 i & -0.0525464579 + 0.0096355941 i & 0.1313149919 & 0.0476180045 - 0.0325863398 i & 0.1572625719 - 0.0397100815 i  \\\\\n",
       " 0.0249375226 + 0.0718850671 i & 0.0362150787 + 0.0334214548 i & 0.0511103865 - 0.0026123066 i & -0.0696540879 - 0.0079042602 i & -0.0214457327 - 0.009545513 i & 0.0476180045 + 0.0325863398 i & 0.025353875 & 0.0668814424 + 0.0246254956 i  \\\\\n",
       " 0.1356030543 + 0.1654058054 i & 0.1279937124 + 0.0529883829 i & 0.1322877478 - 0.0565331111 i & -0.1914189522 + 0.0468022387 i & -0.0658433681 - 0.0043506519 i & 0.1572625719 + 0.0397100815 i & 0.0668814424 - 0.0246254956 i & 0.2003457999  \\\\\n",
       " \\end{bmatrix}\n",
       "$$"
      ],
      "text/plain": [
       "<IPython.core.display.Latex object>"
      ]
     },
     "metadata": {},
     "output_type": "display_data"
    },
    {
     "data": {
      "text/latex": [
       "$$\n",
       "\n",
       "\\begin{bmatrix}\n",
       "0.0871188546 & 0.0508007899 + 0.0427518428 i & 0.1811818627 - 0.0402815809 i & 0.06825268 - 0.0567286164 i & -0.0304398158 - 0.017559343 i & -0.0093305015 - 0.1183400919 i & -0.0312468059 - 0.0258308565 i & 0.0732373715 + 0.1022791521 i  \\\\\n",
       " 0.0508007899 - 0.0427518428 i & 0.0506025973 & 0.0858834746 - 0.1124004061 i & 0.0119610981 - 0.0665732624 i & -0.0263669784 + 0.0046985205 i & -0.0635138498 - 0.0644277756 i & -0.0308966314 + 0.0002712458 i & 0.0928976694 + 0.0237012887 i  \\\\\n",
       " 0.1811818627 + 0.0402815809 i & 0.0858834746 + 0.1124004061 i & 0.3954307398 & 0.1681756046 - 0.0864206787 i & -0.0551869564 - 0.0505929331 i & 0.0353127732 - 0.2504271404 i & -0.0530407199 - 0.0681684057 i & 0.1050210944 + 0.2465739993 i  \\\\\n",
       " 0.06825268 + 0.0567286164 i & 0.0119610981 + 0.0665732624 i & 0.1681756046 + 0.0864206787 i & \\frac{300000 \\cdot 2^{\\frac{5}{7}} \\cdot 3^{\\frac{2}{5}} \\cdot 5^{\\frac{73}{105}} \\cdot 7^{\\frac{8}{35}}}{40353607} & -0.0124138658 - 0.0335780454 i & 0.0697488274 - 0.0987884299 i & -0.0076599893 - 0.0405837894 i & -0.0092231229 + 0.1278194146 i  \\\\\n",
       " -0.0304398158 + 0.017559343 i & -0.0263669784 - 0.0046985205 i & -0.0551869564 + 0.0505929331 i & -0.0124138658 + 0.0335780454 i & 0.0141750362 & 0.0271123057 + 0.0394680708 i & 0.0161241776 + 0.0027274593 i & -0.0462045425 - 0.0209754642 i  \\\\\n",
       " -0.0093305015 + 0.1183400919 i & -0.0635138498 + 0.0644277756 i & 0.0353127732 + 0.2504271404 i & 0.0697488274 + 0.0987884299 i & 0.0271123057 - 0.0394680708 i & 0.1617495509 & 0.0384345537 - 0.0396783802 i & -0.1467772472 + 0.0885296476 i  \\\\\n",
       " -0.0312468059 + 0.0258308565 i & -0.0308966314 - 0.0002712458 i & -0.0530407199 + 0.0681684057 i & -0.0076599893 + 0.0405837894 i & 0.0161241776 - 0.0027274593 i & 0.0384345537 + 0.0396783802 i & 0.0188661345 & -0.0565938573 - 0.0149693518 i  \\\\\n",
       " 0.0732373715 - 0.1022791521 i & 0.0928976694 - 0.0237012887 i & 0.1050210944 - 0.2465739993 i & -0.0092231229 - 0.1278194146 i & -0.0462045425 + 0.0209754642 i & -0.1467772472 - 0.0885296476 i & -0.0565938573 + 0.0149693518 i & 0.181645381  \\\\\n",
       " \\end{bmatrix}\n",
       "$$"
      ],
      "text/plain": [
       "<IPython.core.display.Latex object>"
      ]
     },
     "metadata": {},
     "output_type": "display_data"
    },
    {
     "data": {
      "text/latex": [
       "$$\n",
       "\n",
       "\\begin{bmatrix}\n",
       "0.0023640957 & -0.0138833546 - 0.0134000789 i & -0.0107673479 + 0.0066294296 i & -0.0105779939 - 0.0019590498 i & 0.015005781 + 0.0040705899 i & -0.0215884805 - 0.0246726076 i & -0.0040675136 + 0.0056706942 i & 0.0080107391 - 0.0167679319 i  \\\\\n",
       " -0.0138833546 + 0.0134000789 i & 0.1574850165 & 0.0256554882 - 0.0999629733 i & 0.0732243894 - 0.0484531021 i & -0.1111955009 + 0.0611503191 i & 0.266628555 + 0.022524984 i & -0.008255595 - 0.0563569664 i & 0.0479996133 + 0.1438772896 i  \\\\\n",
       " -0.0107673479 - 0.0066294296 i & 0.0256554882 + 0.0999629733 i & 0.0676305615 & 0.0426842106 + 0.0385855101 i & -0.0569294957 - 0.0606190468 i & 0.0291381458 + 0.1729108786 i & 0.0344274568 - 0.0144211771 i & -0.0835060276 + 0.0539062468 i  \\\\\n",
       " -0.0105779939 + 0.0019590498 i & 0.0732243894 + 0.0484531021 i & 0.0426842106 - 0.0385855101 i & 0.0489539543 & -0.0705155675 - 0.0057787858 i & 0.1170416602 + 0.0925063165 i & 0.0135007062 - 0.0287437735 i & -0.021948492 + 0.0816652728 i  \\\\\n",
       " 0.015005781 - 0.0040705899 i & -0.1111955009 - 0.0611503191 i & -0.0569294957 + 0.0606190468 i & -0.0705155675 + 0.0057787858 i & 0.1022560831 & -0.1795122253 - 0.1194342072 i & -0.016053981 + 0.0429975722 i & 0.021975431 - 0.120225399 i  \\\\\n",
       " -0.0215884805 + 0.0246726076 i & 0.266628555 - 0.022524984 i & 0.0291381458 - 0.1729108786 i & 0.1170416602 - 0.0925063165 i & -0.1795122253 + 0.1194342072 i & 0.4546347509 & -0.0220377608 - 0.0942338497 i & 0.101843982 + 0.2367247636 i  \\\\\n",
       " -0.0040675136 - 0.0056706942 i & -0.008255595 + 0.0563569664 i & 0.0344274568 + 0.0144211771 i & 0.0135007062 + 0.0287437735 i & -0.016053981 - 0.0429975722 i & -0.0220377608 + 0.0942338497 i & 0.0206004519 & -0.0540035689 + 0.0096346941 i  \\\\\n",
       " 0.0080107391 + 0.0167679319 i & 0.0479996133 - 0.1438772896 i & -0.0835060276 - 0.0539062468 i & -0.021948492 - 0.0816652728 i & 0.021975431 + 0.120225399 i & 0.101843982 - 0.2367247636 i & -0.0540035689 - 0.0096346941 i & 0.146075086  \\\\\n",
       " \\end{bmatrix}\n",
       "$$"
      ],
      "text/plain": [
       "<IPython.core.display.Latex object>"
      ]
     },
     "metadata": {},
     "output_type": "display_data"
    },
    {
     "data": {
      "text/latex": [
       "$$\n",
       "\n",
       "\\begin{bmatrix}\n",
       "0.0719191863 & -0.0429415052 + 0.0818072632 i & -0.1131385993 - 0.0322883306 i & -0.0149281844 + 0.0766530352 i & 0.0384906734 - 0.111441191 i & 0.1016751757 + 0.0337437543 i & 0.0950687601 - 0.0333500813 i & 0.0222339567 + 0.0474046321 i  \\\\\n",
       " -0.0429415052 - 0.0818072632 i & 0.1186943515 & 0.0308251791 + 0.1479725957 i & 0.0961052827 - 0.0287873502 i & -0.1497451075 + 0.0227565956 i & -0.0223250705 - 0.1358020851 i & -0.0946989933 - 0.0882269768 i & 0.0406467842 - 0.0535952311 i  \\\\\n",
       " -0.1131385993 + 0.0322883306 i & 0.0308251791 - 0.1479725957 i & 0.1924782474 & -0.0109295545 - 0.1272876357 i & -0.0105191798 + 0.1925925548 i & -0.1750981498 - 0.0074361159 i & -0.13458339 + 0.0951455848 i & -0.0562594679 - 0.0645918922 i  \\\\\n",
       " -0.0149281844 - 0.0766530352 i & 0.0961052827 + 0.0287873502 i & -0.0109295545 + 0.1272876357 i & 0.0847971009 & -0.1267659142 - 0.0178924757 i & 0.0148602267 - 0.1153717699 i & -0.0552785584 - 0.0944039164 i & 0.0459098121 - 0.0335371614 i  \\\\\n",
       " 0.0384906734 + 0.111441191 i & -0.1497451075 - 0.0227565956 i & -0.0105191798 - 0.1925925548 i & -0.1267659142 + 0.0178924757 i & 0.1932818165 & 0.0021288035 + 0.1756085288 i & 0.1025572417 + 0.1294634887 i & -0.0615556004 + 0.0598229075 i  \\\\\n",
       " 0.1016751757 - 0.0337437543 i & -0.0223250705 + 0.1358020851 i & -0.1750981498 + 0.0074361159 i & 0.0148602267 + 0.1153717699 i & 0.0021288035 - 0.1756085288 i & 0.1595746963 & 0.1187551803 - 0.0917537114 i & 0.0536748525 + 0.0565859729 i  \\\\\n",
       " 0.0950687601 + 0.0333500813 i & -0.0946989933 + 0.0882269768 i & -0.13458339 - 0.0951455848 i & -0.0552785584 + 0.0944039164 i & 0.1025572417 - 0.1294634887 i & 0.1187551803 + 0.0917537114 i & 0.1411347596 & 0.0074084036 + 0.0729736268 i  \\\\\n",
       " 0.0222339567 - 0.0474046321 i & 0.0406467842 + 0.0535952311 i & -0.0562594679 + 0.0645918922 i & 0.0459098121 + 0.0335371614 i & -0.0615556004 - 0.0598229075 i & 0.0536748525 - 0.0565859729 i & 0.0074084036 - 0.0729736268 i & 0.0381198414  \\\\\n",
       " \\end{bmatrix}\n",
       "$$"
      ],
      "text/plain": [
       "<IPython.core.display.Latex object>"
      ]
     },
     "metadata": {},
     "output_type": "display_data"
    }
   ],
   "source": [
    "density_matrices = []\n",
    "\n",
    "# converts the resultant pure states into their density matrices\n",
    "for i in final_wave_functions: \n",
    "\tcoupled_density_matrices = [] \n",
    "\n",
    "\tfor j in range(len(i)): \n",
    "\t\tcoupled_density_matrices.append(DensityMatrix(i[j][0]))\n",
    "\n",
    "\tdensity_matrices.append(coupled_density_matrices)\n",
    "\n",
    "for i in density_matrices: \n",
    "\tdisplay(i[0].draw('latex'))"
   ]
  },
  {
   "cell_type": "code",
   "execution_count": 26,
   "metadata": {},
   "outputs": [
    {
     "data": {
      "text/plain": [
       "[[0.4360783793535708, 0.10021947255248093, 0.03528560592296333],\n",
       " [0.1529358650574516, 0.019946312419199325, 0.14879799285992024],\n",
       " [0.2099369243482714, 0.1510649824957417, 0.07101475543711573],\n",
       " [0.16624883547057392, 0.2788196190754988, 0.07181584015280396],\n",
       " [0.10279634614624643, 0.00014320901595617555, 0.03730981240197038],\n",
       " [0.01133668050825036, 0.18812563115378841, 0.36431994469903395],\n",
       " [0.15598012551756235, 0.012976470237065262, 0.12883536265349155],\n",
       " [0.18425831518146074, 0.39028608001611176, 0.15288419294890948],\n",
       " [0.013519826534545197, 0.35181896170881, 0.12653235416103928],\n",
       " [0.019023106075192153, 0.1812076440157567, 0.16734467303412215],\n",
       " [0.05928877820035931, 0.017023157166327435, 0.03441148868515575],\n",
       " [0.1416581504910472, 0.0205176863704947, 0.004575291429624841],\n",
       " [0.12229631937601723, 0.36942682210014194, 0.15280109797585434],\n",
       " [0.09897457861231425, 0.25389551972247915, 0.3867340161050599],\n",
       " [0.05938148940991792, 0.03638820561203585, 0.07395147201335876],\n",
       " [0.08180845348912254, 0.005469055816636106, 0.00643056310216885],\n",
       " [0.01323210789164888, 0.19032026682563372, 0.11109686427037593],\n",
       " [0.2806877462417576, 0.010420697400891759, 0.42151315289006014],\n",
       " [0.028905443644190204, 0.06283400279976571, 0.11596244790723607],\n",
       " [0.051323005025880865, 0.1099113873796409, 0.14586788871325285],\n",
       " [0.057215997246717325, 0.17310997024573102, 0.06198665253425291],\n",
       " [0.033142618853396526, 0.10821511826250664, 0.14412383993885164],\n",
       " [0.18158180759507406, 0.0331898862687079, 0.08658999208825448],\n",
       " [0.18912490939077123, 0.02039667370663985, 0.12863898501464877],\n",
       " [0.007477928652690432, 0.4808013125104961, 0.07793712710995675],\n",
       " [0.000196557859391487, 0.0975144849724663, 0.059866985733299155],\n",
       " [0.44370403085691973, 0.20837240958445363, 0.12956272411325243],\n",
       " [0.15262782013731194, 0.12354795947749418, 0.027497630247443488],\n",
       " [0.010858657483882879, 0.15581836101407665, 0.19631651228740146],\n",
       " [0.1581075383651369, 0.2882292353677645, 0.3466125402103891],\n",
       " [0.09952644623220379, 0.11568593629983796, 0.06367248548499684],\n",
       " [0.42133088800328455, 0.33826275273235806, 0.05054167207373006]]"
      ]
     },
     "execution_count": 26,
     "metadata": {},
     "output_type": "execute_result"
    }
   ],
   "source": [
    "# generating a new seed based on the original seeds generated \n",
    "# for the randomized circuits\n",
    "combined_string = ''.join(map(str, seeds))\n",
    "hash_object = hashlib.sha256(combined_string.encode())\n",
    "hex_dig = hash_object.hexdigest()[:5]\n",
    "seed = int(hex_dig, 16)\n",
    "\n",
    "# generate a temporary randomized statevector whhich we will \n",
    "# use to calculate fidelities for each of the pure states\n",
    "randomized_pure_state = random_statevector(dims = 2**num_qubits, seed = seed)\n",
    "randomized_density_matrix = DensityMatrix(randomized_pure_state)\n",
    "\n",
    "fidelities = []\n",
    "\n",
    "def calculate_fidelitiy(rho, sigma): \n",
    "\n",
    "    sqrt_rho = sqrtm(rho)\n",
    "    product = np.dot(sqrt_rho, np.dot(sigma, sqrt_rho))\n",
    "    sqrt_product = sqrtm(product)\n",
    "    trace = np.trace(sqrt_product)\n",
    "    \n",
    "    return np.real(trace)**2\n",
    "\n",
    "# calculate all the fidelities and store them in a list\n",
    "for coupled_states in density_matrices: \n",
    "    coupled_fidelities = []\n",
    "\n",
    "    for matrix in coupled_states: \n",
    "\n",
    "        fidelity = calculate_fidelitiy(matrix, randomized_density_matrix)\n",
    "        coupled_fidelities.append(fidelity)\n",
    "\n",
    "    fidelities.append(coupled_fidelities)\n",
    "\n",
    "fidelities"
   ]
  },
  {
   "cell_type": "code",
   "execution_count": 31,
   "metadata": {},
   "outputs": [
    {
     "data": {
      "text/latex": [
       "$$\n",
       "\n",
       "\\begin{bmatrix}\n",
       "0.2563778821 & 0.0708977166 - 0.1083067918 i & 0.1722845959 - 0.0088852786 i & 0.0539418701 + 0.0009519068 i & -0.0245393058 + 0.0072566717 i & -0.0922234235 + 0.1153920269 i & -0.1144728802 + 0.0082863566 i & -0.1547243022 - 0.0254121338 i  \\\\\n",
       " 0.0708977166 + 0.1083067918 i & 0.0785101625 & 0.0478484146 + 0.0656860569 i & 0.0277238774 + 0.0204025523 i & -0.0079696304 - 0.0008282607 i & -0.0664058141 - 0.007364911 i & -0.0323792123 - 0.0457481381 i & -0.0476731787 - 0.0799250969 i  \\\\\n",
       " 0.1722845959 + 0.0088852786 i & 0.0478484146 - 0.0656860569 i & 0.2758388031 & 0.063181399 - 0.0808534248 i & -0.043114078 + 0.0052881714 i & -0.0578181291 + 0.0927269723 i & -0.0936168868 + 0.0593579548 i & -0.1414044749 - 0.025441538 i  \\\\\n",
       " 0.0539418701 - 0.0009519068 i & 0.0277238774 - 0.0204025523 i & 0.063181399 + 0.0808534248 i & 0.0808295037 & -0.0106180981 - 0.0030458219 i & -0.0178863051 + 0.0345448057 i & -0.0563616372 + 0.0049811557 i & -0.0555993226 - 0.0409085706 i  \\\\\n",
       " -0.0245393058 - 0.0072566717 i & -0.0079696304 + 0.0008282607 i & -0.043114078 - 0.0052881714 i & -0.0106180981 + 0.0030458219 i & 0.0106082609 & 0.0117950498 - 0.0154355481 i & 0.0150186325 - 0.0072346883 i & 0.0142194117 + 0.0153667451 i  \\\\\n",
       " -0.0922234235 - 0.1153920269 i & -0.0664058141 + 0.007364911 i & -0.0578181291 - 0.0927269723 i & -0.0178863051 - 0.0345448057 i & 0.0117950498 + 0.0154355481 i & 0.0919888633 & 0.0511699916 + 0.0540106706 i & 0.0322068587 + 0.0784063385 i  \\\\\n",
       " -0.1144728802 - 0.0082863566 i & -0.0323792123 + 0.0457481381 i & -0.0936168868 - 0.0593579548 i & -0.0563616372 - 0.0049811557 i & 0.0150186325 + 0.0072346883 i & 0.0511699916 - 0.0540106706 i & 0.0740852374 & 0.0694211731 + 0.0314366484 i  \\\\\n",
       " -0.1547243022 + 0.0254121338 i & -0.0476731787 + 0.0799250969 i & -0.1414044749 + 0.025441538 i & -0.0555993226 + 0.0409085706 i & 0.0142194117 - 0.0153667451 i & 0.0322068587 - 0.0784063385 i & 0.0694211731 - 0.0314366484 i & 0.1317612869  \\\\\n",
       " \\end{bmatrix}\n",
       "$$"
      ],
      "text/plain": [
       "<IPython.core.display.Latex object>"
      ]
     },
     "metadata": {},
     "output_type": "display_data"
    },
    {
     "data": {
      "text/latex": [
       "$$\n",
       "\n",
       "\\begin{bmatrix}\n",
       "0.0578465545 & 0.0416631669 + 0.0195828114 i & -0.010162442 + 0.0129874954 i & -0.0588903174 + 0.0638905185 i & -0.0100069455 + 0.0453054454 i & 0.0292714974 + 0.0868365067 i & 0.049178138 + 0.0165746335 i & -0.0301475645 - 0.0510595275 i  \\\\\n",
       " 0.0416631669 - 0.0195828114 i & 0.1503405804 & 0.0170390073 + 0.0130330323 i & 0.0394506801 + 0.0836281328 i & -0.0695009144 - 0.0759574749 i & 0.0433494517 + 0.0253956588 i & 0.0971342693 - 0.0349148848 i & -0.0279169619 - 0.0157621235 i  \\\\\n",
       " -0.010162442 - 0.0129874954 i & 0.0170390073 - 0.0130330323 i & 0.0128132669 & 0.0326136413 + 0.0077391899 i & 0.006690036 - 0.0352030111 i & 0.0247093428 - 0.0357263325 i & 0.0046118768 - 0.0183696897 i & 0.0008085893 + 0.0276053919 i  \\\\\n",
       " -0.0588903174 - 0.0638905185 i & 0.0394506801 - 0.0836281328 i & 0.0326136413 - 0.0077391899 i & 0.1684067668 & -0.0093385767 - 0.0816658215 i & 0.0458101779 - 0.1357251497 i & -0.0059809137 - 0.0963451535 i & -0.0150778261 + 0.0804433664 i  \\\\\n",
       " -0.0100069455 - 0.0453054454 i & -0.0695009144 + 0.0759574749 i & 0.006690036 + 0.0352030111 i & -0.0093385767 + 0.0816658215 i & 0.2383183252 & 0.136285329 - 0.0181606893 i & -0.006741998 + 0.0358128535 i & -0.0652882893 + 0.0655491719 i  \\\\\n",
       " 0.0292714974 - 0.0868365067 i & 0.0433494517 - 0.0253956588 i & 0.0247093428 + 0.0357263325 i & 0.0458101779 + 0.1357251497 i & 0.136285329 + 0.0181606893 i & 0.1997728105 & 0.0508461565 - 0.0480689392 i & -0.102315558 + 0.0566223102 i  \\\\\n",
       " 0.049178138 - 0.0165746335 i & 0.0971342693 + 0.0349148848 i & 0.0046118768 + 0.0183696897 i & -0.0059809137 + 0.0963451535 i & -0.006741998 - 0.0358128535 i & 0.0508461565 + 0.0480689392 i & 0.0824964962 & -0.0357636234 - 0.0281400918 i  \\\\\n",
       " -0.0301475645 + 0.0510595275 i & -0.0279169619 + 0.0157621235 i & 0.0008085893 - 0.0276053919 i & -0.0150778261 - 0.0804433664 i & -0.0652882893 - 0.0655491719 i & -0.102315558 - 0.0566223102 i & -0.0357636234 + 0.0281400918 i & 0.0900051996  \\\\\n",
       " \\end{bmatrix}\n",
       "$$"
      ],
      "text/plain": [
       "<IPython.core.display.Latex object>"
      ]
     },
     "metadata": {},
     "output_type": "display_data"
    },
    {
     "data": {
      "text/latex": [
       "$$\n",
       "\n",
       "\\begin{bmatrix}\n",
       "0.0599658195 & -0.0483503911 + 0.0033861643 i & 0.0008082249 - 0.0070456945 i & 0.0154575021 + 0.0488600691 i & 0.0291412698 - 0.0665555922 i & 0.0533595614 - 0.007528276 i & 0.0599928888 + 0.0558750384 i & -0.0680035778 - 0.0050492142 i  \\\\\n",
       " -0.0483503911 - 0.0033861643 i & 0.0919551389 & 0.0230778935 + 0.0151474935 i & -0.0177776152 + 0.0209977477 i & -0.0225108777 + 0.063631767 i & -0.0625521702 + 0.006405594 i & -0.0526563861 - 0.0058781327 i & 0.0081532444 + 0.0287064124 i  \\\\\n",
       " 0.0008082249 + 0.0070456945 i & 0.0230778935 - 0.0151474935 i & 0.1685182724 & 0.0272099648 + 0.0510553843 i & 0.0885879053 + 0.0199213241 i & 0.0368013669 + 0.0455552328 i & 0.0404289972 + 0.1054721697 i & -0.0747374623 + 0.0443613812 i  \\\\\n",
       " 0.0154575021 - 0.0488600691 i & -0.0177776152 - 0.0209977477 i & 0.0272099648 - 0.0510553843 i & 0.1226695159 & -0.0198916468 - 0.055455076 i & 0.0257768394 - 0.0234613892 i & 0.1278901652 - 0.0249279007 i & 0.0045219805 + 0.1174703639 i  \\\\\n",
       " 0.0291412698 + 0.0665555922 i & -0.0225108777 - 0.063631767 i & 0.0885879053 - 0.0199213241 i & -0.0198916468 + 0.055455076 i & 0.1294852073 & 0.0574652146 + 0.073356602 i & 0.0028476666 + 0.1334651096 i & -0.0521307197 - 0.0441220508 i  \\\\\n",
       " 0.0533595614 + 0.007528276 i & -0.0625521702 - 0.006405594 i & 0.0368013669 - 0.0455552328 i & 0.0257768394 + 0.0234613892 i & 0.0574652146 - 0.073356602 i & 0.0753130177 & 0.080558073 + 0.0545051103 i & -0.0500191242 + 0.0046989984 i  \\\\\n",
       " 0.0599928888 - 0.0558750384 i & -0.0526563861 + 0.0058781327 i & 0.0404289972 - 0.1054721697 i & 0.1278901652 + 0.0249279007 i & 0.0028476666 - 0.1334651096 i & 0.080558073 - 0.0545051103 i & 0.1969348232 & -0.0476951498 + 0.1303993343 i  \\\\\n",
       " -0.0680035778 + 0.0050492142 i & 0.0081532444 - 0.0287064124 i & -0.0747374623 - 0.0443613812 i & 0.0045219805 - 0.1174703639 i & -0.0521307197 + 0.0441220508 i & -0.0500191242 - 0.0046989984 i & -0.0476951498 - 0.1303993343 i & 0.1551582051  \\\\\n",
       " \\end{bmatrix}\n",
       "$$"
      ],
      "text/plain": [
       "<IPython.core.display.Latex object>"
      ]
     },
     "metadata": {},
     "output_type": "display_data"
    },
    {
     "data": {
      "text/latex": [
       "$$\n",
       "\n",
       "\\begin{bmatrix}\n",
       "0.2284026476 & 0.0890852506 - 0.0355663864 i & -0.0002829785 + 0.054303267 i & -0.1162742953 - 0.03261265 i & 0.1114348062 + 0.0263607057 i & -0.0819979896 + 0.029445689 i & -0.027578505 + 0.1360418484 i & -0.0203568862 - 0.0316331119 i  \\\\\n",
       " 0.0890852506 + 0.0355663864 i & 0.1259131394 & 0.0056131737 + 0.0374563889 i & -0.0904489239 - 0.0305725442 i & 0.0855696373 + 0.0946264395 i & -0.0073429789 - 0.0040926824 i & -0.0051322683 + 0.0273493125 i & -0.0274170496 - 0.0241788599 i  \\\\\n",
       " -0.0002829785 - 0.054303267 i & 0.0056131737 - 0.0374563889 i & 0.0313125403 & -0.0240446704 + 0.033538701 i & 0.0144613966 - 0.0382385373 i & 0.0003179108 + 0.0342303075 i & 0.0655606187 + 0.0138669258 i & -0.0086994222 - 0.0174395662 i  \\\\\n",
       " -0.1162742953 + 0.03261265 i & -0.0904489239 + 0.0305725442 i & -0.0240446704 - 0.033538701 i & 0.0995019708 & -0.0756807318 - 0.0315639767 i & 0.0213781836 - 0.0414937976 i & -0.0465659292 - 0.0613989679 i & 0.0337190404 + 0.0357781703 i  \\\\\n",
       " 0.1114348062 - 0.0263607057 i & 0.0855696373 - 0.0946264395 i & 0.0144613966 + 0.0382385373 i & -0.0756807318 + 0.0315639767 i & 0.161190508 & -0.0351800503 - 0.0319757266 i & -0.0481506756 + 0.0574550653 i & -0.0101139659 + 0.0300326596 i  \\\\\n",
       " -0.0819979896 - 0.029445689 i & -0.0073429789 + 0.0040926824 i & 0.0003179108 - 0.0342303075 i & 0.0213781836 + 0.0414937976 i & -0.0351800503 + 0.0319757266 i & 0.0862483912 & 0.0351075921 - 0.1183062821 i & -0.0497082672 + 0.024878794 i  \\\\\n",
       " -0.027578505 - 0.1360418484 i & -0.0051322683 - 0.0273493125 i & 0.0655606187 - 0.0138669258 i & -0.0465659292 + 0.0613989679 i & -0.0481506756 - 0.0574550653 i & 0.0351075921 + 0.1183062821 i & 0.2014718198 & -0.0422987889 - 0.0632281346 i  \\\\\n",
       " -0.0203568862 + 0.0316331119 i & -0.0274170496 + 0.0241788599 i & -0.0086994222 + 0.0174395662 i & 0.0337190404 - 0.0357781703 i & -0.0101139659 - 0.0300326596 i & -0.0497082672 - 0.024878794 i & -0.0422987889 + 0.0632281346 i & 0.0659589829  \\\\\n",
       " \\end{bmatrix}\n",
       "$$"
      ],
      "text/plain": [
       "<IPython.core.display.Latex object>"
      ]
     },
     "metadata": {},
     "output_type": "display_data"
    },
    {
     "data": {
      "text/latex": [
       "$$\n",
       "\n",
       "\\begin{bmatrix}\n",
       "0.0507834361 & 0.0202066194 + 0.0770151414 i & 0.0612446067 + 0.0024449824 i & 0.0908588791 + 0.0108738032 i & 0.0075337795 + 0.0125580514 i & -0.0338555644 + 0.0579555785 i & 0.0500650508 - 0.0251382599 i & 0.0796785075 - 0.0201040549 i  \\\\\n",
       " 0.0202066194 - 0.0770151414 i & 0.1548250839 & 0.0020663523 - 0.0980009223 i & 0.062370414 - 0.1257683037 i & 0.0555460636 - 0.0138002388 i & 0.086083479 + 0.0802217237 i & -0.0718609984 - 0.0832004814 i & -0.0063503879 - 0.1816714242 i  \\\\\n",
       " 0.0612446067 - 0.0024449824 i & 0.0020663523 + 0.0980009223 i & 0.0987343332 & 0.10042565 + 0.0037237728 i & -0.018391555 + 0.0276644853 i & -0.0489894731 + 0.0691533334 i & 0.1059088978 - 0.0463005992 i & 0.1119848634 + 0.0164062 i  \\\\\n",
       " 0.0908588791 - 0.0108738032 i & 0.062370414 + 0.1257683037 i & 0.10042565 - 0.0037237728 i & 0.1702354359 & 0.0250713898 + 0.009583694 i & -0.0428689319 + 0.1100539338 i & 0.067844562 - 0.0408946744 i & 0.1220223748 - 0.0683043141 i  \\\\\n",
       " 0.0075337795 - 0.0125580514 i & 0.0555460636 + 0.0138002388 i & -0.018391555 - 0.0276644853 i & 0.0250713898 - 0.009583694 i & 0.0438558737 & 0.02061738 + 0.0262868494 i & -0.0597164197 - 0.0258354978 i & 0.0115569856 - 0.0838291285 i  \\\\\n",
       " -0.0338555644 - 0.0579555785 i & 0.086083479 - 0.0802217237 i & -0.0489894731 - 0.0691533334 i & -0.0428689319 - 0.1100539338 i & 0.02061738 - 0.0262868494 i & 0.0945992596 & -0.0822269968 - 0.0292570749 i & -0.0893515708 - 0.0963977752 i  \\\\\n",
       " 0.0500650508 + 0.0251382599 i & -0.0718609984 + 0.0832004814 i & 0.1059088978 + 0.0463005992 i & 0.067844562 + 0.0408946744 i & -0.0597164197 + 0.0258354978 i & -0.0822269968 + 0.0292570749 i & 0.1587512347 & 0.0968269063 + 0.1148671364 i  \\\\\n",
       " 0.0796785075 + 0.0201040549 i & -0.0063503879 + 0.1816714242 i & 0.1119848634 - 0.0164062 i & 0.1220223748 + 0.0683043141 i & 0.0115569856 + 0.0838291285 i & -0.0893515708 + 0.0963977752 i & 0.0968269063 - 0.1148671364 i & 0.2282153429  \\\\\n",
       " \\end{bmatrix}\n",
       "$$"
      ],
      "text/plain": [
       "<IPython.core.display.Latex object>"
      ]
     },
     "metadata": {},
     "output_type": "display_data"
    },
    {
     "data": {
      "text/latex": [
       "$$\n",
       "\n",
       "\\begin{bmatrix}\n",
       "0.123339524 & -0.0151540515 - 0.1250793179 i & 0.0316249783 + 0.0395671456 i & -0.0323865567 + 0.104649302 i & -0.0545091178 + 0.0690548449 i & -0.0276133367 - 0.0312868525 i & -0.0307141602 + 0.0678073577 i & 0.0179047884 - 0.055166446 i  \\\\\n",
       " -0.0151540515 + 0.1250793179 i & 0.1640933089 & -0.0947587813 + 0.0352236855 i & -0.0820109689 - 0.0104268198 i & -0.0464968001 - 0.0685234993 i & 0.0852190496 + 0.0069093349 i & -0.087637885 - 0.0790779844 i & 0.084167364 + 0.0824541561 i  \\\\\n",
       " 0.0316249783 - 0.0395671456 i & -0.0947587813 - 0.0352236855 i & 0.1086687495 & 0.006039527 - 0.033600463 i & -0.0197315436 + 0.0420817907 i & -0.0826541558 - 0.0624350071 i & 0.038794052 + 0.092521079 i & -0.0427840769 - 0.1087497684 i  \\\\\n",
       " -0.0323865567 - 0.104649302 i & -0.0820109689 + 0.0104268198 i & 0.006039527 + 0.033600463 i & 0.1626333982 & 0.0728262545 + 0.0059373913 i & 0.048793348 - 0.0023984189 i & 0.0094403111 + 0.0103798341 i & 0.0226451839 + 0.0028521337 i  \\\\\n",
       " -0.0545091178 - 0.0690548449 i & -0.0464968001 + 0.0685234993 i & -0.0197315436 - 0.0420817907 i & 0.0728262545 - 0.0059373913 i & 0.0730758898 & 0.0123362677 + 0.0525124318 i & 0.0467885042 - 0.0357480651 i & -0.0321022524 + 0.0454386433 i  \\\\\n",
       " -0.0276133367 + 0.0312868525 i & 0.0852190496 - 0.0069093349 i & -0.0826541558 + 0.0624350071 i & 0.048793348 + 0.0023984189 i & 0.0123362677 - 0.0525124318 i & 0.1164517844 & -0.0790979247 - 0.0585530996 i & 0.1032160174 + 0.0720973037 i  \\\\\n",
       " -0.0307141602 - 0.0678073577 i & -0.087637885 + 0.0790779844 i & 0.038794052 - 0.092521079 i & 0.0094403111 - 0.0103798341 i & 0.0467885042 + 0.0357480651 i & -0.0790979247 + 0.0585530996 i & 0.1047350579 & -0.1183935267 + 0.0009464846 i  \\\\\n",
       " 0.0179047884 + 0.055166446 i & 0.084167364 - 0.0824541561 i & -0.0427840769 + 0.1087497684 i & 0.0226451839 - 0.0028521337 i & -0.0321022524 - 0.0454386433 i & 0.1032160174 - 0.0720973037 i & -0.1183935267 - 0.0009464846 i & 0.1470022874  \\\\\n",
       " \\end{bmatrix}\n",
       "$$"
      ],
      "text/plain": [
       "<IPython.core.display.Latex object>"
      ]
     },
     "metadata": {},
     "output_type": "display_data"
    },
    {
     "data": {
      "text/latex": [
       "$$\n",
       "\n",
       "\\begin{bmatrix}\n",
       "0.0368421434 & 0.0193321296 + 0.0135363014 i & 0.0200258475 + 0.0220608032 i & 0.0357670859 + 0.0396775705 i & -0.0231339818 + 0.0193109015 i & 0.0033597928 + 0.0170099609 i & -0.0296175208 - 0.0175419578 i & -0.0109486891 - 0.0313245801 i  \\\\\n",
       " 0.0193321296 - 0.0135363014 i & \\frac{2^{\\frac{892}{929}} \\cdot 3^{\\frac{873}{929}} \\cdot 5^{\\frac{723}{929}} \\cdot 7^{\\frac{517}{929}}}{315} & 0.2090503741 - 0.1353475095 i & 0.048449777 - 0.0020365893 i & -0.0158738864 - 0.0217379433 i & -0.0400447475 + 0.009762294 i & -0.081207147 - 0.1122765816 i & -0.0299747416 - 0.0855336817 i  \\\\\n",
       " 0.0200258475 - 0.0220608032 i & 0.2090503741 + 0.1353475095 i & 0.3888077216 & 0.0698194885 - 0.0238319081 i & 0.0158037738 - 0.0260708086 i & -0.039302738 - 0.0373422152 i & 0.0051513766 - 0.1589599947 i & 0.026770229 - 0.0838357364 i  \\\\\n",
       " 0.0357670859 - 0.0396775705 i & 0.048449777 + 0.0020365893 i & 0.0698194885 + 0.0238319081 i & 0.1055565777 & -0.0061967782 + 0.0344321094 i & 0.0234808308 + 0.0163916693 i & -0.0620194893 + 0.0050244207 i & -0.0638671858 - 0.0212224246 i  \\\\\n",
       " -0.0231339818 - 0.0193109015 i & -0.0158738864 + 0.0217379433 i & 0.0158037738 + 0.0260708086 i & -0.0061967782 - 0.0344321094 i & 0.0375478281 & 0.006859429 - 0.0245949416 i & 0.0441257126 + 0.0156271887 i & 0.0135141884 + 0.0217727373 i  \\\\\n",
       " 0.0033597928 - 0.0170099609 i & -0.0400447475 - 0.009762294 i & -0.039302738 + 0.0373422152 i & 0.0234808308 - 0.0163916693 i & 0.006859429 + 0.0245949416 i & 0.0252972609 & 0.0022176035 + 0.0509060682 i & -0.0170987094 + 0.0303089901 i  \\\\\n",
       " -0.0296175208 + 0.0175419578 i & -0.081207147 + 0.1122765816 i & 0.0051513766 + 0.1589599947 i & -0.0620194893 - 0.0050244207 i & 0.0441257126 - 0.0156271887 i & 0.0022176035 - 0.0509060682 i & 0.1427206448 & 0.0934444139 + 0.0381974195 i  \\\\\n",
       " -0.0109486891 + 0.0313245801 i & -0.0299747416 + 0.0855336817 i & 0.026770229 + 0.0838357364 i & -0.0638671858 + 0.0212224246 i & 0.0135141884 - 0.0217727373 i & -0.0170987094 - 0.0303089901 i & 0.0934444139 - 0.0381974195 i & 0.084012233  \\\\\n",
       " \\end{bmatrix}\n",
       "$$"
      ],
      "text/plain": [
       "<IPython.core.display.Latex object>"
      ]
     },
     "metadata": {},
     "output_type": "display_data"
    },
    {
     "data": {
      "text/latex": [
       "$$\n",
       "\n",
       "\\begin{bmatrix}\n",
       "0.1359987491 & -0.0576029259 + 0.0213699628 i & -0.0774969265 + 0.0219143979 i & 0.0032465626 - 0.0373700313 i & 0.0139065702 + 0.0306179542 i & -0.0790394086 - 0.0111673284 i & -0.0659160624 + 0.0448661034 i & -0.0543436605 + 0.0614525397 i  \\\\\n",
       " -0.0576029259 - 0.0213699628 i & 0.0679880474 & -0.0136673123 - 0.026028807 i & 0.051662916 + 0.0341905116 i & -0.01475958 - 0.0376159764 i & 0.063288052 + 0.0180402258 i & 0.0279257121 - 0.0286055687 i & 0.0557029694 - 0.0203421377 i  \\\\\n",
       " -0.0774969265 - 0.0219143979 i & -0.0136673123 + 0.026028807 i & 0.1621158798 & -0.1441746088 + 0.0148544957 i & 0.0058267879 + 0.0130873484 i & -0.0253655581 + 0.0105596836 i & 0.0692550587 + 0.0662013367 i & -0.0016126287 - 0.0193840005 i  \\\\\n",
       " 0.0032465626 + 0.0373700313 i & 0.051662916 - 0.0341905116 i & -0.1441746088 - 0.0148544957 i & 0.2027420883 & -0.0121028346 - 0.0640973858 i & 0.1165962052 - 0.0108564758 i & -0.0839551238 - 0.1381945027 i & 0.0495793586 - 0.0202415607 i  \\\\\n",
       " 0.0139065702 - 0.0306179542 i & -0.01475958 + 0.0376159764 i & 0.0058267879 - 0.0130873484 i & -0.0121028346 + 0.0640973858 i & 0.0510375223 & -0.0137376714 + 0.0705123466 i & 0.0444387416 - 0.0255446283 i & 0.008137988 + 0.0499236699 i  \\\\\n",
       " -0.0790394086 + 0.0111673284 i & 0.063288052 - 0.0180402258 i & -0.0253655581 - 0.0105596836 i & 0.1165962052 + 0.0108564758 i & -0.0137376714 - 0.0705123466 i & 0.1264983208 & -0.0310700758 - 0.1015623365 i & 0.071632518 - 0.0460831937 i  \\\\\n",
       " -0.0659160624 - 0.0448661034 i & 0.0279257121 + 0.0286055687 i & 0.0692550587 - 0.0662013367 i & -0.0839551238 + 0.1381945027 i & 0.0444387416 + 0.0255446283 i & -0.0310700758 + 0.1015623365 i & 0.1771927962 & 0.0176441565 + 0.0304529981 i  \\\\\n",
       " -0.0543436605 - 0.0614525397 i & 0.0557029694 + 0.0203421377 i & -0.0016126287 + 0.0193840005 i & 0.0495793586 + 0.0202415607 i & 0.008137988 - 0.0499236699 i & 0.071632518 + 0.0460831937 i & 0.0176441565 - 0.0304529981 i & 0.0764265962  \\\\\n",
       " \\end{bmatrix}\n",
       "$$"
      ],
      "text/plain": [
       "<IPython.core.display.Latex object>"
      ]
     },
     "metadata": {},
     "output_type": "display_data"
    },
    {
     "data": {
      "text/latex": [
       "$$\n",
       "\n",
       "\\begin{bmatrix}\n",
       "0.1085599621 & 0.0793902193 + 0.0485104024 i & 0.0973743394 + 0.1437155975 i & 0.0279500955 + 0.0382798882 i & -0.0463975363 - 0.0214890791 i & -0.0957876313 + 0.0146981807 i & 0.042794485 - 0.0322799346 i & 0.0251861147 + 0.0182467099 i  \\\\\n",
       " 0.0793902193 - 0.0485104024 i & 0.0956163549 & 0.1212168076 + 0.0380950274 i & 0.0276100369 + 0.0418930922 i & -0.0492052813 + 0.0060950627 i & -0.0338936269 + 0.0414890253 i & 0.0251730094 - 0.0162153291 i & 0.0222659633 + 0.0151269143 i  \\\\\n",
       " 0.0973743394 - 0.1437155975 i & 0.1212168076 - 0.0380950274 i & 0.338247069 & 0.0425788101 - 0.0569496644 i & -0.0686397315 + 0.0152400137 i & -0.0835457561 + 0.2162825859 i & -0.0652547341 - 0.0955213884 i & 0.024370587 - 0.0463409394 i  \\\\\n",
       " 0.0279500955 - 0.0382798882 i & 0.0276100369 - 0.0418930922 i & 0.0425788101 + 0.0569496644 i & 0.0908052345 & 0.0075600746 + 0.0211128143 i & -0.08242521 - 0.0192826695 i & 0.0399099916 - 0.0714104311 i & 0.052596419 - 0.0110004584 i  \\\\\n",
       " -0.0463975363 + 0.0214890791 i & -0.0492052813 - 0.0060950627 i & -0.0686397315 - 0.0152400137 i & 0.0075600746 - 0.0211128143 i & 0.0498856206 & -0.0009782262 - 0.037589038 i & -0.0128846012 - 0.0069939355 i & 0.0042184572 - 0.0146583786 i  \\\\\n",
       " -0.0957876313 - 0.0146981807 i & -0.0338936269 - 0.0414890253 i & -0.0835457561 - 0.2162825859 i & -0.08242521 + 0.0192826695 i & -0.0009782262 + 0.037589038 i & 0.1920364902 & -0.0351324494 + 0.1009119013 i & -0.0519013269 + 0.0202211761 i  \\\\\n",
       " 0.042794485 + 0.0322799346 i & 0.0251730094 + 0.0162153291 i & -0.0652547341 + 0.0955213884 i & 0.0399099916 + 0.0714104311 i & -0.0128846012 + 0.0069939355 i & -0.0351324494 - 0.1009119013 i & 0.0906730881 & 0.0302113867 + 0.0417482557 i  \\\\\n",
       " 0.0251861147 - 0.0182467099 i & 0.0222659633 - 0.0151269143 i & 0.024370587 + 0.0463409394 i & 0.052596419 + 0.0110004584 i & 0.0042184572 + 0.0146583786 i & -0.0519013269 - 0.0202211761 i & 0.0302113867 - 0.0417482557 i & 0.0341761807  \\\\\n",
       " \\end{bmatrix}\n",
       "$$"
      ],
      "text/plain": [
       "<IPython.core.display.Latex object>"
      ]
     },
     "metadata": {},
     "output_type": "display_data"
    },
    {
     "data": {
      "text/latex": [
       "$$\n",
       "\n",
       "\\begin{bmatrix}\n",
       "0.1491821073 & 0.0482718788 - 0.1025525651 i & 0.016109821 + 0.0346797891 i & 0.0096920112 + 0.0402047067 i & 0.0378214911 - 0.0108933086 i & 0.1206399333 - 0.0228965198 i & -0.1180295733 + 0.032822981 i & 0.0154090222 + 0.0300803382 i  \\\\\n",
       " 0.0482718788 + 0.1025525651 i & 0.097691569 & -0.0509805871 + 0.0061605222 i & -0.0294751113 + 0.034794892 i & 0.0186546785 + 0.0090381461 i & 0.0785318822 + 0.1050461768 i & -0.0631103602 - 0.0573896091 i & -0.0407353227 + 0.0093235938 i  \\\\\n",
       " 0.016109821 - 0.0346797891 i & -0.0509805871 - 0.0061605222 i & 0.153369255 & 0.0053187294 - 0.060194779 i & 0.0145140446 + 0.03387171 i & -0.1418039322 - 0.081338665 i & -0.0440878135 + 0.0035242532 i & 0.1219179557 + 0.0070981727 i  \\\\\n",
       " 0.0096920112 - 0.0402047067 i & -0.0294751113 - 0.034794892 i & 0.0053187294 + 0.060194779 i & 0.0390884443 & -0.0214963246 - 0.0069336716 i & 0.0277530852 - 0.0957270165 i & 0.0121230939 + 0.0206056357 i & 0.0024658822 + 0.0479654168 i  \\\\\n",
       " 0.0378214911 + 0.0108933086 i & 0.0186546785 - 0.0090381461 i & 0.0145140446 - 0.03387171 i & -0.0214963246 + 0.0069336716 i & 0.0305643465 & 0.0074272961 + 0.0388977871 i & -0.0363649245 - 0.000912986 i & 0.0117542539 - 0.0297049987 i  \\\\\n",
       " 0.1206399333 + 0.0228965198 i & 0.0785318822 - 0.1050461768 i & -0.1418039322 + 0.081338665 i & 0.0277530852 + 0.0957270165 i & 0.0074272961 - 0.0388977871 i & 0.2826360502 & -0.035093623 + 0.0229804596 i & -0.1103826491 + 0.0534067484 i  \\\\\n",
       " -0.1180295733 - 0.032822981 i & -0.0631103602 + 0.0573896091 i & -0.0440878135 - 0.0035242532 i & 0.0121230939 - 0.0206056357 i & -0.0363649245 + 0.000912986 i & -0.035093623 - 0.0229804596 i & 0.1453374639 & -0.0330584293 - 0.0182680742 i  \\\\\n",
       " 0.0154090222 - 0.0300803382 i & -0.0407353227 - 0.0093235938 i & 0.1219179557 - 0.0070981727 i & 0.0024658822 - 0.0479654168 i & 0.0117542539 + 0.0297049987 i & -0.1103826491 - 0.0534067484 i & -0.0330584293 + 0.0182680742 i & 0.1021307638  \\\\\n",
       " \\end{bmatrix}\n",
       "$$"
      ],
      "text/plain": [
       "<IPython.core.display.Latex object>"
      ]
     },
     "metadata": {},
     "output_type": "display_data"
    },
    {
     "data": {
      "text/latex": [
       "$$\n",
       "\n",
       "\\begin{bmatrix}\n",
       "0.0593223965 & -0.0603586248 - 0.0081874163 i & -0.0652897696 + 0.0544656313 i & 0.0261417538 - 0.0020964377 i & 0.0535759063 + 0.0788760037 i & 0.0568868445 - 0.0301882985 i & -0.046868292 - 0.0335897638 i & -0.0602219289 + 0.0500067463 i  \\\\\n",
       " -0.0603586248 + 0.0081874163 i & 0.1070381833 & 0.0626792561 - 0.0495641722 i & -0.0319932172 + 0.0252509525 i & -0.068769445 - 0.079430267 i & -0.0745426663 + 0.0475515897 i & 0.0678051054 - 0.0039093783 i & 0.0200861982 - 0.0840743861 i  \\\\\n",
       " -0.0652897696 - 0.0544656313 i & 0.0626792561 + 0.0495641722 i & 0.1372468955 & -0.035155838 - 0.0112970965 i & 0.0116243935 - 0.1130955753 i & -0.1198695797 - 0.0163996202 i & 0.0141925757 + 0.0616612967 i & 0.1207473674 + 0.0113679404 i  \\\\\n",
       " 0.0261417538 + 0.0020964377 i & -0.0319932172 - 0.0252509525 i & -0.035155838 + 0.0112970965 i & 0.0364254135 & 0.0328366876 + 0.015315529 i & 0.0612609433 + 0.0228766173 i & -0.0452271838 - 0.0101362153 i & -0.0541845768 + 0.0228817118 i  \\\\\n",
       " 0.0535759063 - 0.0788760037 i & -0.068769445 + 0.079430267 i & 0.0116243935 + 0.1130955753 i & 0.0328366876 - 0.015315529 i & 0.2039221025 & -0.0018061432 - 0.0389120725 i & -0.1065197302 + 0.0300127812 i & 0.0235554856 + 0.0784505448 i  \\\\\n",
       " 0.0568868445 + 0.0301882985 i & -0.0745426663 - 0.0475515897 i & -0.1198695797 + 0.0163996202 i & 0.0612609433 - 0.0228766173 i & -0.0018061432 + 0.0389120725 i & 0.1778927748 & -0.0444032397 - 0.0110440107 i & -0.1333237134 + 0.0405051653 i  \\\\\n",
       " -0.046868292 + 0.0335897638 i & 0.0678051054 + 0.0039093783 i & 0.0141925757 - 0.0616612967 i & -0.0452271838 + 0.0101362153 i & -0.1065197302 - 0.0300127812 i & -0.0444032397 + 0.0110440107 i & 0.0955213356 & 0.02846767 - 0.08562029 i  \\\\\n",
       " -0.0602219289 - 0.0500067463 i & 0.0200861982 + 0.0840743861 i & 0.1207473674 - 0.0113679404 i & -0.0541845768 - 0.0228817118 i & 0.0235554856 - 0.0784505448 i & -0.1333237134 - 0.0405051653 i & 0.02846767 + 0.08562029 i & 0.1826308983  \\\\\n",
       " \\end{bmatrix}\n",
       "$$"
      ],
      "text/plain": [
       "<IPython.core.display.Latex object>"
      ]
     },
     "metadata": {},
     "output_type": "display_data"
    },
    {
     "data": {
      "text/latex": [
       "$$\n",
       "\n",
       "\\begin{bmatrix}\n",
       "0.2698942725 & 0.0674298026 - 0.1658082152 i & 0.1381191739 - 0.002139191 i & -0.1437013715 - 0.1171727787 i & 0.0707248718 - 0.0981831689 i & 0.183779274 + 0.0801303869 i & -0.108960568 + 0.0678674488 i & 0.0279283962 + 0.0077330076 i  \\\\\n",
       " 0.0674298026 + 0.1658082152 i & 0.1538457385 & 0.0121583344 + 0.0621329956 i & 0.0520011723 - 0.1080689667 i & 0.0664590954 + 0.0055990127 i & 0.0099008773 + 0.1395526727 i & -0.068151301 - 0.0578539626 i & -0.0061671602 - 0.0099316773 i  \\\\\n",
       " 0.1381191739 + 0.002139191 i & 0.0121583344 - 0.0621329956 i & 0.1067144482 & -0.0867041887 - 0.0583815262 i & 0.0580795331 - 0.0536470812 i & 0.0763113841 + 0.0525332889 i & -0.0503785306 + 0.0365224739 i & 0.0388052904 + 0.020458797 i  \\\\\n",
       " -0.1437013715 + 0.1171727787 i & 0.0520011723 + 0.1080689667 i & -0.0867041887 + 0.0583815262 i & 0.1384307221 & -0.0008472191 + 0.0783847125 i & -0.1275550326 + 0.0386054639 i & 0.0278892094 - 0.0883344691 i & -0.029924911 - 0.0019041307 i  \\\\\n",
       " 0.0707248718 + 0.0981831689 i & 0.0664590954 - 0.0055990127 i & 0.0580795331 + 0.0536470812 i & -0.0008472191 - 0.0783847125 i & 0.0723579765 & 0.0031275843 + 0.0919761721 i & -0.0464031231 - 0.0201581178 i & 0.0168513693 + 0.0207356999 i  \\\\\n",
       " 0.183779274 - 0.0801303869 i & 0.0099008773 - 0.1395526727 i & 0.0763113841 - 0.0525332889 i & -0.1275550326 - 0.0386054639 i & 0.0031275843 - 0.0919761721 i & 0.1641263128 & -0.0594044191 + 0.0760347622 i & 0.0143616862 - 0.0143119304 i  \\\\\n",
       " -0.108960568 - 0.0678674488 i & -0.068151301 + 0.0578539626 i & -0.0503785306 - 0.0365224739 i & 0.0278892094 + 0.0883344691 i & -0.0464031231 + 0.0201581178 i & -0.0594044191 - 0.0760347622 i & 0.0648018609 & -0.0039175818 - 0.011858167 i  \\\\\n",
       " 0.0279283962 - 0.0077330076 i & -0.0061671602 + 0.0099316773 i & 0.0388052904 - 0.020458797 i & -0.029924911 + 0.0019041307 i & 0.0168513693 - 0.0207356999 i & 0.0143616862 + 0.0143119304 i & -0.0039175818 + 0.011858167 i & 0.0298286684  \\\\\n",
       " \\end{bmatrix}\n",
       "$$"
      ],
      "text/plain": [
       "<IPython.core.display.Latex object>"
      ]
     },
     "metadata": {},
     "output_type": "display_data"
    },
    {
     "data": {
      "text/latex": [
       "$$\n",
       "\n",
       "\\begin{bmatrix}\n",
       "0.1310597587 & 0.0236844511 + 0.055631194 i & 0.0803980164 - 0.0080903881 i & -0.0244984664 - 0.0173329046 i & -0.0039831607 - 0.0473397529 i & -0.0241707652 - 0.0010042847 i & 0.0144191163 - 0.0222526982 i & 0.1137082338 - 0.0703355729 i  \\\\\n",
       " 0.0236844511 - 0.055631194 i & 0.0869749419 & 0.0128837985 + 0.0384250842 i & -0.0701486454 - 0.0169767844 i & -0.0518271282 + 0.0193209864 i & -0.0212569668 - 0.0108740799 i & 0.0416434564 + 0.041172199 i & -0.0694251918 - 0.1288985519 i  \\\\\n",
       " 0.0803980164 + 0.0080903881 i & 0.0128837985 - 0.0384250842 i & 0.1731090503 & -0.044438508 + 0.0645128778 i & 0.0321503522 + 0.0340390251 i & -0.0434345214 - 0.0022502114 i & 0.0955062669 - 0.033620356 i & -0.0318705497 + 0.0285712784 i  \\\\\n",
       " -0.0244984664 + 0.0173329046 i & -0.0701486454 + 0.0169767844 i & -0.044438508 - 0.0645128778 i & 0.0751650556 & 0.0302051041 - 0.0289573412 i & 0.0265859316 + 0.0101094633 i & -0.0622716114 - 0.0253853206 i & 0.0730724576 + 0.072819809 i  \\\\\n",
       " -0.0039831607 + 0.0473397529 i & -0.0518271282 - 0.0193209864 i & 0.0321503522 - 0.0340390251 i & 0.0302051041 + 0.0289573412 i & 0.0634843097 & -0.0151581397 + 0.0112140067 i & 0.0345105979 - 0.0579427227 i & 0.0168829159 + 0.1203517984 i  \\\\\n",
       " -0.0241707652 + 0.0010042847 i & -0.0212569668 + 0.0108740799 i & -0.0434345214 + 0.0022502114 i & 0.0265859316 - 0.0101094633 i & -0.0151581397 - 0.0112140067 i & 0.0298855261 & -0.0607108461 + 0.017583683 i & 0.0272543847 - 0.0005841953 i  \\\\\n",
       " 0.0144191163 + 0.0222526982 i & 0.0416434564 - 0.041172199 i & 0.0955062669 + 0.033620356 i & -0.0622716114 + 0.0253853206 i & 0.0345105979 + 0.0579427227 i & -0.0607108461 - 0.017583683 i & 0.1503592806 & -0.1068236345 + 0.0265000375 i  \\\\\n",
       " 0.1137082338 + 0.0703355729 i & -0.0694251918 + 0.1288985519 i & -0.0318705497 - 0.0285712784 i & 0.0730724576 - 0.072819809 i & 0.0168829159 - 0.1203517984 i & 0.0272543847 + 0.0005841953 i & -0.1068236345 - 0.0265000375 i & 0.2899620771  \\\\\n",
       " \\end{bmatrix}\n",
       "$$"
      ],
      "text/plain": [
       "<IPython.core.display.Latex object>"
      ]
     },
     "metadata": {},
     "output_type": "display_data"
    },
    {
     "data": {
      "text/latex": [
       "$$\n",
       "\n",
       "\\begin{bmatrix}\n",
       "0.1819930159 & 0.0011863253 - 0.0449814986 i & 0.011826779 + 0.0924948112 i & 0.0193968601 - 0.0974716738 i & 0.1076684413 - 0.0264534202 i & 0.0486099131 - 0.0440454823 i & -0.0531706402 + 0.0528225874 i & 0.0925155832 + 0.0867598429 i  \\\\\n",
       " 0.0011863253 + 0.0449814986 i & 0.0338328327 & -0.0292811144 + 0.0317918783 i & 0.0242976543 + 0.0274784875 i & 0.0048112015 + 0.0090282633 i & 0.0337287264 + 0.0306608874 i & -0.0093802111 - 0.0237656189 i & -0.023473365 + 0.0160479753 i  \\\\\n",
       " 0.011826779 - 0.0924948112 i & -0.0292811144 - 0.0317918783 i & 0.17065156 & 0.0088692833 - 0.0658044804 i & -0.0554382155 - 0.0601946733 i & -0.0512813987 - 0.0498891937 i & -0.0626101795 + 0.1192188336 i & 0.0435177303 - 0.0935634389 i  \\\\\n",
       " 0.0193968601 + 0.0974716738 i & 0.0242976543 - 0.0274784875 i & 0.0088692833 + 0.0658044804 i & 0.1088297897 & 0.0044393783 + 0.0394406622 i & 0.026611941 - 0.0226212092 i & -0.1137880983 - 0.0328366352 i & -0.0148564949 + 0.0435204339 i  \\\\\n",
       " 0.1076684413 + 0.0264534202 i & 0.0048112015 - 0.0090282633 i & -0.0554382155 + 0.0601946733 i & 0.0044393783 - 0.0394406622 i & 0.0919058988 & 0.0327585304 - 0.0141182776 i & -0.0203353244 - 0.0115562441 i & 0.0553497122 + 0.0825899223 i  \\\\\n",
       " 0.0486099131 + 0.0440454823 i & 0.0337287264 - 0.0306608874 i & -0.0512813987 + 0.0498891937 i & 0.026611941 + 0.0226212092 i & 0.0327585304 + 0.0141182776 i & 0.0913973296 & 0.0204102575 - 0.0556857012 i & -0.0135836119 + 0.0731813568 i  \\\\\n",
       " -0.0531706402 - 0.0528225874 i & -0.0093802111 + 0.0237656189 i & -0.0626101795 - 0.1192188336 i & -0.1137880983 + 0.0328366352 i & -0.0203353244 + 0.0115562441 i & 0.0204102575 + 0.0556857012 i & 0.1916359287 & -0.0610737543 - 0.0089754536 i  \\\\\n",
       " 0.0925155832 - 0.0867598429 i & -0.023473365 - 0.0160479753 i & 0.0435177303 + 0.0935634389 i & -0.0148564949 - 0.0435204339 i & 0.0553497122 - 0.0825899223 i & -0.0135836119 - 0.0731813568 i & -0.0610737543 + 0.0089754536 i & 0.1297536445  \\\\\n",
       " \\end{bmatrix}\n",
       "$$"
      ],
      "text/plain": [
       "<IPython.core.display.Latex object>"
      ]
     },
     "metadata": {},
     "output_type": "display_data"
    },
    {
     "data": {
      "text/latex": [
       "$$\n",
       "\n",
       "\\begin{bmatrix}\n",
       "0.1575485402 & -0.0197907625 - 0.0211950565 i & 0.0713777416 - 0.053561671 i & -0.0568375585 + 0.1353741282 i & -0.1449617432 - 0.014410287 i & 0.0599485029 + 0.0130215616 i & 0.0010810298 + 0.0070637275 i & 0.0182722613 - 0.0511376462 i  \\\\\n",
       " -0.0197907625 + 0.0211950565 i & 0.095265079 & 0.0200177362 - 0.0014309654 i & 0.01499996 - 0.019861113 i & 0.0298877867 - 0.0347429134 i & -0.1008625089 + 0.0516044447 i & 0.0317194112 - 0.0361748493 i & -0.0507049641 - 0.0203455303 i  \\\\\n",
       " 0.0713777416 + 0.053561671 i & 0.0200177362 + 0.0014309654 i & 0.1623834963 & -0.1000965501 + 0.0460777209 i & -0.0798046358 + 0.0049442798 i & 0.0077994816 + 0.0087218854 i & 0.0304269746 - 0.0123257978 i & 0.0434718266 - 0.0181168715 i  \\\\\n",
       " -0.0568375585 - 0.1353741282 i & 0.01499996 + 0.019861113 i & -0.1000965501 - 0.0460777209 i & 0.15570279 & 0.0485541685 + 0.1031733355 i & -0.0396423323 - 0.0344777379 i & 0.0079158662 - 0.0106104834 i & -0.0767969956 - 0.0077322331 i  \\\\\n",
       " -0.1449617432 + 0.014410287 i & 0.0298877867 + 0.0347429134 i & -0.0798046358 - 0.0049442798 i & 0.0485541685 - 0.1031733355 i & 0.183399365 & -0.0850784453 - 0.0263470235 i & -0.0039741886 - 0.0113326051 i & -0.0084018126 + 0.0154962565 i  \\\\\n",
       " 0.0599485029 - 0.0130215616 i & -0.1008625089 - 0.0516044447 i & 0.0077994816 - 0.0087218854 i & -0.0396423323 + 0.0344777379 i & -0.0850784453 + 0.0263470235 i & 0.1434322222 & -0.0460905754 + 0.0217961782 i & 0.0466368731 + 0.0417806898 i  \\\\\n",
       " 0.0010810298 - 0.0070637275 i & 0.0317194112 + 0.0361748493 i & 0.0304269746 + 0.0123257978 i & 0.0079158662 + 0.0106104834 i & -0.0039741886 + 0.0113326051 i & -0.0460905754 - 0.0217961782 i & 0.0310348819 & -0.0087823519 - 0.0273721989 i  \\\\\n",
       " 0.0182722613 + 0.0511376462 i & -0.0507049641 + 0.0203455303 i & 0.0434718266 + 0.0181168715 i & -0.0767969956 + 0.0077322331 i & -0.0084018126 - 0.0154962565 i & 0.0466368731 - 0.0417806898 i & -0.0087823519 + 0.0273721989 i & 0.0712336255  \\\\\n",
       " \\end{bmatrix}\n",
       "$$"
      ],
      "text/plain": [
       "<IPython.core.display.Latex object>"
      ]
     },
     "metadata": {},
     "output_type": "display_data"
    },
    {
     "data": {
      "text/latex": [
       "$$\n",
       "\n",
       "\\begin{bmatrix}\n",
       "0.0346444199 & 0.0434412209 - 0.0234070947 i & 0.011152257 - 0.0304892859 i & 0.023408055 + 0.0037768249 i & -0.0375939716 - 0.0116228246 i & -0.0015594748 - 0.0538132637 i & -0.0372263229 - 0.06876097 i & -0.0235282593 + 0.0336443777 i  \\\\\n",
       " 0.0434412209 + 0.0234070947 i & 0.178119721 & 0.0995368151 - 0.023764745 i & 0.0888710022 + 0.0451849871 i & -0.0725538061 - 0.0425374003 i & 0.0591364748 - 0.1441384075 i & -0.0235566229 - 0.1889472082 i & -0.0900443841 + 0.0525103186 i  \\\\\n",
       " 0.011152257 + 0.0304892859 i & 0.0995368151 + 0.023764745 i & 0.0740819452 & 0.0483076738 + 0.0376082515 i & -0.0234737337 - 0.0395764495 i & 0.0649621033 - 0.0651588888 i & 0.0441004013 - 0.111686386 i & -0.0623734741 - 0.0030820417 i  \\\\\n",
       " 0.023408055 - 0.0037768249 i & 0.0888710022 - 0.0451849871 i & 0.0483076738 - 0.0376082515 i & 0.0699820444 & -0.0521968878 - 0.0001315346 i & 0.0009608283 - 0.0942752689 i & -0.0594700993 - 0.1138772853 i & -0.0469593838 + 0.0396621837 i  \\\\\n",
       " -0.0375939716 + 0.0116228246 i & -0.0725538061 + 0.0425374003 i & -0.0234737337 + 0.0395764495 i & -0.0521968878 + 0.0001315346 i & 0.0582302763 & 0.0106094178 + 0.088152768 i & 0.0769684876 + 0.1014046377 i & 0.0360335085 - 0.052836579 i  \\\\\n",
       " -0.0015594748 + 0.0538132637 i & 0.0591364748 + 0.1441384075 i & 0.0649621033 + 0.0651588888 i & 0.0009608283 + 0.0942752689 i & 0.0106094178 - 0.088152768 i & 0.1583645683 & 0.1844552373 - 0.1140789177 i & -0.0882132623 - 0.0804330422 i  \\\\\n",
       " -0.0372263229 + 0.06876097 i & -0.0235566229 + 0.1889472082 i & 0.0441004013 + 0.111686386 i & -0.0594700993 + 0.1138772853 i & 0.0769684876 - 0.1014046377 i & 0.1844552373 + 0.1140789177 i & 0.3222357485 & -0.0345096431 - 0.1681578197 i  \\\\\n",
       " -0.0235282593 - 0.0336443777 i & -0.0900443841 - 0.0525103186 i & -0.0623734741 + 0.0030820417 i & -0.0469593838 - 0.0396621837 i & 0.0360335085 + 0.052836579 i & -0.0882132623 + 0.0804330422 i & -0.0345096431 + 0.1681578197 i & 0.1043412765  \\\\\n",
       " \\end{bmatrix}\n",
       "$$"
      ],
      "text/plain": [
       "<IPython.core.display.Latex object>"
      ]
     },
     "metadata": {},
     "output_type": "display_data"
    },
    {
     "data": {
      "text/latex": [
       "$$\n",
       "\n",
       "\\begin{bmatrix}\n",
       "0.0793457642 & 0.0152352838 - 0.0464957716 i & 0.0514603215 - 0.0445046077 i & 0.0079915105 - 0.0531146698 i & -0.0241579067 + 0.0412193808 i & -0.0142498959 + 0.0055905989 i & 0.0229454944 + 0.0093976346 i & -0.007667262 - 0.0248577925 i  \\\\\n",
       " 0.0152352838 + 0.0464957716 i & 0.1084127708 & 0.0792541891 + 0.0128904412 i & 0.0309593929 + 0.0731102962 i & -0.0862412802 - 0.0038485937 i & 0.1502990007 - 0.0611386535 i & 0.0615252938 + 0.0021381361 i & -0.0173443472 - 0.0254198678 i  \\\\\n",
       " 0.0514603215 + 0.0445046077 i & 0.0792541891 - 0.0128904412 i & 0.0971172431 & 0.0426745008 + 0.0200974755 i & -0.090163526 + 0.0211208754 i & 0.0856860345 - 0.0316513756 i & 0.0503136082 + 0.009695407 i & -0.005052445 - 0.0387240816 i  \\\\\n",
       " 0.0079915105 + 0.0531146698 i & 0.0309593929 - 0.0731102962 i & 0.0426745008 - 0.0200974755 i & \\frac{2^{\\frac{5}{109}} \\cdot 3^{\\frac{271}{327}} \\cdot 5^{\\frac{136}{327}} \\cdot 7^{\\frac{298}{327}}}{210} & -0.0443076706 + 0.0714199356 i & -0.0629605881 - 0.1863165897 i & -0.0171319877 - 0.0598759391 i & -0.0013304369 + 0.0153044493 i  \\\\\n",
       " -0.0241579067 - 0.0412193808 i & -0.0862412802 + 0.0038485937 i & -0.090163526 - 0.0211208754 i & -0.0443076706 - 0.0714199356 i & 0.1102018778 & -0.1309430848 + 0.056018591 i & -0.0633387074 + 0.0011633788 i & 0.0042426911 + 0.0317132877 i  \\\\\n",
       " -0.0142498959 - 0.0055905989 i & 0.1502990007 + 0.0611386535 i & 0.0856860345 + 0.0316513756 i & -0.0629605881 + 0.1863165897 i & -0.1309430848 - 0.056018591 i & 0.3705776495 & 0.1422015658 + 0.0149329528 i & -0.0432311874 - 0.0495248671 i  \\\\\n",
       " 0.0229454944 - 0.0093976346 i & 0.0615252938 - 0.0021381361 i & 0.0503136082 - 0.009695407 i & -0.0171319877 + 0.0598759391 i & -0.0633387074 - 0.0011633788 i & 0.1422015658 - 0.0149329528 i & 0.0674323702 & -0.02260336 - 0.0256269782 i  \\\\\n",
       " -0.007667262 + 0.0248577925 i & -0.0173443472 + 0.0254198678 i & -0.005052445 + 0.0387240816 i & -0.0013304369 - 0.0153044493 i & 0.0042426911 - 0.0317132877 i & -0.0432311874 + 0.0495248671 i & -0.02260336 + 0.0256269782 i & 0.0263543579  \\\\\n",
       " \\end{bmatrix}\n",
       "$$"
      ],
      "text/plain": [
       "<IPython.core.display.Latex object>"
      ]
     },
     "metadata": {},
     "output_type": "display_data"
    },
    {
     "data": {
      "text/latex": [
       "$$\n",
       "\n",
       "\\begin{bmatrix}\n",
       "0.0738512605 & 0.0118688401 - 0.007614351 i & -0.0170353038 + 0.1033928583 i & 0.0763667055 - 0.0252919773 i & -0.008642672 + 0.0595073407 i & -0.0031380174 + 0.0501339102 i & -0.0373711684 - 0.0603332954 i & 0.0390101811 - 0.1118954627 i  \\\\\n",
       " 0.0118688401 + 0.007614351 i & 0.0518128745 & 0.0121123694 + 0.0789887495 i & -0.0199012794 - 0.0322455907 i & -0.0131628465 + 0.031850844 i & 0.0010043169 + 0.0472296173 i & -0.005325545 + 0.0235883712 i & 0.02892022 + 0.0294015211 i  \\\\\n",
       " -0.0170353038 - 0.1033928583 i & 0.0121123694 - 0.0789887495 i & 0.2498835324 & -0.1207033244 - 0.0754882 i & 0.1134458915 + 0.0176048902 i & 0.129002082 + 0.0059502776 i & -0.0314156004 + 0.0958342368 i & -0.1131755164 - 0.0199745965 i  \\\\\n",
       " 0.0763667055 + 0.0252919773 i & -0.0199012794 + 0.0322455907 i & -0.1207033244 + 0.0754882 i & 0.1405347153 & -0.0427804263 + 0.0383325397 i & -0.0563146039 + 0.0276927597 i & -0.0414051883 - 0.1077042394 i & 0.0447059924 - 0.1279439391 i  \\\\\n",
       " -0.008642672 - 0.0595073407 i & -0.0131628465 - 0.031850844 i & 0.1134458915 - 0.0176048902 i & -0.0427804263 - 0.0383325397 i & 0.0607065206 & 0.0591666056 - 0.0106485625 i & -0.0264277927 + 0.0360664952 i & -0.0774684225 - 0.0287948701 i  \\\\\n",
       " -0.0031380174 - 0.0501339102 i & 0.0010043169 - 0.0472296173 i & 0.129002082 - 0.0059502776 i & -0.0563146039 - 0.0276927597 i & 0.0591666056 + 0.0106485625 i & 0.0694588963 & -0.0101462038 + 0.0400292117 i & -0.0481431982 - 0.0210698678 i  \\\\\n",
       " -0.0373711684 + 0.0603332954 i & -0.005325545 - 0.0235883712 i & -0.0314156004 - 0.0958342368 i & -0.0414051883 + 0.1077042394 i & -0.0264277927 - 0.0360664952 i & -0.0101462038 - 0.0400292117 i & 0.0994681811 & 0.1065532818 + 0.0821738152 i  \\\\\n",
       " 0.0390101811 + 0.1118954627 i & 0.02892022 - 0.0294015211 i & -0.1131755164 + 0.0199745965 i & 0.0447059924 + 0.1279439391 i & -0.0774684225 + 0.0287948701 i & -0.0481431982 + 0.0210698678 i & 0.1065532818 - 0.0821738152 i & 0.2542840192  \\\\\n",
       " \\end{bmatrix}\n",
       "$$"
      ],
      "text/plain": [
       "<IPython.core.display.Latex object>"
      ]
     },
     "metadata": {},
     "output_type": "display_data"
    },
    {
     "data": {
      "text/latex": [
       "$$\n",
       "\n",
       "\\begin{bmatrix}\n",
       "0.0721912369 & -0.0303709844 - 0.026586999 i & -0.0298511298 + 0.0187344328 i & 0.0651317164 + 0.0549113389 i & 0.0266835525 + 0.0749162597 i & -0.0732111904 - 0.0046497981 i & -0.018577781 - 0.0128596057 i & -0.0380151723 + 0.0422915614 i  \\\\\n",
       " -0.0303709844 + 0.026586999 i & 0.100331427 & 0.050857254 - 0.0810485112 i & -0.0596592644 - 0.0329469691 i & -0.0777056448 + 0.0061103632 i & 0.0697663708 - 0.0502929567 i & 0.0498334737 + 0.017913106 i & -0.0814434496 + 0.0055910352 i  \\\\\n",
       " -0.0298511298 - 0.0187344328 i & 0.050857254 + 0.0810485112 i & 0.1245196647 & -0.0026431032 - 0.0903447818 i & -0.0688886017 - 0.0559751808 i & 0.1272994459 + 0.0396301535 i & 0.0031836296 + 0.0259287706 i & -0.042670734 - 0.0704970154 i  \\\\\n",
       " 0.0651317164 - 0.0549113389 i & -0.0596592644 + 0.0329469691 i & -0.0026431032 + 0.0903447818 i & 0.1349968492 & 0.0875075373 + 0.0048510301 i & -0.0848474193 + 0.1090384247 i & -0.0210831704 + 0.0187894132 i & 0.004796041 + 0.03734016 i  \\\\\n",
       " 0.0266835525 - 0.0749162597 i & -0.0777056448 - 0.0061103632 i & -0.0688886017 + 0.0559751808 i & 0.0875075373 - 0.0048510301 i & 0.1509460347 & -0.1183163771 + 0.0754774733 i & -0.0217808194 + 0.0169586684 i & 0.0776616877 + 0.0863088597 i  \\\\\n",
       " -0.0732111904 + 0.0046497981 i & 0.0697663708 + 0.0502929567 i & 0.1272994459 - 0.0396301535 i & -0.0848474193 - 0.1090384247 i & -0.1183163771 - 0.0754774733 i & 0.2024154911 & 0.0150743049 - 0.0113527606 i & -0.0031801928 - 0.08943615 i  \\\\\n",
       " -0.018577781 + 0.0128596057 i & 0.0498334737 - 0.017913106 i & 0.0031836296 - 0.0259287706 i & -0.0210831704 - 0.0187894132 i & -0.0217808194 - 0.0169586684 i & 0.0150743049 + 0.0113527606 i & 0.0518540142 & -0.0141606869 + 0.0316672501 i  \\\\\n",
       " -0.0380151723 - 0.0422915614 i & -0.0814434496 - 0.0055910352 i & -0.042670734 + 0.0704970154 i & 0.004796041 - 0.03734016 i & 0.0776616877 - 0.0863088597 i & -0.0031801928 + 0.08943615 i & -0.0141606869 - 0.0316672501 i & 0.1627452821  \\\\\n",
       " \\end{bmatrix}\n",
       "$$"
      ],
      "text/plain": [
       "<IPython.core.display.Latex object>"
      ]
     },
     "metadata": {},
     "output_type": "display_data"
    },
    {
     "data": {
      "text/latex": [
       "$$\n",
       "\n",
       "\\begin{bmatrix}\n",
       "0.0623052696 & 0.0173493009 - 0.0679818622 i & 0.0198003235 + 0.0143042563 i & 0.0453246266 + 0.0425435521 i & -0.0386990445 - 0.0378205326 i & -0.0381931594 + 0.0156879391 i & -0.0650788352 - 0.0189939568 i & 0.0001999239 + 0.0315807337 i  \\\\\n",
       " 0.0173493009 + 0.0679818622 i & 0.2428632225 & -0.0146610939 + 0.1260713757 i & 0.0076528792 + 0.0161576272 i & -0.005981504 - 0.0564614625 i & -0.0645583271 - 0.0151533158 i & 0.0445644771 - 0.0668468887 i & -0.1647988012 - 0.0103816433 i  \\\\\n",
       " 0.0198003235 - 0.0143042563 i & -0.0146610939 - 0.1260713757 i & 0.1165598035 & 0.0080737763 - 0.0183293581 i & 0.0338604049 + 0.065033072 i & 0.0279551679 + 0.0603017844 i & 0.0032135263 - 0.000665804 i & -0.0258225584 + 0.1181795566 i  \\\\\n",
       " 0.0453246266 - 0.0425435521 i & 0.0076528792 - 0.0161576272 i & 0.0080737763 + 0.0183293581 i & 0.088697211 & -0.0436354503 - 0.0025723157 i & -0.0248445027 + 0.0385679326 i & -0.0446571639 + 0.0477780966 i & -0.0112786082 - 0.0087008499 i  \\\\\n",
       " -0.0386990445 + 0.0378205326 i & -0.005981504 + 0.0564614625 i & 0.0338604049 - 0.065033072 i & -0.0436354503 + 0.0025723157 i & 0.1709309081 & 0.0738727238 - 0.0302960905 i & 0.0882961695 - 0.0323637523 i & 0.0072838382 + 0.0413386379 i  \\\\\n",
       " -0.0381931594 - 0.0156879391 i & -0.0645583271 + 0.0151533158 i & 0.0279551679 - 0.0603017844 i & -0.0248445027 - 0.0385679326 i & 0.0738727238 + 0.0302960905 i & 0.062580679 & 0.0473238056 + 0.0153318545 i & 0.0375151505 + 0.0294921868 i  \\\\\n",
       " -0.0650788352 + 0.0189939568 i & 0.0445644771 + 0.0668468887 i & 0.0032135263 + 0.000665804 i & -0.0446571639 - 0.0477780966 i & 0.0882961695 + 0.0323637523 i & 0.0473238056 - 0.0153318545 i & 0.1033656363 & -0.047291275 - 0.0068762783 i  \\\\\n",
       " 0.0001999239 - 0.0315807337 i & -0.1647988012 + 0.0103816433 i & -0.0258225584 - 0.1181795566 i & -0.0112786082 + 0.0087008499 i & 0.0072838382 - 0.0413386379 i & 0.0375151505 - 0.0294921868 i & -0.047291275 + 0.0068762783 i & 0.1526972699  \\\\\n",
       " \\end{bmatrix}\n",
       "$$"
      ],
      "text/plain": [
       "<IPython.core.display.Latex object>"
      ]
     },
     "metadata": {},
     "output_type": "display_data"
    },
    {
     "data": {
      "text/latex": [
       "$$\n",
       "\n",
       "\\begin{bmatrix}\n",
       "\\frac{3 \\cdot 2^{\\frac{159}{502}} \\cdot 3^{\\frac{119}{251}} \\cdot 5^{\\frac{259}{502}} \\cdot 7^{\\frac{149}{502}}}{98} & 0.0113284205 - 0.0053000087 i & -0.0350327736 - 0.0427642114 i & -0.0706028565 - 0.0866270238 i & -0.0053518988 - 0.0214487112 i & 0.1068871785 + 0.0028761892 i & 0.0153059131 - 0.0257508944 i & -0.1415053225 - 0.1244708446 i  \\\\\n",
       " 0.0113284205 + 0.0053000087 i & 0.0522547948 & -0.0060080072 - 0.0536748522 i & -0.018566783 - 0.0779548191 i & -0.0504969669 + 0.0296800927 i & 0.0303832165 + 0.0147968892 i & 0.0164899144 - 0.0142787805 i & -0.0523190414 - 0.0361056021 i  \\\\\n",
       " -0.0350327736 + 0.0427642114 i & -0.0060080072 + 0.0536748522 i & 0.0716251963 & 0.1124391341 - 0.0181298204 i & -0.0113972136 - 0.0453528927 i & -0.0321303122 + 0.0382798112 i & -0.001973404 + 0.0331002763 i & 0.0732573448 - 0.0358064291 i  \\\\\n",
       " -0.0706028565 + 0.0866270238 i & -0.018566783 + 0.0779548191 i & 0.1124391341 + 0.0181298204 i & 0.1901217259 & -0.0074427941 - 0.0581071925 i & -0.0569924113 + 0.0592973316 i & -0.0192328377 + 0.0406281329 i & 0.1215536453 - 0.043918797 i  \\\\\n",
       " -0.0053518988 + 0.0214487112 i & -0.0504969669 - 0.0296800927 i & -0.0113972136 + 0.0453528927 i & -0.0074427941 + 0.0581071925 i & 0.0842511914 & -0.0248856058 - 0.0206272658 i & -0.03113664 + 0.0281616466 i & 0.0567260668 + 0.0635338588 i  \\\\\n",
       " 0.1068871785 - 0.0028761892 i & 0.0303832165 - 0.0147968892 i & -0.0321303122 - 0.0382798112 i & -0.0569924113 - 0.0592973316 i & -0.0248856058 + 0.0206272658 i & 0.0611635092 & 0.0108964895 - 0.0293244046 i & -0.0959555516 - 0.0550040486 i  \\\\\n",
       " 0.0153059131 + 0.0257508944 i & 0.0164899144 + 0.0142787805 i & -0.001973404 - 0.0331002763 i & -0.0192328377 - 0.0406281329 i & -0.03113664 - 0.0281616466 i & 0.0108964895 + 0.0293244046 i & 0.0527709702 & 0.0134023599 - 0.072537324 i  \\\\\n",
       " -0.1415053225 + 0.1244708446 i & -0.0523190414 + 0.0361056021 i & 0.0732573448 + 0.0358064291 i & 0.1215536453 + 0.043918797 i & 0.0567260668 - 0.0635338588 i & -0.0959555516 + 0.0550040486 i & 0.0134023599 + 0.072537324 i & 0.225447509  \\\\\n",
       " \\end{bmatrix}\n",
       "$$"
      ],
      "text/plain": [
       "<IPython.core.display.Latex object>"
      ]
     },
     "metadata": {},
     "output_type": "display_data"
    },
    {
     "data": {
      "text/latex": [
       "$$\n",
       "\n",
       "\\begin{bmatrix}\n",
       "0.1822138373 & -0.006696385 - 0.0335109512 i & 0.0147072315 - 0.0064599272 i & 0.0265347893 - 0.1754372612 i & 0.0549800946 + 0.0144200424 i & -0.0857639429 + 0.0092521577 i & -0.0215263329 - 0.000415511 i & -0.1439551304 + 0.1095125002 i  \\\\\n",
       " -0.006696385 + 0.0335109512 i & 0.0175812881 & 0.0036843456 + 0.0049228641 i & 0.0289018481 + 0.0097785325 i & -0.018654917 + 0.0229332381 i & -0.0082056388 - 0.0307687768 i & -0.0022921854 - 0.0161538231 i & -0.0123544093 - 0.0253286032 i  \\\\\n",
       " 0.0147072315 + 0.0064599272 i & 0.0036843456 - 0.0049228641 i & 0.0055991594 & 0.0065980425 - 0.0259721744 i & 0.0082070665 + 0.0171078738 i & -0.0224321355 - 0.0192842731 i & 0.0109264792 - 0.0102227618 i & -0.0088556049 + 0.0003425278 i  \\\\\n",
       " 0.0265347893 + 0.1754372612 i & 0.0289018481 - 0.0097785325 i & 0.0065980425 + 0.0259721744 i & 0.2278491502 & -0.0397954449 + 0.0722829957 i & 0.0479234887 - 0.117572617 i & 0.0235414762 + 0.0497391791 i & -0.1105830719 - 0.1007670236 i  \\\\\n",
       " 0.0549800946 - 0.0144200424 i & -0.018654917 - 0.0229332381 i & 0.0082070665 - 0.0171078738 i & -0.0397954449 - 0.0722829957 i & 0.0827359809 & -0.0881148602 + 0.0376106343 i & -0.0048675339 - 0.0331497945 i & -0.0335405184 + 0.0134523653 i  \\\\\n",
       " -0.0857639429 - 0.0092521577 i & -0.0082056388 + 0.0307687768 i & -0.0224321355 + 0.0192842731 i & 0.0479234887 + 0.117572617 i & -0.0881148602 - 0.0376106343 i & 0.173454102 & 0.0095843585 + 0.1065103586 i & 0.0689719112 - 0.006272821 i  \\\\\n",
       " -0.0215263329 + 0.000415511 i & -0.0022921854 + 0.0161538231 i & 0.0109264792 + 0.0102227618 i & 0.0235414762 - 0.0497391791 i & -0.0048675339 + 0.0331497945 i & 0.0095843585 - 0.1065103586 i & 0.1132703127 & 0.0463913863 - 0.0235081166 i  \\\\\n",
       " -0.1439551304 - 0.1095125002 i & -0.0123544093 + 0.0253286032 i & -0.0088556049 - 0.0003425278 i & -0.1105830719 + 0.1007670236 i & -0.0335405184 - 0.0134523653 i & 0.0689719112 + 0.006272821 i & 0.0463913863 + 0.0235081166 i & 0.1972961694  \\\\\n",
       " \\end{bmatrix}\n",
       "$$"
      ],
      "text/plain": [
       "<IPython.core.display.Latex object>"
      ]
     },
     "metadata": {},
     "output_type": "display_data"
    },
    {
     "data": {
      "text/latex": [
       "$$\n",
       "\n",
       "\\begin{bmatrix}\n",
       "0.1786744688 & -0.0470783681 - 0.1018248167 i & 0.0142610966 + 0.1861285884 i & -0.0534098308 + 0.042109303 i & 0.0823713868 - 0.0172400534 i & -0.0019449075 - 0.086832818 i & 0.0229916885 + 0.0049282356 i & -0.1229387739 + 0.0308312101 i  \\\\\n",
       " -0.0470783681 + 0.1018248167 i & 0.0897667388 & -0.1479104641 - 0.0417440246 i & 0.0334318499 - 0.0350623397 i & -0.0218139428 + 0.0502187304 i & 0.0502671218 - 0.0073157063 i & 0.0235001396 - 0.0068600066 i & 0.0110656616 - 0.0755482994 i  \\\\\n",
       " 0.0142610966 - 0.1861285884 i & -0.1479104641 + 0.0417440246 i & 0.2851356902 & -0.0507866317 + 0.0508639633 i & 0.0030648729 - 0.08723005 i & -0.0834054524 + 0.0541791222 i & -0.0549656394 + 0.0053178598 i & 0.0277254006 + 0.1380220717 i  \\\\\n",
       " -0.0534098308 - 0.042109303 i & 0.0334318499 + 0.0350623397 i & -0.0507866317 - 0.0508639633 i & 0.1272647727 & -0.0501572224 - 0.0121677864 i & -0.0307190782 - 0.040647789 i & 0.0586154914 - 0.0568641613 i & 0.0394037179 + 0.0232482817 i  \\\\\n",
       " 0.0823713868 + 0.0172400534 i & -0.0218139428 - 0.0502187304 i & 0.0030648729 + 0.08723005 i & -0.0501572224 + 0.0121677864 i & 0.0469000019 & 0.0067698839 - 0.024954712 i & -0.0043334421 + 0.0195299698 i & -0.0590564538 - 0.0039244887 i  \\\\\n",
       " -0.0019449075 + 0.086832818 i & 0.0502671218 + 0.0073157063 i & -0.0834054524 - 0.0541791222 i & -0.0307190782 + 0.040647789 i & 0.0067698839 + 0.024954712 i & 0.0889906595 & 0.0252272087 + 0.0554395514 i & -0.0169492314 - 0.059941411 i  \\\\\n",
       " 0.0229916885 - 0.0049282356 i & 0.0235001396 + 0.0068600066 i & -0.0549656394 - 0.0053178598 i & 0.0586154914 + 0.0568641613 i & -0.0043334421 - 0.0195299698 i & 0.0252272087 - 0.0554395514 i & 0.081078315 & -0.031840878 + 0.0078645787 i  \\\\\n",
       " -0.1229387739 - 0.0308312101 i & 0.0110656616 + 0.0755482994 i & 0.0277254006 - 0.1380220717 i & 0.0394037179 - 0.0232482817 i & -0.0590564538 + 0.0039244887 i & -0.0169492314 + 0.059941411 i & -0.031840878 - 0.0078645787 i & 0.1021893531  \\\\\n",
       " \\end{bmatrix}\n",
       "$$"
      ],
      "text/plain": [
       "<IPython.core.display.Latex object>"
      ]
     },
     "metadata": {},
     "output_type": "display_data"
    },
    {
     "data": {
      "text/latex": [
       "$$\n",
       "\n",
       "\\begin{bmatrix}\n",
       "0.2162914683 & 0.0086094039 + 0.0273394506 i & 0.0109408647 - 0.0107641296 i & -0.0389908685 - 0.0095015248 i & 0.094643546 - 0.0658312228 i & 0.0721351212 + 0.1642567506 i & 0.0727226285 + 0.0288851614 i & 0.023122317 - 0.047318547 i  \\\\\n",
       " 0.0086094039 - 0.0273394506 i & 0.1097736798 & 0.0181181966 - 0.0631551413 i & -0.0334920292 - 0.0389165675 i & 0.034372066 + 0.0186017832 i & -0.0690847026 - 0.0632713789 i & 0.0601156535 + 0.0843482254 i & -0.0609870449 - 0.0197303955 i  \\\\\n",
       " 0.0109408647 + 0.0107641296 i & 0.0181181966 + 0.0631551413 i & 0.0440165075 & 0.0182204092 - 0.0301315251 i & -0.0067013911 + 0.0371607725 i & 0.0102777772 - 0.0617997289 i & -0.0441149909 + 0.0614118902 i & -0.000298306 - 0.0393167502 i  \\\\\n",
       " -0.0389908685 + 0.0095015248 i & -0.0334920292 + 0.0389165675 i & 0.0182204092 + 0.0301315251 i & 0.0353026369 & -0.0429639595 + 0.0211718074 i & 0.0362995481 - 0.0489884371 i & -0.0724599024 - 0.0079770487 i & 0.0217949236 - 0.0103977384 i  \\\\\n",
       " 0.094643546 + 0.0658312228 i & 0.034372066 - 0.0186017832 i & -0.0067013911 - 0.0371607725 i & -0.0429639595 - 0.0211718074 i & 0.1010473478 & -0.0857795456 + 0.1130769844 i & 0.0891310576 + 0.0509301413 i & -0.0046601817 + 0.0046867128 i  \\\\\n",
       " 0.0721351212 - 0.1642567506 i & -0.0690847026 + 0.0632713789 i & 0.0102777772 + 0.0617997289 i & 0.0362995481 + 0.0489884371 i & -0.0857795456 - 0.1130769844 i & 0.2888624981 & -0.0712001631 - 0.1094595981 i & 0.0383583622 - 0.0550477341 i  \\\\\n",
       " 0.0727226285 - 0.0288851614 i & 0.0601156535 - 0.0843482254 i & -0.0441149909 - 0.0614118902 i & -0.0724599024 + 0.0079770487 i & 0.0891310576 - 0.0509301413 i & -0.0712001631 + 0.1094595981 i & 0.1565298451 & -0.0449043276 + 0.0293686526 i  \\\\\n",
       " 0.023122317 + 0.047318547 i & -0.0609870449 + 0.0197303955 i & -0.000298306 + 0.0393167502 i & 0.0217949236 + 0.0103977384 i & -0.0046601817 - 0.0046867128 i & 0.0383583622 + 0.0550477341 i & -0.0449043276 - 0.0293686526 i & 0.0481760164  \\\\\n",
       " \\end{bmatrix}\n",
       "$$"
      ],
      "text/plain": [
       "<IPython.core.display.Latex object>"
      ]
     },
     "metadata": {},
     "output_type": "display_data"
    },
    {
     "data": {
      "text/latex": [
       "$$\n",
       "\n",
       "\\begin{bmatrix}\n",
       "0.3115251737 & 0.0807524559 + 0.0735869673 i & 0.1952507078 - 0.0423347903 i & -0.0970134818 - 0.0610670295 i & -0.0046827699 - 0.0699279065 i & 0.0200616369 - 0.0763781509 i & -0.0685408508 + 0.1025922748 i & 0.0127798244 - 0.2408562673 i  \\\\\n",
       " 0.0807524559 - 0.0735869673 i & 0.0572486902 & 0.0577353409 - 0.0520942674 i & -0.0387363908 + 0.0076170084 i & -0.0142549623 - 0.0346830485 i & 0.0046822475 - 0.0364425264 i & 0.0245841711 + 0.0633826985 i & -0.0756071134 - 0.0954593711 i  \\\\\n",
       " 0.1952507078 + 0.0423347903 i & 0.0577353409 + 0.0520942674 i & 0.1462519097 & -0.0525924031 - 0.0527669161 i & 0.0049969317 - 0.0638482797 i & 0.0359405838 - 0.0627711383 i & -0.0347782172 + 0.070574589 i & 0.010865135 - 0.1716520669 i  \\\\\n",
       " -0.0970134818 + 0.0610670295 i & -0.0387363908 - 0.0076170084 i & -0.0525924031 + 0.0527669161 i & 0.0448341939 & 0.0178282737 + 0.0217816219 i & 0.0116091772 + 0.0287051173 i & 0.0003128093 - 0.0459315531 i & 0.0442589335 + 0.075215254 i  \\\\\n",
       " -0.0046827699 + 0.0699279065 i & -0.0142549623 + 0.0346830485 i & 0.0049969317 + 0.0638482797 i & 0.0178282737 - 0.0217816219 i & 0.0375985823 & 0.035377866 + 0.0204346469 i & -0.0411991143 + 0.0042510265 i & 0.0799987728 - 0.0233678276 i  \\\\\n",
       " 0.0200616369 + 0.0763781509 i & 0.0046822475 + 0.0364425264 i & 0.0359405838 + 0.0627711383 i & 0.0116091772 - 0.0287051173 i & 0.035377866 - 0.0204346469 i & 0.0475641236 & -0.0286429251 + 0.0211373819 i & 0.0598009014 - 0.057678522 i  \\\\\n",
       " -0.0685408508 - 0.1025922748 i & 0.0245841711 - 0.0633826985 i & -0.0347782172 - 0.070574589 i & 0.0003128093 + 0.0459315531 i & -0.0411991143 - 0.0042510265 i & -0.0286429251 - 0.0211373819 i & 0.0909892535 & -0.137780765 + 0.0464735363 i  \\\\\n",
       " 0.0127798244 + 0.2408562673 i & -0.0756071134 + 0.0954593711 i & 0.010865135 + 0.1716520669 i & 0.0442589335 - 0.075215254 i & 0.0799987728 + 0.0233678276 i & 0.0598009014 + 0.057678522 i & -0.137780765 - 0.0464735363 i & 0.263988073  \\\\\n",
       " \\end{bmatrix}\n",
       "$$"
      ],
      "text/plain": [
       "<IPython.core.display.Latex object>"
      ]
     },
     "metadata": {},
     "output_type": "display_data"
    },
    {
     "data": {
      "text/latex": [
       "$$\n",
       "\n",
       "\\begin{bmatrix}\n",
       "0.0140320879 & 0.0244157253 - 0.0336081008 i & -0.0114620139 + 0.0087528559 i & -0.0197240561 + 0.0184226397 i & 0.0029122533 - 0.0005704734 i & 0.0216271874 - 0.0193400548 i & 0.0177906808 - 0.0088388271 i & 0.0208254742 - 0.0353153343 i  \\\\\n",
       " 0.0244157253 + 0.0336081008 i & 0.2650078808 & -0.1133309983 - 0.1031095761 i & -0.055097932 + 0.0501504971 i & 0.0150544841 - 0.1035964023 i & 0.0496099408 - 0.1231416551 i & 0.1235609081 + 0.0700895035 i & 0.178499893 + 0.0022630709 i  \\\\\n",
       " -0.0114620139 - 0.0087528559 i & -0.1133309983 + 0.1031095761 i & 0.1109785712 & -0.0272105861 - 0.0199949946 i & 0.0637640928 + 0.0609408736 i & 0.0797898736 + 0.0511505581 i & -0.0842731966 + 0.0198463463 i & -0.0775934431 + 0.0450387684 i  \\\\\n",
       " -0.0197240561 - 0.0184226397 i & -0.055097932 - 0.0501504971 i & -0.0272105861 + 0.0199949946 i & 0.0881291174 & -0.0536818331 - 0.0267432403 i & -0.1293715712 - 0.0090557592 i & -0.0049086134 - 0.0362143189 i & -0.0602081741 - 0.0009592405 i  \\\\\n",
       " 0.0029122533 + 0.0005704734 i & 0.0150544841 + 0.1035964023 i & 0.0637640928 - 0.0609408736 i & -0.0536818331 + 0.0267432403 i & 0.0870119236 & 0.1123214441 - 0.0404401674 i & -0.0250644849 + 0.0568231946 i & -0.0021921087 + 0.0386129425 i  \\\\\n",
       " 0.0216271874 + 0.0193400548 i & 0.0496099408 + 0.1231416551 i & 0.0797898736 - 0.0511505581 i & -0.1293715712 + 0.0090557592 i & 0.1123214441 + 0.0404401674 i & 0.212640027 & -0.0207129262 + 0.0709642433 i & 0.0534066891 + 0.0269652036 i  \\\\\n",
       " 0.0177906808 + 0.0088388271 i & 0.1235609081 - 0.0700895035 i & -0.0842731966 - 0.0198463463 i & -0.0049086134 + 0.0362143189 i & -0.0250644849 - 0.0568231946 i & -0.0207129262 - 0.0709642433 i & 0.0771350073 & 0.0820209483 - 0.041903842 i  \\\\\n",
       " 0.0208254742 + 0.0353153343 i & 0.178499893 - 0.0022630709 i & -0.0775934431 - 0.0450387684 i & -0.0602081741 + 0.0009592405 i & -0.0021921087 - 0.0386129425 i & 0.0534066891 - 0.0269652036 i & 0.0820209483 + 0.041903842 i & 0.1450653848  \\\\\n",
       " \\end{bmatrix}\n",
       "$$"
      ],
      "text/plain": [
       "<IPython.core.display.Latex object>"
      ]
     },
     "metadata": {},
     "output_type": "display_data"
    },
    {
     "data": {
      "text/latex": [
       "$$\n",
       "\n",
       "\\begin{bmatrix}\n",
       "0.1845580739 & 0.0342246718 + 0.0544888102 i & 0.164757433 - 0.0519999328 i & 0.0310337073 - 0.0424857352 i & -0.0924913251 + 0.0098451811 i & -0.0004156525 + 0.053909423 i & -0.0760465464 - 0.0154799401 i & -0.0602149201 - 0.0474604544 i  \\\\\n",
       " 0.0342246718 - 0.0544888102 i & 0.096324762 & 0.0572743691 - 0.1011649262 i & -0.038014319 - 0.0121037219 i & -0.0657716911 + 0.0088299143 i & -0.0069520631 + 0.0188300201 i & -0.0376991672 + 0.0565894546 i & -0.0218284248 - 0.0507691258 i  \\\\\n",
       " 0.164757433 + 0.0519999328 i & 0.0572743691 + 0.1011649262 i & 0.2804103012 & 0.0028980783 - 0.0090562781 i & -0.106820967 + 0.0212252398 i & -0.0278417114 + 0.0292219595 i & -0.1424917212 - 0.0306853458 i & -0.0338298005 - 0.0809194439 i  \\\\\n",
       " 0.0310337073 + 0.0424857352 i & -0.038014319 + 0.0121037219 i & 0.0028980783 + 0.0090562781 i & 0.050231385 & 0.0440765029 - 0.0240927977 i & -0.0089330803 + 0.0063233605 i & 0.0092900435 - 0.0095397836 i & 0.0076508644 + 0.0159943663 i  \\\\\n",
       " -0.0924913251 - 0.0098451811 i & -0.0657716911 - 0.0088299143 i & -0.106820967 - 0.0212252398 i & 0.0440765029 + 0.0240927977 i & 0.1801514837 & 0.004216024 - 0.0453240354 i & 0.0367397012 + 0.0345029007 i & 0.0554215193 + 0.1033677902 i  \\\\\n",
       " -0.0004156525 - 0.053909423 i & -0.0069520631 - 0.0188300201 i & -0.0278417114 - 0.0292219595 i & -0.0089330803 - 0.0063233605 i & 0.004216024 + 0.0453240354 i & 0.0258627794 & 0.0028632585 + 0.0055972282 i & -0.0258564328 + 0.0320696912 i  \\\\\n",
       " -0.0760465464 + 0.0154799401 i & -0.0376991672 - 0.0565894546 i & -0.1424917212 + 0.0306853458 i & 0.0092900435 + 0.0095397836 i & 0.0367397012 - 0.0345029007 i & 0.0028632585 - 0.0055972282 i & 0.0876651058 & 0.0172427989 + 0.0188513438 i  \\\\\n",
       " -0.0602149201 + 0.0474604544 i & -0.0218284248 + 0.0507691258 i & -0.0338298005 + 0.0809194439 i & 0.0076508644 - 0.0159943663 i & 0.0554215193 - 0.1033677902 i & -0.0258564328 - 0.0320696912 i & 0.0172427989 - 0.0188513438 i & 0.094796109  \\\\\n",
       " \\end{bmatrix}\n",
       "$$"
      ],
      "text/plain": [
       "<IPython.core.display.Latex object>"
      ]
     },
     "metadata": {},
     "output_type": "display_data"
    },
    {
     "data": {
      "text/latex": [
       "$$\n",
       "\n",
       "\\begin{bmatrix}\n",
       "0.1092331145 & -0.025914762 - 0.0188426526 i & -0.0457247172 + 0.0928996766 i & 0.0182798103 + 0.0597538114 i & 0.1345516638 - 0.0094544473 i & -0.0262755186 + 0.0573166869 i & 0.0410065744 - 0.0252996427 i & -0.0302274344 - 0.0338607309 i  \\\\\n",
       " -0.025914762 + 0.0188426526 i & 0.0559168151 & -0.0434772005 - 0.0788877431 i & -0.0427247202 - 0.0129565988 i & -0.0002553024 - 0.0064127471 i & 0.0318352966 - 0.0703796462 i & 0.038370593 + 0.0161266514 i & -0.0414107614 + 0.0342665763 i  \\\\\n",
       " -0.0457247172 - 0.0928996766 i & -0.0434772005 + 0.0788877431 i & 0.1914390662 & 0.0783065799 - 0.0886031577 i & -0.0659454047 - 0.0613971892 i & 0.0866079942 + 0.0802095727 i & -0.0838939044 + 0.0279920251 i & -0.0056282163 - 0.0306645093 i  \\\\\n",
       " 0.0182798103 - 0.0597538114 i & -0.0427247202 + 0.0129565988 i & 0.0783065799 + 0.0886031577 i & 0.101961097 & 0.0076154829 - 0.0836717827 i & 0.0058529047 + 0.0605706528 i & -0.0565534325 - 0.0299065096 i & -0.017995073 - 0.0003919011 i  \\\\\n",
       " 0.1345516638 + 0.0094544473 i & -0.0002553024 + 0.0064127471 i & -0.0659454047 + 0.0613971892 i & 0.0076154829 + 0.0836717827 i & 0.2258599377 & 0.0189971584 + 0.0583274812 i & 0.0774278968 - 0.009724496 i & -0.1005998678 - 0.0751547426 i  \\\\\n",
       " -0.0262755186 - 0.0573166869 i & 0.0318352966 + 0.0703796462 i & 0.0866079942 - 0.0802095727 i & 0.0058529047 - 0.0605706528 i & 0.0189971584 - 0.0583274812 i & 0.1224877152 & 0.0074330379 + 0.0378228829 i & -0.0856300925 - 0.0116116413 i  \\\\\n",
       " 0.0410065744 + 0.0252996427 i & 0.038370593 - 0.0161266514 i & -0.0838939044 - 0.0279920251 i & -0.0565534325 + 0.0299065096 i & 0.0774278968 + 0.009724496 i & 0.0074330379 - 0.0378228829 i & 0.073583714 & -0.0410972331 + 0.0070456341 i  \\\\\n",
       " -0.0302274344 + 0.0338607309 i & -0.0414107614 - 0.0342665763 i & -0.0056282163 + 0.0306645093 i & -0.017995073 + 0.0003919011 i & -0.1005998678 + 0.0751547426 i & -0.0856300925 + 0.0116116413 i & -0.0410972331 - 0.0070456341 i & 0.1195185403  \\\\\n",
       " \\end{bmatrix}\n",
       "$$"
      ],
      "text/plain": [
       "<IPython.core.display.Latex object>"
      ]
     },
     "metadata": {},
     "output_type": "display_data"
    },
    {
     "data": {
      "text/latex": [
       "$$\n",
       "\n",
       "\\begin{bmatrix}\n",
       "0.2029753811 & 0.0137131899 + 0.1587588531 i & 0.0223916019 + 0.0943775038 i & 0.1022185939 + 0.0956070891 i & -0.0223538291 + 0.0422516652 i & -0.0452681008 - 0.0427737081 i & 0.0564861643 - 0.0117927124 i & 0.0991787388 + 0.0186239561 i  \\\\\n",
       " 0.0137131899 - 0.1587588531 i & 0.2068756716 & 0.0523778683 - 0.0129335695 i & 0.0026542941 + 0.0066006476 i & 0.0685395885 + 0.0161037583 i & -0.0662390216 + 0.0048686269 i & 0.0395197321 - 0.052440645 i & 0.0894840566 - 0.0694315403 i  \\\\\n",
       " 0.0223916019 - 0.0943775038 i & 0.0523778683 + 0.0129335695 i & 0.0692455531 & 0.0866904508 - 0.0803106149 i & 0.0002825388 + 0.0150172505 i & -0.0079447022 + 0.0382168836 i & -0.0167645567 - 0.0276545626 i & -0.0010491633 - 0.0490063494 i  \\\\\n",
       " 0.1022185939 - 0.0956070891 i & 0.0026542941 - 0.0066006476 i & 0.0866904508 + 0.0803106149 i & 0.2803591695 & -0.0331297663 - 0.0093415009 i & -0.0533817346 + 0.0744063602 i & -0.0273973662 - 0.0772717078 i & 0.003919912 - 0.1152731416 i  \\\\\n",
       " -0.0223538291 - 0.0422516652 i & 0.0685395885 - 0.0161037583 i & 0.0002825388 - 0.0150172505 i & -0.0331297663 + 0.0093415009 i & 0.0311306967 & -0.0209874622 - 0.0048716577 i & 0.0144727778 - 0.0108631146 i & 0.024569455 - 0.0144007766 i  \\\\\n",
       " -0.0452681008 + 0.0427737081 i & -0.0662390216 - 0.0048686269 i & -0.0079447022 - 0.0382168836 i & -0.0533817346 - 0.0744063602 i & -0.0209874622 + 0.0048716577 i & 0.0564604788 & -0.0292415191 + 0.0354557737 i & -0.0578887234 + 0.0363298074 i  \\\\\n",
       " 0.0564861643 + 0.0117927124 i & 0.0395197321 + 0.052440645 i & -0.0167645567 + 0.0276545626 i & -0.0273973662 + 0.0772717078 i & 0.0144727778 + 0.0108631146 i & -0.0292415191 - 0.0354557737 i & 0.0439455053 & 0.0646575125 + 0.0220842567 i  \\\\\n",
       " 0.0991787388 - 0.0186239561 i & 0.0894840566 + 0.0694315403 i & -0.0010491633 + 0.0490063494 i & 0.003919912 + 0.1152731416 i & 0.024569455 + 0.0144007766 i & -0.0578887234 - 0.0363298074 i & 0.0646575125 - 0.0220842567 i & 0.1090075439  \\\\\n",
       " \\end{bmatrix}\n",
       "$$"
      ],
      "text/plain": [
       "<IPython.core.display.Latex object>"
      ]
     },
     "metadata": {},
     "output_type": "display_data"
    },
    {
     "data": {
      "text/latex": [
       "$$\n",
       "\n",
       "\\begin{bmatrix}\n",
       "0.0575974869 & -0.0094933217 - 0.0038780126 i & 0.0345484323 + 0.021390456 i & 0.0001206649 + 0.0006244645 i & -0.0130871694 + 0.0023274376 i & -0.0128138087 - 0.0595117258 i & -0.0606281724 - 0.069850599 i & 0.0633968333 - 0.0280371267 i  \\\\\n",
       " -0.0094933217 + 0.0038780126 i & 0.0611347663 & 0.0327093487 + 0.0460158534 i & 0.0018620209 - 0.0149375297 i & -0.0204559834 + 0.0435105223 i & 0.011788185 + 0.0387094984 i & 0.0300973009 + 0.0289804786 i & 0.0418511182 + 0.0313817229 i  \\\\\n",
       " 0.0345484323 - 0.021390456 i & 0.0327093487 - 0.0460158534 i & 0.299735497 & 0.0590153944 + 0.0050123972 i & 0.0880903117 + 0.0622139627 i & 0.0690440319 - 0.0345489521 i & -0.0309860045 + 0.0603162515 i & -0.0225351459 - 0.063455114 i  \\\\\n",
       " 0.0001206649 - 0.0006244645 i & 0.0018620209 + 0.0149375297 i & 0.0590153944 - 0.0050123972 i & 0.0282401834 & 0.0136482724 - 0.0071758578 i & 0.0144583241 - 0.0095812587 i & 0.0015682421 + 0.0307166014 i & -0.0381507495 + 0.0212265751 i  \\\\\n",
       " -0.0130871694 - 0.0023274376 i & -0.0204559834 - 0.0435105223 i & 0.0880903117 - 0.0622139627 i & 0.0136482724 + 0.0071758578 i & 0.0725452979 & 0.045803868 - 0.0111527762 i & 0.0257660572 + 0.0263177965 i & -0.0543121787 - 0.0381264186 i  \\\\\n",
       " -0.0128138087 + 0.0595117258 i & 0.011788185 - 0.0387094984 i & 0.0690440319 + 0.0345489521 i & 0.0144583241 + 0.0095812587 i & 0.045803868 + 0.0111527762 i & 0.1061946132 & 0.0921079565 - 0.0256837439 i & -0.0043763976 + 0.039844068 i  \\\\\n",
       " -0.0606281724 + 0.069850599 i & 0.0300973009 - 0.0289804786 i & -0.0309860045 - 0.0603162515 i & 0.0015682421 - 0.0307166014 i & 0.0257660572 - 0.0263177965 i & 0.0921079565 + 0.0256837439 i & 0.1894713448 & -0.0126273099 + 0.1321589793 i  \\\\\n",
       " 0.0633968333 + 0.0280371267 i & 0.0418511182 - 0.0313817229 i & -0.0225351459 + 0.063455114 i & -0.0381507495 - 0.0212265751 i & -0.0543121787 + 0.0381264186 i & -0.0043763976 - 0.039844068 i & -0.0126273099 - 0.1321589793 i & 0.1850808104  \\\\\n",
       " \\end{bmatrix}\n",
       "$$"
      ],
      "text/plain": [
       "<IPython.core.display.Latex object>"
      ]
     },
     "metadata": {},
     "output_type": "display_data"
    },
    {
     "data": {
      "text/latex": [
       "$$\n",
       "\n",
       "\\begin{bmatrix}\n",
       "0.0505729124 & -0.0044677889 - 0.0801571314 i & 0.0709246535 + 0.00169338 i & -0.010663606 + 0.0144796311 i & -0.006381262 + 0.0356070174 i & -0.0168559712 + 0.0534383253 i & -0.0541859341 - 0.0242463393 i & 0.0028089992 + 0.029376549 i  \\\\\n",
       " -0.0044677889 + 0.0801571314 i & 0.2013653817 & 0.0020543209 + 0.0927768372 i & 0.0121622463 + 0.0128217501 i & -0.0755611038 - 0.0091931785 i & -0.0177278194 - 0.0308841055 i & 0.046184039 - 0.0933850117 i & -0.0431086048 + 0.0328599026 i  \\\\\n",
       " 0.0709246535 - 0.00169338 i & 0.0020543209 - 0.0927768372 i & 0.1464989432 & 0.0218429997 + 0.0204696685 i & -0.049646046 + 0.0256077358 i & -0.0114808625 + 0.1715449766 i & -0.0660739437 - 0.052147861 i & -0.0376339388 + 0.0810239173 i  \\\\\n",
       " -0.010663606 - 0.0144796311 i & 0.0121622463 - 0.0128217501 i & 0.0218429997 - 0.0204696685 i & 0.0785547153 & -0.0261272138 - 0.0281252291 i & 0.0230597392 + 0.0437403487 i & 0.0160372807 - 0.0013337997 i & -0.023506334 + 0.0274181118 i  \\\\\n",
       " -0.006381262 - 0.0356070174 i & -0.0755611038 + 0.0091931785 i & -0.049646046 - 0.0256077358 i & -0.0261272138 + 0.0281252291 i & 0.0769554334 & -0.0174477975 - 0.0724062975 i & -0.0092706536 + 0.0656546397 i & 0.0369301647 - 0.0638411413 i  \\\\\n",
       " -0.0168559712 - 0.0534383253 i & -0.0177278194 + 0.0308841055 i & -0.0114808625 - 0.1715449766 i & 0.0230597392 - 0.0437403487 i & -0.0174477975 + 0.0724062975 i & 0.2741487419 & -0.0426462312 + 0.041242245 i & 0.1001473607 + 0.0837161235 i  \\\\\n",
       " -0.0541859341 + 0.0242463393 i & 0.046184039 + 0.0933850117 i & -0.0660739437 + 0.052147861 i & 0.0160372807 + 0.0013337997 i & -0.0092706536 - 0.0656546397 i & -0.0426462312 - 0.041242245 i & 0.0818219744 & -0.0442064036 - 0.0385636103 i  \\\\\n",
       " 0.0028089992 - 0.029376549 i & -0.0431086048 - 0.0328599026 i & -0.0376339388 - 0.0810239173 i & -0.023506334 - 0.0274181118 i & 0.0369301647 + 0.0638411413 i & 0.1001473607 - 0.0837161235 i & -0.0442064036 + 0.0385636103 i & 0.0900818977  \\\\\n",
       " \\end{bmatrix}\n",
       "$$"
      ],
      "text/plain": [
       "<IPython.core.display.Latex object>"
      ]
     },
     "metadata": {},
     "output_type": "display_data"
    },
    {
     "data": {
      "text/latex": [
       "$$\n",
       "\n",
       "\\begin{bmatrix}\n",
       "0.0597088311 & -0.0173578522 + 0.0306443198 i & -0.0911622783 - 0.0269253691 i & -0.0239983082 + 0.0363046835 i & 0.0501603298 - 0.0942899988 i & 0.0799472274 + 0.0202589809 i & 0.0505180099 - 0.0259455906 i & 0.0256155509 + 0.0822004876 i  \\\\\n",
       " -0.0173578522 - 0.0306443198 i & 0.0749030928 & 0.0077162526 + 0.0569795805 i & 0.0494924396 - 0.030110448 i & -0.049598242 + 0.0146106893 i & -0.0146907699 - 0.0680347687 i & -0.0467156257 - 0.0494182043 i & 0.0045665433 - 0.0009882999 i  \\\\\n",
       " -0.0911622783 + 0.0269253691 i & 0.0077162526 - 0.0569795805 i & 0.1590055426 & 0.0185227428 - 0.0618352738 i & -0.0346897472 + 0.1726145542 i & -0.1217462035 + 0.0180684259 i & -0.0648482446 + 0.0647406598 i & -0.0888420308 - 0.1171590775 i  \\\\\n",
       " -0.0239983082 - 0.0363046835 i & 0.0494924396 + 0.030110448 i & 0.0185227428 + 0.0618352738 i & 0.0624024424 & -0.0764222366 + 0.0229879875 i & -0.0016712608 - 0.0679681822 i & -0.026475946 - 0.045419014 i & 0.0003165396 - 0.0447312268 i  \\\\\n",
       " 0.0501603298 + 0.0942899988 i & -0.049598242 - 0.0146106893 i & -0.0346897472 - 0.1726145542 i & -0.0764222366 - 0.0229879875 i & 0.205999085 & 0.0417011366 + 0.1273596342 i & 0.0699219325 + 0.0545372372 i & -0.1085465794 + 0.1442750961 i  \\\\\n",
       " 0.0799472274 - 0.0202589809 i & -0.0146907699 + 0.0680347687 i & -0.1217462035 - 0.0180684259 i & -0.0016712608 + 0.0679681822 i & 0.0417011366 - 0.1273596342 i & 0.1536214895 & 0.0698737707 - 0.0603491943 i & 0.0229064688 + 0.1127346593 i  \\\\\n",
       " 0.0505180099 + 0.0259455906 i & -0.0467156257 + 0.0494182043 i & -0.0648482446 - 0.0647406598 i & -0.026475946 + 0.045419014 i & 0.0699219325 - 0.0545372372 i & 0.0698737707 + 0.0603491943 i & 0.0785288856 & -0.0245865899 + 0.0477267592 i  \\\\\n",
       " 0.0256155509 - 0.0822004876 i & 0.0045665433 + 0.0009882999 i & -0.0888420308 + 0.1171590775 i & 0.0003165396 + 0.0447312268 i & -0.1085465794 - 0.1442750961 i & 0.0229064688 - 0.1127346593 i & -0.0245865899 - 0.0477267592 i & 0.205830631  \\\\\n",
       " \\end{bmatrix}\n",
       "$$"
      ],
      "text/plain": [
       "<IPython.core.display.Latex object>"
      ]
     },
     "metadata": {},
     "output_type": "display_data"
    }
   ],
   "source": [
    "weights = [] \n",
    "\n",
    "# using the calculated fidelities, generate num_qubits density matrix\n",
    "# coefficients that together sum to one\n",
    "for values in fidelities: \n",
    "    coupled_weights = []\n",
    "    total = 0 \n",
    "\n",
    "    for fidelity in values: \n",
    "        total += fidelity \n",
    "\n",
    "    for fidelity in values: \n",
    "        coupled_weights.append(fidelity / total)\n",
    "\n",
    "    weights.append(coupled_weights)\n",
    "\n",
    "mixed_density_matrices = []\n",
    "\n",
    "# generate mixed_states using the weights for each of the pure states\n",
    "# the mixed states are just generated via ∑ weight_n * |Ψ_n><Ψ_n| \n",
    "for coupled_states_idx in range(len(density_matrices)):\n",
    "    mixed_density_matrix = np.zeros((2**num_qubits, 2**num_qubits), dtype=np.complex128)\n",
    "\n",
    "    for matrix_idx in range(len(density_matrices[coupled_states_idx])):\n",
    "        current_matrix = density_matrices[coupled_states_idx][matrix_idx].data\n",
    "\n",
    "        mixed_density_matrix += weights[coupled_states_idx][matrix_idx] * current_matrix\n",
    "\n",
    "\n",
    "    mixed_density_matrices.append(DensityMatrix(mixed_density_matrix))\n",
    "\n",
    "for i in mixed_density_matrices: \n",
    "    display(i.draw('latex'))\n"
   ]
  },
  {
   "cell_type": "code",
   "execution_count": 39,
   "metadata": {},
   "outputs": [
    {
     "name": "stdout",
     "output_type": "stream",
     "text": [
      "[array([-2.29720968e-17, -1.38642345e-17,  1.67047408e-18,  1.70600926e-17,\n",
      "        3.06906612e-17,  5.89384422e-02,  1.70323811e-01,  7.70737747e-01])]\n"
     ]
    }
   ],
   "source": [
    "full_eigenvalues, full_eigenvectors = [], []\n",
    "\n",
    "# perform spectral/eigendecomposition on the resultant mixed states\n",
    "# to retrieve the eigenvalues and eigenvectors \n",
    "for matrix in mixed_density_matrices: \n",
    "\n",
    "    is_unit_trace = np.isclose(np.trace(matrix), 1.0)\n",
    "    is_hermitian = np.allclose(matrix, np.matrix(matrix.data).getH())\n",
    "\n",
    "    # implement checks to ensure the provided density matrix is valid\n",
    "    if not is_unit_trace: \n",
    "        raise Exception(\"Tr(ρ) ≠ 1\")\n",
    "    if not is_hermitian: \n",
    "        raise Exception(\"ρ not Hermitian\")\n",
    "\n",
    "    eigenvalues, eigenvectors = np.linalg.eigh(matrix.data)\n",
    "    full_eigenvalues.append([eigenvalues])\n",
    "    full_eigenvectors.append([eigenvectors])\n",
    "\n",
    "    reconstructed_matrix = sum(eigenvalues[i] * np.outer(eigenvectors[:, i], \n",
    "                                np.conj(eigenvectors[:, i])) for i in range(len(eigenvalues)))\n",
    "\n",
    "    spectral_decomp_worked = np.allclose(matrix, reconstructed_matrix)\n",
    "\n",
    "    if not spectral_decomp_worked: \n",
    "        raise Exception(\"spectral decomposition failed\")\n",
    "    \n",
    "print(full_eigenvalues[0])"
   ]
  },
  {
   "cell_type": "code",
   "execution_count": 34,
   "metadata": {},
   "outputs": [
    {
     "name": "stdout",
     "output_type": "stream",
     "text": [
      "[[array([[ 0.33032713+0.j        ,  0.16735412+0.j        ,\n",
      "         0.12461545+0.j        , -0.21774183+0.j        ,\n",
      "         0.53635014+0.j        , -0.1315286 +0.j        ,\n",
      "        -0.4583355 +0.j        , -0.53375406+0.j        ],\n",
      "       [ 0.39234916-0.05598368j, -0.35680365-0.39414882j,\n",
      "         0.01602516-0.11491782j, -0.20635822+0.14722826j,\n",
      "        -0.37519767-0.15333299j,  0.43355234-0.02059234j,\n",
      "        -0.12629518-0.19618861j, -0.15654304-0.2256566j ],\n",
      "       [ 0.08472765+0.04801429j, -0.2521322 +0.07833208j,\n",
      "        -0.0884718 +0.17649974j,  0.26010321+0.12124003j,\n",
      "         0.03062425-0.23519748j, -0.27360926+0.15021424j,\n",
      "         0.53585114-0.30332362j, -0.51532098+0.03313043j],\n",
      "       [ 0.26512761+0.04796527j,  0.24616352+0.31914035j,\n",
      "         0.36056897+0.35225059j,  0.10141487+0.01219046j,\n",
      "        -0.16542059+0.10004647j,  0.42950695+0.10394061j,\n",
      "         0.22606718+0.42093491j, -0.18211552-0.07952252j],\n",
      "       [-0.00415018-0.18319241j, -0.15259905-0.41357236j,\n",
      "        -0.04371856+0.59384496j,  0.32350591-0.40780862j,\n",
      "         0.21735909-0.07569412j,  0.10665197-0.25941642j,\n",
      "        -0.08685366+0.04080809j,  0.0741224 +0.0147842j ],\n",
      "       [ 0.25098052+0.27159907j, -0.46769937+0.14443817j,\n",
      "        -0.08841545-0.28615423j,  0.04374019-0.21635841j,\n",
      "         0.45335077+0.13559855j,  0.32367094+0.09577923j,\n",
      "         0.19121884+0.10283611j,  0.18179278+0.25917752j],\n",
      "       [-0.16671975-0.01057711j, -0.11896639-0.03070105j,\n",
      "         0.31399033+0.32686954j, -0.11123182+0.66389924j,\n",
      "         0.34679738+0.05899226j,  0.16282086+0.01705315j,\n",
      "         0.01699879-0.26226005j,  0.27196865+0.06958846j],\n",
      "       [ 0.61207119-0.28082387j, -0.06108711-0.06645313j,\n",
      "         0.1670034 +0.0187019j ,  0.13899342+0.05831128j,\n",
      "        -0.05315256+0.22572793j, -0.48565539+0.21524794j,\n",
      "         0.03429001+0.03821015j,  0.37875107-0.07307921j]])], [array([[ 0.84260986-0.j        ,  0.28069211+0.j        ,\n",
      "         0.13636758+0.j        , -0.06704968+0.j        ,\n",
      "        -0.0692852 +0.j        ,  0.28636644+0.j        ,\n",
      "        -0.15933701+0.j        , -0.27556183+0.j        ],\n",
      "       [-0.03343315-0.01082748j, -0.01905417-0.17625022j,\n",
      "         0.12586773-0.03753887j,  0.04258383-0.02865306j,\n",
      "         0.65897084-0.18900099j, -0.15256206+0.27977136j,\n",
      "        -0.56509795-0.12873958j, -0.0671899 +0.18845784j],\n",
      "       [-0.18786276-0.11383224j,  0.53787783+0.54420765j,\n",
      "         0.01224105-0.46237691j,  0.10597336+0.27207962j,\n",
      "         0.03476479+0.03697636j,  0.11513299+0.18038571j,\n",
      "        -0.03148468-0.02162011j,  0.08283098+0.10190793j],\n",
      "       [ 0.16607142+0.2300732j ,  0.19377365+0.04814667j,\n",
      "        -0.14955559-0.05301662j, -0.53129288+0.00701181j,\n",
      "        -0.00982334+0.03733424j, -0.44921847-0.3013184j ,\n",
      "        -0.13217904+0.15256126j,  0.37252318+0.31388094j],\n",
      "       [ 0.14950536+0.19301077j, -0.0870433 -0.20559394j,\n",
      "         0.04153334-0.36439113j,  0.07981257+0.1758088j ,\n",
      "         0.17045291-0.33340542j, -0.13514325-0.00815764j,\n",
      "         0.60929945-0.19982852j, -0.16598667+0.34855766j],\n",
      "       [-0.06642548+0.03766592j, -0.07992116+0.03993531j,\n",
      "        -0.40522706+0.34440005j, -0.20512596+0.20541615j,\n",
      "         0.04926497+0.25603201j,  0.30110386+0.36191785j,\n",
      "         0.09399407+0.11583781j, -0.18897475+0.52105822j],\n",
      "       [-0.24815118+0.16797712j,  0.08204175-0.31050429j,\n",
      "         0.34220782+0.03877658j, -0.06695441+0.49302331j,\n",
      "        -0.4951381 -0.06704996j, -0.00756538-0.05096279j,\n",
      "        -0.31596942-0.16700211j, -0.19025111+0.15704295j],\n",
      "       [-0.04864932+0.04911073j, -0.21893761-0.23566677j,\n",
      "         0.00847228-0.43476923j, -0.49895312+0.08503338j,\n",
      "         0.14510402+0.20558216j,  0.48466146+0.02308613j,\n",
      "        -0.01348293-0.18750595j,  0.22880194-0.24500698j]])], [array([[ 0.09836092-0.j        , -0.04187911+0.j        ,\n",
      "         0.04493281+0.j        ,  0.04690156+0.j        ,\n",
      "        -0.90441792+0.j        , -0.14893205+0.j        ,\n",
      "         0.30031489-0.j        , -0.23240266+0.j        ],\n",
      "       [ 0.17972209-0.20173454j,  0.28792457+0.4974204j ,\n",
      "         0.18260097-0.17756355j, -0.12093831+0.13030666j,\n",
      "        -0.16185178-0.04007763j,  0.10101553-0.48290953j,\n",
      "        -0.36907533-0.27035183j,  0.12327988-0.06697089j],\n",
      "       [-0.22626572-0.08754968j,  0.13200602-0.06643067j,\n",
      "         0.02736749-0.00465335j,  0.3690384 -0.1992405j ,\n",
      "        -0.16609955-0.08228972j,  0.48551993+0.36526114j,\n",
      "        -0.45664601-0.13755287j, -0.29461577-0.15777426j],\n",
      "       [-0.0598383 -0.25128176j, -0.06518218+0.14974241j,\n",
      "         0.24417872+0.16637316j, -0.37626937-0.45116146j,\n",
      "         0.02315602-0.17333258j, -0.4354435 +0.24545054j,\n",
      "        -0.2656757 -0.02763123j, -0.1966826 +0.28932382j],\n",
      "       [ 0.38146936-0.53096904j, -0.36744315-0.11040951j,\n",
      "         0.09418406+0.01015672j, -0.17338402+0.26094255j,\n",
      "         0.06285321+0.1361492j ,  0.15552441+0.04257663j,\n",
      "        -0.10327463+0.32904738j, -0.26683517-0.28212561j],\n",
      "       [ 0.29614725+0.04919059j,  0.46419393+0.40263103j,\n",
      "        -0.44858793+0.30726235j, -0.13214648-0.02783728j,\n",
      "         0.09028737+0.02469994j,  0.14087964+0.19933847j,\n",
      "         0.17952022+0.19442846j, -0.28137079+0.02943148j],\n",
      "       [ 0.40674945+0.29762937j,  0.10444088-0.04220476j,\n",
      "         0.33538168-0.40773408j,  0.23756588+0.18945087j,\n",
      "         0.17963176-0.08353893j, -0.08466586+0.09663379j,\n",
      "        -0.02221095+0.01376666j, -0.40738258+0.37393749j],\n",
      "       [ 0.12507693+0.0670933j , -0.1042327 +0.26657518j,\n",
      "         0.25076523+0.44588j   ,  0.47806786+0.08896193j,\n",
      "        -0.09277895+0.10090433j, -0.08821444+0.0744278j ,\n",
      "        -0.21541519+0.40700922j,  0.35590853+0.17008877j]])], [array([[ 0.32795815+0.j        , -0.15699229+0.j        ,\n",
      "         0.23672824+0.j        , -0.24098113+0.j        ,\n",
      "        -0.13974983+0.j        , -0.64079213+0.j        ,\n",
      "         0.06016106+0.j        , -0.5656154 +0.j        ],\n",
      "       [ 0.39374199+0.24110325j, -0.01653252+0.03746425j,\n",
      "        -0.2089869 -0.09082056j, -0.03587439+0.18949142j,\n",
      "         0.18314615+0.48261502j,  0.40486539-0.00359404j,\n",
      "         0.40580647+0.02268526j, -0.30005748-0.10210301j],\n",
      "       [ 0.09752345+0.14001713j,  0.119288  +0.35878441j,\n",
      "         0.57390813-0.46942824j,  0.06167144-0.36006583j,\n",
      "         0.07088199-0.0910016j ,  0.22516735-0.19922849j,\n",
      "         0.02968219+0.04822645j, -0.03208996+0.19185895j],\n",
      "       [ 0.0573888 +0.1430535j , -0.13704158-0.08835466j,\n",
      "         0.31353655-0.03218855j, -0.53695011+0.28678767j,\n",
      "         0.50687826+0.1257837j , -0.04849979+0.03178087j,\n",
      "        -0.27043957-0.09493159j,  0.33224979-0.1053687j ],\n",
      "       [-0.44207578+0.10660524j, -0.16177618-0.30988642j,\n",
      "         0.07528523-0.21142218j, -0.22053392+0.17837429j,\n",
      "        -0.14110322-0.26049906j,  0.28731958-0.05417182j,\n",
      "         0.135765  -0.46232698j, -0.36216004+0.05990094j],\n",
      "       [ 0.16943132+0.14152362j, -0.62801645+0.10691048j,\n",
      "        -0.2277841 -0.02286111j, -0.10659879-0.33313932j,\n",
      "         0.09793054-0.35515973j, -0.02342346+0.18793628j,\n",
      "         0.35350298-0.04675557j,  0.26257487+0.05461428j],\n",
      "       [ 0.16256249+0.10121472j,  0.15857933-0.12625223j,\n",
      "         0.09614311+0.34071387j, -0.3147512 +0.23489949j,\n",
      "        -0.18490938-0.32331614j,  0.20330889-0.16165391j,\n",
      "         0.18361123+0.44676808j,  0.05946694+0.44679307j],\n",
      "       [ 0.45546847-0.35602309j, -0.22966276-0.42692628j,\n",
      "         0.09468451-0.07675371j, -0.03434395-0.20614912j,\n",
      "        -0.25592373+0.01539782j,  0.37343707+0.05851831j,\n",
      "        -0.39096555+0.01825016j, -0.01932501-0.10038663j]])], [array([[-0.20557039+0.j        ,  0.1045979 +0.j        ,\n",
      "        -0.02344315+0.j        ,  0.37347812+0.j        ,\n",
      "         0.74861635+0.j        ,  0.38518572+0.j        ,\n",
      "        -0.21497242+0.j        , -0.22750161+0.j        ],\n",
      "       [ 0.6475631 -0.04958018j, -0.11770147-0.00975932j,\n",
      "        -0.11444101+0.09282957j, -0.40991581-0.17281266j,\n",
      "         0.26852775+0.21343916j,  0.10689759-0.0289958j ,\n",
      "        -0.17430676-0.02375497j, -0.07108529+0.42274597j],\n",
      "       [ 0.08079835+0.00930194j,  0.35424727-0.0420882j ,\n",
      "        -0.51807114+0.22012378j, -0.06647905+0.21087573j,\n",
      "        -0.01682966-0.24115171j, -0.23233582+0.43172294j,\n",
      "        -0.1133746 +0.30233655j, -0.30750758-0.05251866j],\n",
      "       [-0.07282403-0.16556312j, -0.0309471 +0.12521441j,\n",
      "         0.36413704-0.28550907j, -0.1958338 +0.07899596j,\n",
      "        -0.31750988-0.2186091j ,  0.29120138+0.22511023j,\n",
      "        -0.50612702-0.04309049j, -0.38094599+0.06877623j],\n",
      "       [-0.13244867+0.17091261j,  0.37019501-0.60339211j,\n",
      "         0.1069693 -0.09071792j, -0.28474537+0.36335976j,\n",
      "         0.08943733-0.00607423j, -0.10641187-0.20674408j,\n",
      "        -0.0461185 -0.36377814j, -0.03087714+0.14771611j],\n",
      "       [-0.35485419+0.52151477j, -0.20688499+0.28017261j,\n",
      "         0.19390213+0.12372592j, -0.33334984+0.15242811j,\n",
      "         0.21699472-0.01197727j, -0.09348564+0.32667911j,\n",
      "         0.04226096+0.12964437j,  0.17412954+0.28624545j],\n",
      "       [ 0.19335522+0.10329254j,  0.09014343-0.04888098j,\n",
      "         0.53805476+0.18176805j,  0.01274791+0.10318905j,\n",
      "         0.09160271+0.19641176j, -0.27752077-0.25517861j,\n",
      "        -0.08874522+0.53205218j, -0.2523758 -0.25362348j],\n",
      "       [ 0.01620637+0.06036648j, -0.38102913+0.23040969j,\n",
      "        -0.19319483+0.11969899j, -0.10914087+0.44603892j,\n",
      "        -0.01864298-0.1108512j ,  0.11745585-0.37157964j,\n",
      "         0.30373598-0.15585664j, -0.49858113-0.07532629j]])], [array([[-0.09949606+0.j        ,  0.45774471+0.j        ,\n",
      "        -0.35147793+0.j        , -0.4100867 +0.j        ,\n",
      "         0.40497701+0.j        , -0.24965123+0.j        ,\n",
      "         0.38903762-0.j        , -0.33343678+0.j        ],\n",
      "       [ 0.09657129-0.25953541j,  0.03133903-0.21786439j,\n",
      "         0.04499657-0.05169552j,  0.31855758-0.15452791j,\n",
      "         0.23050952-0.60948299j, -0.21097158-0.03766193j,\n",
      "         0.10232775+0.20219822j,  0.13230396-0.45323548j],\n",
      "       [ 0.44933252-0.09326757j, -0.44367045+0.0255445j ,\n",
      "         0.14695351-0.19114738j, -0.29218524+0.04937273j,\n",
      "         0.1348839 -0.07773197j, -0.4822458 +0.01080851j,\n",
      "        -0.20398328+0.13372879j, -0.25181169+0.25719151j],\n",
      "       [-0.12336728-0.44664926j,  0.21498411+0.21534657j,\n",
      "         0.10521371-0.15360745j,  0.03791728-0.08807156j,\n",
      "        -0.0145284 -0.08842245j, -0.17730192-0.3622548j ,\n",
      "        -0.23379918-0.64008087j,  0.01672288+0.11616281j],\n",
      "       [ 0.26223589+0.31025004j,  0.11928596+0.03111868j,\n",
      "        -0.06488117-0.37051018j, -0.06639297-0.52279994j,\n",
      "         0.15122786-0.16894135j,  0.18505892+0.40972409j,\n",
      "        -0.06067154-0.27939586j,  0.20988194+0.14573742j],\n",
      "       [-0.13537326+0.26194397j, -0.49384381+0.28236706j,\n",
      "        -0.5202101 +0.0410445j ,  0.06932324+0.14866956j,\n",
      "         0.17878563-0.02969922j, -0.15505366-0.00801918j,\n",
      "        -0.05023472-0.33123829j,  0.10016519-0.33317762j],\n",
      "       [-0.06715193-0.28331065j, -0.22087561-0.11984283j,\n",
      "        -0.28551898+0.50727357j,  0.08917168-0.54437767j,\n",
      "         0.14223387+0.13834268j, -0.06363021-0.04526146j,\n",
      "         0.02174187+0.09035291j,  0.15387453+0.36214756j],\n",
      "       [ 0.06753746-0.38314927j, -0.05144895-0.2175517j ,\n",
      "         0.14644471+0.06988663j,  0.00241754+0.02294045j,\n",
      "         0.23420237+0.44793597j,  0.05683828+0.51073468j,\n",
      "        -0.12954532-0.23244942j, -0.15737574-0.39577463j]])], [array([[ 0.0900623 +0.j        , -0.05285164+0.j        ,\n",
      "        -0.10258524+0.j        , -0.51401072+0.j        ,\n",
      "        -0.61663799+0.j        , -0.47820152+0.j        ,\n",
      "        -0.31791426+0.j        , -0.06615255+0.j        ],\n",
      "       [ 0.10616734+0.01144834j, -0.09730414-0.1505252j ,\n",
      "        -0.42406785-0.02573057j, -0.45126648+0.22535277j,\n",
      "         0.46180647-0.22287074j,  0.07308658+0.02497242j,\n",
      "        -0.00303709+0.01360841j, -0.4321635 +0.25629872j],\n",
      "       [ 0.00981729+0.11882598j, -0.02570258-0.05865971j,\n",
      "        -0.03630663+0.15317474j,  0.4253368 -0.02111608j,\n",
      "        -0.22191688+0.0213941j , -0.19079208-0.22543047j,\n",
      "         0.19410028+0.33220785j, -0.69972151-0.0311766j ],\n",
      "       [ 0.40622064-0.23718449j, -0.08513084+0.3655337j ,\n",
      "         0.32782301+0.08239175j, -0.05652512-0.26328167j,\n",
      "         0.13828307-0.13569964j,  0.185842  +0.05548125j,\n",
      "        -0.4094722 +0.4376363j , -0.11268321+0.06367858j],\n",
      "       [ 0.23568504+0.42241818j,  0.16639471-0.24038907j,\n",
      "         0.05782678-0.05246181j, -0.0541194 -0.07965002j,\n",
      "        -0.26583065-0.35574693j,  0.26396787+0.55971859j,\n",
      "         0.22415859+0.16942985j,  0.01127859-0.07684805j],\n",
      "       [-0.11535215-0.2951375j , -0.19963118-0.80019768j,\n",
      "         0.24280901+0.22008324j, -0.0444593 -0.12549874j,\n",
      "         0.10598306-0.02174402j, -0.09902446+0.00232523j,\n",
      "        -0.08598108+0.22709459j,  0.11248186-0.03414759j],\n",
      "       [ 0.01364613-0.34981415j, -0.06932843+0.21770821j,\n",
      "        -0.3475421 +0.52619152j, -0.10857501-0.27067365j,\n",
      "         0.02181437-0.0513224j , -0.06820527+0.23327596j,\n",
      "         0.35638458-0.03800111j,  0.03354505-0.38828591j],\n",
      "       [ 0.50510156-0.18143311j,  0.044135  -0.01796662j,\n",
      "         0.36521462-0.15940478j,  0.04476225+0.3368116j ,\n",
      "         0.18385017-0.15408388j, -0.43267388+0.03834843j,\n",
      "         0.25130387-0.2489582j , -0.0555184 -0.24700264j]])], [array([[-0.34839638+0.j        , -0.440121  +0.j        ,\n",
      "        -0.24986596+0.j        , -0.19244845+0.j        ,\n",
      "        -0.42778956+0.j        , -0.153282  +0.j        ,\n",
      "         0.57382851-0.j        , -0.22285787+0.j        ],\n",
      "       [-0.10006936+0.04333741j,  0.24292641+0.23309366j,\n",
      "         0.12062886-0.00148167j, -0.10921254-0.21719031j,\n",
      "        -0.4646157 -0.48388795j, -0.22731326+0.44389508j,\n",
      "        -0.18707321-0.14164791j,  0.20226509-0.08005269j],\n",
      "       [-0.22493031-0.07987119j,  0.07433832-0.03029854j,\n",
      "        -0.17643499+0.35857621j, -0.37140101-0.14750331j,\n",
      "        -0.18322365+0.06122467j, -0.13505177-0.46472908j,\n",
      "        -0.47387741+0.08583026j, -0.05220591+0.33316222j],\n",
      "       [-0.15813355-0.39762221j,  0.13362699-0.01409759j,\n",
      "        -0.03168625+0.43663248j, -0.26523582-0.22205845j,\n",
      "         0.25600284+0.2043021j ,  0.01971112+0.10836013j,\n",
      "         0.19267475-0.15003045j,  0.23902323-0.50134965j],\n",
      "       [-0.14493022-0.28022034j,  0.03805556+0.05501265j,\n",
      "         0.65137428+0.06859578j,  0.32963663-0.11723993j,\n",
      "        -0.33059616+0.10978491j,  0.17941064-0.32522096j,\n",
      "         0.19078905-0.08413532j,  0.13890086+0.15007258j],\n",
      "       [-0.25416596-0.23658781j, -0.03433984-0.01352846j,\n",
      "        -0.28450012-0.07759618j,  0.33611205+0.59445878j,\n",
      "        -0.18351471-0.02741762j, -0.10333568-0.16625788j,\n",
      "        -0.25723544-0.17087518j,  0.25488437-0.30276367j],\n",
      "       [-0.55391346-0.0627234j , -0.21062354-0.12088712j,\n",
      "        -0.07711916-0.05524119j,  0.0824963 -0.07710118j,\n",
      "         0.2251523 -0.0084525j ,  0.37408832+0.39245395j,\n",
      "        -0.12340416+0.0727937j ,  0.2898835 +0.39904056j],\n",
      "       [ 0.2559274 +0.17403952j, -0.44366589-0.63780581j,\n",
      "         0.10295082+0.19000578j,  0.04952635-0.14334402j,\n",
      "        -0.12429986-0.01983041j, -0.09400383+0.04870555j,\n",
      "        -0.16691826-0.36995159j,  0.19136922-0.0497351j ]])], [array([[-0.8350671 +0.j        ,  0.14842637+0.j        ,\n",
      "         0.15521786+0.j        , -0.12613381+0.j        ,\n",
      "         0.18717026+0.j        ,  0.01540338+0.j        ,\n",
      "        -0.29163787+0.j        , -0.34685387+0.j        ],\n",
      "       [ 0.20238588-0.04650272j,  0.01588612+0.0328683j ,\n",
      "         0.26706252-0.03618672j, -0.00803423+0.24315615j,\n",
      "        -0.28560705+0.53979926j, -0.38491789-0.23116221j,\n",
      "        -0.38675462+0.19958701j, -0.2040499 +0.1346127j ],\n",
      "       [ 0.25108153-0.3388296j ,  0.06122243+0.12608258j,\n",
      "         0.0110999 -0.05784976j,  0.07876876+0.14034911j,\n",
      "         0.2030941 -0.44437903j,  0.14754696-0.16003187j,\n",
      "        -0.17991504-0.04500243j, -0.33454856+0.58371033j],\n",
      "       [-0.04899263-0.06889912j, -0.12257318+0.29845741j,\n",
      "        -0.29478725+0.43719213j, -0.44872174+0.11191423j,\n",
      "        -0.07756642-0.13722402j, -0.2918094 +0.0671027j ,\n",
      "         0.27821297+0.40856574j, -0.19197893+0.03394601j],\n",
      "       [ 0.00956169+0.08788837j,  0.46304565+0.27881215j,\n",
      "         0.05640392-0.11401847j, -0.0696067 -0.11833662j,\n",
      "         0.27697183+0.06547276j, -0.12128531-0.66446407j,\n",
      "         0.33660346-0.01466882j,  0.08673554-0.08211966j],\n",
      "       [ 0.14617604-0.04150222j,  0.10433858-0.15938816j,\n",
      "         0.22804447+0.20341504j, -0.5869157 +0.12378741j,\n",
      "         0.34629852+0.0241727j ,  0.1780749 +0.03271935j,\n",
      "        -0.32244757+0.06126481j,  0.47410151+0.04071127j],\n",
      "       [ 0.20109143-0.01356674j,  0.49981689+0.17825298j,\n",
      "         0.29597844-0.11790893j, -0.02431711-0.35840644j,\n",
      "        -0.21739784-0.24564253j,  0.05094735+0.34732856j,\n",
      "        -0.13434078+0.35742178j, -0.13105596-0.23114196j],\n",
      "       [ 0.04074498-0.0368505j , -0.0666649 -0.48827967j,\n",
      "         0.28816056+0.57241893j,  0.30388762-0.2916954j ,\n",
      "         0.13478312-0.03420719j,  0.0068923 -0.22100919j,\n",
      "         0.11769779+0.25674257j, -0.13410269-0.00213738j]])], [array([[ 0.31917819-0.j        , -0.0940818 +0.j        ,\n",
      "        -0.10274526+0.j        ,  0.15671516+0.j        ,\n",
      "         0.68919945+0.j        ,  0.21613165+0.j        ,\n",
      "        -0.4582026 +0.j        , -0.34999896+0.j        ],\n",
      "       [-0.60416334-0.53039475j,  0.14873038+0.04802119j,\n",
      "         0.04598629-0.02305414j, -0.20489733+0.0205335j ,\n",
      "         0.2543655 -0.06831355j, -0.17568666+0.02856504j,\n",
      "        -0.12416632-0.21092734j, -0.14123908-0.32137849j],\n",
      "       [ 0.0057515 -0.3744227j , -0.06605145-0.3380456j ,\n",
      "        -0.15716443-0.14486081j,  0.18012066+0.47073947j,\n",
      "        -0.27500053-0.00689113j,  0.17406198+0.08205493j,\n",
      "        -0.37266134-0.21414559j,  0.20362922+0.32017104j],\n",
      "       [-0.05670072-0.04508012j, -0.80685644+0.24383429j,\n",
      "         0.16038917-0.00150263j, -0.27801188+0.28789846j,\n",
      "         0.05681488+0.07503673j, -0.14503519+0.02368357j,\n",
      "         0.11527739-0.00434738j, -0.13498709+0.19077058j],\n",
      "       [-0.04160923-0.00424111j, -0.06855983+0.08863928j,\n",
      "         0.47978043-0.59287961j, -0.14828453-0.27417113j,\n",
      "        -0.17246141+0.00647983j,  0.45343777-0.11965393j,\n",
      "        -0.22359149+0.03112647j,  0.00636579-0.07829038j],\n",
      "       [ 0.07636364-0.25178896j, -0.00562259+0.20689471j,\n",
      "        -0.19858756+0.1490809j ,  0.12182306+0.03846849j,\n",
      "        -0.44224004+0.09711051j,  0.32090064+0.19031108j,\n",
      "         0.09891883+0.16346403j, -0.61817793-0.21702411j],\n",
      "       [-0.15739338-0.08611438j, -0.06078998-0.18817057j,\n",
      "        -0.19323158-0.2397064j ,  0.01869584+0.00884722j,\n",
      "         0.34757174-0.0229968j ,  0.42540806+0.4189354j ,\n",
      "         0.54826886+0.15396591j,  0.16725316+0.05823164j],\n",
      "       [-0.04760549+0.02979414j, -0.05749026+0.19952103j,\n",
      "        -0.39520901+0.14505014j, -0.42696946-0.47181678j,\n",
      "        -0.10277441+0.06644674j,  0.07970245+0.37553812j,\n",
      "        -0.32330101-0.12571774j,  0.16696888+0.24702704j]])], [array([[-0.92641156+0.j        , -0.14529944+0.j        ,\n",
      "        -0.067137  +0.j        , -0.02283489+0.j        ,\n",
      "         0.06995154-0.j        , -0.13225289+0.j        ,\n",
      "         0.11108753-0.j        , -0.28442293+0.j        ],\n",
      "       [ 0.00639237-0.13924599j, -0.31668754+0.36268092j,\n",
      "        -0.13437641+0.44867814j, -0.00578793-0.05067531j,\n",
      "         0.35557281-0.03124826j, -0.16132219+0.51157718j,\n",
      "        -0.03623391-0.00980923j,  0.32145583-0.08296481j],\n",
      "       [-0.15223322-0.07336082j,  0.36667822-0.34031459j,\n",
      "        -0.49857041-0.06330381j, -0.1826284 -0.16139231j,\n",
      "         0.07431848-0.18992569j,  0.35807394+0.25089018j,\n",
      "         0.07070318-0.05094j   ,  0.32026924+0.25743315j],\n",
      "       [ 0.07070598-0.0355865j , -0.16416589+0.26179573j,\n",
      "        -0.12766848-0.25705402j, -0.78786101+0.21734882j,\n",
      "         0.01552903+0.16429086j,  0.13924127+0.03109549j,\n",
      "        -0.1209567 -0.24058345j, -0.1612148 -0.04262041j],\n",
      "       [ 0.1113894 -0.22582303j,  0.02316178+0.01801379j,\n",
      "         0.05171209+0.29831613j, -0.03931432+0.0771737j ,\n",
      "        -0.20292584-0.43178253j, -0.20280908-0.04286582j,\n",
      "         0.28513995-0.56032369j, -0.22793266+0.34461945j],\n",
      "       [ 0.04779274+0.02586453j,  0.17098688+0.15708561j,\n",
      "        -0.4044126 +0.2394258j ,  0.04956468-0.43667776j,\n",
      "        -0.05725147-0.07107556j, -0.05874788-0.18155298j,\n",
      "        -0.56837279-0.08883025j, -0.36029155-0.15370549j],\n",
      "       [-0.0360646 +0.03143932j, -0.10132013+0.17837771j,\n",
      "        -0.15915643-0.29646155j, -0.11895717+0.06195094j,\n",
      "        -0.35324779-0.6153925j , -0.34397852-0.0416648j ,\n",
      "        -0.07295523+0.33222434j,  0.26091985-0.1307434j ],\n",
      "       [-0.10748263-0.0855012j ,  0.02980226+0.55096219j,\n",
      "        -0.07022933+0.10234453j, -0.00787237-0.2254213j ,\n",
      "        -0.13154175+0.20525834j,  0.18204262-0.50067627j,\n",
      "         0.23735646+0.08891718j,  0.32777871+0.30898628j]])], [array([[ 0.70996069+0.j        , -0.26492881+0.j        ,\n",
      "         0.05153856+0.j        ,  0.05903159+0.j        ,\n",
      "         0.09915081+0.j        , -0.31197646+0.j        ,\n",
      "        -0.0150226 +0.j        , -0.55878594+0.j        ],\n",
      "       [-0.37143247-0.30387635j, -0.36049336-0.0636625j ,\n",
      "        -0.1379175 +0.04614841j, -0.04112837+0.1551075j ,\n",
      "        -0.16422394+0.16702708j, -0.35717535+0.06564621j,\n",
      "        -0.48598249+0.16577759j, -0.13473001-0.34673239j],\n",
      "       [-0.15727065+0.03498828j, -0.05629906-0.06655563j,\n",
      "        -0.21848875-0.08932813j,  0.17585098-0.42520192j,\n",
      "        -0.39056032+0.38199555j,  0.07105139+0.19382344j,\n",
      "         0.20865305-0.48030262j, -0.28928039-0.00466936j],\n",
      "       [ 0.41876663+0.04363578j,  0.14788106+0.33766101j,\n",
      "        -0.01470223+0.27501965j, -0.15352193-0.07501718j,\n",
      "        -0.48874495+0.13831148j,  0.11294256+0.32380633j,\n",
      "        -0.15336834+0.17835474j,  0.29871659-0.24824589j],\n",
      "       [-0.10872202-0.00681537j,  0.49644884+0.04277039j,\n",
      "        -0.17769568+0.23254658j, -0.30915628+0.07880228j,\n",
      "         0.24437801-0.17390058j, -0.4294892 +0.33088611j,\n",
      "         0.14349929-0.29077638j, -0.14326606-0.20694088j],\n",
      "       [-0.00148866+0.04990908j,  0.40653717+0.09014751j,\n",
      "        -0.50041075-0.19407927j, -0.09826646+0.14190687j,\n",
      "        -0.30080854-0.14771614j,  0.15213138-0.32854611j,\n",
      "        -0.21892261+0.19743188j, -0.38359878+0.16967458j],\n",
      "       [ 0.12809463+0.16438953j,  0.05681727+0.009845j  ,\n",
      "        -0.09823082-0.5619192j ,  0.01930122+0.52859011j,\n",
      "         0.02804674+0.4082125j , -0.16964766+0.25910848j,\n",
      "        -0.01332528-0.11333184j,  0.22884155+0.13902691j],\n",
      "       [-0.06620144-0.01581945j, -0.01017788+0.47665799j,\n",
      "         0.13716643+0.35591515j,  0.33987493+0.4505245j ,\n",
      "        -0.0838227 +0.04608403j,  0.02506352-0.29830495j,\n",
      "        -0.05008533-0.44606564j, -0.05824984+0.02104808j]])], [array([[ 0.7690362 +0.j        , -0.03192769+0.j        ,\n",
      "        -0.01979377+0.j        ,  0.04639052+0.j        ,\n",
      "        -0.18992048+0.j        ,  0.09073585+0.j        ,\n",
      "        -0.56344518+0.j        , -0.20795869+0.j        ],\n",
      "       [ 0.04372587+0.20101698j, -0.16966353+0.09597911j,\n",
      "        -0.0704879 -0.01682408j,  0.13292293+0.40959667j,\n",
      "         0.58724811+0.40976186j, -0.04895143+0.25909551j,\n",
      "        -0.11543673+0.07516345j, -0.020795  +0.35678218j],\n",
      "       [-0.40682034+0.04949244j,  0.14484449-0.03300269j,\n",
      "         0.03649936+0.11544209j,  0.251078  +0.01592991j,\n",
      "        -0.02186678+0.1904283j ,  0.2918528 -0.45411718j,\n",
      "        -0.57994539-0.08230818j,  0.24448583+0.03161372j],\n",
      "       [ 0.06318155+0.00744988j,  0.11737238+0.39826058j,\n",
      "        -0.48203916+0.06013328j,  0.23736493+0.49838642j,\n",
      "        -0.16894325-0.00434737j, -0.15900268-0.31986176j,\n",
      "         0.17616914+0.08265565j, -0.07794235-0.28767912j],\n",
      "       [ 0.03073063-0.20755176j, -0.02107196-0.0706731j ,\n",
      "         0.64512951+0.19273228j, -0.03241589+0.53906308j,\n",
      "         0.03147179-0.17159113j, -0.2629891 +0.01350597j,\n",
      "        -0.09450224-0.08895361j,  0.16079907-0.25116162j],\n",
      "       [ 0.18159005+0.08428989j,  0.66483235+0.22897774j,\n",
      "         0.34047839-0.26927615j, -0.18445074+0.00593832j,\n",
      "         0.1680368 +0.24786758j,  0.26765811-0.15956095j,\n",
      "         0.20699052+0.02154991j, -0.10160004-0.05086828j],\n",
      "       [-0.05456042-0.13019814j,  0.23857025+0.40912088j,\n",
      "        -0.11032439-0.27607599j, -0.16073349-0.17313376j,\n",
      "         0.00914389-0.0691226j , -0.56288201+0.1330285j ,\n",
      "        -0.30868221-0.22088245j,  0.31865273+0.16299802j],\n",
      "       [-0.2098751 -0.21490941j, -0.07682685+0.19093572j,\n",
      "        -0.08309746+0.08156084j, -0.21113869-0.13526895j,\n",
      "         0.48351356-0.16464405j,  0.04159128-0.0231864j ,\n",
      "        -0.25197319-0.12189501j, -0.54424703-0.39148281j]])], [array([[-0.49706362+0.j        ,  0.33466209+0.j        ,\n",
      "         0.06317338+0.j        ,  0.15514097+0.j        ,\n",
      "        -0.45364603+0.j        , -0.13962048+0.j        ,\n",
      "        -0.41362938+0.j        , -0.46528656+0.j        ],\n",
      "       [-0.3712965 +0.07328214j,  0.15887655+0.09992521j,\n",
      "         0.05631043-0.2747681j ,  0.18574587-0.13187387j,\n",
      "         0.68051946+0.11838083j, -0.41582605-0.12670132j,\n",
      "         0.0541082 -0.02078124j, -0.00630968-0.14661703j],\n",
      "       [-0.10932638+0.04452954j, -0.17795443+0.0957328j ,\n",
      "         0.47440144+0.12486007j,  0.08348191+0.47997495j,\n",
      "         0.08180785-0.09848294j, -0.17675548+0.3168264j ,\n",
      "         0.19909376-0.26901625j, -0.1226676 +0.43837437j],\n",
      "       [ 0.4020285 -0.04326406j,  0.49254477-0.34644222j,\n",
      "         0.15112924+0.08984182j,  0.27215816-0.09955241j,\n",
      "        -0.01185234+0.24101312j, -0.01906267+0.16795308j,\n",
      "         0.27821549-0.33559113j, -0.19400356-0.21100786j],\n",
      "       [ 0.37390304+0.24633232j,  0.15538588+0.07153022j,\n",
      "         0.4349892 -0.31049947j, -0.34835984+0.2453708j ,\n",
      "         0.15156947-0.06785813j,  0.12917966-0.25515156j,\n",
      "        -0.30641923+0.11974305j, -0.25891141-0.1357742j ],\n",
      "       [ 0.28220375-0.10840804j, -0.36592226+0.26818032j,\n",
      "         0.16151837-0.17659876j, -0.00359659-0.27605139j,\n",
      "        -0.20693948+0.19528206j, -0.46594074+0.41314766j,\n",
      "        -0.11688624+0.13577849j, -0.0984514 -0.24239366j],\n",
      "       [ 0.07876298-0.30572073j,  0.32807027-0.12700763j,\n",
      "         0.15914036+0.38463736j, -0.02925939+0.10585758j,\n",
      "         0.20596012-0.07874854j, -0.15939706+0.25137873j,\n",
      "        -0.43203247+0.33274972j,  0.39476748+0.02830725j],\n",
      "       [ 0.1978154 -0.03985612j, -0.07666585+0.29086001j,\n",
      "         0.14732872+0.32848782j,  0.46323969-0.3439207j ,\n",
      "         0.18950601-0.22224943j,  0.20262391-0.17919793j,\n",
      "         0.01808904+0.29238137j, -0.35365419+0.19224946j]])], [array([[ 0.49732477+0.j        ,  0.26712002-0.j        ,\n",
      "        -0.20214929+0.j        , -0.36204031+0.j        ,\n",
      "        -0.41786981+0.j        , -0.23886439+0.j        ,\n",
      "         0.16166482-0.j        , -0.5015681 +0.j        ],\n",
      "       [ 0.62092905+0.14766125j, -0.18848739-0.21850002j,\n",
      "         0.07331745-0.01274824j,  0.2339552 +0.09100083j,\n",
      "         0.3548455 +0.0247767j ,  0.08136108+0.1253085j ,\n",
      "         0.49949981+0.13105537j,  0.14349081-0.0685793j ],\n",
      "       [-0.0767213 -0.07055107j, -0.17346329+0.25965294j,\n",
      "        -0.09570445+0.10168323j,  0.03148417-0.16970095j,\n",
      "        -0.1336784 +0.39741813j,  0.65251638+0.14840181j,\n",
      "         0.1223061 +0.28332781j, -0.3125658 -0.16061171j],\n",
      "       [ 0.13430525+0.23601584j, -0.11544741+0.69628649j,\n",
      "         0.06137725-0.06937074j,  0.12850841-0.04741964j,\n",
      "        -0.21199678+0.10650028j, -0.14929652+0.20581718j,\n",
      "         0.11410421-0.16855209j,  0.23868688+0.42595425j],\n",
      "       [ 0.1814207 -0.10776427j, -0.30062538-0.1455959j ,\n",
      "        -0.1266747 -0.19882255j, -0.20829578-0.01031223j,\n",
      "        -0.40850038+0.18853683j,  0.11905735-0.51479144j,\n",
      "        -0.03928677+0.1350953j ,  0.49215798+0.03481384j],\n",
      "       [ 0.17987867+0.22797963j, -0.17754244-0.07795185j,\n",
      "        -0.15112616-0.50712063j,  0.13503387+0.02864877j,\n",
      "         0.21414454+0.34169044j,  0.03985994-0.05920896j,\n",
      "        -0.43162375-0.3758152j , -0.28927022-0.00936227j],\n",
      "       [-0.11116134-0.1848994j , -0.03272101+0.17097857j,\n",
      "         0.12445538-0.6059328j , -0.51025476+0.276977j  ,\n",
      "         0.23013191-0.13630696j,  0.06235379+0.22329747j,\n",
      "         0.12506277+0.24679709j,  0.0093895 +0.03877431j],\n",
      "       [ 0.26448355-0.12390533j,  0.07775906+0.2533823j ,\n",
      "         0.45051263+0.0657779j ,  0.27240183+0.53247593j,\n",
      "        -0.12130279-0.12440252j,  0.11147009-0.24024227j,\n",
      "        -0.33377815+0.18771851j, -0.13414665-0.12021409j]])], [array([[-0.12417692+0.j        ,  0.16149577+0.j        ,\n",
      "         0.29886199+0.j        ,  0.62533597+0.j        ,\n",
      "        -0.31407221+0.j        , -0.57725875+0.j        ,\n",
      "         0.15695654+0.j        , -0.14707574+0.j        ],\n",
      "       [ 0.55898614+0.0445658j ,  0.11786171-0.10389031j,\n",
      "         0.20242143-0.11730182j,  0.04548314-0.03956951j,\n",
      "         0.1994709 -0.06233992j, -0.10945018-0.09441228j,\n",
      "        -0.59743545-0.11184773j, -0.37177641-0.17398429j],\n",
      "       [-0.56872642-0.01421908j,  0.42095858-0.02368245j,\n",
      "         0.09878584+0.13238371j, -0.09135176-0.25884462j,\n",
      "        -0.19695281+0.09719548j,  0.23263632-0.16478251j,\n",
      "        -0.40182218+0.20679309j, -0.1665744 -0.18565975j],\n",
      "       [-0.1219117 +0.21460654j, -0.58463266+0.22923651j,\n",
      "         0.36537514+0.11491894j,  0.16815677+0.18091114j,\n",
      "        -0.11579003+0.01983367j,  0.31538867+0.31368795j,\n",
      "        -0.1707575 +0.17699463j, -0.25443905-0.01143056j],\n",
      "       [ 0.33116492+0.06168237j, -0.2492704 -0.3289878j ,\n",
      "        -0.154378  +0.2071496j ,  0.25206648-0.31075976j,\n",
      "        -0.50765529+0.01866699j,  0.25242487-0.31618214j,\n",
      "        -0.05553194+0.08288539j,  0.23878318-0.02409811j],\n",
      "       [-0.02085478-0.06979276j, -0.05670529-0.07636079j,\n",
      "         0.05764331-0.68226146j, -0.21960149+0.23966407j,\n",
      "        -0.46791705-0.02529838j,  0.05104277+0.00084369j,\n",
      "         0.06689266-0.07599214j,  0.00903476-0.4226783j ],\n",
      "       [-0.07478348+0.22556445j, -0.14382936+0.15362769j,\n",
      "        -0.2692653 -0.15821307j,  0.22797189-0.18584568j,\n",
      "         0.31393027-0.16710096j, -0.19904497+0.04669294j,\n",
      "        -0.11773179+0.43245426j,  0.31255536-0.49834967j],\n",
      "       [ 0.1393525 +0.30147346j,  0.10380423+0.37768239j,\n",
      "        -0.17819374+0.13085396j, -0.32460274+0.10639403j,\n",
      "        -0.43762279+0.00288026j, -0.35301368+0.18445303j,\n",
      "        -0.33728792+0.07982555j,  0.21420471+0.23351752j]])], [array([[ 0.08581547+0.j        ,  0.093365  +0.j        ,\n",
      "         0.03612552+0.j        ,  0.27278373+0.j        ,\n",
      "         0.69192038-0.j        ,  0.36358301+0.j        ,\n",
      "        -0.54076997+0.j        , -0.06945566+0.j        ],\n",
      "       [ 0.11082996-0.53687228j,  0.06759534-0.11022885j,\n",
      "         0.00906165+0.1398762j , -0.13110043-0.03093785j,\n",
      "        -0.03781542-0.38181327j, -0.04411393+0.57945217j,\n",
      "        -0.11141542-0.16495583j, -0.02256064-0.34629232j],\n",
      "       [-0.02143979+0.11929248j,  0.11024729-0.08761474j,\n",
      "        -0.05577687-0.11836594j,  0.39420718-0.56706944j,\n",
      "        -0.39042994+0.06188632j, -0.15710397-0.11612468j,\n",
      "        -0.38847565-0.25833836j, -0.04634733-0.2390775j ],\n",
      "       [-0.23149532+0.09237855j, -0.6350426 -0.10452581j,\n",
      "        -0.11510698+0.11837j   , -0.09217678-0.08660576j,\n",
      "         0.27328704-0.20661245j, -0.204245  -0.15018796j,\n",
      "         0.05885942-0.39763046j, -0.36650436-0.05353844j],\n",
      "       [-0.12494664+0.2632092j , -0.12225498-0.32990186j,\n",
      "         0.05050841+0.29653394j,  0.44648643-0.13656809j,\n",
      "         0.03164613-0.0078827j , -0.09199916+0.52866588j,\n",
      "         0.16211383+0.2385751j ,  0.03258429+0.33100982j],\n",
      "       [-0.4002143 +0.29584321j, -0.05605502+0.33313405j,\n",
      "         0.06867884+0.11565779j,  0.00074019+0.00810979j,\n",
      "         0.14428508+0.02129477j, -0.11260555+0.11198176j,\n",
      "         0.01184017+0.30314718j,  0.22452212-0.65657053j],\n",
      "       [ 0.47880836+0.13997717j, -0.33222208-0.14151116j,\n",
      "        -0.32824475+0.37152736j,  0.12422143+0.32599059j,\n",
      "        -0.27360077+0.01868229j,  0.18798913-0.12550485j,\n",
      "        -0.16858784+0.16092098j,  0.03319782-0.26750084j],\n",
      "       [-0.16448881+0.0825426j ,  0.41456182-0.01917001j,\n",
      "        -0.06298879+0.75917263j, -0.21632733-0.1670771j ,\n",
      "         0.02259913-0.04839892j,  0.13214023-0.21432148j,\n",
      "         0.03909908-0.24007086j,  0.08409585+0.07997146j]])], [array([[-0.36247106-0.j        ,  0.22156219+0.j        ,\n",
      "        -0.41578959+0.j        ,  0.45485182+0.j        ,\n",
      "        -0.21605638+0.j        ,  0.53127146+0.j        ,\n",
      "        -0.13115058+0.j        , -0.30597968+0.j        ],\n",
      "       [ 0.44971571+0.08267651j,  0.05697405-0.05350204j,\n",
      "         0.04182932+0.12384718j,  0.03777658+0.12975626j,\n",
      "        -0.74314919+0.13951509j, -0.03963579+0.04175229j,\n",
      "         0.07560985-0.40344545j, -0.06865359+0.03482066j],\n",
      "       [-0.12664667+0.42291232j, -0.10607915-0.1754429j ,\n",
      "         0.10829932-0.43156876j, -0.05199747+0.28768245j,\n",
      "        -0.01542901-0.06635981j,  0.06473925+0.00463197j,\n",
      "        -0.41963883-0.14143013j,  0.15192276+0.50159094j],\n",
      "       [ 0.11757608-0.04218939j, -0.61617587-0.19320941j,\n",
      "         0.34533655-0.13654003j,  0.04578782+0.10235115j,\n",
      "        -0.11862345-0.04764235j,  0.33273909-0.18700721j,\n",
      "         0.07578605+0.30225121j, -0.35765486-0.17284651j],\n",
      "       [-0.00170678-0.61165098j,  0.01286739-0.27562322j,\n",
      "        -0.25703629-0.06594887j, -0.33798384-0.09421438j,\n",
      "        -0.25506885-0.34686809j, -0.02586896-0.24376482j,\n",
      "        -0.17817616+0.10587182j,  0.06975546+0.25085975j],\n",
      "       [ 0.09953277-0.0736019j , -0.19370516+0.51108952j,\n",
      "         0.10340962+0.56756835j, -0.11909002+0.1668502j ,\n",
      "         0.06995678-0.20814988j,  0.33024633+0.08152258j,\n",
      "        -0.28717652-0.04186088j,  0.07137326+0.24051462j],\n",
      "       [-0.22082716+0.07710938j, -0.21412041+0.23283139j,\n",
      "         0.13903688-0.20262653j, -0.1143237 -0.67626494j,\n",
      "        -0.29363122-0.06583879j,  0.09102407+0.16969602j,\n",
      "        -0.2391487 -0.14380545j,  0.21555655-0.24993133j],\n",
      "       [-0.05956632+0.03652863j, -0.09129615+0.05005199j,\n",
      "        -0.08235283+0.0611172j ,  0.09791152+0.1780089j ,\n",
      "         0.10966657-0.15627782j, -0.27480577-0.52548774j,\n",
      "        -0.41186688-0.38266328j, -0.11613212-0.4634964j ]])], [array([[ 0.16195054-0.j        , -0.05476962+0.j        ,\n",
      "         0.23554641+0.j        , -0.64605157+0.j        ,\n",
      "        -0.47316126+0.j        ,  0.35816668+0.j        ,\n",
      "         0.29814288-0.j        , -0.23843961+0.j        ],\n",
      "       [ 0.34824271-0.05637344j, -0.00806057-0.00321169j,\n",
      "         0.02396152+0.22452652j,  0.2666513 -0.18315006j,\n",
      "        -0.40919302+0.48869891j, -0.16334351+0.29147863j,\n",
      "         0.0635755 -0.31819783j,  0.18569817-0.24931631j],\n",
      "       [-0.15217561+0.13770163j,  0.64386668+0.04475319j,\n",
      "        -0.18171911+0.26952991j, -0.21834503-0.12783375j,\n",
      "         0.21685916+0.14753338j,  0.1815722 -0.13395509j,\n",
      "         0.29819253-0.14543296j,  0.37610088+0.02004116j],\n",
      "       [ 0.11115382+0.42060194j, -0.39485447-0.30372924j,\n",
      "        -0.11297743+0.04848554j,  0.1490933 -0.14375906j,\n",
      "         0.32086906+0.21323235j,  0.19179139+0.05491925j,\n",
      "         0.41546532-0.10869689j, -0.17852504+0.31629798j],\n",
      "       [-0.44266601-0.07591118j, -0.08301292+0.01896967j,\n",
      "         0.15712736+0.54162028j, -0.00743469-0.22088381j,\n",
      "        -0.18303435+0.04951487j, -0.2732353 -0.27233299j,\n",
      "        -0.1086161 -0.19664788j, -0.28926223+0.32439217j],\n",
      "       [-0.45317176-0.03125243j, -0.34952652-0.22394962j,\n",
      "         0.00450118-0.18547866j,  0.07329647-0.18425323j,\n",
      "        -0.24527518+0.04830898j,  0.40025817-0.18066587j,\n",
      "        -0.12421568-0.0676156j ,  0.51098387-0.10557391j],\n",
      "       [-0.28619641+0.02949386j, -0.24570206+0.03845075j,\n",
      "        -0.44297924+0.20815865j, -0.35481357+0.33218631j,\n",
      "         0.04785425-0.04646744j, -0.06806238+0.54707522j,\n",
      "        -0.10925491-0.2307113j ,  0.05200063-0.05771723j],\n",
      "       [ 0.32883606+0.13773982j,  0.12360202-0.27476847j,\n",
      "        -0.4224972 +0.04711668j, -0.16985246-0.13342482j,\n",
      "        -0.17365593+0.13993313j,  0.09717655-0.11969389j,\n",
      "        -0.58771947+0.17399822j, -0.00650237+0.32481394j]])], [array([[-6.00178419e-01+0.j        ,  5.42066756e-01+0.j        ,\n",
      "        -1.28134971e-01+0.j        ,  1.53577804e-01+0.j        ,\n",
      "        -2.75780812e-01+0.j        , -3.36871388e-01+0.j        ,\n",
      "        -2.65650177e-01+0.j        , -2.14096660e-01+0.j        ],\n",
      "       [-1.53906248e-02+0.26403729j,  1.65493625e-01+0.06300537j,\n",
      "        -1.03505866e-01-0.16863709j, -1.64739288e-02-0.13552583j,\n",
      "         5.18133880e-01-0.20211233j, -3.78295859e-02+0.26505567j,\n",
      "         1.34138761e-01-0.10643388j, -2.62046395e-01-0.60159094j],\n",
      "       [-3.71219495e-01+0.25625398j, -5.85158594e-01+0.24936607j,\n",
      "         7.40949835e-02-0.25966821j,  1.15439374e-01-0.15920452j,\n",
      "        -6.01364788e-02-0.03996953j, -1.87152003e-01-0.0701499j ,\n",
      "         2.42571193e-01-0.09846517j, -3.31489347e-01+0.23825153j],\n",
      "       [ 1.73718666e-01-0.05870556j, -1.32953034e-01+0.12759712j,\n",
      "         2.68191978e-01+0.04003018j, -2.02393274e-01+0.49126673j,\n",
      "         5.42042220e-04-0.12969827j, -5.42326509e-01+0.40660209j,\n",
      "        -1.30684519e-01+0.26436444j, -1.14519934e-01+0.01534628j],\n",
      "       [ 2.57480949e-01-0.06194153j,  5.07692372e-02-0.37057956j,\n",
      "        -1.53501319e-01-0.09176367j,  3.25737469e-01+0.02659016j,\n",
      "        -9.94692883e-02-0.15628196j, -4.92540546e-01+0.0087585j ,\n",
      "         3.60756302e-01-0.45308034j,  1.87767069e-01+0.0590801j ],\n",
      "       [-1.95557289e-01-0.0537778j ,  1.78093467e-01+0.09047206j,\n",
      "         5.43268732e-01+0.49870548j, -1.81324593e-02-0.29609077j,\n",
      "         1.81128419e-01-0.31183457j,  1.86133400e-03+0.14256999j,\n",
      "         2.32936416e-01-0.13515405j,  1.35700265e-01+0.21400395j],\n",
      "       [-3.61370997e-01-0.01262951j, -7.34726968e-02-0.05427012j,\n",
      "        -3.43687780e-01+0.19684662j, -5.31074494e-01+0.29588877j,\n",
      "        -1.90899781e-01-0.00515679j,  1.24311408e-01+0.17556419j,\n",
      "         4.46736229e-01-0.13997212j,  1.47742230e-01-0.10348526j],\n",
      "       [-2.99059392e-01-0.03585872j, -1.00843090e-01-0.19476204j,\n",
      "        -1.82622465e-01-0.17869066j,  1.63396792e-02+0.26856865j,\n",
      "         5.62657883e-01-0.27418467j,  7.75883267e-02+0.01196964j,\n",
      "        -3.25693799e-01-0.10682058j,  2.61321793e-01+0.37389586j]])], [array([[ 0.18533721+0.j        , -0.10237965+0.j        ,\n",
      "        -0.0690336 +0.j        , -0.16279984+0.j        ,\n",
      "         0.45673976+0.j        , -0.27118829+0.j        ,\n",
      "        -0.62316785+0.j        , -0.50339511+0.j        ],\n",
      "       [-0.43359795+0.11649265j,  0.26856881-0.07793928j,\n",
      "        -0.02476616+0.00083194j,  0.21856514+0.36689814j,\n",
      "         0.59828027+0.07827147j, -0.02517925-0.04692732j,\n",
      "         0.36613229+0.05706627j, -0.17839994-0.03437579j],\n",
      "       [-0.21052099-0.24820358j, -0.37985468-0.04105509j,\n",
      "         0.12224093+0.34069895j,  0.41304559-0.45605747j,\n",
      "         0.17470072+0.0568506j , -0.19005418-0.1084241j ,\n",
      "        -0.01309867+0.29266947j,  0.12651183-0.23457653j],\n",
      "       [ 0.24658482+0.39310909j,  0.19534592+0.26698049j,\n",
      "        -0.02550865+0.00773691j, -0.00551731+0.1552589j ,\n",
      "        -0.01090529-0.21835243j, -0.26847589-0.45201118j,\n",
      "        -0.05124228+0.35924948j,  0.25451229-0.36017171j],\n",
      "       [-0.23068488-0.19064947j,  0.24504519+0.42729069j,\n",
      "         0.36191077-0.00353857j,  0.31122515+0.19286522j,\n",
      "        -0.11720541-0.07611726j, -0.33326506+0.14989986j,\n",
      "        -0.3086395 -0.34860667j,  0.17021596+0.06275219j],\n",
      "       [-0.34401723+0.05159556j,  0.2007604 +0.26228915j,\n",
      "        -0.65473315+0.32963389j,  0.04772683-0.16765053j,\n",
      "        -0.30996896-0.05610828j, -0.03762598-0.09172855j,\n",
      "        -0.04831573-0.05227538j, -0.2942955 +0.0378874j ],\n",
      "       [ 0.37577233+0.22561431j, -0.10971588+0.50123277j,\n",
      "        -0.03439124+0.17782043j,  0.34053698+0.04527077j,\n",
      "         0.13890082+0.18856408j,  0.40752748+0.37981551j,\n",
      "         0.05292924+0.02339824j, -0.10378904-0.12039212j],\n",
      "       [ 0.0351687 -0.1972138j ,  0.18434098-0.0832027j ,\n",
      "        -0.2483469 +0.31636397j, -0.32505952-0.01609966j,\n",
      "         0.31139594-0.27422058j,  0.03786698+0.37975408j,\n",
      "        -0.04737828-0.17144593j,  0.43542669-0.33501363j]])], [array([[ 4.42046402e-02+0.j        , -5.46499229e-02+0.j        ,\n",
      "        -2.23691812e-02+0.j        ,  1.58621505e-01-0.j        ,\n",
      "         8.04094995e-01+0.j        , -5.95618683e-02+0.j        ,\n",
      "         2.51968014e-01-0.j        , -5.05760730e-01+0.j        ],\n",
      "       [ 3.40444675e-01-0.07369468j, -8.13619399e-02-0.01875168j,\n",
      "        -4.39265068e-01+0.09910509j,  6.90241481e-01-0.11805539j,\n",
      "        -1.64932309e-01-0.01954195j, -2.16165298e-01+0.30061019j,\n",
      "        -5.18750603e-02+0.01742788j,  1.18473202e-02-0.10361246j],\n",
      "       [ 4.74617970e-02+0.5909384j ,  7.37844449e-01-0.08883484j,\n",
      "        -1.12100469e-01+0.12216505j, -2.64690504e-02-0.21932464j,\n",
      "         3.41764945e-02+0.00974759j,  2.72431220e-02+0.0775334j ,\n",
      "        -6.60693900e-02-0.05281373j, -6.07104303e-02-0.03288654j],\n",
      "       [ 6.93398855e-02+0.47020652j, -4.08460796e-01+0.0567958j ,\n",
      "         1.07368412e-01+0.00204866j, -3.85987424e-02-0.17726665j,\n",
      "        -1.17988523e-01-0.321224j  ,  1.70323661e-01+0.01145895j,\n",
      "         3.29948180e-01-0.03566141j, -9.92411244e-03-0.55054762j],\n",
      "       [-1.93150075e-01+0.04760793j, -1.16542174e-01-0.18092101j,\n",
      "        -5.28456316e-01-0.27532583j,  6.57641460e-02-0.09065808j,\n",
      "        -5.94688229e-02-0.01941641j,  5.81617477e-01-0.30230445j,\n",
      "        -1.98840263e-01+0.13322547j, -2.22394804e-01+0.07855896j],\n",
      "       [ 1.75615937e-01-0.20709285j,  1.65477478e-01-0.03111188j,\n",
      "        -1.90652804e-01-0.46281242j, -8.26886245e-02-0.38217971j,\n",
      "         8.92121573e-02+0.10572611j, -9.75613960e-02-0.23069707j,\n",
      "         4.87838202e-01-0.18139701j,  3.76331852e-01-0.0092436j ],\n",
      "       [-1.51048767e-01-0.01333272j,  7.70564196e-05-0.21226551j,\n",
      "         3.72354743e-01+0.08890376j,  4.62122806e-01-0.14157676j,\n",
      "         6.86822044e-03+0.07264482j,  1.38536137e-02-0.47477719j,\n",
      "        -2.13192981e-01-0.51269136j,  1.83324215e-02-0.11057554j],\n",
      "       [ 2.54102410e-01+0.31382488j, -3.05660021e-01+0.23349521j,\n",
      "        -7.12141591e-02+0.02152679j, -6.05895776e-02+0.00604055j,\n",
      "         3.15615602e-01+0.28193878j,  2.66640400e-01+0.18535033j,\n",
      "        -2.50032751e-01-0.34238554j,  3.85205994e-01+0.25898451j]])], [array([[ 9.77458838e-02-0.j        ,  8.63608155e-02+0.j        ,\n",
      "         1.71179040e-01+0.j        , -1.88758738e-01+0.j        ,\n",
      "        -7.32629975e-01+0.j        , -3.11051114e-01+0.j        ,\n",
      "         2.18021018e-01-0.j        , -4.86849861e-01+0.j        ],\n",
      "       [ 6.97141942e-01+0.07186971j,  8.51508766e-02+0.11940921j,\n",
      "        -1.50832680e-01+0.13552602j,  3.06264058e-01-0.08858042j,\n",
      "        -1.49349394e-01+0.35194309j,  9.86064804e-02-0.22576841j,\n",
      "        -2.45614993e-02-0.12255623j,  1.34041957e-01-0.32264893j],\n",
      "       [ 2.27695455e-01+0.14583427j, -1.41961462e-01+0.16007371j,\n",
      "        -1.91632073e-01+0.05277586j, -2.54879822e-01-0.47173789j,\n",
      "         3.04031153e-02-0.02773443j,  6.50038903e-02-0.30661098j,\n",
      "        -3.50618661e-02+0.26625374j, -5.10099862e-02+0.61599532j],\n",
      "       [ 1.62692325e-01+0.07772816j, -9.55222303e-02-0.53550826j,\n",
      "        -8.59173782e-02+0.00437531j, -2.37038186e-01-0.34320111j,\n",
      "        -4.46734657e-02-0.22090278j, -5.63983550e-02+0.16442657j,\n",
      "        -7.35020803e-02-0.61801411j,  1.47757658e-01+0.00582667j],\n",
      "       [ 4.88182291e-01-0.05516341j, -5.28218727e-03+0.00352508j,\n",
      "        -2.76797226e-01-0.55156522j, -1.47163599e-01+0.26097295j,\n",
      "         2.54792190e-01-0.25016655j, -8.81323488e-02+0.2625748j ,\n",
      "         9.83663695e-02+0.14825703j, -2.26251738e-01-0.03047431j],\n",
      "       [-1.97451429e-01-0.11928037j, -3.90887412e-01-0.39242562j,\n",
      "        -2.31172242e-01-0.29854397j, -8.24920783e-02+0.00404489j,\n",
      "        -6.24114986e-02+0.25184553j,  4.25613733e-02-0.45417749j,\n",
      "         3.70833175e-01+0.15429926j,  7.45138069e-02-0.21980909j],\n",
      "       [-2.99517827e-03-0.2013504j , -1.26077731e-01+0.47061543j,\n",
      "         3.14426459e-01-0.27108529j, -1.60468685e-01-0.15969014j,\n",
      "         3.11889168e-04-0.05721724j,  4.90350283e-01-0.0313962j ,\n",
      "         3.17892608e-01-0.3859968j , -2.15941050e-02-0.05704054j],\n",
      "       [-5.20744864e-02-0.23623665j, -2.09510106e-01+0.20313102j,\n",
      "         5.95358171e-02-0.42821152j,  4.26002907e-01-0.26820997j,\n",
      "        -2.28819600e-01-0.11891505j, -4.30767441e-01+0.04804911j,\n",
      "        -1.85296923e-01+0.00365541j,  3.44722598e-01+0.09191641j]])], [array([[ 0.4455895 +0.j        , -0.11853409+0.j        ,\n",
      "        -0.22506683+0.j        ,  0.25306576+0.j        ,\n",
      "         0.21583111+0.j        ,  0.3840977 +0.j        ,\n",
      "        -0.56340816+0.j        , -0.40144668+0.j        ],\n",
      "       [ 0.31700712-0.21437395j, -0.02698096-0.10303317j,\n",
      "         0.16566084-0.08405637j, -0.16912645-0.12349951j,\n",
      "        -0.18803835-0.02268575j, -0.19337027+0.66387656j,\n",
      "        -0.14172579+0.42427664j,  0.07313599-0.21070989j],\n",
      "       [-0.04293288-0.07466953j, -0.42270619-0.2667227j ,\n",
      "        -0.01424089+0.07720018j, -0.68485855+0.0694794j ,\n",
      "         0.2681722 +0.23037143j, -0.00503102-0.19317832j,\n",
      "        -0.26664384-0.02828915j,  0.16700194-0.02488066j],\n",
      "       [ 0.07807609-0.21034458j, -0.42719413+0.41773786j,\n",
      "        -0.21444419-0.59015238j,  0.08643521-0.22408161j,\n",
      "        -0.14134926+0.129196j  , -0.17641496-0.05568407j,\n",
      "        -0.01172421-0.18248178j,  0.15918025+0.10507235j],\n",
      "       [-0.24714585-0.46641759j,  0.0837298 -0.34809344j,\n",
      "        -0.10745268-0.06693707j,  0.28115936+0.21776413j,\n",
      "        -0.14719023+0.31135331j, -0.35715965-0.19144993j,\n",
      "        -0.16214566+0.014627j  , -0.25486033-0.27643172j],\n",
      "       [-0.06986671+0.102046j  ,  0.16597312+0.10605527j,\n",
      "         0.12065991-0.05190567j, -0.12115841+0.38114972j,\n",
      "        -0.37811927+0.33522365j,  0.01342679+0.13798053j,\n",
      "        -0.28664415+0.01756656j, -0.05873253+0.63891473j],\n",
      "       [ 0.08964966+0.35531515j,  0.25256978+0.16958031j,\n",
      "         0.19023313-0.36567851j, -0.20727624-0.15551922j,\n",
      "         0.12326808+0.32942417j, -0.10057766-0.30009091j,\n",
      "         0.07749175+0.38128185j, -0.35109747-0.19382992j],\n",
      "       [ 0.01837775-0.41072614j,  0.20670497+0.25599639j,\n",
      "         0.55684263+0.0338279j ,  0.01845825-0.08150428j,\n",
      "         0.4842282 +0.15407187j, -0.04005665+0.13254708j,\n",
      "        -0.04359855-0.33893632j, -0.057987  +0.08351043j]])], [array([[-0.57768907+0.j        ,  0.05139453+0.j        ,\n",
      "        -0.05625203+0.j        ,  0.03961222+0.j        ,\n",
      "        -0.11410477+0.j        ,  0.2763754 +0.j        ,\n",
      "        -0.49666071+0.j        , -0.56817727+0.j        ],\n",
      "       [-0.0135631 -0.01958514j,  0.04804995-0.09527363j,\n",
      "         0.0307918 +0.07923719j,  0.02040317-0.0248827j ,\n",
      "         0.85732035-0.05291083j,  0.29058479+0.24129933j,\n",
      "         0.19880048-0.02757813j, -0.18809159+0.15382209j],\n",
      "       [ 0.5377617 +0.33606729j,  0.24201301-0.08541374j,\n",
      "        -0.00294561-0.01183136j,  0.4964563 -0.07131033j,\n",
      "        -0.14271235-0.04422415j,  0.07125243+0.06650661j,\n",
      "        -0.04091232-0.30296811j, -0.39088744-0.04715446j],\n",
      "       [-0.07820032-0.02303819j,  0.579677  -0.24532688j,\n",
      "         0.32491386+0.21780341j, -0.18373394-0.03945412j,\n",
      "        -0.14130732+0.21783418j,  0.44326207-0.24961915j,\n",
      "         0.17712977-0.08476814j,  0.17612407-0.11415066j],\n",
      "       [-0.03167791-0.19807048j,  0.09563502-0.15247765j,\n",
      "        -0.75711255+0.0293537j ,  0.24638754+0.04167485j,\n",
      "         0.03656266-0.01076974j,  0.1249482 -0.39074784j,\n",
      "         0.23621372+0.19164503j, -0.0200523 -0.16783583j],\n",
      "       [-0.15074953+0.06923289j, -0.36819806+0.28978208j,\n",
      "         0.19287999-0.28219823j,  0.17662058-0.52699891j,\n",
      "        -0.05933681+0.15607309j,  0.26825768-0.19723373j,\n",
      "         0.39531164-0.03273822j, -0.08996469-0.15164755j],\n",
      "       [-0.19012524+0.20917184j, -0.1558606 -0.43506119j,\n",
      "        -0.32860597-0.1517242j , -0.17895058-0.06330502j,\n",
      "        -0.26231559+0.09270736j,  0.14409472+0.4257115j ,\n",
      "         0.24411385-0.35192051j,  0.10865087+0.2546635j ],\n",
      "       [ 0.13835004+0.30022937j, -0.01647766-0.24107053j,\n",
      "        -0.10201991+0.06421282j, -0.33821031-0.43444595j,\n",
      "         0.05295446-0.22338195j,  0.0186516 +0.17652204j,\n",
      "        -0.17581534+0.34176513j, -0.00351218-0.53172915j]])], [array([[ 0.04105939+0.j        , -0.05743516+0.j        ,\n",
      "        -0.50803869+0.j        ,  0.38233225+0.j        ,\n",
      "         0.58574961+0.j        ,  0.45606598+0.j        ,\n",
      "        -0.18331398+0.j        , -0.07766122+0.j        ],\n",
      "       [-0.34226777+0.31247058j,  0.01164967-0.11888145j,\n",
      "        -0.06377074-0.23622748j,  0.27611137-0.2216683j ,\n",
      "        -0.11255652-0.3267176j , -0.19581198+0.13427132j,\n",
      "         0.02014944-0.25588192j, -0.45949468-0.36455526j],\n",
      "       [ 0.03150394+0.26531325j,  0.00435794-0.11629289j,\n",
      "         0.26981343-0.14856948j,  0.08256109-0.65337301j,\n",
      "         0.2918612 +0.25495779j, -0.14691923+0.10245523j,\n",
      "        -0.1482958 +0.24386666j,  0.34342426-0.06940438j],\n",
      "       [ 0.20014358+0.27852496j,  0.10096024-0.61012372j,\n",
      "         0.29373216+0.03510899j,  0.18286933+0.20107589j,\n",
      "         0.07220502-0.18631339j,  0.23671834+0.0929074j ,\n",
      "         0.41207438+0.11702524j, -0.02803341+0.22284271j],\n",
      "       [-0.11007692+0.04307221j, -0.21531319+0.2772432j ,\n",
      "         0.30955477+0.0683145j ,  0.12840961+0.03590735j,\n",
      "        -0.31270292-0.14909542j,  0.57468733+0.33435438j,\n",
      "        -0.15952603+0.27625065j,  0.10107078-0.26549141j],\n",
      "       [ 0.27749544+0.30611053j,  0.03650901-0.29492332j,\n",
      "        -0.03459722-0.01952621j, -0.06295311+0.31560105j,\n",
      "        -0.12469796-0.03644754j, -0.04967753-0.35416643j,\n",
      "        -0.56536751+0.04016778j,  0.13837497-0.38814091j],\n",
      "       [-0.2583892 +0.22160224j, -0.51476524-0.00425682j,\n",
      "         0.33601539+0.2970132j , -0.23884893+0.12470026j,\n",
      "         0.34156109+0.2669271j ,  0.03875071-0.19561409j,\n",
      "        -0.00454397-0.12875231j, -0.31543437-0.04033306j],\n",
      "       [ 0.46768928-0.2742745j ,  0.32622346+0.05904561j,\n",
      "         0.36634797+0.24947919j,  0.06102682-0.15229471j,\n",
      "         0.13682454+0.06201443j,  0.08782023+0.14643778j,\n",
      "        -0.11810154-0.4266017j , -0.26362815-0.23580396j]])], [array([[-0.48435591+0.j        , -0.06016267+0.j        ,\n",
      "        -0.14533248+0.j        ,  0.17781588+0.j        ,\n",
      "         0.38553917-0.j        , -0.5718274 +0.j        ,\n",
      "        -0.15499163+0.j        , -0.45759192+0.j        ],\n",
      "       [ 0.36934121-0.19759595j, -0.01474479-0.02569019j,\n",
      "         0.01616709-0.08437076j,  0.05066388+0.04632799j,\n",
      "         0.69319391-0.09359722j,  0.26953113-0.07686636j,\n",
      "         0.26540635+0.31259209j, -0.2171234 +0.16864755j],\n",
      "       [ 0.24210134+0.06138989j,  0.06520075+0.16369463j,\n",
      "        -0.29874839-0.09847818j,  0.21398691+0.03964688j,\n",
      "        -0.29560918-0.30446939j,  0.29550813-0.10479418j,\n",
      "        -0.31183796-0.07467506j, -0.5995168 -0.14009781j],\n",
      "       [ 0.39049204+0.15122395j,  0.02232344-0.10241615j,\n",
      "         0.2881789 -0.29417152j, -0.22318132-0.49743613j,\n",
      "         0.05681485-0.19973837j, -0.38614834-0.27599527j,\n",
      "        -0.26898669+0.00802861j,  0.0270069 -0.07258352j],\n",
      "       [ 0.0218923 -0.01639166j, -0.33231934+0.29170556j,\n",
      "        -0.18701601+0.26566545j, -0.11875395+0.22674674j,\n",
      "         0.2233242 -0.14827364j,  0.04206644-0.20845165j,\n",
      "        -0.59519445+0.13596492j,  0.37096013+0.07224474j],\n",
      "       [ 0.17381315-0.3133605j , -0.4318031 +0.43913602j,\n",
      "         0.25194165-0.19897407j,  0.45947068-0.16327285j,\n",
      "        -0.09087774+0.16781095j, -0.10322685+0.26447355j,\n",
      "        -0.02097795-0.12886074j,  0.03085566+0.12823678j],\n",
      "       [ 0.28036654+0.29939211j,  0.06587494+0.11390775j,\n",
      "        -0.65089194-0.15876213j,  0.29381922-0.0157744j ,\n",
      "         0.02844287+0.13285275j, -0.28277087-0.12306837j,\n",
      "         0.27380797-0.00736422j,  0.30006011-0.01936612j],\n",
      "       [-0.19871244-0.12379959j, -0.30165862-0.5199361j ,\n",
      "        -0.19243354-0.09193131j,  0.31400927-0.36136578j,\n",
      "        -0.06392403-0.08971285j,  0.20571172+0.08729801j,\n",
      "        -0.12494889+0.39007738j,  0.16453093-0.2286275j ]])], [array([[-0.08651168+0.00000000e+00j, -0.13288021+0.00000000e+00j,\n",
      "        -0.31794753+0.00000000e+00j,  0.42286799+0.00000000e+00j,\n",
      "         0.54704666+0.00000000e+00j,  0.46319848+0.00000000e+00j,\n",
      "         0.13680694-0.00000000e+00j, -0.40301561+0.00000000e+00j],\n",
      "       [ 0.65149548+2.08452272e-01j,  0.13918111+6.43280251e-02j,\n",
      "         0.27242836+3.64908664e-01j,  0.09350363-2.51115671e-02j,\n",
      "         0.35436903+1.44172186e-01j, -0.07380735+1.23090835e-01j,\n",
      "         0.13112984-2.66117516e-01j,  0.13814302-1.33355847e-01j],\n",
      "       [ 0.24947148-5.59261507e-02j, -0.0667621 -2.62000499e-01j,\n",
      "        -0.07172329-3.53913432e-01j, -0.28529711-2.78248492e-01j,\n",
      "         0.31674533+2.98644444e-01j,  0.03569469-1.04413761e-01j,\n",
      "         0.09887944+2.93714726e-01j,  0.23022926+4.70718328e-01j],\n",
      "       [-0.21659005+2.88272589e-01j,  0.02301046-1.83996130e-04j,\n",
      "         0.1830049 -2.13010398e-02j, -0.16631609+1.56965308e-01j,\n",
      "         0.31524514-3.59934679e-01j, -0.21229663+6.00836160e-01j,\n",
      "        -0.0763134 +7.85443183e-02j, -0.12197456+3.48335049e-01j],\n",
      "       [ 0.24098603+2.18879070e-03j,  0.27724708+2.80537491e-01j,\n",
      "        -0.19460718-2.24854196e-01j, -0.42072591-5.32163438e-02j,\n",
      "        -0.16602777-9.41624594e-02j,  0.00835035+6.23177915e-02j,\n",
      "         0.48747102-7.45958256e-02j, -0.48135372-5.29256634e-02j],\n",
      "       [-0.2680636 -1.09680455e-01j,  0.20958132+3.68174692e-01j,\n",
      "         0.42299289-3.07574343e-01j,  0.3207745 +1.79090792e-01j,\n",
      "         0.10546855+9.12002139e-02j, -0.05821979-1.83251544e-01j,\n",
      "         0.4157042 -1.07090671e-01j,  0.20867   +2.09540187e-01j],\n",
      "       [-0.22787608+3.31359138e-01j, -0.12975613-4.65747519e-01j,\n",
      "         0.40040109-4.21909482e-02j, -0.34911178+1.07439166e-01j,\n",
      "         0.07278859-1.50930996e-02j,  0.27792517-2.83720643e-01j,\n",
      "         0.19386569-2.38978013e-01j, -0.10645574-1.99248279e-01j],\n",
      "       [ 0.01343366+1.59270615e-01j,  0.507804  +2.41942038e-01j,\n",
      "        -0.04918952-2.67077345e-02j, -0.22955529+3.15853482e-01j,\n",
      "         0.2690077 -4.65223729e-02j,  0.17771894-3.41101537e-01j,\n",
      "        -0.42424377+2.88242545e-01j,  0.05302088-1.18819559e-01j]])], [array([[-0.36722696+0.j        ,  0.3133773 +0.j        ,\n",
      "         0.04674752+0.j        ,  0.40015017+0.j        ,\n",
      "        -0.21225983+0.j        ,  0.44855113+0.j        ,\n",
      "        -0.30672556+0.j        , -0.51410177+0.j        ],\n",
      "       [ 0.25816256-0.40811664j, -0.04273653-0.09994048j,\n",
      "         0.30254226+0.05187316j,  0.19297343+0.13871636j,\n",
      "        -0.1929671 -0.23369654j,  0.00136017+0.20366475j,\n",
      "         0.34751734+0.45108751j, -0.15922654+0.34834162j],\n",
      "       [ 0.00833634-0.09472991j, -0.0976477 +0.19618609j,\n",
      "         0.02168452-0.19283504j,  0.18426533-0.1408502j ,\n",
      "         0.65704233+0.29795604j,  0.08445299+0.44854832j,\n",
      "        -0.19420471+0.08135736j, -0.00180716+0.27988667j],\n",
      "       [ 0.24790479-0.26335238j, -0.03439367+0.17974589j,\n",
      "        -0.03954101-0.19849382j, -0.18011822-0.14111451j,\n",
      "        -0.10811838-0.30840941j, -0.12529081-0.15119133j,\n",
      "        -0.32540866-0.48774271j, -0.21236513+0.45621576j],\n",
      "       [ 0.0874476 +0.24838713j,  0.26375978+0.78588797j,\n",
      "        -0.08875332-0.14501989j,  0.20807399+0.06381573j,\n",
      "        -0.1152976 +0.05026592j, -0.20798519-0.166448j  ,\n",
      "         0.21179549+0.17602293j, -0.00802755+0.06710918j],\n",
      "       [ 0.55951923+0.16455363j, -0.11978056+0.10133497j,\n",
      "         0.01384729-0.05139929j,  0.00397894-0.26568915j,\n",
      "        -0.39941561+0.15590045j,  0.4745437 +0.24390766j,\n",
      "        -0.17140843+0.02536482j,  0.21288546-0.13393688j],\n",
      "       [ 0.03622785-0.13402061j, -0.27042472-0.10968896j,\n",
      "        -0.83933469-0.09406779j,  0.22419461-0.14009002j,\n",
      "        -0.09810388-0.03273699j, -0.11088091+0.08450406j,\n",
      "         0.11579408+0.12479937j, -0.21786225-0.07593545j],\n",
      "       [-0.20660876+0.14366164j,  0.09449245+0.05068808j,\n",
      "        -0.01057701-0.28246816j, -0.69082941-0.11019526j,\n",
      "        -0.14591555+0.06451054j,  0.01486433+0.36760616j,\n",
      "         0.18217094+0.15974332j, -0.36895987+0.01561661j]])], [array([[-0.61837733+0.j        , -0.0972536 +0.j        ,\n",
      "        -0.1528687 +0.j        ,  0.09855257+0.j        ,\n",
      "        -0.6382866 +0.j        ,  0.21315959+0.j        ,\n",
      "         0.26588753-0.j        , -0.22699516+0.j        ],\n",
      "       [ 0.58542164-0.07003696j,  0.029991  -0.08990946j,\n",
      "        -0.10113889-0.00576735j,  0.18554726-0.06966313j,\n",
      "        -0.55520726+0.00258243j,  0.05378689-0.45451533j,\n",
      "        -0.17874024+0.20228653j, -0.05665025+0.00582518j],\n",
      "       [ 0.02357203-0.02158627j, -0.04029289+0.28645658j,\n",
      "         0.11741602+0.26561944j, -0.12953972+0.03295535j,\n",
      "         0.14292909-0.13327266j,  0.31082635-0.12784193j,\n",
      "         0.25537636+0.48848522j,  0.00684508+0.59838286j],\n",
      "       [-0.09187476-0.06846449j,  0.09150382-0.58241905j,\n",
      "         0.31206978+0.07120266j,  0.58046846-0.15639887j,\n",
      "         0.15967975+0.13766618j,  0.31335545+0.07876082j,\n",
      "        -0.00878233+0.08544283j,  0.08790195+0.10712741j],\n",
      "       [ 0.04488887+0.25217882j,  0.15084231-0.5572099j ,\n",
      "        -0.44671276+0.14346823j, -0.29034734-0.17305532j,\n",
      "        -0.08681679-0.16820917j, -0.24404932+0.20408731j,\n",
      "         0.15797226+0.14807471j,  0.18785025+0.21807602j],\n",
      "       [ 0.03848325+0.2782792j , -0.08275874-0.05494913j,\n",
      "         0.37198248-0.52277052j, -0.11655117+0.23260346j,\n",
      "        -0.20377976+0.20793996j, -0.13403347+0.29297786j,\n",
      "         0.00131727+0.48655127j,  0.07819611-0.02116771j],\n",
      "       [-0.1965003 +0.22019626j, -0.17978907+0.23274783j,\n",
      "        -0.26054629+0.26521256j,  0.44073906+0.0571462j ,\n",
      "         0.08505886-0.05120384j, -0.23611946-0.07543026j,\n",
      "        -0.11376171+0.41103456j,  0.38499028-0.2987629j ],\n",
      "       [-0.08881927+0.12774496j, -0.01836951-0.34692216j,\n",
      "         0.05038543+0.08375613j, -0.11520577+0.42309405j,\n",
      "         0.26523475-0.02975753j, -0.10926318-0.49934059j,\n",
      "         0.23163321+0.1614407j , -0.41121475-0.26820913j]])], [array([[ 0.88163755+0.j        , -0.21892596+0.j        ,\n",
      "         0.11654242+0.j        , -0.12643645+0.j        ,\n",
      "        -0.04271423+0.j        , -0.19575514+0.j        ,\n",
      "         0.2340173 -0.j        , -0.22429817+0.j        ],\n",
      "       [-0.09022147-0.1328048j , -0.02902216+0.08774317j,\n",
      "        -0.02680278-0.00623649j, -0.35490156+0.19159189j,\n",
      "        -0.22937942-0.27018369j, -0.31540637+0.30075296j,\n",
      "        -0.20815245+0.58005428j, -0.0383917 -0.32473062j],\n",
      "       [ 0.02055143+0.04469834j,  0.52824517+0.06900273j,\n",
      "        -0.22973236-0.11500254j,  0.04056072+0.05192365j,\n",
      "         0.46048509-0.39828576j, -0.13155172+0.03985964j,\n",
      "         0.06286051-0.11079013j, -0.48433956-0.05521018j],\n",
      "       [ 0.04698864+0.12387728j, -0.30273962+0.00894078j,\n",
      "         0.04865053-0.1396917j , -0.13370258-0.29203054j,\n",
      "         0.28527086-0.08942498j,  0.47995495+0.62900182j,\n",
      "        -0.19785104-0.03733197j, -0.09879751-0.00065163j],\n",
      "       [-0.03290963+0.20135337j, -0.09768142+0.25553432j,\n",
      "        -0.66787458-0.2880128j , -0.21314196-0.15189132j,\n",
      "        -0.232971  -0.00559576j, -0.20122818+0.14059825j,\n",
      "         0.24573506-0.22085979j,  0.21548419+0.12593802j],\n",
      "       [ 0.09849123+0.2061352j , -0.07656974+0.35167146j,\n",
      "        -0.10598548+0.01016576j,  0.30751559+0.22979429j,\n",
      "         0.12673787+0.18585689j, -0.15930432+0.05901469j,\n",
      "        -0.41171145+0.29460177j, -0.081199  +0.56321296j],\n",
      "       [ 0.27271266+0.00862078j,  0.25482357-0.36128295j,\n",
      "        -0.14370754-0.57330267j,  0.16786532+0.34251823j,\n",
      "        -0.08586854+0.15763434j,  0.1703719 +0.06286406j,\n",
      "        -0.28000887-0.00771926j,  0.22944287-0.19737959j],\n",
      "       [-0.08663712-0.03454595j, -0.01232877-0.40988672j,\n",
      "        -0.089392  +0.01070341j, -0.55823446+0.20213081j,\n",
      "         0.44565879+0.27705806j, -0.05287395-0.04423061j,\n",
      "         0.17743949+0.18240142j,  0.08612669+0.33204761j]])], [array([[ 0.82470739-0.j        ,  0.41603135+0.j        ,\n",
      "         0.11977326+0.j        , -0.04941111+0.j        ,\n",
      "        -0.09034832+0.j        , -0.21388325+0.j        ,\n",
      "         0.03151342-0.j        , -0.27401933+0.j        ],\n",
      "       [ 0.21411273+0.15945466j, -0.59375114-0.1792116j ,\n",
      "         0.11326997-0.24936386j, -0.05960853+0.0940607j ,\n",
      "        -0.07925031+0.07534275j, -0.38441817-0.15638211j,\n",
      "        -0.37544171-0.32235928j,  0.08620775+0.14200752j],\n",
      "       [ 0.02615672+0.05237567j,  0.07411706+0.04913813j,\n",
      "         0.45894761-0.13422919j, -0.42101228+0.05845826j,\n",
      "        -0.43951668+0.16793354j,  0.2441097 +0.31516534j,\n",
      "         0.00876166-0.01603652j,  0.42315894-0.14018872j],\n",
      "       [ 0.07758511-0.15508639j,  0.00798339+0.37826914j,\n",
      "         0.33104236+0.23231j   , -0.05060324-0.14747159j,\n",
      "         0.53102641+0.34788959j,  0.14768761-0.11563985j,\n",
      "        -0.01099709-0.4021735j ,  0.10782062+0.16499024j],\n",
      "       [-0.02405259-0.30028671j, -0.20828266+0.07021798j,\n",
      "         0.37880629+0.46274039j,  0.18410084+0.22968241j,\n",
      "        -0.22308255-0.18053692j,  0.04890913-0.17228491j,\n",
      "        -0.21858606+0.02112629j, -0.24599848-0.43987736j],\n",
      "       [ 0.02238836+0.17335893j, -0.16666063+0.03463264j,\n",
      "         0.11511448-0.13085596j,  0.06250341+0.28305232j,\n",
      "         0.20118797-0.32203481j,  0.23688366+0.60602897j,\n",
      "         0.11252285-0.30592577j, -0.38489762+0.06406399j],\n",
      "       [ 0.04486346-0.2729467j , -0.28078872+0.31855016j,\n",
      "        -0.13902419-0.24469801j, -0.51179922-0.22516592j,\n",
      "        -0.09412018-0.27579014j,  0.0544802 -0.26627906j,\n",
      "         0.34373645-0.08596484j, -0.23172447-0.11530619j],\n",
      "       [ 0.06966605+0.1114355j , -0.16419211-0.08147734j,\n",
      "         0.12745673+0.18704818j, -0.4073097 +0.3618963j ,\n",
      "         0.20962911+0.00903539j,  0.1840513 -0.15719936j,\n",
      "        -0.06106441+0.55514396j, -0.13025689+0.41174718j]])]]\n"
     ]
    }
   ],
   "source": [
    "print(full_eigenvectors)"
   ]
  },
  {
   "cell_type": "code",
   "execution_count": 45,
   "metadata": {},
   "outputs": [
    {
     "name": "stdout",
     "output_type": "stream",
     "text": [
      "[0.6690580686965003, 0.8195736975717711, 0.872884018126579, 0.8725028573652807, 0.49005835553310617, 0.712791573799693, 0.707753081758423, 0.891736002410779, 0.6700174614550539, 0.7997733092723225, 0.8374649449559108, 0.4574719115092033, 0.8840256873570914, 0.908428350087302, 0.9631150796418813, 0.44171921038830547, 0.6975956214728871, 0.6462179222909694, 0.8607479915392237, 0.9474704963478325, 0.8468857529952672, 0.832771957545549, 0.7157346898127448, 0.7242874134726712, 0.4191371005921089, 0.6032040635469154, 0.8862293163324408, 0.8465132301132849, 0.7452212133120674, 1.0117567995063854, 0.9014887858667631, 0.6423984894243583]\n"
     ]
    }
   ],
   "source": [
    "eigenvalues = full_eigenvalues\n",
    "eigenvectors = full_eigenvectors\n",
    "\n",
    "entropies = []\n",
    "\n",
    "# calculating the von-neumann entropy of the mixed_states \n",
    "# using their eigenvalues\n",
    "def calculate_entropy(eigenvalues):  \n",
    "\n",
    "    eigenvalues = np.array(eigenvalues)\n",
    "    non_zero_eigenvalues = eigenvalues[eigenvalues > 0]\n",
    "\n",
    "    entropy = -np.sum(non_zero_eigenvalues * np.log(non_zero_eigenvalues))\n",
    "\n",
    "    return entropy\n",
    "\n",
    "for eigenlist in eigenvalues: \n",
    "    entropies.append(calculate_entropy(eigenlist))\n",
    "\n",
    "print(entropies)"
   ]
  },
  {
   "cell_type": "code",
   "execution_count": 48,
   "metadata": {},
   "outputs": [
    {
     "data": {
      "text/latex": [
       "$$(-0.3440172286 + 0.0515955609 i) |000\\rangle+(0.2007603951 + 0.2622891473 i) |001\\rangle+(-0.6547331545 + 0.3296338876 i) |010\\rangle+(0.04772683 - 0.1676505271 i) |011\\rangle+(-0.3099689567 - 0.0561082789 i) |100\\rangle+(-0.037625978 - 0.0917285502 i) |101\\rangle+(-0.0483157296 - 0.0522753817 i) |110\\rangle+(-0.2942955041 + 0.0378874032 i) |111\\rangle$$"
      ],
      "text/plain": [
       "<IPython.core.display.Latex object>"
      ]
     },
     "metadata": {},
     "output_type": "display_data"
    },
    {
     "data": {
      "text/latex": [
       "$$(0.3757723284 + 0.2256143096 i) |000\\rangle+(-0.1097158783 + 0.5012327722 i) |001\\rangle+(-0.0343912351 + 0.1778204317 i) |010\\rangle+(0.340536977 + 0.0452707745 i) |011\\rangle+(0.138900824 + 0.1885640781 i) |100\\rangle+(0.4075274839 + 0.3798155145 i) |101\\rangle+(0.0529292405 + 0.0233982353 i) |110\\rangle+(-0.1037890438 - 0.1203921211 i) |111\\rangle$$"
      ],
      "text/plain": [
       "<IPython.core.display.Latex object>"
      ]
     },
     "metadata": {},
     "output_type": "display_data"
    },
    {
     "data": {
      "text/latex": [
       "$$(0.0351687013 - 0.1972137964 i) |000\\rangle+(0.1843409752 - 0.0832027021 i) |001\\rangle+(-0.2483469025 + 0.3163639655 i) |010\\rangle+(-0.3250595187 - 0.0160996628 i) |011\\rangle+(0.3113959363 - 0.2742205813 i) |100\\rangle+(0.0378669769 + 0.3797540794 i) |101\\rangle+(-0.0473782798 - 0.1714459291 i) |110\\rangle+(0.4354266867 - 0.3350136283 i) |111\\rangle$$"
      ],
      "text/plain": [
       "<IPython.core.display.Latex object>"
      ]
     },
     "metadata": {},
     "output_type": "display_data"
    },
    {
     "data": {
      "text/latex": [
       "$$(-0.1153521528 - 0.295137496 i) |000\\rangle+(-0.1996311823 - 0.8001976837 i) |001\\rangle+(0.2428090131 + 0.2200832439 i) |010\\rangle+(-0.0444592988 - 0.1254987374 i) |011\\rangle+(0.1059830633 - 0.0217440156 i) |100\\rangle+(-0.099024456 + 0.0023252288 i) |101\\rangle+(-0.085981075 + 0.2270945865 i) |110\\rangle+(0.1124818574 - 0.0341475863 i) |111\\rangle$$"
      ],
      "text/plain": [
       "<IPython.core.display.Latex object>"
      ]
     },
     "metadata": {},
     "output_type": "display_data"
    },
    {
     "data": {
      "text/latex": [
       "$$(0.0136461342 - 0.3498141451 i) |000\\rangle+(-0.0693284287 + 0.2177082133 i) |001\\rangle+(-0.3475421005 + 0.5261915242 i) |010\\rangle+(-0.1085750145 - 0.2706736525 i) |011\\rangle+(0.0218143672 - 0.0513224032 i) |100\\rangle+(-0.0682052723 + 0.2332759554 i) |101\\rangle+(0.3563845794 - 0.0380011122 i) |110\\rangle+(0.0335450457 - 0.3882859111 i) |111\\rangle$$"
      ],
      "text/plain": [
       "<IPython.core.display.Latex object>"
      ]
     },
     "metadata": {},
     "output_type": "display_data"
    },
    {
     "data": {
      "text/latex": [
       "$$(0.5051015596 - 0.1814331053 i) |000\\rangle+(0.0441350044 - 0.0179666182 i) |001\\rangle+(0.3652146197 - 0.1594047806 i) |010\\rangle+(0.0447622548 + 0.336811598 i) |011\\rangle+(0.1838501675 - 0.1540838794 i) |100\\rangle+(-0.4326738757 + 0.0383484346 i) |101\\rangle+(0.2513038685 - 0.2489582008 i) |110\\rangle+(-0.0555183989 - 0.2470026447 i) |111\\rangle$$"
      ],
      "text/plain": [
       "<IPython.core.display.Latex object>"
      ]
     },
     "metadata": {},
     "output_type": "display_data"
    },
    {
     "data": {
      "text/latex": [
       "$$(-0.4002142957 + 0.2958432117 i) |000\\rangle+(-0.0560550197 + 0.33313405 i) |001\\rangle+(0.0686788426 + 0.1156577943 i) |010\\rangle+(0.0007401924 + 0.0081097906 i) |011\\rangle+(0.1442850801 + 0.0212947726 i) |100\\rangle+(-0.1126055454 + 0.1119817624 i) |101\\rangle+(0.0118401706 + 0.3031471846 i) |110\\rangle+(0.2245221188 - 0.6565705317 i) |111\\rangle$$"
      ],
      "text/plain": [
       "<IPython.core.display.Latex object>"
      ]
     },
     "metadata": {},
     "output_type": "display_data"
    },
    {
     "data": {
      "text/latex": [
       "$$(0.4788083592 + 0.1399771681 i) |000\\rangle+(-0.332222079 - 0.1415111627 i) |001\\rangle+(-0.3282447518 + 0.3715273575 i) |010\\rangle+(0.1242214329 + 0.325990587 i) |011\\rangle+(-0.2736007691 + 0.0186822887 i) |100\\rangle+(0.1879891338 - 0.1255048494 i) |101\\rangle+(-0.1685878447 + 0.1609209823 i) |110\\rangle+(0.0331978239 - 0.2675008357 i) |111\\rangle$$"
      ],
      "text/plain": [
       "<IPython.core.display.Latex object>"
      ]
     },
     "metadata": {},
     "output_type": "display_data"
    },
    {
     "data": {
      "text/latex": [
       "$$(-0.1644888103 + 0.0825425988 i) |000\\rangle+(0.4145618169 - 0.019170014 i) |001\\rangle+(-0.0629887922 + 0.7591726317 i) |010\\rangle+(-0.2163273341 - 0.1670771005 i) |011\\rangle+(0.0225991343 - 0.0483989232 i) |100\\rangle+(0.1321402281 - 0.2143214802 i) |101\\rangle+(0.0390990831 - 0.2400708581 i) |110\\rangle+(0.0840958523 + 0.0799714609 i) |111\\rangle$$"
      ],
      "text/plain": [
       "<IPython.core.display.Latex object>"
      ]
     },
     "metadata": {},
     "output_type": "display_data"
    },
    {
     "data": {
      "text/latex": [
       "$$(-0.4531717646 - 0.0312524266 i) |000\\rangle+(-0.3495265223 - 0.223949623 i) |001\\rangle+(0.0045011814 - 0.1854786593 i) |010\\rangle+(0.0732964671 - 0.1842532253 i) |011\\rangle+(-0.2452751799 + 0.0483089808 i) |100\\rangle+(0.4002581675 - 0.1806658709 i) |101\\rangle+(-0.1242156762 - 0.0676155955 i) |110\\rangle+(0.5109838697 - 0.1055739094 i) |111\\rangle$$"
      ],
      "text/plain": [
       "<IPython.core.display.Latex object>"
      ]
     },
     "metadata": {},
     "output_type": "display_data"
    },
    {
     "data": {
      "text/latex": [
       "$$(-0.2861964074 + 0.0294938596 i) |000\\rangle+(-0.2457020556 + 0.0384507507 i) |001\\rangle+(-0.4429792406 + 0.2081586501 i) |010\\rangle+(-0.3548135741 + 0.332186311 i) |011\\rangle+(0.0478542531 - 0.0464674397 i) |100\\rangle+(-0.0680623835 + 0.5470752197 i) |101\\rangle+(-0.1092549095 - 0.2307113002 i) |110\\rangle+(0.0520006255 - 0.05771723 i) |111\\rangle$$"
      ],
      "text/plain": [
       "<IPython.core.display.Latex object>"
      ]
     },
     "metadata": {},
     "output_type": "display_data"
    },
    {
     "data": {
      "text/latex": [
       "$$(0.3288360621 + 0.1377398184 i) |000\\rangle+(0.1236020234 - 0.2747684693 i) |001\\rangle+(-0.4224971964 + 0.0471166782 i) |010\\rangle+(-0.1698524582 - 0.1334248166 i) |011\\rangle+(-0.1736559303 + 0.1399331302 i) |100\\rangle+(0.0971765469 - 0.1196938929 i) |101\\rangle+(-0.5877194742 + 0.1739982216 i) |110\\rangle+(-0.0065023686 + 0.3248139445 i) |111\\rangle$$"
      ],
      "text/plain": [
       "<IPython.core.display.Latex object>"
      ]
     },
     "metadata": {},
     "output_type": "display_data"
    },
    {
     "data": {
      "text/latex": [
       "$$(-0.0664254766 + 0.0376659171 i) |000\\rangle+(-0.0799211635 + 0.0399353093 i) |001\\rangle+(-0.4052270592 + 0.344400047 i) |010\\rangle+(-0.2051259557 + 0.2054161467 i) |011\\rangle+(0.0492649745 + 0.256032011 i) |100\\rangle+(0.3011038594 + 0.3619178451 i) |101\\rangle+(0.0939940697 + 0.1158378053 i) |110\\rangle+(-0.1889747548 + 0.5210582225 i) |111\\rangle$$"
      ],
      "text/plain": [
       "<IPython.core.display.Latex object>"
      ]
     },
     "metadata": {},
     "output_type": "display_data"
    },
    {
     "data": {
      "text/latex": [
       "$$(-0.2481511815 + 0.1679771213 i) |000\\rangle+(0.0820417496 - 0.3105042855 i) |001\\rangle+(0.3422078163 + 0.0387765849 i) |010\\rangle+(-0.0669544087 + 0.4930233093 i) |011\\rangle+(-0.4951380973 - 0.0670499632 i) |100\\rangle+(-0.0075653803 - 0.0509627883 i) |101\\rangle+(-0.3159694239 - 0.1670021116 i) |110\\rangle+(-0.1902511057 + 0.1570429538 i) |111\\rangle$$"
      ],
      "text/plain": [
       "<IPython.core.display.Latex object>"
      ]
     },
     "metadata": {},
     "output_type": "display_data"
    },
    {
     "data": {
      "text/latex": [
       "$$(-0.0486493221 + 0.049110729 i) |000\\rangle+(-0.2189376126 - 0.2356667655 i) |001\\rangle+(0.0084722839 - 0.4347692263 i) |010\\rangle+(-0.4989531218 + 0.0850333824 i) |011\\rangle+(0.1451040246 + 0.2055821643 i) |100\\rangle+(0.4846614608 + 0.0230861339 i) |101\\rangle+(-0.013482929 - 0.1875059493 i) |110\\rangle+(0.2288019397 - 0.2450069799 i) |111\\rangle$$"
      ],
      "text/plain": [
       "<IPython.core.display.Latex object>"
      ]
     },
     "metadata": {},
     "output_type": "display_data"
    },
    {
     "data": {
      "text/latex": [
       "$$(-0.2680636011 - 0.1096804553 i) |000\\rangle+(0.2095813238 + 0.3681746924 i) |001\\rangle+(0.4229928862 - 0.3075743429 i) |010\\rangle+(0.3207744982 + 0.1790907917 i) |011\\rangle+(0.1054685506 + 0.0912002139 i) |100\\rangle+(-0.0582197894 - 0.1832515435 i) |101\\rangle+(0.415704203 - 0.1070906713 i) |110\\rangle+(0.2086699956 + 0.2095401869 i) |111\\rangle$$"
      ],
      "text/plain": [
       "<IPython.core.display.Latex object>"
      ]
     },
     "metadata": {},
     "output_type": "display_data"
    },
    {
     "data": {
      "text/latex": [
       "$$(-0.2278760813 + 0.3313591384 i) |000\\rangle+(-0.1297561322 - 0.4657475195 i) |001\\rangle+(0.400401095 - 0.0421909482 i) |010\\rangle+(-0.3491117804 + 0.1074391663 i) |011\\rangle+(0.0727885939 - 0.0150930996 i) |100\\rangle+(0.2779251719 - 0.2837206426 i) |101\\rangle+(0.1938656928 - 0.2389780134 i) |110\\rangle+(-0.106455742 - 0.1992482788 i) |111\\rangle$$"
      ],
      "text/plain": [
       "<IPython.core.display.Latex object>"
      ]
     },
     "metadata": {},
     "output_type": "display_data"
    },
    {
     "data": {
      "text/latex": [
       "$$(0.0134336601 + 0.1592706155 i) |000\\rangle+(0.5078039984 + 0.2419420383 i) |001\\rangle+(-0.0491895203 - 0.0267077345 i) |010\\rangle+(-0.229555291 + 0.3158534824 i) |011\\rangle+(0.2690076956 - 0.0465223729 i) |100\\rangle+(0.177718937 - 0.3411015375 i) |101\\rangle+(-0.4242437669 + 0.2882425453 i) |110\\rangle+(0.0530208822 - 0.118819559 i) |111\\rangle$$"
      ],
      "text/plain": [
       "<IPython.core.display.Latex object>"
      ]
     },
     "metadata": {},
     "output_type": "display_data"
    },
    {
     "data": {
      "text/latex": [
       "$$(-0.1507495348 + 0.0692328859 i) |000\\rangle+(-0.3681980598 + 0.289782083 i) |001\\rangle+(0.1928799914 - 0.2821982273 i) |010\\rangle+(0.1766205801 - 0.5269989113 i) |011\\rangle+(-0.059336805 + 0.1560730939 i) |100\\rangle+(0.2682576767 - 0.1972337329 i) |101\\rangle+(0.3953116449 - 0.0327382182 i) |110\\rangle+(-0.0899646887 - 0.151647551 i) |111\\rangle$$"
      ],
      "text/plain": [
       "<IPython.core.display.Latex object>"
      ]
     },
     "metadata": {},
     "output_type": "display_data"
    },
    {
     "data": {
      "text/latex": [
       "$$(-0.1901252403 + 0.2091718385 i) |000\\rangle+(-0.1558606018 - 0.4350611924 i) |001\\rangle+(-0.3286059704 - 0.1517241956 i) |010\\rangle+(-0.1789505835 - 0.0633050221 i) |011\\rangle+(-0.262315591 + 0.0927073569 i) |100\\rangle+(0.1440947231 + 0.4257114966 i) |101\\rangle+(0.2441138496 - 0.3519205074 i) |110\\rangle+(0.1086508657 + 0.2546634988 i) |111\\rangle$$"
      ],
      "text/plain": [
       "<IPython.core.display.Latex object>"
      ]
     },
     "metadata": {},
     "output_type": "display_data"
    },
    {
     "data": {
      "text/latex": [
       "$$(0.1383500352 + 0.3002293655 i) |000\\rangle+(-0.0164776604 - 0.2410705262 i) |001\\rangle+(-0.1020199068 + 0.0642128194 i) |010\\rangle+(-0.3382103062 - 0.4344459516 i) |011\\rangle+(0.0529544612 - 0.2233819549 i) |100\\rangle+(0.0186515978 + 0.1765220354 i) |101\\rangle+(-0.1758153433 + 0.3417651252 i) |110\\rangle+(-0.0035121808 - 0.5317291466 i) |111\\rangle$$"
      ],
      "text/plain": [
       "<IPython.core.display.Latex object>"
      ]
     },
     "metadata": {},
     "output_type": "display_data"
    },
    {
     "data": {
      "text/latex": [
       "$$(0.2774954447 + 0.3061105258 i) |000\\rangle+(0.0365090066 - 0.2949233207 i) |001\\rangle+(-0.0345972228 - 0.0195262077 i) |010\\rangle+(-0.0629531106 + 0.3156010521 i) |011\\rangle+(-0.1246979639 - 0.0364475351 i) |100\\rangle+(-0.0496775292 - 0.3541664291 i) |101\\rangle+(-0.5653675088 + 0.0401677819 i) |110\\rangle+(0.1383749723 - 0.388140912 i) |111\\rangle$$"
      ],
      "text/plain": [
       "<IPython.core.display.Latex object>"
      ]
     },
     "metadata": {},
     "output_type": "display_data"
    },
    {
     "data": {
      "text/latex": [
       "$$(-0.2583891961 + 0.2216022354 i) |000\\rangle+(-0.5147652391 - 0.0042568243 i) |001\\rangle+(0.3360153916 + 0.2970132042 i) |010\\rangle+(-0.2388489297 + 0.1247002588 i) |011\\rangle+(0.3415610886 + 0.2669271037 i) |100\\rangle+(0.0387507107 - 0.1956140928 i) |101\\rangle+(-0.0045439697 - 0.12875231 i) |110\\rangle+(-0.3154343683 - 0.0403330576 i) |111\\rangle$$"
      ],
      "text/plain": [
       "<IPython.core.display.Latex object>"
      ]
     },
     "metadata": {},
     "output_type": "display_data"
    },
    {
     "data": {
      "text/latex": [
       "$$(0.4676892809 - 0.2742745001 i) |000\\rangle+(0.3262234602 + 0.0590456148 i) |001\\rangle+(0.3663479739 + 0.2494791936 i) |010\\rangle+(0.0610268195 - 0.1522947063 i) |011\\rangle+(0.1368245357 + 0.0620144344 i) |100\\rangle+(0.087820233 + 0.1464377751 i) |101\\rangle+(-0.1181015386 - 0.4266016999 i) |110\\rangle+(-0.2636281467 - 0.2358039564 i) |111\\rangle$$"
      ],
      "text/plain": [
       "<IPython.core.display.Latex object>"
      ]
     },
     "metadata": {},
     "output_type": "display_data"
    },
    {
     "data": {
      "text/latex": [
       "$$(-0.1974514295 - 0.1192803699 i) |000\\rangle+(-0.3908874116 - 0.3924256234 i) |001\\rangle+(-0.2311722424 - 0.2985439654 i) |010\\rangle+(-0.0824920783 + 0.0040448852 i) |011\\rangle+(-0.0624114986 + 0.2518455293 i) |100\\rangle+(0.0425613733 - 0.4541774882 i) |101\\rangle+(0.3708331753 + 0.1542992642 i) |110\\rangle+(0.0745138069 - 0.2198090935 i) |111\\rangle$$"
      ],
      "text/plain": [
       "<IPython.core.display.Latex object>"
      ]
     },
     "metadata": {},
     "output_type": "display_data"
    },
    {
     "data": {
      "text/latex": [
       "$$(-0.0029951783 - 0.2013503971 i) |000\\rangle+(-0.1260777312 + 0.4706154268 i) |001\\rangle+(0.3144264591 - 0.2710852851 i) |010\\rangle+(-0.1604686854 - 0.1596901438 i) |011\\rangle+(0.0003118892 - 0.0572172387 i) |100\\rangle+(0.4903502827 - 0.0313961964 i) |101\\rangle+(0.3178926077 - 0.3859968032 i) |110\\rangle+(-0.021594105 - 0.0570405405 i) |111\\rangle$$"
      ],
      "text/plain": [
       "<IPython.core.display.Latex object>"
      ]
     },
     "metadata": {},
     "output_type": "display_data"
    },
    {
     "data": {
      "text/latex": [
       "$$(-0.0520744864 - 0.2362366507 i) |000\\rangle+(-0.2095101064 + 0.2031310183 i) |001\\rangle+(0.0595358171 - 0.4282115246 i) |010\\rangle+(0.4260029068 - 0.2682099668 i) |011\\rangle+(-0.2288195999 - 0.1189150479 i) |100\\rangle+(-0.4307674413 + 0.0480491136 i) |101\\rangle+(-0.1852969233 + 0.0036554064 i) |110\\rangle+(0.3447225979 + 0.0919164096 i) |111\\rangle$$"
      ],
      "text/plain": [
       "<IPython.core.display.Latex object>"
      ]
     },
     "metadata": {},
     "output_type": "display_data"
    },
    {
     "data": {
      "text/latex": [
       "$$(0.0477927405 + 0.025864534 i) |000\\rangle+(0.1709868835 + 0.1570856136 i) |001\\rangle+(-0.4044126015 + 0.2394257992 i) |010\\rangle+(0.0495646842 - 0.4366777632 i) |011\\rangle+(-0.0572514705 - 0.0710755569 i) |100\\rangle+(-0.0587478765 - 0.1815529839 i) |101\\rangle+(-0.5683727864 - 0.0888302484 i) |110\\rangle+(-0.360291552 - 0.1537054937 i) |111\\rangle$$"
      ],
      "text/plain": [
       "<IPython.core.display.Latex object>"
      ]
     },
     "metadata": {},
     "output_type": "display_data"
    },
    {
     "data": {
      "text/latex": [
       "$$(-0.036064597 + 0.0314393244 i) |000\\rangle+(-0.1013201293 + 0.1783777148 i) |001\\rangle+(-0.1591564286 - 0.2964615483 i) |010\\rangle+(-0.1189571739 + 0.0619509428 i) |011\\rangle+(-0.3532477934 - 0.6153924971 i) |100\\rangle+(-0.3439785192 - 0.0416647963 i) |101\\rangle+(-0.0729552329 + 0.3322243417 i) |110\\rangle+(0.2609198501 - 0.1307433966 i) |111\\rangle$$"
      ],
      "text/plain": [
       "<IPython.core.display.Latex object>"
      ]
     },
     "metadata": {},
     "output_type": "display_data"
    },
    {
     "data": {
      "text/latex": [
       "$$(-0.107482629 - 0.0855012009 i) |000\\rangle+(0.0298022589 + 0.5509621877 i) |001\\rangle+(-0.0702293346 + 0.1023445267 i) |010\\rangle+(-0.0078723665 - 0.225421304 i) |011\\rangle+(-0.1315417534 + 0.2052583373 i) |100\\rangle+(0.1820426215 - 0.5006762681 i) |101\\rangle+(0.2373564615 + 0.088917182 i) |110\\rangle+(0.3277787132 + 0.3089862826 i) |111\\rangle$$"
      ],
      "text/plain": [
       "<IPython.core.display.Latex object>"
      ]
     },
     "metadata": {},
     "output_type": "display_data"
    },
    {
     "data": {
      "text/latex": [
       "$$(0.1461760422 - 0.0415022245 i) |000\\rangle+(0.1043385812 - 0.1593881582 i) |001\\rangle+(0.2280444691 + 0.2034150438 i) |010\\rangle+(-0.5869157029 + 0.1237874143 i) |011\\rangle+(0.3462985226 + 0.0241726955 i) |100\\rangle+(0.1780749036 + 0.0327193458 i) |101\\rangle+(-0.3224475709 + 0.0612648149 i) |110\\rangle+(0.4741015136 + 0.0407112734 i) |111\\rangle$$"
      ],
      "text/plain": [
       "<IPython.core.display.Latex object>"
      ]
     },
     "metadata": {},
     "output_type": "display_data"
    },
    {
     "data": {
      "text/latex": [
       "$$(0.2010914284 - 0.0135667441 i) |000\\rangle+(0.4998168898 + 0.178252976 i) |001\\rangle+(0.2959784429 - 0.1179089319 i) |010\\rangle+(-0.0243171114 - 0.3584064411 i) |011\\rangle+(-0.2173978355 - 0.2456425256 i) |100\\rangle+(0.0509473519 + 0.3473285628 i) |101\\rangle+(-0.1343407833 + 0.3574217839 i) |110\\rangle+(-0.1310559558 - 0.2311419621 i) |111\\rangle$$"
      ],
      "text/plain": [
       "<IPython.core.display.Latex object>"
      ]
     },
     "metadata": {},
     "output_type": "display_data"
    },
    {
     "data": {
      "text/latex": [
       "$$(0.0407449812 - 0.0368505015 i) |000\\rangle+(-0.0666649049 - 0.4882796745 i) |001\\rangle+(0.2881605638 + 0.5724189255 i) |010\\rangle+(0.303887624 - 0.2916954017 i) |011\\rangle+(0.134783122 - 0.0342071879 i) |100\\rangle+(0.0068922988 - 0.2210091912 i) |101\\rangle+(0.1176977859 + 0.2567425692 i) |110\\rangle+(-0.1341026949 - 0.0021373808 i) |111\\rangle$$"
      ],
      "text/plain": [
       "<IPython.core.display.Latex object>"
      ]
     },
     "metadata": {},
     "output_type": "display_data"
    },
    {
     "data": {
      "text/latex": [
       "$$(-0.2541659576 - 0.2365878076 i) |000\\rangle+(-0.0343398414 - 0.0135284578 i) |001\\rangle+(-0.2845001211 - 0.0775961796 i) |010\\rangle+(0.3361120477 + 0.5944587773 i) |011\\rangle+(-0.1835147109 - 0.0274176244 i) |100\\rangle+(-0.1033356787 - 0.1662578803 i) |101\\rangle+(-0.2572354391 - 0.1708751819 i) |110\\rangle+(0.2548843699 - 0.3027636659 i) |111\\rangle$$"
      ],
      "text/plain": [
       "<IPython.core.display.Latex object>"
      ]
     },
     "metadata": {},
     "output_type": "display_data"
    },
    {
     "data": {
      "text/latex": [
       "$$(-0.5539134589 - 0.0627233969 i) |000\\rangle+(-0.2106235403 - 0.1208871241 i) |001\\rangle+(-0.0771191572 - 0.0552411885 i) |010\\rangle+(0.0824962963 - 0.0771011845 i) |011\\rangle+(0.2251523017 - 0.008452501 i) |100\\rangle+(0.3740883206 + 0.3924539533 i) |101\\rangle+(-0.1234041592 + 0.072793705 i) |110\\rangle+(0.2898834964 + 0.3990405567 i) |111\\rangle$$"
      ],
      "text/plain": [
       "<IPython.core.display.Latex object>"
      ]
     },
     "metadata": {},
     "output_type": "display_data"
    },
    {
     "data": {
      "text/latex": [
       "$$(0.2559274048 + 0.1740395155 i) |000\\rangle+(-0.4436658894 - 0.6378058134 i) |001\\rangle+(0.1029508168 + 0.1900057837 i) |010\\rangle+(0.0495263519 - 0.1433440226 i) |011\\rangle+(-0.1242998563 - 0.0198304121 i) |100\\rangle+(-0.0940038305 + 0.0487055451 i) |101\\rangle+(-0.1669182606 - 0.3699515927 i) |110\\rangle+(0.1913692238 - 0.0497351022 i) |111\\rangle$$"
      ],
      "text/plain": [
       "<IPython.core.display.Latex object>"
      ]
     },
     "metadata": {},
     "output_type": "display_data"
    },
    {
     "data": {
      "text/latex": [
       "$$(0.0995327669 - 0.0736019028 i) |000\\rangle+(-0.193705157 + 0.5110895168 i) |001\\rangle+(0.1034096222 + 0.5675683529 i) |010\\rangle+(-0.1190900194 + 0.1668502016 i) |011\\rangle+(0.0699567799 - 0.2081498773 i) |100\\rangle+(0.3302463286 + 0.08152258 i) |101\\rangle+(-0.2871765163 - 0.0418608756 i) |110\\rangle+(0.0713732557 + 0.2405146179 i) |111\\rangle$$"
      ],
      "text/plain": [
       "<IPython.core.display.Latex object>"
      ]
     },
     "metadata": {},
     "output_type": "display_data"
    },
    {
     "data": {
      "text/latex": [
       "$$(-0.2208271598 + 0.0771093832 i) |000\\rangle+(-0.2141204088 + 0.2328313873 i) |001\\rangle+(0.1390368761 - 0.2026265279 i) |010\\rangle+(-0.114323695 - 0.676264936 i) |011\\rangle+(-0.2936312249 - 0.0658387873 i) |100\\rangle+(0.0910240697 + 0.1696960235 i) |101\\rangle+(-0.2391487041 - 0.1438054539 i) |110\\rangle+(0.2155565467 - 0.249931332 i) |111\\rangle$$"
      ],
      "text/plain": [
       "<IPython.core.display.Latex object>"
      ]
     },
     "metadata": {},
     "output_type": "display_data"
    },
    {
     "data": {
      "text/latex": [
       "$$(-0.0595663227 + 0.0365286281 i) |000\\rangle+(-0.0912961531 + 0.0500519856 i) |001\\rangle+(-0.0823528325 + 0.0611171973 i) |010\\rangle+(0.0979115217 + 0.1780088979 i) |011\\rangle+(0.1096665741 - 0.1562778233 i) |100\\rangle+(-0.2748057656 - 0.5254877442 i) |101\\rangle+(-0.4118668834 - 0.3826632838 i) |110\\rangle+(-0.1161321167 - 0.4634963954 i) |111\\rangle$$"
      ],
      "text/plain": [
       "<IPython.core.display.Latex object>"
      ]
     },
     "metadata": {},
     "output_type": "display_data"
    },
    {
     "data": {
      "text/latex": [
       "$$(-0.0698667088 + 0.1020459976 i) |000\\rangle+(0.1659731217 + 0.1060552703 i) |001\\rangle+(0.1206599094 - 0.0519056656 i) |010\\rangle+(-0.1211584109 + 0.3811497201 i) |011\\rangle+(-0.3781192675 + 0.3352236467 i) |100\\rangle+(0.0134267919 + 0.137980531 i) |101\\rangle+(-0.2866441546 + 0.0175665598 i) |110\\rangle+(-0.05873253 + 0.638914731 i) |111\\rangle$$"
      ],
      "text/plain": [
       "<IPython.core.display.Latex object>"
      ]
     },
     "metadata": {},
     "output_type": "display_data"
    },
    {
     "data": {
      "text/latex": [
       "$$(0.0896496593 + 0.3553151545 i) |000\\rangle+(0.2525697836 + 0.1695803069 i) |001\\rangle+(0.1902331346 - 0.3656785109 i) |010\\rangle+(-0.2072762391 - 0.1555192159 i) |011\\rangle+(0.1232680764 + 0.3294241727 i) |100\\rangle+(-0.1005776558 - 0.3000909061 i) |101\\rangle+(0.0774917522 + 0.3812818541 i) |110\\rangle+(-0.3510974726 - 0.1938299218 i) |111\\rangle$$"
      ],
      "text/plain": [
       "<IPython.core.display.Latex object>"
      ]
     },
     "metadata": {},
     "output_type": "display_data"
    },
    {
     "data": {
      "text/latex": [
       "$$(0.0183777463 - 0.4107261378 i) |000\\rangle+(0.2067049749 + 0.2559963898 i) |001\\rangle+(0.5568426264 + 0.0338279006 i) |010\\rangle+(0.0184582477 - 0.081504285 i) |011\\rangle+(0.4842282025 + 0.1540718722 i) |100\\rangle+(-0.0400566521 + 0.1325470829 i) |101\\rangle+(-0.0435985526 - 0.3389363223 i) |110\\rangle+(-0.0579869957 + 0.0835104346 i) |111\\rangle$$"
      ],
      "text/plain": [
       "<IPython.core.display.Latex object>"
      ]
     },
     "metadata": {},
     "output_type": "display_data"
    },
    {
     "data": {
      "text/latex": [
       "$$(0.1738131473 - 0.3133604959 i) |000\\rangle+(-0.4318030978 + 0.4391360163 i) |001\\rangle+(0.251941654 - 0.1989740698 i) |010\\rangle+(0.4594706808 - 0.1632728482 i) |011\\rangle+(-0.09087774 + 0.1678109459 i) |100\\rangle+(-0.1032268546 + 0.2644735487 i) |101\\rangle+(-0.0209779479 - 0.1288607434 i) |110\\rangle+(0.0308556596 + 0.1282367755 i) |111\\rangle$$"
      ],
      "text/plain": [
       "<IPython.core.display.Latex object>"
      ]
     },
     "metadata": {},
     "output_type": "display_data"
    },
    {
     "data": {
      "text/latex": [
       "$$(0.2803665381 + 0.2993921146 i) |000\\rangle+(0.0658749393 + 0.1139077492 i) |001\\rangle+(-0.650891936 - 0.1587621349 i) |010\\rangle+(0.29381922 - 0.0157744039 i) |011\\rangle+(0.0284428655 + 0.13285275 i) |100\\rangle+(-0.282770866 - 0.1230683731 i) |101\\rangle+(0.2738079657 - 0.0073642161 i) |110\\rangle+(0.3000601137 - 0.0193661231 i) |111\\rangle$$"
      ],
      "text/plain": [
       "<IPython.core.display.Latex object>"
      ]
     },
     "metadata": {},
     "output_type": "display_data"
    },
    {
     "data": {
      "text/latex": [
       "$$(-0.1987124422 - 0.1237995887 i) |000\\rangle+(-0.3016586173 - 0.519936098 i) |001\\rangle+(-0.1924335389 - 0.091931309 i) |010\\rangle+(0.3140092695 - 0.3613657776 i) |011\\rangle+(-0.0639240339 - 0.0897128478 i) |100\\rangle+(0.2057117218 + 0.0872980057 i) |101\\rangle+(-0.1249488938 + 0.3900773777 i) |110\\rangle+(0.1645309336 - 0.2286275018 i) |111\\rangle$$"
      ],
      "text/plain": [
       "<IPython.core.display.Latex object>"
      ]
     },
     "metadata": {},
     "output_type": "display_data"
    },
    {
     "data": {
      "text/latex": [
       "$$(0.1756159371 - 0.2070928484 i) |000\\rangle+(0.1654774778 - 0.0311118813 i) |001\\rangle+(-0.1906528038 - 0.4628124221 i) |010\\rangle+(-0.0826886245 - 0.3821797142 i) |011\\rangle+(0.0892121573 + 0.1057261114 i) |100\\rangle+(-0.097561396 - 0.2306970724 i) |101\\rangle+(0.4878382016 - 0.18139701 i) |110\\rangle+(0.3763318517 - 0.0092435965 i) |111\\rangle$$"
      ],
      "text/plain": [
       "<IPython.core.display.Latex object>"
      ]
     },
     "metadata": {},
     "output_type": "display_data"
    },
    {
     "data": {
      "text/latex": [
       "$$(-0.1510487673 - 0.0133327177 i) |000\\rangle+(7.70564 \\cdot 10^{-5} - 0.2122655148 i) |001\\rangle+(0.3723547432 + 0.0889037592 i) |010\\rangle+(0.4621228056 - 0.1415767614 i) |011\\rangle+(0.0068682204 + 0.0726448221 i) |100\\rangle+(0.0138536137 - 0.4747771915 i) |101\\rangle+(-0.2131929814 - 0.5126913608 i) |110\\rangle+(0.0183324215 - 0.1105755423 i) |111\\rangle$$"
      ],
      "text/plain": [
       "<IPython.core.display.Latex object>"
      ]
     },
     "metadata": {},
     "output_type": "display_data"
    },
    {
     "data": {
      "text/latex": [
       "$$(0.2541024099 + 0.313824882 i) |000\\rangle+(-0.3056600213 + 0.2334952124 i) |001\\rangle+(-0.0712141591 + 0.0215267875 i) |010\\rangle+(-0.0605895776 + 0.0060405495 i) |011\\rangle+(0.3156156024 + 0.281938784 i) |100\\rangle+(0.2666404004 + 0.1853503343 i) |101\\rangle+(-0.2500327508 - 0.3423855379 i) |110\\rangle+(0.3852059936 + 0.2589845077 i) |111\\rangle$$"
      ],
      "text/plain": [
       "<IPython.core.display.Latex object>"
      ]
     },
     "metadata": {},
     "output_type": "display_data"
    },
    {
     "data": {
      "text/latex": [
       "$$(0.2822037464 - 0.1084080434 i) |000\\rangle+(-0.3659222564 + 0.268180322 i) |001\\rangle+(0.1615183653 - 0.1765987619 i) |010\\rangle+(-0.0035965885 - 0.2760513909 i) |011\\rangle+(-0.2069394818 + 0.1952820551 i) |100\\rangle+(-0.4659407369 + 0.4131476627 i) |101\\rangle+(-0.1168862386 + 0.1357784874 i) |110\\rangle+(-0.0984514049 - 0.2423936607 i) |111\\rangle$$"
      ],
      "text/plain": [
       "<IPython.core.display.Latex object>"
      ]
     },
     "metadata": {},
     "output_type": "display_data"
    },
    {
     "data": {
      "text/latex": [
       "$$(0.0787629776 - 0.3057207326 i) |000\\rangle+(0.3280702657 - 0.1270076323 i) |001\\rangle+(0.1591403583 + 0.3846373621 i) |010\\rangle+(-0.0292593877 + 0.1058575798 i) |011\\rangle+(0.2059601217 - 0.078748544 i) |100\\rangle+(-0.1593970642 + 0.2513787312 i) |101\\rangle+(-0.4320324742 + 0.3327497224 i) |110\\rangle+(0.3947674804 + 0.028307254 i) |111\\rangle$$"
      ],
      "text/plain": [
       "<IPython.core.display.Latex object>"
      ]
     },
     "metadata": {},
     "output_type": "display_data"
    },
    {
     "data": {
      "text/latex": [
       "$$(0.1978154032 - 0.0398561185 i) |000\\rangle+(-0.0766658533 + 0.2908600066 i) |001\\rangle+(0.1473287249 + 0.3284878221 i) |010\\rangle+(0.4632396883 - 0.3439206958 i) |011\\rangle+(0.1895060117 - 0.2222494304 i) |100\\rangle+(0.202623913 - 0.1791979286 i) |101\\rangle+(0.0180890366 + 0.2923813653 i) |110\\rangle+(-0.3536541918 + 0.1922494586 i) |111\\rangle$$"
      ],
      "text/plain": [
       "<IPython.core.display.Latex object>"
      ]
     },
     "metadata": {},
     "output_type": "display_data"
    },
    {
     "data": {
      "text/latex": [
       "$$(0.0984912297 + 0.2061351955 i) |000\\rangle+(-0.0765697399 + 0.3516714564 i) |001\\rangle+(-0.1059854759 + 0.0101657593 i) |010\\rangle+(0.3075155906 + 0.2297942903 i) |011\\rangle+(0.1267378713 + 0.1858568912 i) |100\\rangle+(-0.1593043183 + 0.0590146897 i) |101\\rangle+(-0.411711449 + 0.294601765 i) |110\\rangle+(-0.0811989995 + 0.5632129582 i) |111\\rangle$$"
      ],
      "text/plain": [
       "<IPython.core.display.Latex object>"
      ]
     },
     "metadata": {},
     "output_type": "display_data"
    },
    {
     "data": {
      "text/latex": [
       "$$(0.2727126556 + 0.0086207843 i) |000\\rangle+(0.2548235719 - 0.3612829505 i) |001\\rangle+(-0.1437075436 - 0.5733026687 i) |010\\rangle+(0.1678653247 + 0.3425182273 i) |011\\rangle+(-0.0858685399 + 0.1576343446 i) |100\\rangle+(0.170371903 + 0.0628640588 i) |101\\rangle+(-0.2800088709 - 0.0077192632 i) |110\\rangle+(0.2294428678 - 0.1973795907 i) |111\\rangle$$"
      ],
      "text/plain": [
       "<IPython.core.display.Latex object>"
      ]
     },
     "metadata": {},
     "output_type": "display_data"
    },
    {
     "data": {
      "text/latex": [
       "$$(-0.0866371201 - 0.0345459488 i) |000\\rangle+(-0.0123287677 - 0.4098867157 i) |001\\rangle+(-0.089392 + 0.0107034091 i) |010\\rangle+(-0.5582344623 + 0.20213081 i) |011\\rangle+(0.4456587937 + 0.2770580573 i) |100\\rangle+(-0.0528739512 - 0.0442306053 i) |101\\rangle+(0.1774394904 + 0.1824014167 i) |110\\rangle+(0.0861266858 + 0.3320476058 i) |111\\rangle$$"
      ],
      "text/plain": [
       "<IPython.core.display.Latex object>"
      ]
     },
     "metadata": {},
     "output_type": "display_data"
    },
    {
     "data": {
      "text/latex": [
       "$$(0.2961472484 + 0.0491905924 i) |000\\rangle+(0.4641939263 + 0.4026310278 i) |001\\rangle+(-0.4485879279 + 0.3072623452 i) |010\\rangle+(-0.1321464814 - 0.0278372839 i) |011\\rangle+(0.0902873678 + 0.0246999423 i) |100\\rangle+(0.140879635 + 0.1993384693 i) |101\\rangle+(0.1795202172 + 0.1944284587 i) |110\\rangle+(-0.2813707932 + 0.0294314846 i) |111\\rangle$$"
      ],
      "text/plain": [
       "<IPython.core.display.Latex object>"
      ]
     },
     "metadata": {},
     "output_type": "display_data"
    },
    {
     "data": {
      "text/latex": [
       "$$(0.4067494465 + 0.2976293662 i) |000\\rangle+(0.1044408834 - 0.0422047596 i) |001\\rangle+(0.3353816753 - 0.4077340833 i) |010\\rangle+(0.2375658756 + 0.189450875 i) |011\\rangle+(0.1796317635 - 0.0835389268 i) |100\\rangle+(-0.0846658559 + 0.0966337894 i) |101\\rangle+(-0.0222109464 + 0.0137666633 i) |110\\rangle+(-0.4073825803 + 0.3739374882 i) |111\\rangle$$"
      ],
      "text/plain": [
       "<IPython.core.display.Latex object>"
      ]
     },
     "metadata": {},
     "output_type": "display_data"
    },
    {
     "data": {
      "text/latex": [
       "$$(0.1250769297 + 0.0670933034 i) |000\\rangle+(-0.1042326956 + 0.2665751796 i) |001\\rangle+(0.250765234 + 0.4458800038 i) |010\\rangle+(0.4780678646 + 0.0889619262 i) |011\\rangle+(-0.0927789539 + 0.1009043304 i) |100\\rangle+(-0.088214436 + 0.074427801 i) |101\\rangle+(-0.2154151869 + 0.4070092179 i) |110\\rangle+(0.3559085303 + 0.1700887727 i) |111\\rangle$$"
      ],
      "text/plain": [
       "<IPython.core.display.Latex object>"
      ]
     },
     "metadata": {},
     "output_type": "display_data"
    },
    {
     "data": {
      "text/latex": [
       "$$(0.0763636367 - 0.2517889572 i) |000\\rangle+(-0.0056225946 + 0.2068947059 i) |001\\rangle+(-0.1985875567 + 0.1490808996 i) |010\\rangle+(0.1218230578 + 0.0384684871 i) |011\\rangle+(-0.4422400385 + 0.097110513 i) |100\\rangle+(0.3209006375 + 0.1903110826 i) |101\\rangle+(0.0989188303 + 0.1634640294 i) |110\\rangle+(-0.6181779287 - 0.2170241065 i) |111\\rangle$$"
      ],
      "text/plain": [
       "<IPython.core.display.Latex object>"
      ]
     },
     "metadata": {},
     "output_type": "display_data"
    },
    {
     "data": {
      "text/latex": [
       "$$(-0.1573933758 - 0.08611438 i) |000\\rangle+(-0.0607899815 - 0.1881705675 i) |001\\rangle+(-0.1932315807 - 0.2397063962 i) |010\\rangle+(0.0186958434 + 0.0088472225 i) |011\\rangle+(0.3475717449 - 0.022996805 i) |100\\rangle+(0.4254080554 + 0.4189354008 i) |101\\rangle+(0.5482688615 + 0.1539659132 i) |110\\rangle+(0.167253163 + 0.0582316445 i) |111\\rangle$$"
      ],
      "text/plain": [
       "<IPython.core.display.Latex object>"
      ]
     },
     "metadata": {},
     "output_type": "display_data"
    },
    {
     "data": {
      "text/latex": [
       "$$(-0.0476054914 + 0.0297941425 i) |000\\rangle+(-0.0574902573 + 0.1995210303 i) |001\\rangle+(-0.3952090079 + 0.1450501378 i) |010\\rangle+(-0.4269694566 - 0.4718167761 i) |011\\rangle+(-0.1027744055 + 0.0664467364 i) |100\\rangle+(0.0797024473 + 0.3755381216 i) |101\\rangle+(-0.32330101 - 0.1257177384 i) |110\\rangle+(0.1669688811 + 0.2470270379 i) |111\\rangle$$"
      ],
      "text/plain": [
       "<IPython.core.display.Latex object>"
      ]
     },
     "metadata": {},
     "output_type": "display_data"
    },
    {
     "data": {
      "text/latex": [
       "$$(0.1815900494 + 0.0842898934 i) |000\\rangle+(0.6648323529 + 0.2289777393 i) |001\\rangle+(0.3404783911 - 0.2692761468 i) |010\\rangle+(-0.1844507444 + 0.0059383243 i) |011\\rangle+(0.1680368024 + 0.2478675751 i) |100\\rangle+(0.2676581126 - 0.1595609493 i) |101\\rangle+(0.206990518 + 0.0215499104 i) |110\\rangle+(-0.1016000388 - 0.0508682789 i) |111\\rangle$$"
      ],
      "text/plain": [
       "<IPython.core.display.Latex object>"
      ]
     },
     "metadata": {},
     "output_type": "display_data"
    },
    {
     "data": {
      "text/latex": [
       "$$(-0.0545604216 - 0.1301981384 i) |000\\rangle+(0.2385702546 + 0.4091208816 i) |001\\rangle+(-0.110324386 - 0.2760759879 i) |010\\rangle+(-0.1607334944 - 0.173133761 i) |011\\rangle+(0.009143885 - 0.0691225979 i) |100\\rangle+(-0.5628820079 + 0.1330285032 i) |101\\rangle+(-0.3086822132 - 0.2208824537 i) |110\\rangle+(0.3186527295 + 0.1629980232 i) |111\\rangle$$"
      ],
      "text/plain": [
       "<IPython.core.display.Latex object>"
      ]
     },
     "metadata": {},
     "output_type": "display_data"
    },
    {
     "data": {
      "text/latex": [
       "$$(-0.2098750991 - 0.2149094116 i) |000\\rangle+(-0.0768268488 + 0.190935718 i) |001\\rangle+(-0.0830974597 + 0.0815608421 i) |010\\rangle+(-0.2111386939 - 0.1352689521 i) |011\\rangle+(0.4835135597 - 0.1646440546 i) |100\\rangle+(0.0415912803 - 0.0231863973 i) |101\\rangle+(-0.2519731864 - 0.1218950083 i) |110\\rangle+(-0.5442470343 - 0.3914828137 i) |111\\rangle$$"
      ],
      "text/plain": [
       "<IPython.core.display.Latex object>"
      ]
     },
     "metadata": {},
     "output_type": "display_data"
    },
    {
     "data": {
      "text/latex": [
       "$$(0.0223883611 + 0.1733589341 i) |000\\rangle+(-0.1666606276 + 0.0346326393 i) |001\\rangle+(0.1151144838 - 0.1308559612 i) |010\\rangle+(0.0625034079 + 0.2830523225 i) |011\\rangle+(0.2011879703 - 0.3220348087 i) |100\\rangle+(0.2368836578 + 0.6060289708 i) |101\\rangle+(0.112522848 - 0.305925767 i) |110\\rangle+(-0.3848976195 + 0.0640639894 i) |111\\rangle$$"
      ],
      "text/plain": [
       "<IPython.core.display.Latex object>"
      ]
     },
     "metadata": {},
     "output_type": "display_data"
    },
    {
     "data": {
      "text/latex": [
       "$$(0.0448634597 - 0.2729466997 i) |000\\rangle+(-0.2807887166 + 0.3185501641 i) |001\\rangle+(-0.1390241863 - 0.2446980107 i) |010\\rangle+(-0.5117992219 - 0.2251659181 i) |011\\rangle+(-0.0941201787 - 0.275790141 i) |100\\rangle+(0.0544801953 - 0.2662790564 i) |101\\rangle+(0.3437364475 - 0.085964841 i) |110\\rangle+(-0.2317244683 - 0.1153061917 i) |111\\rangle$$"
      ],
      "text/plain": [
       "<IPython.core.display.Latex object>"
      ]
     },
     "metadata": {},
     "output_type": "display_data"
    },
    {
     "data": {
      "text/latex": [
       "$$(0.0696660484 + 0.1114354997 i) |000\\rangle+(-0.164192111 - 0.0814773359 i) |001\\rangle+(0.1274567262 + 0.1870481782 i) |010\\rangle+(-0.4073096995 + 0.3618963041 i) |011\\rangle+(0.2096291136 + 0.0090353865 i) |100\\rangle+(0.1840513023 - 0.1571993608 i) |101\\rangle+(-0.061064413 + 0.5551439578 i) |110\\rangle+(-0.130256886 + 0.4117471848 i) |111\\rangle$$"
      ],
      "text/plain": [
       "<IPython.core.display.Latex object>"
      ]
     },
     "metadata": {},
     "output_type": "display_data"
    },
    {
     "data": {
      "text/latex": [
       "$$(0.1694313164 + 0.1415236156 i) |000\\rangle+(-0.6280164494 + 0.10691048 i) |001\\rangle+(-0.2277840996 - 0.0228611087 i) |010\\rangle+(-0.1065987863 - 0.333139325 i) |011\\rangle+(0.0979305372 - 0.3551597259 i) |100\\rangle+(-0.023423457 + 0.1879362808 i) |101\\rangle+(0.3535029765 - 0.0467555685 i) |110\\rangle+(0.2625748725 + 0.054614285 i) |111\\rangle$$"
      ],
      "text/plain": [
       "<IPython.core.display.Latex object>"
      ]
     },
     "metadata": {},
     "output_type": "display_data"
    },
    {
     "data": {
      "text/latex": [
       "$$(0.1625624897 + 0.1012147212 i) |000\\rangle+(0.1585793295 - 0.1262522271 i) |001\\rangle+(0.0961431131 + 0.3407138657 i) |010\\rangle+(-0.314751203 + 0.2348994873 i) |011\\rangle+(-0.1849093792 - 0.3233161442 i) |100\\rangle+(0.2033088929 - 0.161653906 i) |101\\rangle+(0.1836112261 + 0.4467680844 i) |110\\rangle+(0.0594669354 + 0.4467930665 i) |111\\rangle$$"
      ],
      "text/plain": [
       "<IPython.core.display.Latex object>"
      ]
     },
     "metadata": {},
     "output_type": "display_data"
    },
    {
     "data": {
      "text/latex": [
       "$$(0.4554684666 - 0.356023086 i) |000\\rangle+(-0.2296627638 - 0.4269262837 i) |001\\rangle+(0.0946845059 - 0.0767537085 i) |010\\rangle+(-0.0343439465 - 0.2061491169 i) |011\\rangle+(-0.2559237293 + 0.0153978231 i) |100\\rangle+(0.373437074 + 0.0585183071 i) |101\\rangle+(-0.3909655479 + 0.018250165 i) |110\\rangle+(-0.0193250123 - 0.1003866322 i) |111\\rangle$$"
      ],
      "text/plain": [
       "<IPython.core.display.Latex object>"
      ]
     },
     "metadata": {},
     "output_type": "display_data"
    },
    {
     "data": {
      "text/latex": [
       "$$(-0.1955572892 - 0.0537777989 i) |000\\rangle+(0.1780934668 + 0.090472065 i) |001\\rangle+(0.5432687317 + 0.4987054833 i) |010\\rangle+(-0.0181324593 - 0.2960907679 i) |011\\rangle+(0.1811284185 - 0.3118345739 i) |100\\rangle+(0.001861334 + 0.142569987 i) |101\\rangle+(0.2329364157 - 0.135154051 i) |110\\rangle+(0.1357002653 + 0.2140039491 i) |111\\rangle$$"
      ],
      "text/plain": [
       "<IPython.core.display.Latex object>"
      ]
     },
     "metadata": {},
     "output_type": "display_data"
    },
    {
     "data": {
      "text/latex": [
       "$$(-0.3613709971 - 0.0126295138 i) |000\\rangle+(-0.0734726968 - 0.054270125 i) |001\\rangle+(-0.34368778 + 0.1968466184 i) |010\\rangle+(-0.5310744935 + 0.2958887739 i) |011\\rangle+(-0.1908997814 - 0.0051567908 i) |100\\rangle+(0.124311408 + 0.1755641944 i) |101\\rangle+(0.4467362285 - 0.1399721207 i) |110\\rangle+(0.1477422302 - 0.1034852557 i) |111\\rangle$$"
      ],
      "text/plain": [
       "<IPython.core.display.Latex object>"
      ]
     },
     "metadata": {},
     "output_type": "display_data"
    },
    {
     "data": {
      "text/latex": [
       "$$(-0.2990593921 - 0.0358587212 i) |000\\rangle+(-0.1008430901 - 0.1947620376 i) |001\\rangle+(-0.1826224655 - 0.1786906636 i) |010\\rangle+(0.0163396792 + 0.2685686479 i) |011\\rangle+(0.5626578831 - 0.2741846681 i) |100\\rangle+(0.0775883267 + 0.0119696429 i) |101\\rangle+(-0.3256937994 - 0.1068205754 i) |110\\rangle+(0.2613217933 + 0.3738958648 i) |111\\rangle$$"
      ],
      "text/plain": [
       "<IPython.core.display.Latex object>"
      ]
     },
     "metadata": {},
     "output_type": "display_data"
    },
    {
     "data": {
      "text/latex": [
       "$$(-0.0014886558 + 0.0499090777 i) |000\\rangle+(0.4065371728 + 0.0901475058 i) |001\\rangle+(-0.5004107522 - 0.1940792733 i) |010\\rangle+(-0.0982664592 + 0.1419068691 i) |011\\rangle+(-0.3008085392 - 0.1477161404 i) |100\\rangle+(0.1521313819 - 0.3285461054 i) |101\\rangle+(-0.2189226125 + 0.1974318753 i) |110\\rangle+(-0.3835987813 + 0.1696745814 i) |111\\rangle$$"
      ],
      "text/plain": [
       "<IPython.core.display.Latex object>"
      ]
     },
     "metadata": {},
     "output_type": "display_data"
    },
    {
     "data": {
      "text/latex": [
       "$$(0.1280946288 + 0.1643895263 i) |000\\rangle+(0.0568172699 + 0.0098449968 i) |001\\rangle+(-0.0982308172 - 0.5619191967 i) |010\\rangle+(0.0193012172 + 0.5285901139 i) |011\\rangle+(0.0280467409 + 0.4082125043 i) |100\\rangle+(-0.1696476557 + 0.2591084774 i) |101\\rangle+(-0.0133252777 - 0.1133318361 i) |110\\rangle+(0.2288415477 + 0.1390269058 i) |111\\rangle$$"
      ],
      "text/plain": [
       "<IPython.core.display.Latex object>"
      ]
     },
     "metadata": {},
     "output_type": "display_data"
    },
    {
     "data": {
      "text/latex": [
       "$$(-0.066201439 - 0.0158194542 i) |000\\rangle+(-0.0101778782 + 0.4766579902 i) |001\\rangle+(0.1371664278 + 0.3559151531 i) |010\\rangle+(0.3398749332 + 0.4505244962 i) |011\\rangle+(-0.0838227016 + 0.0460840264 i) |100\\rangle+(0.0250635191 - 0.2983049536 i) |101\\rangle+(-0.0500853301 - 0.4460656395 i) |110\\rangle+(-0.0582498403 + 0.021048076 i) |111\\rangle$$"
      ],
      "text/plain": [
       "<IPython.core.display.Latex object>"
      ]
     },
     "metadata": {},
     "output_type": "display_data"
    },
    {
     "data": {
      "text/latex": [
       "$$(-0.3548541859 + 0.5215147749 i) |000\\rangle+(-0.2068849855 + 0.2801726132 i) |001\\rangle+(0.1939021281 + 0.1237259187 i) |010\\rangle+(-0.3333498422 + 0.1524281129 i) |011\\rangle+(0.2169947211 - 0.0119772651 i) |100\\rangle+(-0.0934856362 + 0.3266791061 i) |101\\rangle+(0.0422609611 + 0.1296443691 i) |110\\rangle+(0.1741295369 + 0.2862454497 i) |111\\rangle$$"
      ],
      "text/plain": [
       "<IPython.core.display.Latex object>"
      ]
     },
     "metadata": {},
     "output_type": "display_data"
    },
    {
     "data": {
      "text/latex": [
       "$$(0.1933552192 + 0.1032925433 i) |000\\rangle+(0.0901434345 - 0.048880978 i) |001\\rangle+(0.5380547555 + 0.1817680515 i) |010\\rangle+(0.0127479108 + 0.1031890518 i) |011\\rangle+(0.0916027146 + 0.1964117554 i) |100\\rangle+(-0.2775207697 - 0.2551786126 i) |101\\rangle+(-0.0887452214 + 0.5320521775 i) |110\\rangle+(-0.2523758045 - 0.2536234794 i) |111\\rangle$$"
      ],
      "text/plain": [
       "<IPython.core.display.Latex object>"
      ]
     },
     "metadata": {},
     "output_type": "display_data"
    },
    {
     "data": {
      "text/latex": [
       "$$(0.0162063651 + 0.0603664797 i) |000\\rangle+(-0.381029127 + 0.2304096903 i) |001\\rangle+(-0.193194825 + 0.1196989917 i) |010\\rangle+(-0.1091408661 + 0.4460389152 i) |011\\rangle+(-0.018642984 - 0.1108512005 i) |100\\rangle+(0.1174558501 - 0.3715796422 i) |101\\rangle+(0.303735984 - 0.1558566414 i) |110\\rangle+(-0.4985811285 - 0.0753262917 i) |111\\rangle$$"
      ],
      "text/plain": [
       "<IPython.core.display.Latex object>"
      ]
     },
     "metadata": {},
     "output_type": "display_data"
    },
    {
     "data": {
      "text/latex": [
       "$$(0.2509805167 + 0.2715990709 i) |000\\rangle+(-0.4676993679 + 0.1444381651 i) |001\\rangle+(-0.0884154491 - 0.2861542327 i) |010\\rangle+(0.0437401945 - 0.2163584146 i) |011\\rangle+(0.4533507659 + 0.1355985526 i) |100\\rangle+(0.3236709418 + 0.0957792268 i) |101\\rangle+(0.1912188446 + 0.1028361137 i) |110\\rangle+(0.1817927753 + 0.2591775236 i) |111\\rangle$$"
      ],
      "text/plain": [
       "<IPython.core.display.Latex object>"
      ]
     },
     "metadata": {},
     "output_type": "display_data"
    },
    {
     "data": {
      "text/latex": [
       "$$(-0.1667197519 - 0.0105771086 i) |000\\rangle+(-0.1189663911 - 0.0307010501 i) |001\\rangle+(0.313990333 + 0.3268695359 i) |010\\rangle+(-0.1112318236 + 0.6638992442 i) |011\\rangle+(0.3467973803 + 0.058992262 i) |100\\rangle+(0.1628208604 + 0.0170531477 i) |101\\rangle+(0.0169987855 - 0.2622600477 i) |110\\rangle+(0.2719686506 + 0.0695884617 i) |111\\rangle$$"
      ],
      "text/plain": [
       "<IPython.core.display.Latex object>"
      ]
     },
     "metadata": {},
     "output_type": "display_data"
    },
    {
     "data": {
      "text/latex": [
       "$$(0.6120711882 - 0.2808238692 i) |000\\rangle+(-0.0610871092 - 0.0664531289 i) |001\\rangle+(0.1670033973 + 0.0187018984 i) |010\\rangle+(0.1389934162 + 0.0583112819 i) |011\\rangle+(-0.0531525627 + 0.2257279341 i) |100\\rangle+(-0.4856553871 + 0.2152479422 i) |101\\rangle+(0.0342900135 + 0.0382101452 i) |110\\rangle+(0.3787510694 - 0.0730792114 i) |111\\rangle$$"
      ],
      "text/plain": [
       "<IPython.core.display.Latex object>"
      ]
     },
     "metadata": {},
     "output_type": "display_data"
    },
    {
     "data": {
      "text/latex": [
       "$$(0.5595192319 + 0.1645536335 i) |000\\rangle+(-0.1197805597 + 0.1013349668 i) |001\\rangle+(0.0138472911 - 0.0513992944 i) |010\\rangle+(0.0039789371 - 0.2656891535 i) |011\\rangle+(-0.3994156132 + 0.1559004508 i) |100\\rangle+(0.4745436956 + 0.2439076567 i) |101\\rangle+(-0.1714084335 + 0.0253648167 i) |110\\rangle+(0.212885463 - 0.1339368799 i) |111\\rangle$$"
      ],
      "text/plain": [
       "<IPython.core.display.Latex object>"
      ]
     },
     "metadata": {},
     "output_type": "display_data"
    },
    {
     "data": {
      "text/latex": [
       "$$(0.0362278516 - 0.134020608 i) |000\\rangle+(-0.2704247235 - 0.109688963 i) |001\\rangle+(-0.8393346947 - 0.0940677853 i) |010\\rangle+(0.2241946144 - 0.1400900229 i) |011\\rangle+(-0.0981038793 - 0.0327369919 i) |100\\rangle+(-0.1108809141 + 0.0845040609 i) |101\\rangle+(0.1157940818 + 0.12479937 i) |110\\rangle+(-0.217862255 - 0.0759354503 i) |111\\rangle$$"
      ],
      "text/plain": [
       "<IPython.core.display.Latex object>"
      ]
     },
     "metadata": {},
     "output_type": "display_data"
    },
    {
     "data": {
      "text/latex": [
       "$$(-0.206608758 + 0.1436616435 i) |000\\rangle+(0.0944924502 + 0.0506880794 i) |001\\rangle+(-0.0105770112 - 0.282468157 i) |010\\rangle+(-0.6908294144 - 0.1101952621 i) |011\\rangle+(-0.1459155455 + 0.0645105447 i) |100\\rangle+(0.0148643289 + 0.3676061604 i) |101\\rangle+(0.1821709399 + 0.1597433191 i) |110\\rangle+(-0.3689598732 + 0.0156166116 i) |111\\rangle$$"
      ],
      "text/plain": [
       "<IPython.core.display.Latex object>"
      ]
     },
     "metadata": {},
     "output_type": "display_data"
    },
    {
     "data": {
      "text/latex": [
       "$$(-0.0208547842 - 0.0697927568 i) |000\\rangle+(-0.0567052911 - 0.0763607929 i) |001\\rangle+(0.0576433081 - 0.6822614605 i) |010\\rangle+(-0.2196014917 + 0.2396640702 i) |011\\rangle+(-0.4679170453 - 0.0252983805 i) |100\\rangle+(0.0510427723 + 0.0008436906 i) |101\\rangle+(0.0668926636 - 0.0759921441 i) |110\\rangle+(0.009034764 - 0.4226783032 i) |111\\rangle$$"
      ],
      "text/plain": [
       "<IPython.core.display.Latex object>"
      ]
     },
     "metadata": {},
     "output_type": "display_data"
    },
    {
     "data": {
      "text/latex": [
       "$$(-0.0747834805 + 0.2255644521 i) |000\\rangle+(-0.1438293595 + 0.1536276873 i) |001\\rangle+(-0.2692652962 - 0.1582130671 i) |010\\rangle+(0.2279718893 - 0.1858456772 i) |011\\rangle+(0.3139302736 - 0.1671009648 i) |100\\rangle+(-0.1990449729 + 0.0466929353 i) |101\\rangle+(-0.1177317878 + 0.4324542604 i) |110\\rangle+(0.3125553629 - 0.4983496654 i) |111\\rangle$$"
      ],
      "text/plain": [
       "<IPython.core.display.Latex object>"
      ]
     },
     "metadata": {},
     "output_type": "display_data"
    },
    {
     "data": {
      "text/latex": [
       "$$(0.1393524974 + 0.301473462 i) |000\\rangle+(0.1038042273 + 0.3776823942 i) |001\\rangle+(-0.1781937416 + 0.1308539572 i) |010\\rangle+(-0.3246027426 + 0.1063940338 i) |011\\rangle+(-0.437622791 + 0.0028802647 i) |100\\rangle+(-0.3530136785 + 0.1844530255 i) |101\\rangle+(-0.3372879169 + 0.0798255504 i) |110\\rangle+(0.2142047134 + 0.2335175164 i) |111\\rangle$$"
      ],
      "text/plain": [
       "<IPython.core.display.Latex object>"
      ]
     },
     "metadata": {},
     "output_type": "display_data"
    },
    {
     "data": {
      "text/latex": [
       "$$(-0.1353732634 + 0.26194397 i) |000\\rangle+(-0.4938438123 + 0.2823670643 i) |001\\rangle+(-0.5202101047 + 0.0410445037 i) |010\\rangle+(0.069323244 + 0.1486695639 i) |011\\rangle+(0.1787856259 - 0.0296992236 i) |100\\rangle+(-0.1550536579 - 0.0080191767 i) |101\\rangle+(-0.0502347172 - 0.3312382914 i) |110\\rangle+(0.1001651853 - 0.3331776189 i) |111\\rangle$$"
      ],
      "text/plain": [
       "<IPython.core.display.Latex object>"
      ]
     },
     "metadata": {},
     "output_type": "display_data"
    },
    {
     "data": {
      "text/latex": [
       "$$(-0.0671519288 - 0.2833106542 i) |000\\rangle+(-0.2208756086 - 0.119842831 i) |001\\rangle+(-0.2855189832 + 0.5072735668 i) |010\\rangle+(0.0891716776 - 0.5443776703 i) |011\\rangle+(0.14223387 + 0.1383426823 i) |100\\rangle+(-0.0636302124 - 0.0452614624 i) |101\\rangle+(0.0217418658 + 0.0903529139 i) |110\\rangle+(0.1538745254 + 0.3621475569 i) |111\\rangle$$"
      ],
      "text/plain": [
       "<IPython.core.display.Latex object>"
      ]
     },
     "metadata": {},
     "output_type": "display_data"
    },
    {
     "data": {
      "text/latex": [
       "$$(0.0675374559 - 0.3831492671 i) |000\\rangle+(-0.0514489516 - 0.2175516959 i) |001\\rangle+(0.1464447137 + 0.0698866288 i) |010\\rangle+(0.0024175436 + 0.0229404468 i) |011\\rangle+(0.2342023662 + 0.4479359678 i) |100\\rangle+(0.0568382839 + 0.5107346817 i) |101\\rangle+(-0.129545318 - 0.2324494231 i) |110\\rangle+(-0.1573757382 - 0.3957746336 i) |111\\rangle$$"
      ],
      "text/plain": [
       "<IPython.core.display.Latex object>"
      ]
     },
     "metadata": {},
     "output_type": "display_data"
    },
    {
     "data": {
      "text/latex": [
       "$$(0.1798786693 + 0.2279796336 i) |000\\rangle+(-0.1775424449 - 0.0779518495 i) |001\\rangle+(-0.1511261579 - 0.5071206332 i) |010\\rangle+(0.1350338679 + 0.0286487657 i) |011\\rangle+(0.2141445363 + 0.3416904439 i) |100\\rangle+(0.0398599378 - 0.059208963 i) |101\\rangle+(-0.4316237452 - 0.3758152003 i) |110\\rangle+(-0.2892702175 - 0.0093622709 i) |111\\rangle$$"
      ],
      "text/plain": [
       "<IPython.core.display.Latex object>"
      ]
     },
     "metadata": {},
     "output_type": "display_data"
    },
    {
     "data": {
      "text/latex": [
       "$$(-0.1111613381 - 0.1848993961 i) |000\\rangle+(-0.0327210123 + 0.1709785668 i) |001\\rangle+(0.1244553751 - 0.6059328042 i) |010\\rangle+(-0.5102547627 + 0.2769770031 i) |011\\rangle+(0.230131914 - 0.1363069612 i) |100\\rangle+(0.0623537928 + 0.2232974695 i) |101\\rangle+(0.1250627694 + 0.2467970866 i) |110\\rangle+(0.0093894983 + 0.0387743056 i) |111\\rangle$$"
      ],
      "text/plain": [
       "<IPython.core.display.Latex object>"
      ]
     },
     "metadata": {},
     "output_type": "display_data"
    },
    {
     "data": {
      "text/latex": [
       "$$(0.2644835471 - 0.1239053257 i) |000\\rangle+(0.0777590592 + 0.253382296 i) |001\\rangle+(0.4505126315 + 0.0657779038 i) |010\\rangle+(0.2724018283 + 0.5324759314 i) |011\\rangle+(-0.121302791 - 0.1244025235 i) |100\\rangle+(0.1114700921 - 0.2402422656 i) |101\\rangle+(-0.333778155 + 0.1877185067 i) |110\\rangle+(-0.1341466478 - 0.1202140876 i) |111\\rangle$$"
      ],
      "text/plain": [
       "<IPython.core.display.Latex object>"
      ]
     },
     "metadata": {},
     "output_type": "display_data"
    },
    {
     "data": {
      "text/latex": [
       "$$(0.038483251 + 0.278279202 i) |000\\rangle+(-0.0827587426 - 0.0549491268 i) |001\\rangle+(0.371982477 - 0.5227705193 i) |010\\rangle+(-0.1165511652 + 0.2326034589 i) |011\\rangle+(-0.20377976 + 0.2079399635 i) |100\\rangle+(-0.1340334674 + 0.2929778561 i) |101\\rangle+(0.0013172715 + 0.4865512654 i) |110\\rangle+(0.0781961137 - 0.0211677145 i) |111\\rangle$$"
      ],
      "text/plain": [
       "<IPython.core.display.Latex object>"
      ]
     },
     "metadata": {},
     "output_type": "display_data"
    },
    {
     "data": {
      "text/latex": [
       "$$(-0.1965003009 + 0.2201962587 i) |000\\rangle+(-0.1797890733 + 0.2327478322 i) |001\\rangle+(-0.2605462929 + 0.2652125622 i) |010\\rangle+(0.4407390645 + 0.0571461982 i) |011\\rangle+(0.0850588584 - 0.0512038365 i) |100\\rangle+(-0.2361194592 - 0.0754302633 i) |101\\rangle+(-0.1137617116 + 0.4110345575 i) |110\\rangle+(0.3849902827 - 0.298762903 i) |111\\rangle$$"
      ],
      "text/plain": [
       "<IPython.core.display.Latex object>"
      ]
     },
     "metadata": {},
     "output_type": "display_data"
    },
    {
     "data": {
      "text/latex": [
       "$$(-0.0888192712 + 0.1277449625 i) |000\\rangle+(-0.0183695079 - 0.3469221592 i) |001\\rangle+(0.0503854298 + 0.0837561268 i) |010\\rangle+(-0.1152057695 + 0.4230940471 i) |011\\rangle+(0.265234753 - 0.0297575344 i) |100\\rangle+(-0.1092631844 - 0.4993405946 i) |101\\rangle+(0.2316332106 + 0.1614407029 i) |110\\rangle+(-0.4112147539 - 0.2682091335 i) |111\\rangle$$"
      ],
      "text/plain": [
       "<IPython.core.display.Latex object>"
      ]
     },
     "metadata": {},
     "output_type": "display_data"
    }
   ],
   "source": [
    "sorted_indices = np.argsort(entropies)[::-1]\n",
    "\n",
    "entropies = np.array(entropies)\n",
    "eigenvalues = np.array(eigenvalues)\n",
    "eigenvectors = np.array(eigenvectors)\n",
    "\n",
    "eigenvalues = eigenvalues[sorted_indices]\n",
    "eigenvectors = eigenvectors[sorted_indices]\n",
    "\n",
    "# extracting all the zero eigenvalues that represent impossible states\n",
    "# to retrieve upon measurement\n",
    "non_zero_eigenvalue_idxs = []\n",
    "for eigenlist in eigenvalues: \n",
    "    non_zero_eigenvalue_idxs.append(np.where(eigenlist[0] > 1e-10)[0])\n",
    "\n",
    "organized_eigenvectors = []\n",
    "statevectors = []\n",
    "\n",
    "# organize all the statevectors based on decreasing entropy\n",
    "# the eigenvectors from the mixed states with maximum entropy \n",
    "# are placed in the lowest index\n",
    "for idx in range(len(eigenvectors)):\n",
    "    allowed_idxs = non_zero_eigenvalue_idxs[idx]\n",
    "\n",
    "    organized_eigenvectors.append(eigenvectors[idx][0][allowed_idxs])\n",
    "\n",
    "for coupled_statevectors in organized_eigenvectors: \n",
    "    for statevector in coupled_statevectors: \n",
    "        statevectors.append(Statevector(statevector))\n",
    "\n",
    "for i in statevectors: \n",
    "    display(i.draw('latex'))\n"
   ]
  },
  {
   "cell_type": "code",
   "execution_count": null,
   "metadata": {},
   "outputs": [],
   "source": []
  }
 ],
 "metadata": {
  "kernelspec": {
   "display_name": "base",
   "language": "python",
   "name": "python3"
  },
  "language_info": {
   "codemirror_mode": {
    "name": "ipython",
    "version": 3
   },
   "file_extension": ".py",
   "mimetype": "text/x-python",
   "name": "python",
   "nbconvert_exporter": "python",
   "pygments_lexer": "ipython3",
   "version": "3.12.2"
  }
 },
 "nbformat": 4,
 "nbformat_minor": 2
}
